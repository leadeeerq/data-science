{
  "nbformat": 4,
  "nbformat_minor": 0,
  "metadata": {
    "colab": {
      "provenance": [],
      "toc_visible": true,
      "authorship_tag": "ABX9TyNJclp3HpOxU+iRzGHYz42e",
      "include_colab_link": true
    },
    "kernelspec": {
      "name": "python3",
      "display_name": "Python 3"
    },
    "language_info": {
      "name": "python"
    }
  },
  "cells": [
    {
      "cell_type": "markdown",
      "metadata": {
        "id": "view-in-github",
        "colab_type": "text"
      },
      "source": [
        "<a href=\"https://colab.research.google.com/github/leadeeerq/data-science/blob/main/StockPricePrediction.ipynb\" target=\"_parent\"><img src=\"https://colab.research.google.com/assets/colab-badge.svg\" alt=\"Open In Colab\"/></a>"
      ]
    },
    {
      "cell_type": "markdown",
      "source": [
        "#Stock price prediction"
      ],
      "metadata": {
        "id": "uqXGmtJfAklv"
      }
    },
    {
      "cell_type": "markdown",
      "source": [
        "![image.png](data:image/png;base64,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)"
      ],
      "metadata": {
        "id": "2zNh3Wblvt1U"
      }
    },
    {
      "cell_type": "code",
      "source": [
        "!pip install Quandl"
      ],
      "metadata": {
        "id": "-J6LJtZHAOqO"
      },
      "execution_count": null,
      "outputs": []
    },
    {
      "cell_type": "code",
      "execution_count": null,
      "metadata": {
        "id": "VpaLdEGS1OHn"
      },
      "outputs": [],
      "source": [
        "import pandas as pd\n",
        "import quandl, math, datetime\n",
        "import numpy as np\n",
        "import pickle\n",
        "from sklearn import preprocessing, svm\n",
        "from sklearn.model_selection import train_test_split\n",
        "from sklearn.linear_model import LinearRegression\n",
        "import matplotlib.pyplot as plt\n",
        "from matplotlib import style\n",
        "\n",
        "style.use('ggplot')"
      ]
    },
    {
      "cell_type": "markdown",
      "source": [
        "##Import df from Quandl"
      ],
      "metadata": {
        "id": "GyjKC38qAiAk"
      }
    },
    {
      "cell_type": "code",
      "source": [
        "data = quandl.get('WIKI/GOOGL')\n",
        "data.to_csv('googl.csv')\n",
        "df = pd.read_csv('googl.csv', index_col='Date', parse_dates=True)"
      ],
      "metadata": {
        "id": "jy8-Qu8jApIV"
      },
      "execution_count": null,
      "outputs": []
    },
    {
      "cell_type": "code",
      "source": [
        "df.head()"
      ],
      "metadata": {
        "colab": {
          "base_uri": "https://localhost:8080/",
          "height": 238
        },
        "id": "4H_ZUxcVAySN",
        "outputId": "700bfdb8-68fa-447c-c124-8c605547649e"
      },
      "execution_count": null,
      "outputs": [
        {
          "output_type": "execute_result",
          "data": {
            "text/plain": [
              "              Open    High     Low    Close      Volume  Ex-Dividend  \\\n",
              "Date                                                                   \n",
              "2004-08-19  100.01  104.06   95.96  100.335  44659000.0          0.0   \n",
              "2004-08-20  101.01  109.08  100.50  108.310  22834300.0          0.0   \n",
              "2004-08-23  110.76  113.48  109.05  109.400  18256100.0          0.0   \n",
              "2004-08-24  111.24  111.60  103.57  104.870  15247300.0          0.0   \n",
              "2004-08-25  104.76  108.00  103.88  106.000   9188600.0          0.0   \n",
              "\n",
              "            Split Ratio  Adj. Open  Adj. High   Adj. Low  Adj. Close  \\\n",
              "Date                                                                   \n",
              "2004-08-19          1.0  50.159839  52.191109  48.128568   50.322842   \n",
              "2004-08-20          1.0  50.661387  54.708881  50.405597   54.322689   \n",
              "2004-08-23          1.0  55.551482  56.915693  54.693835   54.869377   \n",
              "2004-08-24          1.0  55.792225  55.972783  51.945350   52.597363   \n",
              "2004-08-25          1.0  52.542193  54.167209  52.100830   53.164113   \n",
              "\n",
              "            Adj. Volume  \n",
              "Date                     \n",
              "2004-08-19   44659000.0  \n",
              "2004-08-20   22834300.0  \n",
              "2004-08-23   18256100.0  \n",
              "2004-08-24   15247300.0  \n",
              "2004-08-25    9188600.0  "
            ],
            "text/html": [
              "\n",
              "  <div id=\"df-f38190cd-13be-464f-9923-ebb3e87b20a1\">\n",
              "    <div class=\"colab-df-container\">\n",
              "      <div>\n",
              "<style scoped>\n",
              "    .dataframe tbody tr th:only-of-type {\n",
              "        vertical-align: middle;\n",
              "    }\n",
              "\n",
              "    .dataframe tbody tr th {\n",
              "        vertical-align: top;\n",
              "    }\n",
              "\n",
              "    .dataframe thead th {\n",
              "        text-align: right;\n",
              "    }\n",
              "</style>\n",
              "<table border=\"1\" class=\"dataframe\">\n",
              "  <thead>\n",
              "    <tr style=\"text-align: right;\">\n",
              "      <th></th>\n",
              "      <th>Open</th>\n",
              "      <th>High</th>\n",
              "      <th>Low</th>\n",
              "      <th>Close</th>\n",
              "      <th>Volume</th>\n",
              "      <th>Ex-Dividend</th>\n",
              "      <th>Split Ratio</th>\n",
              "      <th>Adj. Open</th>\n",
              "      <th>Adj. High</th>\n",
              "      <th>Adj. Low</th>\n",
              "      <th>Adj. Close</th>\n",
              "      <th>Adj. Volume</th>\n",
              "    </tr>\n",
              "    <tr>\n",
              "      <th>Date</th>\n",
              "      <th></th>\n",
              "      <th></th>\n",
              "      <th></th>\n",
              "      <th></th>\n",
              "      <th></th>\n",
              "      <th></th>\n",
              "      <th></th>\n",
              "      <th></th>\n",
              "      <th></th>\n",
              "      <th></th>\n",
              "      <th></th>\n",
              "      <th></th>\n",
              "    </tr>\n",
              "  </thead>\n",
              "  <tbody>\n",
              "    <tr>\n",
              "      <th>2004-08-19</th>\n",
              "      <td>100.01</td>\n",
              "      <td>104.06</td>\n",
              "      <td>95.96</td>\n",
              "      <td>100.335</td>\n",
              "      <td>44659000.0</td>\n",
              "      <td>0.0</td>\n",
              "      <td>1.0</td>\n",
              "      <td>50.159839</td>\n",
              "      <td>52.191109</td>\n",
              "      <td>48.128568</td>\n",
              "      <td>50.322842</td>\n",
              "      <td>44659000.0</td>\n",
              "    </tr>\n",
              "    <tr>\n",
              "      <th>2004-08-20</th>\n",
              "      <td>101.01</td>\n",
              "      <td>109.08</td>\n",
              "      <td>100.50</td>\n",
              "      <td>108.310</td>\n",
              "      <td>22834300.0</td>\n",
              "      <td>0.0</td>\n",
              "      <td>1.0</td>\n",
              "      <td>50.661387</td>\n",
              "      <td>54.708881</td>\n",
              "      <td>50.405597</td>\n",
              "      <td>54.322689</td>\n",
              "      <td>22834300.0</td>\n",
              "    </tr>\n",
              "    <tr>\n",
              "      <th>2004-08-23</th>\n",
              "      <td>110.76</td>\n",
              "      <td>113.48</td>\n",
              "      <td>109.05</td>\n",
              "      <td>109.400</td>\n",
              "      <td>18256100.0</td>\n",
              "      <td>0.0</td>\n",
              "      <td>1.0</td>\n",
              "      <td>55.551482</td>\n",
              "      <td>56.915693</td>\n",
              "      <td>54.693835</td>\n",
              "      <td>54.869377</td>\n",
              "      <td>18256100.0</td>\n",
              "    </tr>\n",
              "    <tr>\n",
              "      <th>2004-08-24</th>\n",
              "      <td>111.24</td>\n",
              "      <td>111.60</td>\n",
              "      <td>103.57</td>\n",
              "      <td>104.870</td>\n",
              "      <td>15247300.0</td>\n",
              "      <td>0.0</td>\n",
              "      <td>1.0</td>\n",
              "      <td>55.792225</td>\n",
              "      <td>55.972783</td>\n",
              "      <td>51.945350</td>\n",
              "      <td>52.597363</td>\n",
              "      <td>15247300.0</td>\n",
              "    </tr>\n",
              "    <tr>\n",
              "      <th>2004-08-25</th>\n",
              "      <td>104.76</td>\n",
              "      <td>108.00</td>\n",
              "      <td>103.88</td>\n",
              "      <td>106.000</td>\n",
              "      <td>9188600.0</td>\n",
              "      <td>0.0</td>\n",
              "      <td>1.0</td>\n",
              "      <td>52.542193</td>\n",
              "      <td>54.167209</td>\n",
              "      <td>52.100830</td>\n",
              "      <td>53.164113</td>\n",
              "      <td>9188600.0</td>\n",
              "    </tr>\n",
              "  </tbody>\n",
              "</table>\n",
              "</div>\n",
              "      <button class=\"colab-df-convert\" onclick=\"convertToInteractive('df-f38190cd-13be-464f-9923-ebb3e87b20a1')\"\n",
              "              title=\"Convert this dataframe to an interactive table.\"\n",
              "              style=\"display:none;\">\n",
              "        \n",
              "  <svg xmlns=\"http://www.w3.org/2000/svg\" height=\"24px\"viewBox=\"0 0 24 24\"\n",
              "       width=\"24px\">\n",
              "    <path d=\"M0 0h24v24H0V0z\" fill=\"none\"/>\n",
              "    <path d=\"M18.56 5.44l.94 2.06.94-2.06 2.06-.94-2.06-.94-.94-2.06-.94 2.06-2.06.94zm-11 1L8.5 8.5l.94-2.06 2.06-.94-2.06-.94L8.5 2.5l-.94 2.06-2.06.94zm10 10l.94 2.06.94-2.06 2.06-.94-2.06-.94-.94-2.06-.94 2.06-2.06.94z\"/><path d=\"M17.41 7.96l-1.37-1.37c-.4-.4-.92-.59-1.43-.59-.52 0-1.04.2-1.43.59L10.3 9.45l-7.72 7.72c-.78.78-.78 2.05 0 2.83L4 21.41c.39.39.9.59 1.41.59.51 0 1.02-.2 1.41-.59l7.78-7.78 2.81-2.81c.8-.78.8-2.07 0-2.86zM5.41 20L4 18.59l7.72-7.72 1.47 1.35L5.41 20z\"/>\n",
              "  </svg>\n",
              "      </button>\n",
              "      \n",
              "  <style>\n",
              "    .colab-df-container {\n",
              "      display:flex;\n",
              "      flex-wrap:wrap;\n",
              "      gap: 12px;\n",
              "    }\n",
              "\n",
              "    .colab-df-convert {\n",
              "      background-color: #E8F0FE;\n",
              "      border: none;\n",
              "      border-radius: 50%;\n",
              "      cursor: pointer;\n",
              "      display: none;\n",
              "      fill: #1967D2;\n",
              "      height: 32px;\n",
              "      padding: 0 0 0 0;\n",
              "      width: 32px;\n",
              "    }\n",
              "\n",
              "    .colab-df-convert:hover {\n",
              "      background-color: #E2EBFA;\n",
              "      box-shadow: 0px 1px 2px rgba(60, 64, 67, 0.3), 0px 1px 3px 1px rgba(60, 64, 67, 0.15);\n",
              "      fill: #174EA6;\n",
              "    }\n",
              "\n",
              "    [theme=dark] .colab-df-convert {\n",
              "      background-color: #3B4455;\n",
              "      fill: #D2E3FC;\n",
              "    }\n",
              "\n",
              "    [theme=dark] .colab-df-convert:hover {\n",
              "      background-color: #434B5C;\n",
              "      box-shadow: 0px 1px 3px 1px rgba(0, 0, 0, 0.15);\n",
              "      filter: drop-shadow(0px 1px 2px rgba(0, 0, 0, 0.3));\n",
              "      fill: #FFFFFF;\n",
              "    }\n",
              "  </style>\n",
              "\n",
              "      <script>\n",
              "        const buttonEl =\n",
              "          document.querySelector('#df-f38190cd-13be-464f-9923-ebb3e87b20a1 button.colab-df-convert');\n",
              "        buttonEl.style.display =\n",
              "          google.colab.kernel.accessAllowed ? 'block' : 'none';\n",
              "\n",
              "        async function convertToInteractive(key) {\n",
              "          const element = document.querySelector('#df-f38190cd-13be-464f-9923-ebb3e87b20a1');\n",
              "          const dataTable =\n",
              "            await google.colab.kernel.invokeFunction('convertToInteractive',\n",
              "                                                     [key], {});\n",
              "          if (!dataTable) return;\n",
              "\n",
              "          const docLinkHtml = 'Like what you see? Visit the ' +\n",
              "            '<a target=\"_blank\" href=https://colab.research.google.com/notebooks/data_table.ipynb>data table notebook</a>'\n",
              "            + ' to learn more about interactive tables.';\n",
              "          element.innerHTML = '';\n",
              "          dataTable['output_type'] = 'display_data';\n",
              "          await google.colab.output.renderOutput(dataTable, element);\n",
              "          const docLink = document.createElement('div');\n",
              "          docLink.innerHTML = docLinkHtml;\n",
              "          element.appendChild(docLink);\n",
              "        }\n",
              "      </script>\n",
              "    </div>\n",
              "  </div>\n",
              "  "
            ]
          },
          "metadata": {},
          "execution_count": 8
        }
      ]
    },
    {
      "cell_type": "code",
      "source": [
        "df = df[['Adj. Open', 'Adj. High', 'Adj. Low', 'Adj. Close', 'Adj. Volume']]"
      ],
      "metadata": {
        "id": "ueCktBkUBd0e"
      },
      "execution_count": null,
      "outputs": []
    },
    {
      "cell_type": "code",
      "source": [
        "df['pct_HL'] = (df['Adj. High'] - df['Adj. Low'])/df['Adj. Low'] * 100.0 #daily volatility/zmienność w ciągu dnia\n",
        "# df['pct_HL'] = (df['Adj. High'] - df['Adj. Close'])/df['Adj. Close'] * 100.0\n",
        "df['pct_change'] = (df['Adj. Close'] - df['Adj. Open'])/df['Adj. Open'] * 100.0"
      ],
      "metadata": {
        "id": "LonXhGzLB8oX"
      },
      "execution_count": null,
      "outputs": []
    },
    {
      "cell_type": "code",
      "source": [
        "df = df[['Adj. Close', 'pct_HL', 'pct_change', 'Adj. Volume']]\n",
        "df.head()"
      ],
      "metadata": {
        "colab": {
          "base_uri": "https://localhost:8080/",
          "height": 238
        },
        "id": "wHf1GHNTCbCm",
        "outputId": "424e57a4-457c-42eb-9b5c-f3ad7be3f51e"
      },
      "execution_count": null,
      "outputs": [
        {
          "output_type": "execute_result",
          "data": {
            "text/plain": [
              "            Adj. Close    pct_HL  pct_change  Adj. Volume\n",
              "Date                                                     \n",
              "2004-08-19   50.322842  8.441017    0.324968   44659000.0\n",
              "2004-08-20   54.322689  8.537313    7.227007   22834300.0\n",
              "2004-08-23   54.869377  4.062357   -1.227880   18256100.0\n",
              "2004-08-24   52.597363  7.753210   -5.726357   15247300.0\n",
              "2004-08-25   53.164113  3.966115    1.183658    9188600.0"
            ],
            "text/html": [
              "\n",
              "  <div id=\"df-da9cc80f-61a9-47f4-ab9b-65dddc41dd58\">\n",
              "    <div class=\"colab-df-container\">\n",
              "      <div>\n",
              "<style scoped>\n",
              "    .dataframe tbody tr th:only-of-type {\n",
              "        vertical-align: middle;\n",
              "    }\n",
              "\n",
              "    .dataframe tbody tr th {\n",
              "        vertical-align: top;\n",
              "    }\n",
              "\n",
              "    .dataframe thead th {\n",
              "        text-align: right;\n",
              "    }\n",
              "</style>\n",
              "<table border=\"1\" class=\"dataframe\">\n",
              "  <thead>\n",
              "    <tr style=\"text-align: right;\">\n",
              "      <th></th>\n",
              "      <th>Adj. Close</th>\n",
              "      <th>pct_HL</th>\n",
              "      <th>pct_change</th>\n",
              "      <th>Adj. Volume</th>\n",
              "    </tr>\n",
              "    <tr>\n",
              "      <th>Date</th>\n",
              "      <th></th>\n",
              "      <th></th>\n",
              "      <th></th>\n",
              "      <th></th>\n",
              "    </tr>\n",
              "  </thead>\n",
              "  <tbody>\n",
              "    <tr>\n",
              "      <th>2004-08-19</th>\n",
              "      <td>50.322842</td>\n",
              "      <td>8.441017</td>\n",
              "      <td>0.324968</td>\n",
              "      <td>44659000.0</td>\n",
              "    </tr>\n",
              "    <tr>\n",
              "      <th>2004-08-20</th>\n",
              "      <td>54.322689</td>\n",
              "      <td>8.537313</td>\n",
              "      <td>7.227007</td>\n",
              "      <td>22834300.0</td>\n",
              "    </tr>\n",
              "    <tr>\n",
              "      <th>2004-08-23</th>\n",
              "      <td>54.869377</td>\n",
              "      <td>4.062357</td>\n",
              "      <td>-1.227880</td>\n",
              "      <td>18256100.0</td>\n",
              "    </tr>\n",
              "    <tr>\n",
              "      <th>2004-08-24</th>\n",
              "      <td>52.597363</td>\n",
              "      <td>7.753210</td>\n",
              "      <td>-5.726357</td>\n",
              "      <td>15247300.0</td>\n",
              "    </tr>\n",
              "    <tr>\n",
              "      <th>2004-08-25</th>\n",
              "      <td>53.164113</td>\n",
              "      <td>3.966115</td>\n",
              "      <td>1.183658</td>\n",
              "      <td>9188600.0</td>\n",
              "    </tr>\n",
              "  </tbody>\n",
              "</table>\n",
              "</div>\n",
              "      <button class=\"colab-df-convert\" onclick=\"convertToInteractive('df-da9cc80f-61a9-47f4-ab9b-65dddc41dd58')\"\n",
              "              title=\"Convert this dataframe to an interactive table.\"\n",
              "              style=\"display:none;\">\n",
              "        \n",
              "  <svg xmlns=\"http://www.w3.org/2000/svg\" height=\"24px\"viewBox=\"0 0 24 24\"\n",
              "       width=\"24px\">\n",
              "    <path d=\"M0 0h24v24H0V0z\" fill=\"none\"/>\n",
              "    <path d=\"M18.56 5.44l.94 2.06.94-2.06 2.06-.94-2.06-.94-.94-2.06-.94 2.06-2.06.94zm-11 1L8.5 8.5l.94-2.06 2.06-.94-2.06-.94L8.5 2.5l-.94 2.06-2.06.94zm10 10l.94 2.06.94-2.06 2.06-.94-2.06-.94-.94-2.06-.94 2.06-2.06.94z\"/><path d=\"M17.41 7.96l-1.37-1.37c-.4-.4-.92-.59-1.43-.59-.52 0-1.04.2-1.43.59L10.3 9.45l-7.72 7.72c-.78.78-.78 2.05 0 2.83L4 21.41c.39.39.9.59 1.41.59.51 0 1.02-.2 1.41-.59l7.78-7.78 2.81-2.81c.8-.78.8-2.07 0-2.86zM5.41 20L4 18.59l7.72-7.72 1.47 1.35L5.41 20z\"/>\n",
              "  </svg>\n",
              "      </button>\n",
              "      \n",
              "  <style>\n",
              "    .colab-df-container {\n",
              "      display:flex;\n",
              "      flex-wrap:wrap;\n",
              "      gap: 12px;\n",
              "    }\n",
              "\n",
              "    .colab-df-convert {\n",
              "      background-color: #E8F0FE;\n",
              "      border: none;\n",
              "      border-radius: 50%;\n",
              "      cursor: pointer;\n",
              "      display: none;\n",
              "      fill: #1967D2;\n",
              "      height: 32px;\n",
              "      padding: 0 0 0 0;\n",
              "      width: 32px;\n",
              "    }\n",
              "\n",
              "    .colab-df-convert:hover {\n",
              "      background-color: #E2EBFA;\n",
              "      box-shadow: 0px 1px 2px rgba(60, 64, 67, 0.3), 0px 1px 3px 1px rgba(60, 64, 67, 0.15);\n",
              "      fill: #174EA6;\n",
              "    }\n",
              "\n",
              "    [theme=dark] .colab-df-convert {\n",
              "      background-color: #3B4455;\n",
              "      fill: #D2E3FC;\n",
              "    }\n",
              "\n",
              "    [theme=dark] .colab-df-convert:hover {\n",
              "      background-color: #434B5C;\n",
              "      box-shadow: 0px 1px 3px 1px rgba(0, 0, 0, 0.15);\n",
              "      filter: drop-shadow(0px 1px 2px rgba(0, 0, 0, 0.3));\n",
              "      fill: #FFFFFF;\n",
              "    }\n",
              "  </style>\n",
              "\n",
              "      <script>\n",
              "        const buttonEl =\n",
              "          document.querySelector('#df-da9cc80f-61a9-47f4-ab9b-65dddc41dd58 button.colab-df-convert');\n",
              "        buttonEl.style.display =\n",
              "          google.colab.kernel.accessAllowed ? 'block' : 'none';\n",
              "\n",
              "        async function convertToInteractive(key) {\n",
              "          const element = document.querySelector('#df-da9cc80f-61a9-47f4-ab9b-65dddc41dd58');\n",
              "          const dataTable =\n",
              "            await google.colab.kernel.invokeFunction('convertToInteractive',\n",
              "                                                     [key], {});\n",
              "          if (!dataTable) return;\n",
              "\n",
              "          const docLinkHtml = 'Like what you see? Visit the ' +\n",
              "            '<a target=\"_blank\" href=https://colab.research.google.com/notebooks/data_table.ipynb>data table notebook</a>'\n",
              "            + ' to learn more about interactive tables.';\n",
              "          element.innerHTML = '';\n",
              "          dataTable['output_type'] = 'display_data';\n",
              "          await google.colab.output.renderOutput(dataTable, element);\n",
              "          const docLink = document.createElement('div');\n",
              "          docLink.innerHTML = docLinkHtml;\n",
              "          element.appendChild(docLink);\n",
              "        }\n",
              "      </script>\n",
              "    </div>\n",
              "  </div>\n",
              "  "
            ]
          },
          "metadata": {},
          "execution_count": 11
        }
      ]
    },
    {
      "cell_type": "code",
      "source": [
        "forecast_col = 'Adj. Close'"
      ],
      "metadata": {
        "id": "ES2rZFe5t_TH"
      },
      "execution_count": null,
      "outputs": []
    },
    {
      "cell_type": "markdown",
      "source": [
        "###Filling nans with outliers (-99999)"
      ],
      "metadata": {
        "id": "qoQquVxKuXIk"
      }
    },
    {
      "cell_type": "code",
      "source": [
        "df.fillna(-99999, inplace = True) "
      ],
      "metadata": {
        "id": "z9if9AR6uBUw"
      },
      "execution_count": null,
      "outputs": []
    },
    {
      "cell_type": "markdown",
      "source": [
        "###Forecast_out - predicting 0.1 of quantity of data fed"
      ],
      "metadata": {
        "id": "-SverLPquzny"
      }
    },
    {
      "cell_type": "code",
      "source": [
        "forecast_out = int(math.ceil(0.1 * len(df))) #Wykorzystanie x dni poprzedzających do predykcji dzisiejszego dnia\n",
        "forecast_out"
      ],
      "metadata": {
        "colab": {
          "base_uri": "https://localhost:8080/"
        },
        "id": "5NbOOWZdugIq",
        "outputId": "dc653b99-6d4e-4f2c-b8a4-d2f6578182af"
      },
      "execution_count": null,
      "outputs": [
        {
          "output_type": "execute_result",
          "data": {
            "text/plain": [
              "343"
            ]
          },
          "metadata": {},
          "execution_count": 14
        }
      ]
    },
    {
      "cell_type": "code",
      "source": [
        "df['label'] = df[forecast_col].shift(-forecast_out) #Przesunięcie wyników Adj.Close o x w górę, aby mieć informację o cenie akcji po x dniach; usunięcie x pierwszych wierszy"
      ],
      "metadata": {
        "id": "A1hiBzSPvB_8"
      },
      "execution_count": null,
      "outputs": []
    },
    {
      "cell_type": "code",
      "source": [
        "df.head()"
      ],
      "metadata": {
        "colab": {
          "base_uri": "https://localhost:8080/",
          "height": 238
        },
        "id": "SSK8nI-BvbWj",
        "outputId": "4e25dbb4-6f7a-4934-e1b6-f8ddd1d4ebee"
      },
      "execution_count": null,
      "outputs": [
        {
          "output_type": "execute_result",
          "data": {
            "text/plain": [
              "            Adj. Close    pct_HL  pct_change  Adj. Volume       label\n",
              "Date                                                                 \n",
              "2004-08-19   50.322842  8.441017    0.324968   44659000.0  214.005615\n",
              "2004-08-20   54.322689  8.537313    7.227007   22834300.0  210.725489\n",
              "2004-08-23   54.869377  4.062357   -1.227880   18256100.0  208.072299\n",
              "2004-08-24   52.597363  7.753210   -5.726357   15247300.0  218.288837\n",
              "2004-08-25   53.164113  3.966115    1.183658    9188600.0  223.309335"
            ],
            "text/html": [
              "\n",
              "  <div id=\"df-9aa8664e-50e6-4965-a877-227f6c869b6e\">\n",
              "    <div class=\"colab-df-container\">\n",
              "      <div>\n",
              "<style scoped>\n",
              "    .dataframe tbody tr th:only-of-type {\n",
              "        vertical-align: middle;\n",
              "    }\n",
              "\n",
              "    .dataframe tbody tr th {\n",
              "        vertical-align: top;\n",
              "    }\n",
              "\n",
              "    .dataframe thead th {\n",
              "        text-align: right;\n",
              "    }\n",
              "</style>\n",
              "<table border=\"1\" class=\"dataframe\">\n",
              "  <thead>\n",
              "    <tr style=\"text-align: right;\">\n",
              "      <th></th>\n",
              "      <th>Adj. Close</th>\n",
              "      <th>pct_HL</th>\n",
              "      <th>pct_change</th>\n",
              "      <th>Adj. Volume</th>\n",
              "      <th>label</th>\n",
              "    </tr>\n",
              "    <tr>\n",
              "      <th>Date</th>\n",
              "      <th></th>\n",
              "      <th></th>\n",
              "      <th></th>\n",
              "      <th></th>\n",
              "      <th></th>\n",
              "    </tr>\n",
              "  </thead>\n",
              "  <tbody>\n",
              "    <tr>\n",
              "      <th>2004-08-19</th>\n",
              "      <td>50.322842</td>\n",
              "      <td>8.441017</td>\n",
              "      <td>0.324968</td>\n",
              "      <td>44659000.0</td>\n",
              "      <td>214.005615</td>\n",
              "    </tr>\n",
              "    <tr>\n",
              "      <th>2004-08-20</th>\n",
              "      <td>54.322689</td>\n",
              "      <td>8.537313</td>\n",
              "      <td>7.227007</td>\n",
              "      <td>22834300.0</td>\n",
              "      <td>210.725489</td>\n",
              "    </tr>\n",
              "    <tr>\n",
              "      <th>2004-08-23</th>\n",
              "      <td>54.869377</td>\n",
              "      <td>4.062357</td>\n",
              "      <td>-1.227880</td>\n",
              "      <td>18256100.0</td>\n",
              "      <td>208.072299</td>\n",
              "    </tr>\n",
              "    <tr>\n",
              "      <th>2004-08-24</th>\n",
              "      <td>52.597363</td>\n",
              "      <td>7.753210</td>\n",
              "      <td>-5.726357</td>\n",
              "      <td>15247300.0</td>\n",
              "      <td>218.288837</td>\n",
              "    </tr>\n",
              "    <tr>\n",
              "      <th>2004-08-25</th>\n",
              "      <td>53.164113</td>\n",
              "      <td>3.966115</td>\n",
              "      <td>1.183658</td>\n",
              "      <td>9188600.0</td>\n",
              "      <td>223.309335</td>\n",
              "    </tr>\n",
              "  </tbody>\n",
              "</table>\n",
              "</div>\n",
              "      <button class=\"colab-df-convert\" onclick=\"convertToInteractive('df-9aa8664e-50e6-4965-a877-227f6c869b6e')\"\n",
              "              title=\"Convert this dataframe to an interactive table.\"\n",
              "              style=\"display:none;\">\n",
              "        \n",
              "  <svg xmlns=\"http://www.w3.org/2000/svg\" height=\"24px\"viewBox=\"0 0 24 24\"\n",
              "       width=\"24px\">\n",
              "    <path d=\"M0 0h24v24H0V0z\" fill=\"none\"/>\n",
              "    <path d=\"M18.56 5.44l.94 2.06.94-2.06 2.06-.94-2.06-.94-.94-2.06-.94 2.06-2.06.94zm-11 1L8.5 8.5l.94-2.06 2.06-.94-2.06-.94L8.5 2.5l-.94 2.06-2.06.94zm10 10l.94 2.06.94-2.06 2.06-.94-2.06-.94-.94-2.06-.94 2.06-2.06.94z\"/><path d=\"M17.41 7.96l-1.37-1.37c-.4-.4-.92-.59-1.43-.59-.52 0-1.04.2-1.43.59L10.3 9.45l-7.72 7.72c-.78.78-.78 2.05 0 2.83L4 21.41c.39.39.9.59 1.41.59.51 0 1.02-.2 1.41-.59l7.78-7.78 2.81-2.81c.8-.78.8-2.07 0-2.86zM5.41 20L4 18.59l7.72-7.72 1.47 1.35L5.41 20z\"/>\n",
              "  </svg>\n",
              "      </button>\n",
              "      \n",
              "  <style>\n",
              "    .colab-df-container {\n",
              "      display:flex;\n",
              "      flex-wrap:wrap;\n",
              "      gap: 12px;\n",
              "    }\n",
              "\n",
              "    .colab-df-convert {\n",
              "      background-color: #E8F0FE;\n",
              "      border: none;\n",
              "      border-radius: 50%;\n",
              "      cursor: pointer;\n",
              "      display: none;\n",
              "      fill: #1967D2;\n",
              "      height: 32px;\n",
              "      padding: 0 0 0 0;\n",
              "      width: 32px;\n",
              "    }\n",
              "\n",
              "    .colab-df-convert:hover {\n",
              "      background-color: #E2EBFA;\n",
              "      box-shadow: 0px 1px 2px rgba(60, 64, 67, 0.3), 0px 1px 3px 1px rgba(60, 64, 67, 0.15);\n",
              "      fill: #174EA6;\n",
              "    }\n",
              "\n",
              "    [theme=dark] .colab-df-convert {\n",
              "      background-color: #3B4455;\n",
              "      fill: #D2E3FC;\n",
              "    }\n",
              "\n",
              "    [theme=dark] .colab-df-convert:hover {\n",
              "      background-color: #434B5C;\n",
              "      box-shadow: 0px 1px 3px 1px rgba(0, 0, 0, 0.15);\n",
              "      filter: drop-shadow(0px 1px 2px rgba(0, 0, 0, 0.3));\n",
              "      fill: #FFFFFF;\n",
              "    }\n",
              "  </style>\n",
              "\n",
              "      <script>\n",
              "        const buttonEl =\n",
              "          document.querySelector('#df-9aa8664e-50e6-4965-a877-227f6c869b6e button.colab-df-convert');\n",
              "        buttonEl.style.display =\n",
              "          google.colab.kernel.accessAllowed ? 'block' : 'none';\n",
              "\n",
              "        async function convertToInteractive(key) {\n",
              "          const element = document.querySelector('#df-9aa8664e-50e6-4965-a877-227f6c869b6e');\n",
              "          const dataTable =\n",
              "            await google.colab.kernel.invokeFunction('convertToInteractive',\n",
              "                                                     [key], {});\n",
              "          if (!dataTable) return;\n",
              "\n",
              "          const docLinkHtml = 'Like what you see? Visit the ' +\n",
              "            '<a target=\"_blank\" href=https://colab.research.google.com/notebooks/data_table.ipynb>data table notebook</a>'\n",
              "            + ' to learn more about interactive tables.';\n",
              "          element.innerHTML = '';\n",
              "          dataTable['output_type'] = 'display_data';\n",
              "          await google.colab.output.renderOutput(dataTable, element);\n",
              "          const docLink = document.createElement('div');\n",
              "          docLink.innerHTML = docLinkHtml;\n",
              "          element.appendChild(docLink);\n",
              "        }\n",
              "      </script>\n",
              "    </div>\n",
              "  </div>\n",
              "  "
            ]
          },
          "metadata": {},
          "execution_count": 16
        }
      ]
    },
    {
      "cell_type": "markdown",
      "source": [
        "##Train, test split"
      ],
      "metadata": {
        "id": "y5mPShplxWBm"
      }
    },
    {
      "cell_type": "code",
      "source": [
        "X = np.array(df.drop(['label'], 1))\n",
        "X = preprocessing.scale(X)\n",
        "X_lately = X[-forecast_out:]\n",
        "X = X[:-forecast_out]\n",
        "\n",
        "df.dropna(inplace = True)\n",
        "\n",
        "y = np.array(df['label'])"
      ],
      "metadata": {
        "colab": {
          "base_uri": "https://localhost:8080/"
        },
        "id": "ElquNVkUxYS5",
        "outputId": "cd72dd09-1927-45f2-8b48-f251152290d6"
      },
      "execution_count": null,
      "outputs": [
        {
          "output_type": "stream",
          "name": "stderr",
          "text": [
            "/usr/local/lib/python3.7/dist-packages/ipykernel_launcher.py:1: FutureWarning: In a future version of pandas all arguments of DataFrame.drop except for the argument 'labels' will be keyword-only\n",
            "  \"\"\"Entry point for launching an IPython kernel.\n"
          ]
        }
      ]
    },
    {
      "cell_type": "code",
      "source": [
        "print(len(X), len(y))"
      ],
      "metadata": {
        "colab": {
          "base_uri": "https://localhost:8080/"
        },
        "id": "aYkC2tK1yCOs",
        "outputId": "e1e8b36a-dda0-4024-eba5-429a7591b959"
      },
      "execution_count": null,
      "outputs": [
        {
          "output_type": "stream",
          "name": "stdout",
          "text": [
            "3081 3081\n"
          ]
        }
      ]
    },
    {
      "cell_type": "code",
      "source": [
        "X_train, X_test, y_train, y_test = train_test_split(X, y, test_size = 0.2)"
      ],
      "metadata": {
        "id": "kz4J0PIlyShO"
      },
      "execution_count": null,
      "outputs": []
    },
    {
      "cell_type": "markdown",
      "source": [
        "##Classifier"
      ],
      "metadata": {
        "id": "vEI8p5JoyhLO"
      }
    },
    {
      "cell_type": "markdown",
      "source": [
        "###Linear Regression"
      ],
      "metadata": {
        "id": "qnNvzEyCzad5"
      }
    },
    {
      "cell_type": "code",
      "source": [
        "clf = LinearRegression(n_jobs = -1)\n",
        "clf.fit(X_train, y_train)"
      ],
      "metadata": {
        "colab": {
          "base_uri": "https://localhost:8080/"
        },
        "id": "-XtfI3shyh-y",
        "outputId": "1a4582cd-128b-410e-c560-4454fbc9beaf"
      },
      "execution_count": null,
      "outputs": [
        {
          "output_type": "execute_result",
          "data": {
            "text/plain": [
              "LinearRegression(n_jobs=-1)"
            ]
          },
          "metadata": {},
          "execution_count": 20
        }
      ]
    },
    {
      "cell_type": "code",
      "source": [
        "accuracy = clf.score(X_test, y_test)\n",
        "accuracy"
      ],
      "metadata": {
        "colab": {
          "base_uri": "https://localhost:8080/"
        },
        "id": "2ZlmX9bgyoss",
        "outputId": "f0cd9caa-b10a-43b6-c966-9326c1dbd32d"
      },
      "execution_count": null,
      "outputs": [
        {
          "output_type": "execute_result",
          "data": {
            "text/plain": [
              "0.8786021189071224"
            ]
          },
          "metadata": {},
          "execution_count": 21
        }
      ]
    },
    {
      "cell_type": "markdown",
      "source": [
        "###SVR"
      ],
      "metadata": {
        "id": "45yRN75QzcWp"
      }
    },
    {
      "cell_type": "code",
      "source": [
        "# clf = svm.SVR(kernel = 'poly')\n",
        "# clf.fit(X_train, y_train)\n",
        "# accuracy = clf.score(X_test, y_test)\n",
        "# accuracy"
      ],
      "metadata": {
        "id": "dBR6Uzc0zfYu"
      },
      "execution_count": null,
      "outputs": []
    },
    {
      "cell_type": "markdown",
      "source": [
        "##Saving the classifier using Pickle"
      ],
      "metadata": {
        "id": "EQ4NtHOoICWK"
      }
    },
    {
      "cell_type": "code",
      "source": [
        "with open('linearregression.pickle', 'wb') as f:\n",
        "  pickle.dump(clf, f)"
      ],
      "metadata": {
        "id": "-gXtd5ZdIEsK"
      },
      "execution_count": null,
      "outputs": []
    },
    {
      "cell_type": "code",
      "source": [
        "pickle_in = open('linearregression.pickle', 'rb')\n",
        "clf = pickle.load(pickle_in)"
      ],
      "metadata": {
        "id": "HloxlYVpIRgw"
      },
      "execution_count": null,
      "outputs": []
    },
    {
      "cell_type": "markdown",
      "source": [
        "##Predicition"
      ],
      "metadata": {
        "id": "eSzbw_f155BL"
      }
    },
    {
      "cell_type": "code",
      "source": [
        "forecast_set = clf.predict(X_lately)\n",
        "print(forecast_set[:10], accuracy, forecast_out)"
      ],
      "metadata": {
        "colab": {
          "base_uri": "https://localhost:8080/"
        },
        "id": "3LE-D99p551L",
        "outputId": "93dbeab6-91f1-4ef6-92fd-141a788d6388"
      },
      "execution_count": null,
      "outputs": [
        {
          "output_type": "stream",
          "name": "stdout",
          "text": [
            "[966.46179257 956.88694876 973.27460788 982.49546832 984.03596777\n",
            " 976.82175158 983.05255983 983.71759457 981.80360876 974.77121668] 0.8786021189071224 343\n"
          ]
        }
      ]
    },
    {
      "cell_type": "markdown",
      "source": [
        "##Forecasting, graph"
      ],
      "metadata": {
        "id": "h9f-lwBZ9WRF"
      }
    },
    {
      "cell_type": "markdown",
      "source": [
        "1.   Dodanie pustej kolumny 'Forecast' do df'a\n",
        "2.   Zapełnienie kolumny danymi - do daty wyższej niż 'last_date' wpisana jest wartość prognozy z tablicy forecast_set\n",
        "3. 'df.loc[next_date]' to indeks df'a\n",
        "4. df.loc[next_date] = [np.nan for _ in range(len(df.columns)-1)] + [i] - wypełnienie komórek listą wartości np.NaN i dodanie na końcu wartości z 'forecast_set'\n"
      ],
      "metadata": {
        "id": "M6NYSUBB9ZJO"
      }
    },
    {
      "cell_type": "code",
      "source": [
        "df['Forecast'] = np.nan"
      ],
      "metadata": {
        "id": "DtfVuca38D3J"
      },
      "execution_count": null,
      "outputs": []
    },
    {
      "cell_type": "code",
      "source": [
        "last_date = df.iloc[-1].name #Ostatnia data\n",
        "last_unix = last_date.timestamp()\n",
        "one_day = 86400 #sekund\n",
        "next_unix = last_unix + one_day"
      ],
      "metadata": {
        "id": "JKDM1WkX8Icw"
      },
      "execution_count": null,
      "outputs": []
    },
    {
      "cell_type": "code",
      "source": [
        "last_date"
      ],
      "metadata": {
        "colab": {
          "base_uri": "https://localhost:8080/"
        },
        "id": "XAdnHQXj98Re",
        "outputId": "c07401db-d3b8-4210-e49c-60630d268627"
      },
      "execution_count": null,
      "outputs": [
        {
          "output_type": "execute_result",
          "data": {
            "text/plain": [
              "Timestamp('2016-11-10 00:00:00')"
            ]
          },
          "metadata": {},
          "execution_count": 28
        }
      ]
    },
    {
      "cell_type": "code",
      "source": [
        "forecast_set[:10]"
      ],
      "metadata": {
        "colab": {
          "base_uri": "https://localhost:8080/"
        },
        "id": "ovZJz5HK_1bB",
        "outputId": "98a41cc1-bbf3-444c-84db-4f7a0f3730c7"
      },
      "execution_count": null,
      "outputs": [
        {
          "output_type": "execute_result",
          "data": {
            "text/plain": [
              "array([966.46179257, 956.88694876, 973.27460788, 982.49546832,\n",
              "       984.03596777, 976.82175158, 983.05255983, 983.71759457,\n",
              "       981.80360876, 974.77121668])"
            ]
          },
          "metadata": {},
          "execution_count": 35
        }
      ]
    },
    {
      "cell_type": "code",
      "source": [
        "for i in forecast_set:\n",
        "  next_date = datetime.datetime.fromtimestamp(next_unix)\n",
        "  next_unix += one_day\n",
        "  df.loc[next_date] = [np.nan for _ in range(len(df.columns)-1)] + [i]"
      ],
      "metadata": {
        "id": "MuAIKPOE8ctb"
      },
      "execution_count": null,
      "outputs": []
    },
    {
      "cell_type": "code",
      "source": [
        "df[-348:-338]"
      ],
      "metadata": {
        "colab": {
          "base_uri": "https://localhost:8080/",
          "height": 394
        },
        "id": "R0TN5hqP-fJS",
        "outputId": "d455706a-9114-415e-c5a8-f3dda7ca31d5"
      },
      "execution_count": null,
      "outputs": [
        {
          "output_type": "execute_result",
          "data": {
            "text/plain": [
              "            Adj. Close    pct_HL  pct_change  Adj. Volume    label    Forecast\n",
              "Date                                                                          \n",
              "2016-11-04      781.10  2.266615    1.270582    1970603.0  1094.00         NaN\n",
              "2016-11-07      802.03  1.526044    0.890622    1992570.0  1053.15         NaN\n",
              "2016-11-08      811.98  2.053475    1.240602    1769069.0  1026.55         NaN\n",
              "2016-11-09      805.59  2.484107    0.468927    3098510.0  1054.09         NaN\n",
              "2016-11-10      780.29  5.444984   -3.667901    5909609.0  1006.94         NaN\n",
              "2016-11-11         NaN       NaN         NaN          NaN      NaN  966.461793\n",
              "2016-11-12         NaN       NaN         NaN          NaN      NaN  956.886949\n",
              "2016-11-13         NaN       NaN         NaN          NaN      NaN  973.274608\n",
              "2016-11-14         NaN       NaN         NaN          NaN      NaN  982.495468\n",
              "2016-11-15         NaN       NaN         NaN          NaN      NaN  984.035968"
            ],
            "text/html": [
              "\n",
              "  <div id=\"df-fee9dfbf-ecd1-4d4c-aaa7-5dcaa4990682\">\n",
              "    <div class=\"colab-df-container\">\n",
              "      <div>\n",
              "<style scoped>\n",
              "    .dataframe tbody tr th:only-of-type {\n",
              "        vertical-align: middle;\n",
              "    }\n",
              "\n",
              "    .dataframe tbody tr th {\n",
              "        vertical-align: top;\n",
              "    }\n",
              "\n",
              "    .dataframe thead th {\n",
              "        text-align: right;\n",
              "    }\n",
              "</style>\n",
              "<table border=\"1\" class=\"dataframe\">\n",
              "  <thead>\n",
              "    <tr style=\"text-align: right;\">\n",
              "      <th></th>\n",
              "      <th>Adj. Close</th>\n",
              "      <th>pct_HL</th>\n",
              "      <th>pct_change</th>\n",
              "      <th>Adj. Volume</th>\n",
              "      <th>label</th>\n",
              "      <th>Forecast</th>\n",
              "    </tr>\n",
              "    <tr>\n",
              "      <th>Date</th>\n",
              "      <th></th>\n",
              "      <th></th>\n",
              "      <th></th>\n",
              "      <th></th>\n",
              "      <th></th>\n",
              "      <th></th>\n",
              "    </tr>\n",
              "  </thead>\n",
              "  <tbody>\n",
              "    <tr>\n",
              "      <th>2016-11-04</th>\n",
              "      <td>781.10</td>\n",
              "      <td>2.266615</td>\n",
              "      <td>1.270582</td>\n",
              "      <td>1970603.0</td>\n",
              "      <td>1094.00</td>\n",
              "      <td>NaN</td>\n",
              "    </tr>\n",
              "    <tr>\n",
              "      <th>2016-11-07</th>\n",
              "      <td>802.03</td>\n",
              "      <td>1.526044</td>\n",
              "      <td>0.890622</td>\n",
              "      <td>1992570.0</td>\n",
              "      <td>1053.15</td>\n",
              "      <td>NaN</td>\n",
              "    </tr>\n",
              "    <tr>\n",
              "      <th>2016-11-08</th>\n",
              "      <td>811.98</td>\n",
              "      <td>2.053475</td>\n",
              "      <td>1.240602</td>\n",
              "      <td>1769069.0</td>\n",
              "      <td>1026.55</td>\n",
              "      <td>NaN</td>\n",
              "    </tr>\n",
              "    <tr>\n",
              "      <th>2016-11-09</th>\n",
              "      <td>805.59</td>\n",
              "      <td>2.484107</td>\n",
              "      <td>0.468927</td>\n",
              "      <td>3098510.0</td>\n",
              "      <td>1054.09</td>\n",
              "      <td>NaN</td>\n",
              "    </tr>\n",
              "    <tr>\n",
              "      <th>2016-11-10</th>\n",
              "      <td>780.29</td>\n",
              "      <td>5.444984</td>\n",
              "      <td>-3.667901</td>\n",
              "      <td>5909609.0</td>\n",
              "      <td>1006.94</td>\n",
              "      <td>NaN</td>\n",
              "    </tr>\n",
              "    <tr>\n",
              "      <th>2016-11-11</th>\n",
              "      <td>NaN</td>\n",
              "      <td>NaN</td>\n",
              "      <td>NaN</td>\n",
              "      <td>NaN</td>\n",
              "      <td>NaN</td>\n",
              "      <td>966.461793</td>\n",
              "    </tr>\n",
              "    <tr>\n",
              "      <th>2016-11-12</th>\n",
              "      <td>NaN</td>\n",
              "      <td>NaN</td>\n",
              "      <td>NaN</td>\n",
              "      <td>NaN</td>\n",
              "      <td>NaN</td>\n",
              "      <td>956.886949</td>\n",
              "    </tr>\n",
              "    <tr>\n",
              "      <th>2016-11-13</th>\n",
              "      <td>NaN</td>\n",
              "      <td>NaN</td>\n",
              "      <td>NaN</td>\n",
              "      <td>NaN</td>\n",
              "      <td>NaN</td>\n",
              "      <td>973.274608</td>\n",
              "    </tr>\n",
              "    <tr>\n",
              "      <th>2016-11-14</th>\n",
              "      <td>NaN</td>\n",
              "      <td>NaN</td>\n",
              "      <td>NaN</td>\n",
              "      <td>NaN</td>\n",
              "      <td>NaN</td>\n",
              "      <td>982.495468</td>\n",
              "    </tr>\n",
              "    <tr>\n",
              "      <th>2016-11-15</th>\n",
              "      <td>NaN</td>\n",
              "      <td>NaN</td>\n",
              "      <td>NaN</td>\n",
              "      <td>NaN</td>\n",
              "      <td>NaN</td>\n",
              "      <td>984.035968</td>\n",
              "    </tr>\n",
              "  </tbody>\n",
              "</table>\n",
              "</div>\n",
              "      <button class=\"colab-df-convert\" onclick=\"convertToInteractive('df-fee9dfbf-ecd1-4d4c-aaa7-5dcaa4990682')\"\n",
              "              title=\"Convert this dataframe to an interactive table.\"\n",
              "              style=\"display:none;\">\n",
              "        \n",
              "  <svg xmlns=\"http://www.w3.org/2000/svg\" height=\"24px\"viewBox=\"0 0 24 24\"\n",
              "       width=\"24px\">\n",
              "    <path d=\"M0 0h24v24H0V0z\" fill=\"none\"/>\n",
              "    <path d=\"M18.56 5.44l.94 2.06.94-2.06 2.06-.94-2.06-.94-.94-2.06-.94 2.06-2.06.94zm-11 1L8.5 8.5l.94-2.06 2.06-.94-2.06-.94L8.5 2.5l-.94 2.06-2.06.94zm10 10l.94 2.06.94-2.06 2.06-.94-2.06-.94-.94-2.06-.94 2.06-2.06.94z\"/><path d=\"M17.41 7.96l-1.37-1.37c-.4-.4-.92-.59-1.43-.59-.52 0-1.04.2-1.43.59L10.3 9.45l-7.72 7.72c-.78.78-.78 2.05 0 2.83L4 21.41c.39.39.9.59 1.41.59.51 0 1.02-.2 1.41-.59l7.78-7.78 2.81-2.81c.8-.78.8-2.07 0-2.86zM5.41 20L4 18.59l7.72-7.72 1.47 1.35L5.41 20z\"/>\n",
              "  </svg>\n",
              "      </button>\n",
              "      \n",
              "  <style>\n",
              "    .colab-df-container {\n",
              "      display:flex;\n",
              "      flex-wrap:wrap;\n",
              "      gap: 12px;\n",
              "    }\n",
              "\n",
              "    .colab-df-convert {\n",
              "      background-color: #E8F0FE;\n",
              "      border: none;\n",
              "      border-radius: 50%;\n",
              "      cursor: pointer;\n",
              "      display: none;\n",
              "      fill: #1967D2;\n",
              "      height: 32px;\n",
              "      padding: 0 0 0 0;\n",
              "      width: 32px;\n",
              "    }\n",
              "\n",
              "    .colab-df-convert:hover {\n",
              "      background-color: #E2EBFA;\n",
              "      box-shadow: 0px 1px 2px rgba(60, 64, 67, 0.3), 0px 1px 3px 1px rgba(60, 64, 67, 0.15);\n",
              "      fill: #174EA6;\n",
              "    }\n",
              "\n",
              "    [theme=dark] .colab-df-convert {\n",
              "      background-color: #3B4455;\n",
              "      fill: #D2E3FC;\n",
              "    }\n",
              "\n",
              "    [theme=dark] .colab-df-convert:hover {\n",
              "      background-color: #434B5C;\n",
              "      box-shadow: 0px 1px 3px 1px rgba(0, 0, 0, 0.15);\n",
              "      filter: drop-shadow(0px 1px 2px rgba(0, 0, 0, 0.3));\n",
              "      fill: #FFFFFF;\n",
              "    }\n",
              "  </style>\n",
              "\n",
              "      <script>\n",
              "        const buttonEl =\n",
              "          document.querySelector('#df-fee9dfbf-ecd1-4d4c-aaa7-5dcaa4990682 button.colab-df-convert');\n",
              "        buttonEl.style.display =\n",
              "          google.colab.kernel.accessAllowed ? 'block' : 'none';\n",
              "\n",
              "        async function convertToInteractive(key) {\n",
              "          const element = document.querySelector('#df-fee9dfbf-ecd1-4d4c-aaa7-5dcaa4990682');\n",
              "          const dataTable =\n",
              "            await google.colab.kernel.invokeFunction('convertToInteractive',\n",
              "                                                     [key], {});\n",
              "          if (!dataTable) return;\n",
              "\n",
              "          const docLinkHtml = 'Like what you see? Visit the ' +\n",
              "            '<a target=\"_blank\" href=https://colab.research.google.com/notebooks/data_table.ipynb>data table notebook</a>'\n",
              "            + ' to learn more about interactive tables.';\n",
              "          element.innerHTML = '';\n",
              "          dataTable['output_type'] = 'display_data';\n",
              "          await google.colab.output.renderOutput(dataTable, element);\n",
              "          const docLink = document.createElement('div');\n",
              "          docLink.innerHTML = docLinkHtml;\n",
              "          element.appendChild(docLink);\n",
              "        }\n",
              "      </script>\n",
              "    </div>\n",
              "  </div>\n",
              "  "
            ]
          },
          "metadata": {},
          "execution_count": 38
        }
      ]
    },
    {
      "cell_type": "code",
      "source": [
        "df['Adj. Close'].plot()\n",
        "df['Forecast'].plot()\n",
        "fig = plt.gcf()\n",
        "fig.set_size_inches(18.5, 10.5)\n",
        "plt.legend(loc = 4)\n",
        "plt.xlabel('Date')\n",
        "plt.ylabel('Price')"
      ],
      "metadata": {
        "colab": {
          "base_uri": "https://localhost:8080/",
          "height": 607
        },
        "id": "dqNqvWo580Cv",
        "outputId": "f831090d-3f7e-4c5e-fc8c-515cf200731d"
      },
      "execution_count": null,
      "outputs": [
        {
          "output_type": "execute_result",
          "data": {
            "text/plain": [
              "Text(0, 0.5, 'Price')"
            ]
          },
          "metadata": {},
          "execution_count": 32
        },
        {
          "output_type": "display_data",
          "data": {
            "text/plain": [
              "<Figure size 1332x756 with 1 Axes>"
            ],
            "image/png": "[encoded data removed]"
          },
          "metadata": {}
        }
      ]
    },
    {
      "cell_type": "code",
      "source": [
        "df['Adj. Close'].plot()\n",
        "df['Forecast'].plot()\n",
        "fig = plt.gcf()\n",
        "fig.set_size_inches(12, 5.5)\n",
        "plt.legend(loc = 4)\n",
        "plt.xlabel('Date')\n",
        "plt.ylabel('Price')"
      ],
      "metadata": {
        "colab": {
          "base_uri": "https://localhost:8080/",
          "height": 363
        },
        "id": "4BOaBCVRvn0P",
        "outputId": "b2f268d4-56da-4f15-e7f7-ddda58fc892c"
      },
      "execution_count": null,
      "outputs": [
        {
          "output_type": "execute_result",
          "data": {
            "text/plain": [
              "Text(0, 0.5, 'Price')"
            ]
          },
          "metadata": {},
          "execution_count": 40
        },
        {
          "output_type": "display_data",
          "data": {
            "text/plain": [
              "<Figure size 864x396 with 1 Axes>"
            ],
            "image/png": "[encoded data removed]"
          },
          "metadata": {}
        }
      ]
    }
  ]
}