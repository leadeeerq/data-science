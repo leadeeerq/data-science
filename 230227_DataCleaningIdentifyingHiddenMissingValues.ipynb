{
  "nbformat": 4,
  "nbformat_minor": 0,
  "metadata": {
    "colab": {
      "provenance": [],
      "mount_file_id": "11kT4w5c_n1SMtIAVwsFWFCHu-T1c_cEL",
      "authorship_tag": "ABX9TyPqZc/BXfPcilD3tNITMefq",
      "include_colab_link": true
    },
    "kernelspec": {
      "name": "python3",
      "display_name": "Python 3"
    },
    "language_info": {
      "name": "python"
    }
  },
  "cells": [
    {
      "cell_type": "markdown",
      "metadata": {
        "id": "view-in-github",
        "colab_type": "text"
      },
      "source": [
        "<a href=\"https://colab.research.google.com/github/leadeeerq/data-science/blob/main/230227_DataCleaningIdentifyingHiddenMissingValues.ipynb\" target=\"_parent\"><img src=\"https://colab.research.google.com/assets/colab-badge.svg\" alt=\"Open In Colab\"/></a>"
      ]
    },
    {
      "cell_type": "code",
      "execution_count": 335,
      "metadata": {
        "id": "IqiSts_zV5hK"
      },
      "outputs": [],
      "source": [
        "import pandas as pd"
      ]
    },
    {
      "cell_type": "markdown",
      "source": [
        "##Loading the data"
      ],
      "metadata": {
        "id": "wzG5LwkPXVDR"
      }
    },
    {
      "cell_type": "code",
      "source": [
        "df = pd.read_csv('/content/drive/MyDrive/230222_Master 12 Advanced Projects/Project_03_Materials/movies_metadata.csv', low_memory = False)"
      ],
      "metadata": {
        "id": "3gzQf2L4WBiP"
      },
      "execution_count": 336,
      "outputs": []
    },
    {
      "cell_type": "code",
      "source": [
        "df.info()"
      ],
      "metadata": {
        "colab": {
          "base_uri": "https://localhost:8080/"
        },
        "id": "-uZK13oxW0DF",
        "outputId": "70a40c66-540f-43ac-9972-77a8b3f09f88"
      },
      "execution_count": 337,
      "outputs": [
        {
          "output_type": "stream",
          "name": "stdout",
          "text": [
            "<class 'pandas.core.frame.DataFrame'>\n",
            "RangeIndex: 45466 entries, 0 to 45465\n",
            "Data columns (total 24 columns):\n",
            " #   Column                 Non-Null Count  Dtype  \n",
            "---  ------                 --------------  -----  \n",
            " 0   adult                  45466 non-null  object \n",
            " 1   belongs_to_collection  4494 non-null   object \n",
            " 2   budget                 45466 non-null  object \n",
            " 3   genres                 45466 non-null  object \n",
            " 4   homepage               7782 non-null   object \n",
            " 5   id                     45466 non-null  object \n",
            " 6   imdb_id                45449 non-null  object \n",
            " 7   original_language      45455 non-null  object \n",
            " 8   original_title         45466 non-null  object \n",
            " 9   overview               44512 non-null  object \n",
            " 10  popularity             45461 non-null  object \n",
            " 11  poster_path            45080 non-null  object \n",
            " 12  production_companies   45463 non-null  object \n",
            " 13  production_countries   45463 non-null  object \n",
            " 14  release_date           45379 non-null  object \n",
            " 15  revenue                45460 non-null  float64\n",
            " 16  runtime                45203 non-null  float64\n",
            " 17  spoken_languages       45460 non-null  object \n",
            " 18  status                 45379 non-null  object \n",
            " 19  tagline                20412 non-null  object \n",
            " 20  title                  45460 non-null  object \n",
            " 21  video                  45460 non-null  object \n",
            " 22  vote_average           45460 non-null  float64\n",
            " 23  vote_count             45460 non-null  float64\n",
            "dtypes: float64(4), object(20)\n",
            "memory usage: 8.3+ MB\n"
          ]
        }
      ]
    },
    {
      "cell_type": "markdown",
      "source": [
        "###Stringified data"
      ],
      "metadata": {
        "id": "c5PyHaY8XRH3"
      }
    },
    {
      "cell_type": "code",
      "source": [
        "df.genres[0]"
      ],
      "metadata": {
        "colab": {
          "base_uri": "https://localhost:8080/",
          "height": 35
        },
        "id": "SJFQT0k3W6Zc",
        "outputId": "48339fc6-88ce-48bb-9bc3-797724147adb"
      },
      "execution_count": 338,
      "outputs": [
        {
          "output_type": "execute_result",
          "data": {
            "text/plain": [
              "\"[{'id': 16, 'name': 'Animation'}, {'id': 35, 'name': 'Comedy'}, {'id': 10751, 'name': 'Family'}]\""
            ],
            "application/vnd.google.colaboratory.intrinsic+json": {
              "type": "string"
            }
          },
          "metadata": {},
          "execution_count": 338
        }
      ]
    },
    {
      "cell_type": "code",
      "source": [
        "df.belongs_to_collection[0]"
      ],
      "metadata": {
        "colab": {
          "base_uri": "https://localhost:8080/",
          "height": 35
        },
        "id": "3DxcagWZXGg_",
        "outputId": "04bd6ca9-28d2-434c-f90f-efc6e38e5ff9"
      },
      "execution_count": 339,
      "outputs": [
        {
          "output_type": "execute_result",
          "data": {
            "text/plain": [
              "\"{'id': 10194, 'name': 'Toy Story Collection', 'poster_path': '/7G9915LfUQ2lVfwMEEhDsn3kT4B.jpg', 'backdrop_path': '/9FBwqcd9IRruEDUrTdcaafOMKUq.jpg'}\""
            ],
            "application/vnd.google.colaboratory.intrinsic+json": {
              "type": "string"
            }
          },
          "metadata": {},
          "execution_count": 339
        }
      ]
    },
    {
      "cell_type": "markdown",
      "source": [
        "###Dropping irrelevant columns"
      ],
      "metadata": {
        "id": "T3Om63gpXgGN"
      }
    },
    {
      "cell_type": "code",
      "source": [
        "df.adult.value_counts()"
      ],
      "metadata": {
        "colab": {
          "base_uri": "https://localhost:8080/"
        },
        "id": "3L56F2lQXPuh",
        "outputId": "b6355e7c-541a-407e-c2ee-db80f8711cbb"
      },
      "execution_count": 340,
      "outputs": [
        {
          "output_type": "execute_result",
          "data": {
            "text/plain": [
              "False                                                                                                                             45454\n",
              "True                                                                                                                                  9\n",
              " - Written by Ørnås                                                                                                                   1\n",
              " Rune Balot goes to a casino connected to the October corporation to try to wrap up her case once and for all.                        1\n",
              " Avalanche Sharks tells the story of a bikini contest that turns into a horrifying affair when it is hit by a shark avalanche.        1\n",
              "Name: adult, dtype: int64"
            ]
          },
          "metadata": {},
          "execution_count": 340
        }
      ]
    },
    {
      "cell_type": "code",
      "source": [
        "df.drop(columns = ['adult'], inplace = True)"
      ],
      "metadata": {
        "id": "c-1zqAASXldw"
      },
      "execution_count": 341,
      "outputs": []
    },
    {
      "cell_type": "code",
      "source": [
        "df.drop(columns = ['imdb_id', 'original_title', 'video', 'homepage'], inplace = True)"
      ],
      "metadata": {
        "id": "_4KM2jcUXur7"
      },
      "execution_count": 342,
      "outputs": []
    },
    {
      "cell_type": "markdown",
      "source": [
        "##Handling stringified JSON columns, ast library"
      ],
      "metadata": {
        "id": "JEABtfksYbyC"
      }
    },
    {
      "cell_type": "code",
      "source": [
        "import json\n",
        "import ast"
      ],
      "metadata": {
        "id": "OFi4Wl1fX0nw"
      },
      "execution_count": 343,
      "outputs": []
    },
    {
      "cell_type": "code",
      "source": [
        "json_cols = ['belongs_to_collection', 'genres', 'production_countries', 'production_companies', 'spoken_languages']"
      ],
      "metadata": {
        "id": "H-9x2EoZYfqy"
      },
      "execution_count": 344,
      "outputs": []
    },
    {
      "cell_type": "code",
      "source": [
        "df.belongs_to_collection[0]"
      ],
      "metadata": {
        "colab": {
          "base_uri": "https://localhost:8080/",
          "height": 35
        },
        "id": "9PAr_f9kYo-N",
        "outputId": "2528ee4b-2de9-471a-f0c2-e99eb35383eb"
      },
      "execution_count": 345,
      "outputs": [
        {
          "output_type": "execute_result",
          "data": {
            "text/plain": [
              "\"{'id': 10194, 'name': 'Toy Story Collection', 'poster_path': '/7G9915LfUQ2lVfwMEEhDsn3kT4B.jpg', 'backdrop_path': '/9FBwqcd9IRruEDUrTdcaafOMKUq.jpg'}\""
            ],
            "application/vnd.google.colaboratory.intrinsic+json": {
              "type": "string"
            }
          },
          "metadata": {},
          "execution_count": 345
        }
      ]
    },
    {
      "cell_type": "markdown",
      "source": [
        "###Replacing single quotes with double ' -> \""
      ],
      "metadata": {
        "id": "CgxqDQdDakjg"
      }
    },
    {
      "cell_type": "code",
      "source": [
        "example1 = \"{'dog': 3, 'cat': 5}\""
      ],
      "metadata": {
        "id": "uJ0_5ILSYqvi"
      },
      "execution_count": 346,
      "outputs": []
    },
    {
      "cell_type": "code",
      "source": [
        "# json.loads(example1)"
      ],
      "metadata": {
        "id": "Y2dPYvm2Y-_Y"
      },
      "execution_count": 347,
      "outputs": []
    },
    {
      "cell_type": "code",
      "source": [
        "example2 = '{\"dog\": 3, \"cat\": 5}'\n",
        "json.loads(example2)"
      ],
      "metadata": {
        "colab": {
          "base_uri": "https://localhost:8080/"
        },
        "id": "siqacf4vZAz5",
        "outputId": "c55f81a9-c1bb-41e3-f425-608765c108ef"
      },
      "execution_count": 348,
      "outputs": [
        {
          "output_type": "execute_result",
          "data": {
            "text/plain": [
              "{'dog': 3, 'cat': 5}"
            ]
          },
          "metadata": {},
          "execution_count": 348
        }
      ]
    },
    {
      "cell_type": "code",
      "source": [
        "json.loads(example1.replace(\"'\", '\"'))"
      ],
      "metadata": {
        "colab": {
          "base_uri": "https://localhost:8080/"
        },
        "id": "PiZ16IhmaY0l",
        "outputId": "f6881db3-acff-44af-ed38-f758057ff04a"
      },
      "execution_count": 349,
      "outputs": [
        {
          "output_type": "execute_result",
          "data": {
            "text/plain": [
              "{'dog': 3, 'cat': 5}"
            ]
          },
          "metadata": {},
          "execution_count": 349
        }
      ]
    },
    {
      "cell_type": "markdown",
      "source": [
        "###That leads to having a list"
      ],
      "metadata": {
        "id": "8TztuzPQbGPY"
      }
    },
    {
      "cell_type": "code",
      "source": [
        "df.genres.apply(lambda x: json.loads(x.replace(\"'\", '\"')))[0]"
      ],
      "metadata": {
        "colab": {
          "base_uri": "https://localhost:8080/"
        },
        "id": "7ikAEAdWaeO2",
        "outputId": "8d315c19-db51-4a2d-c2ed-2c2f487b25de"
      },
      "execution_count": 350,
      "outputs": [
        {
          "output_type": "execute_result",
          "data": {
            "text/plain": [
              "[{'id': 16, 'name': 'Animation'},\n",
              " {'id': 35, 'name': 'Comedy'},\n",
              " {'id': 10751, 'name': 'Family'}]"
            ]
          },
          "metadata": {},
          "execution_count": 350
        }
      ]
    },
    {
      "cell_type": "markdown",
      "source": [
        "###Using ast.literal_eval - it evaluates a string containing a python expression"
      ],
      "metadata": {
        "id": "Isqal93IbFFP"
      }
    },
    {
      "cell_type": "code",
      "source": [
        "ast.literal_eval(example1)"
      ],
      "metadata": {
        "colab": {
          "base_uri": "https://localhost:8080/"
        },
        "id": "dd40m-hlaw1B",
        "outputId": "ad4eb604-3dcc-4b45-d3e7-4094830af6f4"
      },
      "execution_count": 351,
      "outputs": [
        {
          "output_type": "execute_result",
          "data": {
            "text/plain": [
              "{'dog': 3, 'cat': 5}"
            ]
          },
          "metadata": {},
          "execution_count": 351
        }
      ]
    },
    {
      "cell_type": "code",
      "source": [
        "ast.literal_eval(example2)"
      ],
      "metadata": {
        "colab": {
          "base_uri": "https://localhost:8080/"
        },
        "id": "fmChAnW4bo0x",
        "outputId": "42b819fe-4391-42ce-b5db-fbf06386e550"
      },
      "execution_count": 352,
      "outputs": [
        {
          "output_type": "execute_result",
          "data": {
            "text/plain": [
              "{'dog': 3, 'cat': 5}"
            ]
          },
          "metadata": {},
          "execution_count": 352
        }
      ]
    },
    {
      "cell_type": "code",
      "source": [
        "df.genres.apply(ast.literal_eval)[0]"
      ],
      "metadata": {
        "colab": {
          "base_uri": "https://localhost:8080/"
        },
        "id": "8RR44sRpbqXn",
        "outputId": "efef68f6-9f2a-461f-f22b-006526c39bea"
      },
      "execution_count": 353,
      "outputs": [
        {
          "output_type": "execute_result",
          "data": {
            "text/plain": [
              "[{'id': 16, 'name': 'Animation'},\n",
              " {'id': 35, 'name': 'Comedy'},\n",
              " {'id': 10751, 'name': 'Family'}]"
            ]
          },
          "metadata": {},
          "execution_count": 353
        }
      ]
    },
    {
      "cell_type": "code",
      "source": [
        "# df.genres = df.genres.apply(ast.literal_eval)"
      ],
      "metadata": {
        "id": "vRKNDHaSbvQn"
      },
      "execution_count": 354,
      "outputs": []
    },
    {
      "cell_type": "code",
      "source": [],
      "metadata": {
        "id": "SNRqoyO-XC1K"
      },
      "execution_count": 354,
      "outputs": []
    },
    {
      "cell_type": "markdown",
      "source": [
        "###Applying the ast.literal_eval function to all columns"
      ],
      "metadata": {
        "id": "N-ykQrRsb7iL"
      }
    },
    {
      "cell_type": "markdown",
      "source": [
        "It doesn't work for values different than strings"
      ],
      "metadata": {
        "id": "9Rg40yTdcZgK"
      }
    },
    {
      "cell_type": "code",
      "source": [
        "# df.loc[:, json_cols].apply(ast.literal_eval, axis = 0)"
      ],
      "metadata": {
        "id": "6cmI6_wVbyMK"
      },
      "execution_count": 355,
      "outputs": []
    },
    {
      "cell_type": "code",
      "source": [
        "df.belongs_to_collection.apply(lambda x: isinstance(x, str))"
      ],
      "metadata": {
        "colab": {
          "base_uri": "https://localhost:8080/"
        },
        "id": "Z_WiG5f6cG6g",
        "outputId": "a940fd2c-0071-4cce-840d-159dbe108cf0"
      },
      "execution_count": 356,
      "outputs": [
        {
          "output_type": "execute_result",
          "data": {
            "text/plain": [
              "0         True\n",
              "1        False\n",
              "2         True\n",
              "3        False\n",
              "4         True\n",
              "         ...  \n",
              "45461    False\n",
              "45462    False\n",
              "45463    False\n",
              "45464    False\n",
              "45465    False\n",
              "Name: belongs_to_collection, Length: 45466, dtype: bool"
            ]
          },
          "metadata": {},
          "execution_count": 356
        }
      ]
    },
    {
      "cell_type": "code",
      "source": [
        "import numpy as np"
      ],
      "metadata": {
        "id": "t3fHObGudO4V"
      },
      "execution_count": 357,
      "outputs": []
    },
    {
      "cell_type": "code",
      "source": [
        "# df.belongs_to_collection = df.belongs_to_collection.apply(lambda x: ast.literal_eval(x) if isinstance(x, str) else np.nan)"
      ],
      "metadata": {
        "id": "fa5EfzbIcrwv"
      },
      "execution_count": 358,
      "outputs": []
    },
    {
      "cell_type": "code",
      "source": [
        "df.belongs_to_collection"
      ],
      "metadata": {
        "colab": {
          "base_uri": "https://localhost:8080/"
        },
        "id": "Llp33kKyc1Q5",
        "outputId": "c5ef0ec3-a53f-43dd-8b80-c94201a5637b"
      },
      "execution_count": 359,
      "outputs": [
        {
          "output_type": "execute_result",
          "data": {
            "text/plain": [
              "0        {'id': 10194, 'name': 'Toy Story Collection', ...\n",
              "1                                                      NaN\n",
              "2        {'id': 119050, 'name': 'Grumpy Old Men Collect...\n",
              "3                                                      NaN\n",
              "4        {'id': 96871, 'name': 'Father of the Bride Col...\n",
              "                               ...                        \n",
              "45461                                                  NaN\n",
              "45462                                                  NaN\n",
              "45463                                                  NaN\n",
              "45464                                                  NaN\n",
              "45465                                                  NaN\n",
              "Name: belongs_to_collection, Length: 45466, dtype: object"
            ]
          },
          "metadata": {},
          "execution_count": 359
        }
      ]
    },
    {
      "cell_type": "code",
      "source": [
        "for col in json_cols:\n",
        "  df[col] = df[col].apply(lambda x: ast.literal_eval(x) if isinstance(x, str) else np.nan)"
      ],
      "metadata": {
        "id": "1nfDanHqdbNL"
      },
      "execution_count": 360,
      "outputs": []
    },
    {
      "cell_type": "code",
      "source": [
        "df"
      ],
      "metadata": {
        "colab": {
          "base_uri": "https://localhost:8080/",
          "height": 1000
        },
        "id": "QTnwksMfdkDW",
        "outputId": "8df51a9f-5045-4a82-f7c5-78f734007206"
      },
      "execution_count": 361,
      "outputs": [
        {
          "output_type": "execute_result",
          "data": {
            "text/plain": [
              "                                   belongs_to_collection    budget  \\\n",
              "0      {'id': 10194, 'name': 'Toy Story Collection', ...  30000000   \n",
              "1                                                    NaN  65000000   \n",
              "2      {'id': 119050, 'name': 'Grumpy Old Men Collect...         0   \n",
              "3                                                    NaN  16000000   \n",
              "4      {'id': 96871, 'name': 'Father of the Bride Col...         0   \n",
              "...                                                  ...       ...   \n",
              "45461                                                NaN         0   \n",
              "45462                                                NaN         0   \n",
              "45463                                                NaN         0   \n",
              "45464                                                NaN         0   \n",
              "45465                                                NaN         0   \n",
              "\n",
              "                                                  genres      id  \\\n",
              "0      [{'id': 16, 'name': 'Animation'}, {'id': 35, '...     862   \n",
              "1      [{'id': 12, 'name': 'Adventure'}, {'id': 14, '...    8844   \n",
              "2      [{'id': 10749, 'name': 'Romance'}, {'id': 35, ...   15602   \n",
              "3      [{'id': 35, 'name': 'Comedy'}, {'id': 18, 'nam...   31357   \n",
              "4                         [{'id': 35, 'name': 'Comedy'}]   11862   \n",
              "...                                                  ...     ...   \n",
              "45461  [{'id': 18, 'name': 'Drama'}, {'id': 10751, 'n...  439050   \n",
              "45462                      [{'id': 18, 'name': 'Drama'}]  111109   \n",
              "45463  [{'id': 28, 'name': 'Action'}, {'id': 18, 'nam...   67758   \n",
              "45464                                                 []  227506   \n",
              "45465                                                 []  461257   \n",
              "\n",
              "      original_language                                           overview  \\\n",
              "0                    en  Led by Woody, Andy's toys live happily in his ...   \n",
              "1                    en  When siblings Judy and Peter discover an encha...   \n",
              "2                    en  A family wedding reignites the ancient feud be...   \n",
              "3                    en  Cheated on, mistreated and stepped on, the wom...   \n",
              "4                    en  Just when George Banks has recovered from his ...   \n",
              "...                 ...                                                ...   \n",
              "45461                fa        Rising and falling between a man and woman.   \n",
              "45462                tl  An artist struggles to finish his work while a...   \n",
              "45463                en  When one of her hits goes wrong, a professiona...   \n",
              "45464                en  In a small town live two brothers, one a minis...   \n",
              "45465                en  50 years after decriminalisation of homosexual...   \n",
              "\n",
              "      popularity                       poster_path  \\\n",
              "0      21.946943  /rhIRbceoE9lR4veEXuwCC2wARtG.jpg   \n",
              "1      17.015539  /vzmL6fP7aPKNKPRTFnZmiUfciyV.jpg   \n",
              "2        11.7129  /6ksm1sjKMFLbO7UY2i6G1ju9SML.jpg   \n",
              "3       3.859495  /16XOMpEaLWkrcPqSQqhTmeJuqQl.jpg   \n",
              "4       8.387519  /e64sOI48hQXyru7naBFyssKFxVd.jpg   \n",
              "...          ...                               ...   \n",
              "45461   0.072051  /jldsYflnId4tTWPx8es3uzsB1I8.jpg   \n",
              "45462   0.178241  /xZkmxsNmYXJbKVsTRLLx3pqGHx7.jpg   \n",
              "45463   0.903007  /d5bX92nDsISNhu3ZT69uHwmfCGw.jpg   \n",
              "45464   0.003503  /aorBPO7ak8e8iJKT5OcqYxU3jlK.jpg   \n",
              "45465   0.163015  /s5UkZt6NTsrS7ZF0Rh8nzupRlIU.jpg   \n",
              "\n",
              "                                    production_companies  \\\n",
              "0         [{'name': 'Pixar Animation Studios', 'id': 3}]   \n",
              "1      [{'name': 'TriStar Pictures', 'id': 559}, {'na...   \n",
              "2      [{'name': 'Warner Bros.', 'id': 6194}, {'name'...   \n",
              "3      [{'name': 'Twentieth Century Fox Film Corporat...   \n",
              "4      [{'name': 'Sandollar Productions', 'id': 5842}...   \n",
              "...                                                  ...   \n",
              "45461                                                 []   \n",
              "45462             [{'name': 'Sine Olivia', 'id': 19653}]   \n",
              "45463  [{'name': 'American World Pictures', 'id': 6165}]   \n",
              "45464               [{'name': 'Yermoliev', 'id': 88753}]   \n",
              "45465                                                 []   \n",
              "\n",
              "                                    production_countries release_date  \\\n",
              "0      [{'iso_3166_1': 'US', 'name': 'United States o...   1995-10-30   \n",
              "1      [{'iso_3166_1': 'US', 'name': 'United States o...   1995-12-15   \n",
              "2      [{'iso_3166_1': 'US', 'name': 'United States o...   1995-12-22   \n",
              "3      [{'iso_3166_1': 'US', 'name': 'United States o...   1995-12-22   \n",
              "4      [{'iso_3166_1': 'US', 'name': 'United States o...   1995-02-10   \n",
              "...                                                  ...          ...   \n",
              "45461             [{'iso_3166_1': 'IR', 'name': 'Iran'}]          NaN   \n",
              "45462      [{'iso_3166_1': 'PH', 'name': 'Philippines'}]   2011-11-17   \n",
              "45463  [{'iso_3166_1': 'US', 'name': 'United States o...   2003-08-01   \n",
              "45464           [{'iso_3166_1': 'RU', 'name': 'Russia'}]   1917-10-21   \n",
              "45465   [{'iso_3166_1': 'GB', 'name': 'United Kingdom'}]   2017-06-09   \n",
              "\n",
              "           revenue  runtime  \\\n",
              "0      373554033.0     81.0   \n",
              "1      262797249.0    104.0   \n",
              "2              0.0    101.0   \n",
              "3       81452156.0    127.0   \n",
              "4       76578911.0    106.0   \n",
              "...            ...      ...   \n",
              "45461          0.0     90.0   \n",
              "45462          0.0    360.0   \n",
              "45463          0.0     90.0   \n",
              "45464          0.0     87.0   \n",
              "45465          0.0     75.0   \n",
              "\n",
              "                                        spoken_languages    status  \\\n",
              "0               [{'iso_639_1': 'en', 'name': 'English'}]  Released   \n",
              "1      [{'iso_639_1': 'en', 'name': 'English'}, {'iso...  Released   \n",
              "2               [{'iso_639_1': 'en', 'name': 'English'}]  Released   \n",
              "3               [{'iso_639_1': 'en', 'name': 'English'}]  Released   \n",
              "4               [{'iso_639_1': 'en', 'name': 'English'}]  Released   \n",
              "...                                                  ...       ...   \n",
              "45461             [{'iso_639_1': 'fa', 'name': 'فارسی'}]  Released   \n",
              "45462                  [{'iso_639_1': 'tl', 'name': ''}]  Released   \n",
              "45463           [{'iso_639_1': 'en', 'name': 'English'}]  Released   \n",
              "45464                                                 []  Released   \n",
              "45465           [{'iso_639_1': 'en', 'name': 'English'}]  Released   \n",
              "\n",
              "                                                 tagline  \\\n",
              "0                                                    NaN   \n",
              "1              Roll the dice and unleash the excitement!   \n",
              "2      Still Yelling. Still Fighting. Still Ready for...   \n",
              "3      Friends are the people who let you be yourself...   \n",
              "4      Just When His World Is Back To Normal... He's ...   \n",
              "...                                                  ...   \n",
              "45461         Rising and falling between a man and woman   \n",
              "45462                                                NaN   \n",
              "45463                             A deadly game of wits.   \n",
              "45464                                                NaN   \n",
              "45465                                                NaN   \n",
              "\n",
              "                             title  vote_average  vote_count  \n",
              "0                        Toy Story           7.7      5415.0  \n",
              "1                          Jumanji           6.9      2413.0  \n",
              "2                 Grumpier Old Men           6.5        92.0  \n",
              "3                Waiting to Exhale           6.1        34.0  \n",
              "4      Father of the Bride Part II           5.7       173.0  \n",
              "...                            ...           ...         ...  \n",
              "45461                       Subdue           4.0         1.0  \n",
              "45462          Century of Birthing           9.0         3.0  \n",
              "45463                     Betrayal           3.8         6.0  \n",
              "45464             Satan Triumphant           0.0         0.0  \n",
              "45465                     Queerama           0.0         0.0  \n",
              "\n",
              "[45466 rows x 19 columns]"
            ],
            "text/html": [
              "\n",
              "  <div id=\"df-eae04d2d-579f-447a-8399-a374b21560a1\">\n",
              "    <div class=\"colab-df-container\">\n",
              "      <div>\n",
              "<style scoped>\n",
              "    .dataframe tbody tr th:only-of-type {\n",
              "        vertical-align: middle;\n",
              "    }\n",
              "\n",
              "    .dataframe tbody tr th {\n",
              "        vertical-align: top;\n",
              "    }\n",
              "\n",
              "    .dataframe thead th {\n",
              "        text-align: right;\n",
              "    }\n",
              "</style>\n",
              "<table border=\"1\" class=\"dataframe\">\n",
              "  <thead>\n",
              "    <tr style=\"text-align: right;\">\n",
              "      <th></th>\n",
              "      <th>belongs_to_collection</th>\n",
              "      <th>budget</th>\n",
              "      <th>genres</th>\n",
              "      <th>id</th>\n",
              "      <th>original_language</th>\n",
              "      <th>overview</th>\n",
              "      <th>popularity</th>\n",
              "      <th>poster_path</th>\n",
              "      <th>production_companies</th>\n",
              "      <th>production_countries</th>\n",
              "      <th>release_date</th>\n",
              "      <th>revenue</th>\n",
              "      <th>runtime</th>\n",
              "      <th>spoken_languages</th>\n",
              "      <th>status</th>\n",
              "      <th>tagline</th>\n",
              "      <th>title</th>\n",
              "      <th>vote_average</th>\n",
              "      <th>vote_count</th>\n",
              "    </tr>\n",
              "  </thead>\n",
              "  <tbody>\n",
              "    <tr>\n",
              "      <th>0</th>\n",
              "      <td>{'id': 10194, 'name': 'Toy Story Collection', ...</td>\n",
              "      <td>30000000</td>\n",
              "      <td>[{'id': 16, 'name': 'Animation'}, {'id': 35, '...</td>\n",
              "      <td>862</td>\n",
              "      <td>en</td>\n",
              "      <td>Led by Woody, Andy's toys live happily in his ...</td>\n",
              "      <td>21.946943</td>\n",
              "      <td>/rhIRbceoE9lR4veEXuwCC2wARtG.jpg</td>\n",
              "      <td>[{'name': 'Pixar Animation Studios', 'id': 3}]</td>\n",
              "      <td>[{'iso_3166_1': 'US', 'name': 'United States o...</td>\n",
              "      <td>1995-10-30</td>\n",
              "      <td>373554033.0</td>\n",
              "      <td>81.0</td>\n",
              "      <td>[{'iso_639_1': 'en', 'name': 'English'}]</td>\n",
              "      <td>Released</td>\n",
              "      <td>NaN</td>\n",
              "      <td>Toy Story</td>\n",
              "      <td>7.7</td>\n",
              "      <td>5415.0</td>\n",
              "    </tr>\n",
              "    <tr>\n",
              "      <th>1</th>\n",
              "      <td>NaN</td>\n",
              "      <td>65000000</td>\n",
              "      <td>[{'id': 12, 'name': 'Adventure'}, {'id': 14, '...</td>\n",
              "      <td>8844</td>\n",
              "      <td>en</td>\n",
              "      <td>When siblings Judy and Peter discover an encha...</td>\n",
              "      <td>17.015539</td>\n",
              "      <td>/vzmL6fP7aPKNKPRTFnZmiUfciyV.jpg</td>\n",
              "      <td>[{'name': 'TriStar Pictures', 'id': 559}, {'na...</td>\n",
              "      <td>[{'iso_3166_1': 'US', 'name': 'United States o...</td>\n",
              "      <td>1995-12-15</td>\n",
              "      <td>262797249.0</td>\n",
              "      <td>104.0</td>\n",
              "      <td>[{'iso_639_1': 'en', 'name': 'English'}, {'iso...</td>\n",
              "      <td>Released</td>\n",
              "      <td>Roll the dice and unleash the excitement!</td>\n",
              "      <td>Jumanji</td>\n",
              "      <td>6.9</td>\n",
              "      <td>2413.0</td>\n",
              "    </tr>\n",
              "    <tr>\n",
              "      <th>2</th>\n",
              "      <td>{'id': 119050, 'name': 'Grumpy Old Men Collect...</td>\n",
              "      <td>0</td>\n",
              "      <td>[{'id': 10749, 'name': 'Romance'}, {'id': 35, ...</td>\n",
              "      <td>15602</td>\n",
              "      <td>en</td>\n",
              "      <td>A family wedding reignites the ancient feud be...</td>\n",
              "      <td>11.7129</td>\n",
              "      <td>/6ksm1sjKMFLbO7UY2i6G1ju9SML.jpg</td>\n",
              "      <td>[{'name': 'Warner Bros.', 'id': 6194}, {'name'...</td>\n",
              "      <td>[{'iso_3166_1': 'US', 'name': 'United States o...</td>\n",
              "      <td>1995-12-22</td>\n",
              "      <td>0.0</td>\n",
              "      <td>101.0</td>\n",
              "      <td>[{'iso_639_1': 'en', 'name': 'English'}]</td>\n",
              "      <td>Released</td>\n",
              "      <td>Still Yelling. Still Fighting. Still Ready for...</td>\n",
              "      <td>Grumpier Old Men</td>\n",
              "      <td>6.5</td>\n",
              "      <td>92.0</td>\n",
              "    </tr>\n",
              "    <tr>\n",
              "      <th>3</th>\n",
              "      <td>NaN</td>\n",
              "      <td>16000000</td>\n",
              "      <td>[{'id': 35, 'name': 'Comedy'}, {'id': 18, 'nam...</td>\n",
              "      <td>31357</td>\n",
              "      <td>en</td>\n",
              "      <td>Cheated on, mistreated and stepped on, the wom...</td>\n",
              "      <td>3.859495</td>\n",
              "      <td>/16XOMpEaLWkrcPqSQqhTmeJuqQl.jpg</td>\n",
              "      <td>[{'name': 'Twentieth Century Fox Film Corporat...</td>\n",
              "      <td>[{'iso_3166_1': 'US', 'name': 'United States o...</td>\n",
              "      <td>1995-12-22</td>\n",
              "      <td>81452156.0</td>\n",
              "      <td>127.0</td>\n",
              "      <td>[{'iso_639_1': 'en', 'name': 'English'}]</td>\n",
              "      <td>Released</td>\n",
              "      <td>Friends are the people who let you be yourself...</td>\n",
              "      <td>Waiting to Exhale</td>\n",
              "      <td>6.1</td>\n",
              "      <td>34.0</td>\n",
              "    </tr>\n",
              "    <tr>\n",
              "      <th>4</th>\n",
              "      <td>{'id': 96871, 'name': 'Father of the Bride Col...</td>\n",
              "      <td>0</td>\n",
              "      <td>[{'id': 35, 'name': 'Comedy'}]</td>\n",
              "      <td>11862</td>\n",
              "      <td>en</td>\n",
              "      <td>Just when George Banks has recovered from his ...</td>\n",
              "      <td>8.387519</td>\n",
              "      <td>/e64sOI48hQXyru7naBFyssKFxVd.jpg</td>\n",
              "      <td>[{'name': 'Sandollar Productions', 'id': 5842}...</td>\n",
              "      <td>[{'iso_3166_1': 'US', 'name': 'United States o...</td>\n",
              "      <td>1995-02-10</td>\n",
              "      <td>76578911.0</td>\n",
              "      <td>106.0</td>\n",
              "      <td>[{'iso_639_1': 'en', 'name': 'English'}]</td>\n",
              "      <td>Released</td>\n",
              "      <td>Just When His World Is Back To Normal... He's ...</td>\n",
              "      <td>Father of the Bride Part II</td>\n",
              "      <td>5.7</td>\n",
              "      <td>173.0</td>\n",
              "    </tr>\n",
              "    <tr>\n",
              "      <th>...</th>\n",
              "      <td>...</td>\n",
              "      <td>...</td>\n",
              "      <td>...</td>\n",
              "      <td>...</td>\n",
              "      <td>...</td>\n",
              "      <td>...</td>\n",
              "      <td>...</td>\n",
              "      <td>...</td>\n",
              "      <td>...</td>\n",
              "      <td>...</td>\n",
              "      <td>...</td>\n",
              "      <td>...</td>\n",
              "      <td>...</td>\n",
              "      <td>...</td>\n",
              "      <td>...</td>\n",
              "      <td>...</td>\n",
              "      <td>...</td>\n",
              "      <td>...</td>\n",
              "      <td>...</td>\n",
              "    </tr>\n",
              "    <tr>\n",
              "      <th>45461</th>\n",
              "      <td>NaN</td>\n",
              "      <td>0</td>\n",
              "      <td>[{'id': 18, 'name': 'Drama'}, {'id': 10751, 'n...</td>\n",
              "      <td>439050</td>\n",
              "      <td>fa</td>\n",
              "      <td>Rising and falling between a man and woman.</td>\n",
              "      <td>0.072051</td>\n",
              "      <td>/jldsYflnId4tTWPx8es3uzsB1I8.jpg</td>\n",
              "      <td>[]</td>\n",
              "      <td>[{'iso_3166_1': 'IR', 'name': 'Iran'}]</td>\n",
              "      <td>NaN</td>\n",
              "      <td>0.0</td>\n",
              "      <td>90.0</td>\n",
              "      <td>[{'iso_639_1': 'fa', 'name': 'فارسی'}]</td>\n",
              "      <td>Released</td>\n",
              "      <td>Rising and falling between a man and woman</td>\n",
              "      <td>Subdue</td>\n",
              "      <td>4.0</td>\n",
              "      <td>1.0</td>\n",
              "    </tr>\n",
              "    <tr>\n",
              "      <th>45462</th>\n",
              "      <td>NaN</td>\n",
              "      <td>0</td>\n",
              "      <td>[{'id': 18, 'name': 'Drama'}]</td>\n",
              "      <td>111109</td>\n",
              "      <td>tl</td>\n",
              "      <td>An artist struggles to finish his work while a...</td>\n",
              "      <td>0.178241</td>\n",
              "      <td>/xZkmxsNmYXJbKVsTRLLx3pqGHx7.jpg</td>\n",
              "      <td>[{'name': 'Sine Olivia', 'id': 19653}]</td>\n",
              "      <td>[{'iso_3166_1': 'PH', 'name': 'Philippines'}]</td>\n",
              "      <td>2011-11-17</td>\n",
              "      <td>0.0</td>\n",
              "      <td>360.0</td>\n",
              "      <td>[{'iso_639_1': 'tl', 'name': ''}]</td>\n",
              "      <td>Released</td>\n",
              "      <td>NaN</td>\n",
              "      <td>Century of Birthing</td>\n",
              "      <td>9.0</td>\n",
              "      <td>3.0</td>\n",
              "    </tr>\n",
              "    <tr>\n",
              "      <th>45463</th>\n",
              "      <td>NaN</td>\n",
              "      <td>0</td>\n",
              "      <td>[{'id': 28, 'name': 'Action'}, {'id': 18, 'nam...</td>\n",
              "      <td>67758</td>\n",
              "      <td>en</td>\n",
              "      <td>When one of her hits goes wrong, a professiona...</td>\n",
              "      <td>0.903007</td>\n",
              "      <td>/d5bX92nDsISNhu3ZT69uHwmfCGw.jpg</td>\n",
              "      <td>[{'name': 'American World Pictures', 'id': 6165}]</td>\n",
              "      <td>[{'iso_3166_1': 'US', 'name': 'United States o...</td>\n",
              "      <td>2003-08-01</td>\n",
              "      <td>0.0</td>\n",
              "      <td>90.0</td>\n",
              "      <td>[{'iso_639_1': 'en', 'name': 'English'}]</td>\n",
              "      <td>Released</td>\n",
              "      <td>A deadly game of wits.</td>\n",
              "      <td>Betrayal</td>\n",
              "      <td>3.8</td>\n",
              "      <td>6.0</td>\n",
              "    </tr>\n",
              "    <tr>\n",
              "      <th>45464</th>\n",
              "      <td>NaN</td>\n",
              "      <td>0</td>\n",
              "      <td>[]</td>\n",
              "      <td>227506</td>\n",
              "      <td>en</td>\n",
              "      <td>In a small town live two brothers, one a minis...</td>\n",
              "      <td>0.003503</td>\n",
              "      <td>/aorBPO7ak8e8iJKT5OcqYxU3jlK.jpg</td>\n",
              "      <td>[{'name': 'Yermoliev', 'id': 88753}]</td>\n",
              "      <td>[{'iso_3166_1': 'RU', 'name': 'Russia'}]</td>\n",
              "      <td>1917-10-21</td>\n",
              "      <td>0.0</td>\n",
              "      <td>87.0</td>\n",
              "      <td>[]</td>\n",
              "      <td>Released</td>\n",
              "      <td>NaN</td>\n",
              "      <td>Satan Triumphant</td>\n",
              "      <td>0.0</td>\n",
              "      <td>0.0</td>\n",
              "    </tr>\n",
              "    <tr>\n",
              "      <th>45465</th>\n",
              "      <td>NaN</td>\n",
              "      <td>0</td>\n",
              "      <td>[]</td>\n",
              "      <td>461257</td>\n",
              "      <td>en</td>\n",
              "      <td>50 years after decriminalisation of homosexual...</td>\n",
              "      <td>0.163015</td>\n",
              "      <td>/s5UkZt6NTsrS7ZF0Rh8nzupRlIU.jpg</td>\n",
              "      <td>[]</td>\n",
              "      <td>[{'iso_3166_1': 'GB', 'name': 'United Kingdom'}]</td>\n",
              "      <td>2017-06-09</td>\n",
              "      <td>0.0</td>\n",
              "      <td>75.0</td>\n",
              "      <td>[{'iso_639_1': 'en', 'name': 'English'}]</td>\n",
              "      <td>Released</td>\n",
              "      <td>NaN</td>\n",
              "      <td>Queerama</td>\n",
              "      <td>0.0</td>\n",
              "      <td>0.0</td>\n",
              "    </tr>\n",
              "  </tbody>\n",
              "</table>\n",
              "<p>45466 rows × 19 columns</p>\n",
              "</div>\n",
              "      <button class=\"colab-df-convert\" onclick=\"convertToInteractive('df-eae04d2d-579f-447a-8399-a374b21560a1')\"\n",
              "              title=\"Convert this dataframe to an interactive table.\"\n",
              "              style=\"display:none;\">\n",
              "        \n",
              "  <svg xmlns=\"http://www.w3.org/2000/svg\" height=\"24px\"viewBox=\"0 0 24 24\"\n",
              "       width=\"24px\">\n",
              "    <path d=\"M0 0h24v24H0V0z\" fill=\"none\"/>\n",
              "    <path d=\"M18.56 5.44l.94 2.06.94-2.06 2.06-.94-2.06-.94-.94-2.06-.94 2.06-2.06.94zm-11 1L8.5 8.5l.94-2.06 2.06-.94-2.06-.94L8.5 2.5l-.94 2.06-2.06.94zm10 10l.94 2.06.94-2.06 2.06-.94-2.06-.94-.94-2.06-.94 2.06-2.06.94z\"/><path d=\"M17.41 7.96l-1.37-1.37c-.4-.4-.92-.59-1.43-.59-.52 0-1.04.2-1.43.59L10.3 9.45l-7.72 7.72c-.78.78-.78 2.05 0 2.83L4 21.41c.39.39.9.59 1.41.59.51 0 1.02-.2 1.41-.59l7.78-7.78 2.81-2.81c.8-.78.8-2.07 0-2.86zM5.41 20L4 18.59l7.72-7.72 1.47 1.35L5.41 20z\"/>\n",
              "  </svg>\n",
              "      </button>\n",
              "      \n",
              "  <style>\n",
              "    .colab-df-container {\n",
              "      display:flex;\n",
              "      flex-wrap:wrap;\n",
              "      gap: 12px;\n",
              "    }\n",
              "\n",
              "    .colab-df-convert {\n",
              "      background-color: #E8F0FE;\n",
              "      border: none;\n",
              "      border-radius: 50%;\n",
              "      cursor: pointer;\n",
              "      display: none;\n",
              "      fill: #1967D2;\n",
              "      height: 32px;\n",
              "      padding: 0 0 0 0;\n",
              "      width: 32px;\n",
              "    }\n",
              "\n",
              "    .colab-df-convert:hover {\n",
              "      background-color: #E2EBFA;\n",
              "      box-shadow: 0px 1px 2px rgba(60, 64, 67, 0.3), 0px 1px 3px 1px rgba(60, 64, 67, 0.15);\n",
              "      fill: #174EA6;\n",
              "    }\n",
              "\n",
              "    [theme=dark] .colab-df-convert {\n",
              "      background-color: #3B4455;\n",
              "      fill: #D2E3FC;\n",
              "    }\n",
              "\n",
              "    [theme=dark] .colab-df-convert:hover {\n",
              "      background-color: #434B5C;\n",
              "      box-shadow: 0px 1px 3px 1px rgba(0, 0, 0, 0.15);\n",
              "      filter: drop-shadow(0px 1px 2px rgba(0, 0, 0, 0.3));\n",
              "      fill: #FFFFFF;\n",
              "    }\n",
              "  </style>\n",
              "\n",
              "      <script>\n",
              "        const buttonEl =\n",
              "          document.querySelector('#df-eae04d2d-579f-447a-8399-a374b21560a1 button.colab-df-convert');\n",
              "        buttonEl.style.display =\n",
              "          google.colab.kernel.accessAllowed ? 'block' : 'none';\n",
              "\n",
              "        async function convertToInteractive(key) {\n",
              "          const element = document.querySelector('#df-eae04d2d-579f-447a-8399-a374b21560a1');\n",
              "          const dataTable =\n",
              "            await google.colab.kernel.invokeFunction('convertToInteractive',\n",
              "                                                     [key], {});\n",
              "          if (!dataTable) return;\n",
              "\n",
              "          const docLinkHtml = 'Like what you see? Visit the ' +\n",
              "            '<a target=\"_blank\" href=https://colab.research.google.com/notebooks/data_table.ipynb>data table notebook</a>'\n",
              "            + ' to learn more about interactive tables.';\n",
              "          element.innerHTML = '';\n",
              "          dataTable['output_type'] = 'display_data';\n",
              "          await google.colab.output.renderOutput(dataTable, element);\n",
              "          const docLink = document.createElement('div');\n",
              "          docLink.innerHTML = docLinkHtml;\n",
              "          element.appendChild(docLink);\n",
              "        }\n",
              "      </script>\n",
              "    </div>\n",
              "  </div>\n",
              "  "
            ]
          },
          "metadata": {},
          "execution_count": 361
        }
      ]
    },
    {
      "cell_type": "markdown",
      "source": [
        "##Flattening the nested columns"
      ],
      "metadata": {
        "id": "3V4SwoXyd-9u"
      }
    },
    {
      "cell_type": "code",
      "source": [
        "df.belongs_to_collection[0]"
      ],
      "metadata": {
        "colab": {
          "base_uri": "https://localhost:8080/"
        },
        "id": "rIermD_feBrw",
        "outputId": "ed98aab4-59e3-4eca-c68c-8599d8be962b"
      },
      "execution_count": 362,
      "outputs": [
        {
          "output_type": "execute_result",
          "data": {
            "text/plain": [
              "{'id': 10194,\n",
              " 'name': 'Toy Story Collection',\n",
              " 'poster_path': '/7G9915LfUQ2lVfwMEEhDsn3kT4B.jpg',\n",
              " 'backdrop_path': '/9FBwqcd9IRruEDUrTdcaafOMKUq.jpg'}"
            ]
          },
          "metadata": {},
          "execution_count": 362
        }
      ]
    },
    {
      "cell_type": "markdown",
      "source": [
        "###Belongs_to_collection - take only the value of the key 'name'"
      ],
      "metadata": {
        "id": "-jgiBJN-fAFo"
      }
    },
    {
      "cell_type": "code",
      "source": [
        "df.belongs_to_collection = df.belongs_to_collection.apply(lambda x: x['name'] if isinstance(x, dict) else np.nan)"
      ],
      "metadata": {
        "id": "11d9F9LneKB6"
      },
      "execution_count": 363,
      "outputs": []
    },
    {
      "cell_type": "code",
      "source": [
        "df.belongs_to_collection.value_counts(dropna = False).head(10)"
      ],
      "metadata": {
        "colab": {
          "base_uri": "https://localhost:8080/"
        },
        "id": "NDJNKk_Ee2y1",
        "outputId": "5a298a33-91eb-40f0-a1a6-22b6326e9da2"
      },
      "execution_count": 364,
      "outputs": [
        {
          "output_type": "execute_result",
          "data": {
            "text/plain": [
              "NaN                                       40975\n",
              "The Bowery Boys                              29\n",
              "Totò Collection                              27\n",
              "James Bond Collection                        26\n",
              "Zatôichi: The Blind Swordsman                26\n",
              "The Carry On Collection                      25\n",
              "Pokémon Collection                           22\n",
              "Charlie Chan (Sidney Toler) Collection       21\n",
              "Godzilla (Showa) Collection                  16\n",
              "Uuno Turhapuro                               15\n",
              "Name: belongs_to_collection, dtype: int64"
            ]
          },
          "metadata": {},
          "execution_count": 364
        }
      ]
    },
    {
      "cell_type": "markdown",
      "source": [
        "###Genres - join values of keys 'name' with '|'"
      ],
      "metadata": {
        "id": "uz5aTYwGfaii"
      }
    },
    {
      "cell_type": "code",
      "source": [
        "df.genres[0]"
      ],
      "metadata": {
        "colab": {
          "base_uri": "https://localhost:8080/"
        },
        "id": "PkflIIw3fLN0",
        "outputId": "a10fd510-91c2-44c6-fdc7-d931b2d264f9"
      },
      "execution_count": 365,
      "outputs": [
        {
          "output_type": "execute_result",
          "data": {
            "text/plain": [
              "[{'id': 16, 'name': 'Animation'},\n",
              " {'id': 35, 'name': 'Comedy'},\n",
              " {'id': 10751, 'name': 'Family'}]"
            ]
          },
          "metadata": {},
          "execution_count": 365
        }
      ]
    },
    {
      "cell_type": "code",
      "source": [
        "df.genres = df.genres.apply(lambda x: '|'.join(i['name'] for i in x))"
      ],
      "metadata": {
        "id": "t7TamkqXfMav"
      },
      "execution_count": 366,
      "outputs": []
    },
    {
      "cell_type": "code",
      "source": [
        "df.genres[0]"
      ],
      "metadata": {
        "colab": {
          "base_uri": "https://localhost:8080/",
          "height": 35
        },
        "id": "lRff1Bm8fY3G",
        "outputId": "27340219-3360-4c5a-d292-6cbcbf5273c1"
      },
      "execution_count": 367,
      "outputs": [
        {
          "output_type": "execute_result",
          "data": {
            "text/plain": [
              "'Animation|Comedy|Family'"
            ],
            "application/vnd.google.colaboratory.intrinsic+json": {
              "type": "string"
            }
          },
          "metadata": {},
          "execution_count": 367
        }
      ]
    },
    {
      "cell_type": "code",
      "source": [
        "df.genres.value_counts(dropna = False).head(10)"
      ],
      "metadata": {
        "colab": {
          "base_uri": "https://localhost:8080/"
        },
        "id": "AcGvYUbCfaHy",
        "outputId": "02c503ab-9f9f-4cdd-e2c7-0abacd4184d4"
      },
      "execution_count": 368,
      "outputs": [
        {
          "output_type": "execute_result",
          "data": {
            "text/plain": [
              "Drama                   5000\n",
              "Comedy                  3621\n",
              "Documentary             2723\n",
              "                        2442\n",
              "Drama|Romance           1301\n",
              "Comedy|Drama            1135\n",
              "Horror                   974\n",
              "Comedy|Romance           930\n",
              "Comedy|Drama|Romance     593\n",
              "Drama|Comedy             532\n",
              "Name: genres, dtype: int64"
            ]
          },
          "metadata": {},
          "execution_count": 368
        }
      ]
    },
    {
      "cell_type": "markdown",
      "source": [
        "###Replacing empty strings with np.nan"
      ],
      "metadata": {
        "id": "UMnz_2_hgIQm"
      }
    },
    {
      "cell_type": "code",
      "source": [
        "df.genres.replace('', np.nan, inplace = True)"
      ],
      "metadata": {
        "id": "Hiz1BrY0f-VS"
      },
      "execution_count": 369,
      "outputs": []
    },
    {
      "cell_type": "markdown",
      "source": [
        "###Spoken_languages, production_countries, production_companies same as genres"
      ],
      "metadata": {
        "id": "tQj2Nuk5goD-"
      }
    },
    {
      "cell_type": "code",
      "source": [
        "df.spoken_languages"
      ],
      "metadata": {
        "colab": {
          "base_uri": "https://localhost:8080/"
        },
        "id": "oanU0WAhgPET",
        "outputId": "80ba5a13-6e85-492a-c83e-f9f40f9958b7"
      },
      "execution_count": 370,
      "outputs": [
        {
          "output_type": "execute_result",
          "data": {
            "text/plain": [
              "0                 [{'iso_639_1': 'en', 'name': 'English'}]\n",
              "1        [{'iso_639_1': 'en', 'name': 'English'}, {'iso...\n",
              "2                 [{'iso_639_1': 'en', 'name': 'English'}]\n",
              "3                 [{'iso_639_1': 'en', 'name': 'English'}]\n",
              "4                 [{'iso_639_1': 'en', 'name': 'English'}]\n",
              "                               ...                        \n",
              "45461               [{'iso_639_1': 'fa', 'name': 'فارسی'}]\n",
              "45462                    [{'iso_639_1': 'tl', 'name': ''}]\n",
              "45463             [{'iso_639_1': 'en', 'name': 'English'}]\n",
              "45464                                                   []\n",
              "45465             [{'iso_639_1': 'en', 'name': 'English'}]\n",
              "Name: spoken_languages, Length: 45466, dtype: object"
            ]
          },
          "metadata": {},
          "execution_count": 370
        }
      ]
    },
    {
      "cell_type": "code",
      "source": [
        "df.spoken_languages = df.spoken_languages.apply(lambda x: '|'.join(i['name'] for i in x) if isinstance(x, list) else np.nan)"
      ],
      "metadata": {
        "id": "rCpe6mbAgQlM"
      },
      "execution_count": 371,
      "outputs": []
    },
    {
      "cell_type": "code",
      "source": [
        "df.spoken_languages"
      ],
      "metadata": {
        "colab": {
          "base_uri": "https://localhost:8080/"
        },
        "id": "KwuKyyAWgi3U",
        "outputId": "13b712e4-7a90-4644-affb-a658a0a8db3e"
      },
      "execution_count": 372,
      "outputs": [
        {
          "output_type": "execute_result",
          "data": {
            "text/plain": [
              "0                 English\n",
              "1        English|Français\n",
              "2                 English\n",
              "3                 English\n",
              "4                 English\n",
              "               ...       \n",
              "45461               فارسی\n",
              "45462                    \n",
              "45463             English\n",
              "45464                    \n",
              "45465             English\n",
              "Name: spoken_languages, Length: 45466, dtype: object"
            ]
          },
          "metadata": {},
          "execution_count": 372
        }
      ]
    },
    {
      "cell_type": "code",
      "source": [
        "df.spoken_languages.value_counts(dropna = False).head(10)"
      ],
      "metadata": {
        "colab": {
          "base_uri": "https://localhost:8080/"
        },
        "id": "-edKKZlDgkKg",
        "outputId": "6941dc42-f184-4730-a932-69c612ca7bcf"
      },
      "execution_count": 373,
      "outputs": [
        {
          "output_type": "execute_result",
          "data": {
            "text/plain": [
              "English             22395\n",
              "                     3952\n",
              "Français             1853\n",
              "日本語                  1289\n",
              "Italiano             1218\n",
              "Español               902\n",
              "Pусский               807\n",
              "Deutsch               762\n",
              "English|Français      681\n",
              "English|Español       572\n",
              "Name: spoken_languages, dtype: int64"
            ]
          },
          "metadata": {},
          "execution_count": 373
        }
      ]
    },
    {
      "cell_type": "code",
      "source": [
        "df.spoken_languages.replace('', np.nan, inplace = True)"
      ],
      "metadata": {
        "id": "YI0bh5FQgv17"
      },
      "execution_count": 374,
      "outputs": []
    },
    {
      "cell_type": "code",
      "source": [
        "df.production_companies = df.production_companies.apply(lambda x: '|'.join(i['name'] for i in x) if isinstance(x, list) else np.nan)\n",
        "df.production_countries = df.production_countries.apply(lambda x: '|'.join(i['name'] for i in x) if isinstance(x, list) else np.nan)"
      ],
      "metadata": {
        "id": "rbZ6TThgg4oH"
      },
      "execution_count": 375,
      "outputs": []
    },
    {
      "cell_type": "code",
      "source": [
        "df.production_companies.replace('', np.nan, inplace = True)\n",
        "df.production_countries.replace('', np.nan, inplace = True)"
      ],
      "metadata": {
        "id": "FscYh43ahIBd"
      },
      "execution_count": 376,
      "outputs": []
    },
    {
      "cell_type": "markdown",
      "source": [
        "###Number of missing values - isna().sum()"
      ],
      "metadata": {
        "id": "7Z7YMKE1hPwy"
      }
    },
    {
      "cell_type": "code",
      "source": [
        "df.isna().sum()"
      ],
      "metadata": {
        "colab": {
          "base_uri": "https://localhost:8080/"
        },
        "id": "ml1-CkfbhL2_",
        "outputId": "7012ee12-4546-433d-93ac-66d9e3ea4c06"
      },
      "execution_count": 377,
      "outputs": [
        {
          "output_type": "execute_result",
          "data": {
            "text/plain": [
              "belongs_to_collection    40975\n",
              "budget                       0\n",
              "genres                    2442\n",
              "id                           0\n",
              "original_language           11\n",
              "overview                   954\n",
              "popularity                   5\n",
              "poster_path                386\n",
              "production_companies     11881\n",
              "production_countries      6288\n",
              "release_date                87\n",
              "revenue                      6\n",
              "runtime                    263\n",
              "spoken_languages          3958\n",
              "status                      87\n",
              "tagline                  25054\n",
              "title                        6\n",
              "vote_average                 6\n",
              "vote_count                   6\n",
              "dtype: int64"
            ]
          },
          "metadata": {},
          "execution_count": 377
        }
      ]
    },
    {
      "cell_type": "code",
      "source": [
        "pd.read_csv('/content/drive/MyDrive/230222_Master 12 Advanced Projects/Project_03_Materials/movies_metadata.csv', low_memory = False).isna().sum()"
      ],
      "metadata": {
        "colab": {
          "base_uri": "https://localhost:8080/"
        },
        "id": "HI1vv9sYhNQK",
        "outputId": "7416dd4c-d2f9-468c-b5eb-2db9d9be85c6"
      },
      "execution_count": 378,
      "outputs": [
        {
          "output_type": "execute_result",
          "data": {
            "text/plain": [
              "adult                        0\n",
              "belongs_to_collection    40972\n",
              "budget                       0\n",
              "genres                       0\n",
              "homepage                 37684\n",
              "id                           0\n",
              "imdb_id                     17\n",
              "original_language           11\n",
              "original_title               0\n",
              "overview                   954\n",
              "popularity                   5\n",
              "poster_path                386\n",
              "production_companies         3\n",
              "production_countries         3\n",
              "release_date                87\n",
              "revenue                      6\n",
              "runtime                    263\n",
              "spoken_languages             6\n",
              "status                      87\n",
              "tagline                  25054\n",
              "title                        6\n",
              "video                        6\n",
              "vote_average                 6\n",
              "vote_count                   6\n",
              "dtype: int64"
            ]
          },
          "metadata": {},
          "execution_count": 378
        }
      ]
    },
    {
      "cell_type": "markdown",
      "source": [
        "##Handling the numerical columns"
      ],
      "metadata": {
        "id": "w_pnNWvyNony"
      }
    },
    {
      "cell_type": "code",
      "source": [
        "df.info()"
      ],
      "metadata": {
        "id": "J77Wd3vihXiS",
        "colab": {
          "base_uri": "https://localhost:8080/"
        },
        "outputId": "496e54bd-1263-4585-bf0e-1fc86e9548fb"
      },
      "execution_count": 379,
      "outputs": [
        {
          "output_type": "stream",
          "name": "stdout",
          "text": [
            "<class 'pandas.core.frame.DataFrame'>\n",
            "RangeIndex: 45466 entries, 0 to 45465\n",
            "Data columns (total 19 columns):\n",
            " #   Column                 Non-Null Count  Dtype  \n",
            "---  ------                 --------------  -----  \n",
            " 0   belongs_to_collection  4491 non-null   object \n",
            " 1   budget                 45466 non-null  object \n",
            " 2   genres                 43024 non-null  object \n",
            " 3   id                     45466 non-null  object \n",
            " 4   original_language      45455 non-null  object \n",
            " 5   overview               44512 non-null  object \n",
            " 6   popularity             45461 non-null  object \n",
            " 7   poster_path            45080 non-null  object \n",
            " 8   production_companies   33585 non-null  object \n",
            " 9   production_countries   39178 non-null  object \n",
            " 10  release_date           45379 non-null  object \n",
            " 11  revenue                45460 non-null  float64\n",
            " 12  runtime                45203 non-null  float64\n",
            " 13  spoken_languages       41508 non-null  object \n",
            " 14  status                 45379 non-null  object \n",
            " 15  tagline                20412 non-null  object \n",
            " 16  title                  45460 non-null  object \n",
            " 17  vote_average           45460 non-null  float64\n",
            " 18  vote_count             45460 non-null  float64\n",
            "dtypes: float64(4), object(15)\n",
            "memory usage: 6.6+ MB\n"
          ]
        }
      ]
    },
    {
      "cell_type": "code",
      "source": [
        "# df.budget.astype('float')"
      ],
      "metadata": {
        "id": "Dhci_GLkNr0f"
      },
      "execution_count": 380,
      "outputs": []
    },
    {
      "cell_type": "code",
      "source": [
        "# pd.to_numeric(df.budget)"
      ],
      "metadata": {
        "id": "T27LUcZUNtbd"
      },
      "execution_count": 381,
      "outputs": []
    },
    {
      "cell_type": "markdown",
      "source": [
        "###The invalid parsing will be set as NaN - pd.to_numeric()"
      ],
      "metadata": {
        "id": "yb9DOHWsOCw9"
      }
    },
    {
      "cell_type": "code",
      "source": [
        "df.budget = pd.to_numeric(df.budget, errors = 'coerce')"
      ],
      "metadata": {
        "id": "U6SBJLyhN61d"
      },
      "execution_count": 382,
      "outputs": []
    },
    {
      "cell_type": "code",
      "source": [
        "df.budget.value_counts(dropna = False)"
      ],
      "metadata": {
        "colab": {
          "base_uri": "https://localhost:8080/"
        },
        "id": "-CU3KtclOAzl",
        "outputId": "537a0f8e-fc28-442a-dede-f36667ee0b05"
      },
      "execution_count": 383,
      "outputs": [
        {
          "output_type": "execute_result",
          "data": {
            "text/plain": [
              "0.0           36573\n",
              "5000000.0       286\n",
              "10000000.0      259\n",
              "20000000.0      243\n",
              "2000000.0       242\n",
              "              ...  \n",
              "9750000.0         1\n",
              "7275000.0         1\n",
              "78146652.0        1\n",
              "280.0             1\n",
              "1254040.0         1\n",
              "Name: budget, Length: 1224, dtype: int64"
            ]
          },
          "metadata": {},
          "execution_count": 383
        }
      ]
    },
    {
      "cell_type": "markdown",
      "source": [
        "###Replacing zeros with np.nan"
      ],
      "metadata": {
        "id": "0MgEIsEVOYsK"
      }
    },
    {
      "cell_type": "code",
      "source": [
        "df.budget = df.budget.replace(0, np.nan)"
      ],
      "metadata": {
        "id": "S8Fa4iy9OMF9"
      },
      "execution_count": 384,
      "outputs": []
    },
    {
      "cell_type": "markdown",
      "source": [
        "###Displaying values in millions"
      ],
      "metadata": {
        "id": "MdhYSeFVOatL"
      }
    },
    {
      "cell_type": "code",
      "source": [
        "df.budget = df.budget.div(1000000)"
      ],
      "metadata": {
        "id": "-VBepaz9OT-0"
      },
      "execution_count": 385,
      "outputs": []
    },
    {
      "cell_type": "code",
      "source": [
        "df.revenue = df.revenue.replace(0, np.nan)\n",
        "df.revenue = df.revenue.div(1000000)"
      ],
      "metadata": {
        "id": "qP5QTuaKOhP9"
      },
      "execution_count": 386,
      "outputs": []
    },
    {
      "cell_type": "code",
      "source": [
        "df.info()"
      ],
      "metadata": {
        "colab": {
          "base_uri": "https://localhost:8080/"
        },
        "id": "oE95EM3COf_n",
        "outputId": "32ed76ae-312a-4027-a1c7-bc3ecd400b4e"
      },
      "execution_count": 387,
      "outputs": [
        {
          "output_type": "stream",
          "name": "stdout",
          "text": [
            "<class 'pandas.core.frame.DataFrame'>\n",
            "RangeIndex: 45466 entries, 0 to 45465\n",
            "Data columns (total 19 columns):\n",
            " #   Column                 Non-Null Count  Dtype  \n",
            "---  ------                 --------------  -----  \n",
            " 0   belongs_to_collection  4491 non-null   object \n",
            " 1   budget                 8890 non-null   float64\n",
            " 2   genres                 43024 non-null  object \n",
            " 3   id                     45466 non-null  object \n",
            " 4   original_language      45455 non-null  object \n",
            " 5   overview               44512 non-null  object \n",
            " 6   popularity             45461 non-null  object \n",
            " 7   poster_path            45080 non-null  object \n",
            " 8   production_companies   33585 non-null  object \n",
            " 9   production_countries   39178 non-null  object \n",
            " 10  release_date           45379 non-null  object \n",
            " 11  revenue                7408 non-null   float64\n",
            " 12  runtime                45203 non-null  float64\n",
            " 13  spoken_languages       41508 non-null  object \n",
            " 14  status                 45379 non-null  object \n",
            " 15  tagline                20412 non-null  object \n",
            " 16  title                  45460 non-null  object \n",
            " 17  vote_average           45460 non-null  float64\n",
            " 18  vote_count             45460 non-null  float64\n",
            "dtypes: float64(5), object(14)\n",
            "memory usage: 6.6+ MB\n"
          ]
        }
      ]
    },
    {
      "cell_type": "markdown",
      "source": [
        "###Renaming columns"
      ],
      "metadata": {
        "id": "6VLNwgqROxX9"
      }
    },
    {
      "cell_type": "code",
      "source": [
        "df.rename(columns = {'revenue': 'revenue_musd', 'budget': 'budget_musd'}, inplace = True)"
      ],
      "metadata": {
        "id": "D9mTAPGQOpoQ"
      },
      "execution_count": 388,
      "outputs": []
    },
    {
      "cell_type": "code",
      "source": [
        "df.columns"
      ],
      "metadata": {
        "colab": {
          "base_uri": "https://localhost:8080/"
        },
        "id": "56LjThnsO6CZ",
        "outputId": "11139834-9338-41c9-f4dd-90cf47f580d6"
      },
      "execution_count": 389,
      "outputs": [
        {
          "output_type": "execute_result",
          "data": {
            "text/plain": [
              "Index(['belongs_to_collection', 'budget_musd', 'genres', 'id',\n",
              "       'original_language', 'overview', 'popularity', 'poster_path',\n",
              "       'production_companies', 'production_countries', 'release_date',\n",
              "       'revenue_musd', 'runtime', 'spoken_languages', 'status', 'tagline',\n",
              "       'title', 'vote_average', 'vote_count'],\n",
              "      dtype='object')"
            ]
          },
          "metadata": {},
          "execution_count": 389
        }
      ]
    },
    {
      "cell_type": "code",
      "source": [
        "df.runtime.value_counts(dropna = False).head(10)"
      ],
      "metadata": {
        "colab": {
          "base_uri": "https://localhost:8080/"
        },
        "id": "lZKbLN6UO7tb",
        "outputId": "ee050b48-50b6-4f1d-96f8-1810125a9674"
      },
      "execution_count": 390,
      "outputs": [
        {
          "output_type": "execute_result",
          "data": {
            "text/plain": [
              "90.0     2556\n",
              "0.0      1558\n",
              "100.0    1470\n",
              "95.0     1412\n",
              "93.0     1214\n",
              "96.0     1104\n",
              "92.0     1080\n",
              "94.0     1062\n",
              "91.0     1057\n",
              "88.0     1032\n",
              "Name: runtime, dtype: int64"
            ]
          },
          "metadata": {},
          "execution_count": 390
        }
      ]
    },
    {
      "cell_type": "code",
      "source": [
        "df.runtime = df.runtime.replace(0, np.nan)"
      ],
      "metadata": {
        "id": "8BexWQ1OPNZX"
      },
      "execution_count": 391,
      "outputs": []
    },
    {
      "cell_type": "code",
      "source": [
        "# pd.to_numeric(df.id)"
      ],
      "metadata": {
        "id": "X6WA7VlgPRsI"
      },
      "execution_count": 392,
      "outputs": []
    },
    {
      "cell_type": "code",
      "source": [
        "df.id = pd.to_numeric(df.id, errors = 'coerce')"
      ],
      "metadata": {
        "id": "H1GNZHXePUkZ"
      },
      "execution_count": 393,
      "outputs": []
    },
    {
      "cell_type": "code",
      "source": [
        "df.id.value_counts(dropna = False).head(10)"
      ],
      "metadata": {
        "colab": {
          "base_uri": "https://localhost:8080/"
        },
        "id": "1u_K9HXmPbIB",
        "outputId": "11bec72a-7437-400b-8708-241008c980da"
      },
      "execution_count": 394,
      "outputs": [
        {
          "output_type": "execute_result",
          "data": {
            "text/plain": [
              "NaN         3\n",
              "141971.0    3\n",
              "11115.0     2\n",
              "25541.0     2\n",
              "15028.0     2\n",
              "132641.0    2\n",
              "84198.0     2\n",
              "13209.0     2\n",
              "77221.0     2\n",
              "152795.0    2\n",
              "Name: id, dtype: int64"
            ]
          },
          "metadata": {},
          "execution_count": 394
        }
      ]
    },
    {
      "cell_type": "code",
      "source": [
        "df.popularity = pd.to_numeric(df.popularity, errors = 'coerce')"
      ],
      "metadata": {
        "id": "IsN1R17cPeqh"
      },
      "execution_count": 395,
      "outputs": []
    },
    {
      "cell_type": "code",
      "source": [
        "df.popularity.value_counts(dropna = False).head(10)"
      ],
      "metadata": {
        "colab": {
          "base_uri": "https://localhost:8080/"
        },
        "id": "ncInslaXPt1j",
        "outputId": "298c56ef-7096-4053-dfd7-6fc76ed050f4"
      },
      "execution_count": 396,
      "outputs": [
        {
          "output_type": "execute_result",
          "data": {
            "text/plain": [
              "0.000000    66\n",
              "0.000001    56\n",
              "0.000308    43\n",
              "0.000220    40\n",
              "0.000844    38\n",
              "0.000578    38\n",
              "0.001177    38\n",
              "0.002001    28\n",
              "0.003013    21\n",
              "0.001393    19\n",
              "Name: popularity, dtype: int64"
            ]
          },
          "metadata": {},
          "execution_count": 396
        }
      ]
    },
    {
      "cell_type": "code",
      "source": [
        "df.vote_count.value_counts(dropna = False).head(10)"
      ],
      "metadata": {
        "colab": {
          "base_uri": "https://localhost:8080/"
        },
        "id": "_MK017p6PxYc",
        "outputId": "bd3dccae-2b96-4ff8-e824-638d3c3a7792"
      },
      "execution_count": 397,
      "outputs": [
        {
          "output_type": "execute_result",
          "data": {
            "text/plain": [
              "1.0    3264\n",
              "2.0    3132\n",
              "0.0    2899\n",
              "3.0    2787\n",
              "4.0    2480\n",
              "5.0    2097\n",
              "6.0    1747\n",
              "7.0    1570\n",
              "8.0    1359\n",
              "9.0    1194\n",
              "Name: vote_count, dtype: int64"
            ]
          },
          "metadata": {},
          "execution_count": 397
        }
      ]
    },
    {
      "cell_type": "code",
      "source": [
        "df.vote_average.value_counts(dropna = False).head(10)"
      ],
      "metadata": {
        "colab": {
          "base_uri": "https://localhost:8080/"
        },
        "id": "r93VjH2OP1xc",
        "outputId": "3b3136ad-880f-4dc4-c350-8d0dd6dac2d7"
      },
      "execution_count": 398,
      "outputs": [
        {
          "output_type": "execute_result",
          "data": {
            "text/plain": [
              "0.0    2998\n",
              "6.0    2468\n",
              "5.0    2001\n",
              "7.0    1886\n",
              "6.5    1722\n",
              "6.3    1603\n",
              "5.5    1381\n",
              "5.8    1369\n",
              "6.4    1350\n",
              "6.7    1342\n",
              "Name: vote_average, dtype: int64"
            ]
          },
          "metadata": {},
          "execution_count": 398
        }
      ]
    },
    {
      "cell_type": "markdown",
      "source": [
        "###Deleting the value of 0 in vote_average column in the vote_count is equal to 0"
      ],
      "metadata": {
        "id": "BIzBlR1PQBt2"
      }
    },
    {
      "cell_type": "code",
      "source": [
        "df.loc[df.vote_count == 0, 'vote_average'] = np.nan"
      ],
      "metadata": {
        "id": "MW5F1ntYP6aA"
      },
      "execution_count": 399,
      "outputs": []
    },
    {
      "cell_type": "markdown",
      "source": [
        "##Cleaning the datatime columns"
      ],
      "metadata": {
        "id": "AaZJWRCyQjye"
      }
    },
    {
      "cell_type": "code",
      "source": [
        "df.release_date"
      ],
      "metadata": {
        "colab": {
          "base_uri": "https://localhost:8080/"
        },
        "id": "sTfgWGRdQSQx",
        "outputId": "8fe1c1f4-9705-4c8d-887b-5647e4bf565b"
      },
      "execution_count": 400,
      "outputs": [
        {
          "output_type": "execute_result",
          "data": {
            "text/plain": [
              "0        1995-10-30\n",
              "1        1995-12-15\n",
              "2        1995-12-22\n",
              "3        1995-12-22\n",
              "4        1995-02-10\n",
              "            ...    \n",
              "45461           NaN\n",
              "45462    2011-11-17\n",
              "45463    2003-08-01\n",
              "45464    1917-10-21\n",
              "45465    2017-06-09\n",
              "Name: release_date, Length: 45466, dtype: object"
            ]
          },
          "metadata": {},
          "execution_count": 400
        }
      ]
    },
    {
      "cell_type": "code",
      "source": [
        "# pd.to_datetime(df.release_date)"
      ],
      "metadata": {
        "id": "F1As9I5eQoqT"
      },
      "execution_count": 401,
      "outputs": []
    },
    {
      "cell_type": "code",
      "source": [
        "df.release_date = pd.to_datetime(df.release_date, errors = 'coerce')"
      ],
      "metadata": {
        "id": "a3MuoOWbQsQH"
      },
      "execution_count": 402,
      "outputs": []
    },
    {
      "cell_type": "code",
      "source": [
        "df.release_date.value_counts(dropna = False).head(10)"
      ],
      "metadata": {
        "colab": {
          "base_uri": "https://localhost:8080/"
        },
        "id": "UUWN9rKnQMaf",
        "outputId": "f629576f-c833-4d2e-d5f4-ea0d96069361"
      },
      "execution_count": 403,
      "outputs": [
        {
          "output_type": "execute_result",
          "data": {
            "text/plain": [
              "2008-01-01    136\n",
              "2009-01-01    121\n",
              "2007-01-01    118\n",
              "2005-01-01    111\n",
              "2006-01-01    101\n",
              "2002-01-01     96\n",
              "2004-01-01     90\n",
              "NaT            90\n",
              "2001-01-01     84\n",
              "2003-01-01     76\n",
              "Name: release_date, dtype: int64"
            ]
          },
          "metadata": {},
          "execution_count": 403
        }
      ]
    },
    {
      "cell_type": "markdown",
      "source": [
        "##Cleaning the text columns"
      ],
      "metadata": {
        "id": "DoLblKi2RMhz"
      }
    },
    {
      "cell_type": "code",
      "source": [
        "df.original_language.value_counts(dropna = False).head(10)"
      ],
      "metadata": {
        "colab": {
          "base_uri": "https://localhost:8080/"
        },
        "id": "ZLA2pHCBQ3tc",
        "outputId": "905018c4-559d-42d1-b85e-20fef03ec4ed"
      },
      "execution_count": 404,
      "outputs": [
        {
          "output_type": "execute_result",
          "data": {
            "text/plain": [
              "en    32269\n",
              "fr     2438\n",
              "it     1529\n",
              "ja     1350\n",
              "de     1080\n",
              "es      994\n",
              "ru      826\n",
              "hi      508\n",
              "ko      444\n",
              "zh      409\n",
              "Name: original_language, dtype: int64"
            ]
          },
          "metadata": {},
          "execution_count": 404
        }
      ]
    },
    {
      "cell_type": "code",
      "source": [
        "df.overview.value_counts(dropna = False).head(10)"
      ],
      "metadata": {
        "colab": {
          "base_uri": "https://localhost:8080/"
        },
        "id": "xaImcy5aRVba",
        "outputId": "34f0ab5d-b697-46e2-951f-bea2e61d4394"
      },
      "execution_count": 405,
      "outputs": [
        {
          "output_type": "execute_result",
          "data": {
            "text/plain": [
              "NaN                                                                                                                                                                                                                                                                                                                                                                                                                                                                                                                                                                                               954\n",
              "No overview found.                                                                                                                                                                                                                                                                                                                                                                                                                                                                                                                                                                                133\n",
              "No Overview                                                                                                                                                                                                                                                                                                                                                                                                                                                                                                                                                                                         7\n",
              "                                                                                                                                                                                                                                                                                                                                                                                                                                                                                                                                                                                                    5\n",
              "No movie overview available.                                                                                                                                                                                                                                                                                                                                                                                                                                                                                                                                                                        3\n",
              "A few funny little novels about different aspects of life.                                                                                                                                                                                                                                                                                                                                                                                                                                                                                                                                          3\n",
              "Recovering from a nail gun shot to the head and 13 months of coma, doctor Pekka Valinta starts to unravel the mystery of his past, still suffering from total amnesia.                                                                                                                                                                                                                                                                                                                                                                                                                              3\n",
              "King Lear, old and tired, divides his kingdom among his daughters, giving great importance to their protestations of love for him. When Cordelia, youngest and most honest, refuses to idly flatter the old man in return for favor, he banishes her and turns for support to his remaining daughters. But Goneril and Regan have no love for him and instead plot to take all his power from him. In a parallel, Lear's loyal courtier Gloucester favors his illegitimate son Edmund after being told lies about his faithful son Edgar. Madness and tragedy befall both ill-starred fathers.      3\n",
              "Adaptation of the Jane Austen novel.                                                                                                                                                                                                                                                                                                                                                                                                                                                                                                                                                                3\n",
              "Released                                                                                                                                                                                                                                                                                                                                                                                                                                                                                                                                                                                            3\n",
              "Name: overview, dtype: int64"
            ]
          },
          "metadata": {},
          "execution_count": 405
        }
      ]
    },
    {
      "cell_type": "code",
      "source": [
        "no_overview = ['No overview found.', 'No Overview', 'No movie overview available.', 'No overview yet', ' ']\n",
        "\n",
        "for text in no_overview:\n",
        "  df.overview.replace(text, np.nan, inplace = True)"
      ],
      "metadata": {
        "id": "mGqg0KEqRnXR"
      },
      "execution_count": 406,
      "outputs": []
    },
    {
      "cell_type": "code",
      "source": [
        "df.overview.value_counts(dropna = False).head(10)"
      ],
      "metadata": {
        "colab": {
          "base_uri": "https://localhost:8080/"
        },
        "id": "TAjGys7SSEEB",
        "outputId": "1a10dc01-4465-458f-ede0-62b28fa2fc2f"
      },
      "execution_count": 407,
      "outputs": [
        {
          "output_type": "execute_result",
          "data": {
            "text/plain": [
              "NaN                                                                                                                                                                                                                                                                                                                                                                                                                                                                                                                                                                                                                                                   1102\n",
              "Recovering from a nail gun shot to the head and 13 months of coma, doctor Pekka Valinta starts to unravel the mystery of his past, still suffering from total amnesia.                                                                                                                                                                                                                                                                                                                                                                                                                                                                                   3\n",
              "A few funny little novels about different aspects of life.                                                                                                                                                                                                                                                                                                                                                                                                                                                                                                                                                                                               3\n",
              "King Lear, old and tired, divides his kingdom among his daughters, giving great importance to their protestations of love for him. When Cordelia, youngest and most honest, refuses to idly flatter the old man in return for favor, he banishes her and turns for support to his remaining daughters. But Goneril and Regan have no love for him and instead plot to take all his power from him. In a parallel, Lear's loyal courtier Gloucester favors his illegitimate son Edmund after being told lies about his faithful son Edgar. Madness and tragedy befall both ill-starred fathers.                                                           3\n",
              "Released                                                                                                                                                                                                                                                                                                                                                                                                                                                                                                                                                                                                                                                 3\n",
              "Adaptation of the Jane Austen novel.                                                                                                                                                                                                                                                                                                                                                                                                                                                                                                                                                                                                                     3\n",
              "Ten years into a marriage, the wife is disappointed by the husband's lack of financial success, meaning she has to work and can't treat herself and the husband finds the wife slovenly and mean-spirited: she neither cooks not cleans particularly well and is generally disagreeable. In turn, he alternately ignores her and treats her as a servant. Neither is particularly happy, not helped by their unsatisfactory lodgers. The husband is easily seduced by an ex-colleague, a widow with a small child who needs some security, and considers leaving his wife.                                                                               2\n",
              "Since women are banned from soccer matches, Iranian females masquerade as males so they can slip into Tehran's stadium to see the game between Iran and Bahrain. The ones who are caught and arrested are taken to a holding area and guarded by soldiers. One sympathetic soldier agrees to watch the game through a peephole and recount the action to the impatient fans.                                                                                                                                                                                                                                                                             2\n",
              "Winter, 1915. Confined by her family to an asylum in the South of France - where she will never sculpt again - the chronicle of Camille Claudel's reclusive life, as she waits for a visit from her brother, Paul Claudel.                                                                                                                                                                                                                                                                                                                                                                                                                               2\n",
              "Count de Chagnie has discovered Christine's singing talent on a market place and sent her to his friend Carriere, the director of the Parisian opera. However just when she arrives Carriere's dismissed. His arrogant successor refuses to let a woman of low birth sing in his opera, but graciously employs Christine as gadrobiere for his wife Charlotta, who's installed as first singer. He also fights the phantom, an unknown guy who lives since many years in the catacombs below the opera and was granted privileges by Carriere. However the phantom knows how to defend himself and at the same time helps Christine to her career.       2\n",
              "Name: overview, dtype: int64"
            ]
          },
          "metadata": {},
          "execution_count": 407
        }
      ]
    },
    {
      "cell_type": "code",
      "source": [
        "df.tagline.value_counts(dropna = False).head(10)"
      ],
      "metadata": {
        "colab": {
          "base_uri": "https://localhost:8080/"
        },
        "id": "vLy_bxvUSq_i",
        "outputId": "4a58657f-2d29-453b-e4d7-6112f6b5a028"
      },
      "execution_count": 408,
      "outputs": [
        {
          "output_type": "execute_result",
          "data": {
            "text/plain": [
              "NaN                                   25054\n",
              "Based on a true story.                    7\n",
              "Trust no one.                             4\n",
              "Be careful what you wish for.             4\n",
              "-                                         4\n",
              "Classic Albums                            3\n",
              "Some doors should never be opened.        3\n",
              "A Love Story                              3\n",
              "Drama                                     3\n",
              "Know Your Enemy                           3\n",
              "Name: tagline, dtype: int64"
            ]
          },
          "metadata": {},
          "execution_count": 408
        }
      ]
    },
    {
      "cell_type": "code",
      "source": [
        "df.tagline.replace('-', np.nan, inplace = True)"
      ],
      "metadata": {
        "id": "XNJerC3eStfX"
      },
      "execution_count": 409,
      "outputs": []
    },
    {
      "cell_type": "markdown",
      "source": [
        "##Removing duplicates"
      ],
      "metadata": {
        "id": "I6485X35S1Id"
      }
    },
    {
      "cell_type": "markdown",
      "source": [
        "###Display all duplicates - df.duplicated(keep = False)"
      ],
      "metadata": {
        "id": "omQrjtfYS_g_"
      }
    },
    {
      "cell_type": "code",
      "source": [
        "df[df.duplicated(keep = False)].sort_values(by = 'id')"
      ],
      "metadata": {
        "colab": {
          "base_uri": "https://localhost:8080/",
          "height": 1000
        },
        "id": "48kN9DzHSz4n",
        "outputId": "c023a8a2-5a0e-46df-e789-d9d0c1161d2d"
      },
      "execution_count": 410,
      "outputs": [
        {
          "output_type": "execute_result",
          "data": {
            "text/plain": [
              "      belongs_to_collection  budget_musd  \\\n",
              "7345                    NaN          NaN   \n",
              "9165                    NaN          NaN   \n",
              "24844                   NaN          NaN   \n",
              "14012                   NaN          NaN   \n",
              "22151                   NaN          NaN   \n",
              "14000                   NaN          NaN   \n",
              "8068                    NaN          NaN   \n",
              "9327                    NaN          NaN   \n",
              "17229                   NaN          NaN   \n",
              "23044                   NaN          NaN   \n",
              "29374                   NaN          NaN   \n",
              "15702                   NaN          NaN   \n",
              "13946                   NaN          NaN   \n",
              "40276                   NaN          NaN   \n",
              "38871                   NaN          NaN   \n",
              "16167                   NaN          NaN   \n",
              "676                     NaN          NaN   \n",
              "1465                    NaN          NaN   \n",
              "19890                   NaN          NaN   \n",
              "21165                   NaN          NaN   \n",
              "13375                   NaN          NaN   \n",
              "13261                   NaN          NaN   \n",
              "16764                   NaN          NaN   \n",
              "19925                   NaN          NaN   \n",
              "21854                   NaN          NaN   \n",
              "13220          Why We Fight          NaN   \n",
              "35798          Why We Fight          NaN   \n",
              "13603                   NaN          NaN   \n",
              "28860                   NaN          NaN   \n",
              "24164                   NaN          NaN   \n",
              "45265                   NaN          NaN   \n",
              "33184                   NaN         0.98   \n",
              "40040                   NaN         0.98   \n",
              "\n",
              "                                         genres        id original_language  \\\n",
              "7345                       Crime|Drama|Thriller    5511.0                fr   \n",
              "9165                       Crime|Drama|Thriller    5511.0                fr   \n",
              "24844                              Comedy|Drama   11115.0                en   \n",
              "14012                              Comedy|Drama   11115.0                en   \n",
              "22151             Action|Horror|Science Fiction   18440.0                en   \n",
              "14000             Action|Horror|Science Fiction   18440.0                en   \n",
              "8068   Adventure|Animation|Drama|Action|Foreign   23305.0                en   \n",
              "9327   Adventure|Animation|Drama|Action|Foreign   23305.0                en   \n",
              "17229                                     Drama   25541.0                da   \n",
              "23044                                     Drama   25541.0                da   \n",
              "29374                             Drama|Foreign   42495.0                en   \n",
              "15702                             Drama|Foreign   42495.0                en   \n",
              "13946                                    Comedy   97995.0                en   \n",
              "40276                                    Comedy   97995.0                en   \n",
              "38871            Action|Drama|Romance|Adventure   99080.0                en   \n",
              "16167            Action|Drama|Romance|Adventure   99080.0                en   \n",
              "676                               Drama|Romance  105045.0                de   \n",
              "1465                              Drama|Romance  105045.0                de   \n",
              "19890             Fantasy|Drama|Science Fiction  119916.0                en   \n",
              "21165             Fantasy|Drama|Science Fiction  119916.0                en   \n",
              "13375                          Thriller|Mystery  141971.0                fi   \n",
              "13261                          Thriller|Mystery  141971.0                fi   \n",
              "16764                          Thriller|Mystery  141971.0                fi   \n",
              "19925           Drama|Science Fiction|Animation  152795.0                en   \n",
              "21854           Drama|Science Fiction|Animation  152795.0                en   \n",
              "13220                               Documentary  159849.0                en   \n",
              "35798                               Documentary  159849.0                en   \n",
              "13603                              Drama|Comedy  168538.0                en   \n",
              "28860                              Drama|Comedy  168538.0                en   \n",
              "24164                              Comedy|Drama  265189.0                sv   \n",
              "45265                              Comedy|Drama  265189.0                sv   \n",
              "33184                             Drama|Fantasy  298721.0                th   \n",
              "40040                             Drama|Fantasy  298721.0                th   \n",
              "\n",
              "                                                overview  popularity  \\\n",
              "7345   Hitman Jef Costello is a perfectionist who alw...    9.091288   \n",
              "9165   Hitman Jef Costello is a perfectionist who alw...    9.091288   \n",
              "24844  As an ex-gambler teaches a hot-shot college ki...    6.880365   \n",
              "14012  As an ex-gambler teaches a hot-shot college ki...    6.880365   \n",
              "22151  When a comet strikes Earth and kicks up a clou...    1.436085   \n",
              "14000  When a comet strikes Earth and kicks up a clou...    1.436085   \n",
              "8068   In feudal India, a warrior (Khan) who renounce...    1.967992   \n",
              "9327   In feudal India, a warrior (Khan) who renounce...    1.967992   \n",
              "17229  Former Danish servicemen Lars and Jimmy are th...    2.587911   \n",
              "23044  Former Danish servicemen Lars and Jimmy are th...    2.587911   \n",
              "29374  King Lear, old and tired, divides his kingdom ...    0.187901   \n",
              "15702  King Lear, old and tired, divides his kingdom ...    0.187901   \n",
              "13946  After breaking a mirror in his home, superstit...    0.141558   \n",
              "40276  After breaking a mirror in his home, superstit...    0.141558   \n",
              "38871  Originally called White Thunder, American prod...    0.002362   \n",
              "16167  Originally called White Thunder, American prod...    0.002362   \n",
              "676    East-Berlin, 1961, shortly after the erection ...    0.122178   \n",
              "1465   East-Berlin, 1961, shortly after the erection ...    0.122178   \n",
              "19890  Prospero, the true Duke of Milan is now living...    0.000018   \n",
              "21165  Prospero, the true Duke of Milan is now living...    0.000018   \n",
              "13375  Recovering from a nail gun shot to the head an...    0.411949   \n",
              "13261  Recovering from a nail gun shot to the head an...    0.411949   \n",
              "16764  Recovering from a nail gun shot to the head an...    0.411949   \n",
              "19925  More than two decades after catapulting to sta...    8.534039   \n",
              "21854  More than two decades after catapulting to sta...    8.534039   \n",
              "13220  The third film of Frank Capra's 'Why We Fight\"...    0.473322   \n",
              "35798  The third film of Frank Capra's 'Why We Fight\"...    0.473322   \n",
              "13603  In Zola's Paris, an ingenue arrives at a tony ...    1.276602   \n",
              "28860  In Zola's Paris, an ingenue arrives at a tony ...    1.276602   \n",
              "24164  While holidaying in the French Alps, a Swedish...   12.165685   \n",
              "45265  While holidaying in the French Alps, a Swedish...   12.165685   \n",
              "33184  In a hospital, ten soldiers are being treated ...    2.535419   \n",
              "40040  In a hospital, ten soldiers are being treated ...    2.535419   \n",
              "\n",
              "                            poster_path  \\\n",
              "7345   /cvNW8IXigbaMNo4gKEIps0NGnhA.jpg   \n",
              "9165   /cvNW8IXigbaMNo4gKEIps0NGnhA.jpg   \n",
              "24844  /kHaBqrrozaG7rj6GJg3sUCiM29B.jpg   \n",
              "14012  /kHaBqrrozaG7rj6GJg3sUCiM29B.jpg   \n",
              "22151  /tWCyKXHuSrQdLAvNeeVJBnhf1Yv.jpg   \n",
              "14000  /tWCyKXHuSrQdLAvNeeVJBnhf1Yv.jpg   \n",
              "8068   /9GlrmbZO7VGyqhaSR1utinRJz3L.jpg   \n",
              "9327   /9GlrmbZO7VGyqhaSR1utinRJz3L.jpg   \n",
              "17229  /q19Q5BRZpMXoNCA4OYodVozfjUh.jpg   \n",
              "23044  /q19Q5BRZpMXoNCA4OYodVozfjUh.jpg   \n",
              "29374  /xuE1IlUCohbxMY0fiqKTT6d013n.jpg   \n",
              "15702  /xuE1IlUCohbxMY0fiqKTT6d013n.jpg   \n",
              "13946  /4J6Ai4C5YRgfRUTlirrJ7QsmJKU.jpg   \n",
              "40276  /4J6Ai4C5YRgfRUTlirrJ7QsmJKU.jpg   \n",
              "38871  /qenjwRvW9itR5pVp4CBkYfhVAOp.jpg   \n",
              "16167  /qenjwRvW9itR5pVp4CBkYfhVAOp.jpg   \n",
              "676    /5WFIrBhOOgc0jGmoLxMZwWqCctO.jpg   \n",
              "1465   /5WFIrBhOOgc0jGmoLxMZwWqCctO.jpg   \n",
              "19890  /gLVRTxaLtUDkfscFKPyYrCtRnTk.jpg   \n",
              "21165  /gLVRTxaLtUDkfscFKPyYrCtRnTk.jpg   \n",
              "13375  /8VSZ9coCzxOCW2wE2Qene1H1fKO.jpg   \n",
              "13261  /8VSZ9coCzxOCW2wE2Qene1H1fKO.jpg   \n",
              "16764  /8VSZ9coCzxOCW2wE2Qene1H1fKO.jpg   \n",
              "19925  /nnKX3ahYoT7P3au92dNgLf4pKwA.jpg   \n",
              "21854  /nnKX3ahYoT7P3au92dNgLf4pKwA.jpg   \n",
              "13220  /g21ruZZ3BZeUDuKMb82kejjtufk.jpg   \n",
              "35798  /g21ruZZ3BZeUDuKMb82kejjtufk.jpg   \n",
              "13603  /pg4PUHRFrgNfACHSh5MITQ2gYch.jpg   \n",
              "28860  /pg4PUHRFrgNfACHSh5MITQ2gYch.jpg   \n",
              "24164  /rGMtc9AtZsnWSSL5VnLaGvx1PI6.jpg   \n",
              "45265  /rGMtc9AtZsnWSSL5VnLaGvx1PI6.jpg   \n",
              "33184  /5GasjPRAy5rlEyDOH7MeOyxyQGX.jpg   \n",
              "40040  /5GasjPRAy5rlEyDOH7MeOyxyQGX.jpg   \n",
              "\n",
              "                                    production_companies  \\\n",
              "7345   Fida cinematografica|Compagnie Industrielle et...   \n",
              "9165   Fida cinematografica|Compagnie Industrielle et...   \n",
              "24844  Andertainment Group|Crescent City Pictures|Tag...   \n",
              "14012  Andertainment Group|Crescent City Pictures|Tag...   \n",
              "22151                                                NaN   \n",
              "14000                                                NaN   \n",
              "8068                                            Filmfour   \n",
              "9327                                            Filmfour   \n",
              "17229                                                NaN   \n",
              "23044                                                NaN   \n",
              "29374  Royal Shakespeare Company|Laterna Film|Athena ...   \n",
              "15702  Royal Shakespeare Company|Laterna Film|Athena ...   \n",
              "13946                             Max Linder Productions   \n",
              "40276                             Max Linder Productions   \n",
              "38871                                                NaN   \n",
              "16167                                                NaN   \n",
              "676    Studio Babelsberg|Centre National de la Cinéma...   \n",
              "1465   Studio Babelsberg|Centre National de la Cinéma...   \n",
              "19890                                                NaN   \n",
              "21165                                                NaN   \n",
              "13375                               Filmiteollisuus Fine   \n",
              "13261                               Filmiteollisuus Fine   \n",
              "16764                               Filmiteollisuus Fine   \n",
              "19925  Pandora Filmproduktion|Entre Chien et Loup|Opu...   \n",
              "21854  Pandora Filmproduktion|Entre Chien et Loup|Opu...   \n",
              "13220                                                NaN   \n",
              "35798                                                NaN   \n",
              "13603             Cannon Group|Metro-Goldwyn-Mayer (MGM)   \n",
              "28860             Cannon Group|Metro-Goldwyn-Mayer (MGM)   \n",
              "24164             Motlys|Coproduction Office|Film i Väst   \n",
              "45265             Motlys|Coproduction Office|Film i Väst   \n",
              "33184  Match Factory, The|Louverture Films|Tordenfilm...   \n",
              "40040  Match Factory, The|Louverture Films|Tordenfilm...   \n",
              "\n",
              "                                    production_countries release_date  \\\n",
              "7345                                        France|Italy   1967-10-25   \n",
              "9165                                        France|Italy   1967-10-25   \n",
              "24844                           United States of America   2008-01-29   \n",
              "14012                           United States of America   2008-01-29   \n",
              "22151                           United States of America   2007-01-01   \n",
              "14000                           United States of America   2007-01-01   \n",
              "8068                 France|Germany|India|United Kingdom   2001-09-23   \n",
              "9327                 France|Germany|India|United Kingdom   2001-09-23   \n",
              "17229                                     Sweden|Denmark   2009-10-21   \n",
              "23044                                     Sweden|Denmark   2009-10-21   \n",
              "29374                             Denmark|United Kingdom   1971-02-04   \n",
              "15702                             Denmark|United Kingdom   1971-02-04   \n",
              "13946                           United States of America   1921-02-06   \n",
              "40276                           United States of America   1921-02-06   \n",
              "38871                                                NaN   1931-06-21   \n",
              "16167                                                NaN   1931-06-21   \n",
              "676                                              Germany   1995-02-16   \n",
              "1465                                             Germany   1995-02-16   \n",
              "19890                                                NaN   1980-02-27   \n",
              "21165                                                NaN   1980-02-27   \n",
              "13375                                            Finland   2008-12-26   \n",
              "13261                                            Finland   2008-12-26   \n",
              "16764                                            Finland   2008-12-26   \n",
              "19925    Belgium|France|Germany|Israel|Luxembourg|Poland   2013-05-16   \n",
              "21854    Belgium|France|Germany|Israel|Luxembourg|Poland   2013-05-16   \n",
              "13220                           United States of America   1943-01-01   \n",
              "35798                           United States of America   1943-01-01   \n",
              "13603                                                NaN   1983-06-13   \n",
              "28860                                                NaN   1983-06-13   \n",
              "24164                               Norway|Sweden|France   2014-08-15   \n",
              "45265                               Norway|Sweden|France   2014-08-15   \n",
              "33184  United Kingdom|United States of America|France...   2015-09-02   \n",
              "40040  United Kingdom|United States of America|France...   2015-09-02   \n",
              "\n",
              "       revenue_musd  runtime                spoken_languages    status  \\\n",
              "7345       0.039481    105.0                        Français  Released   \n",
              "9165       0.039481    105.0                        Français  Released   \n",
              "24844           NaN     85.0                         English  Released   \n",
              "14012           NaN     85.0                         English  Released   \n",
              "22151           NaN     89.0                         English  Released   \n",
              "14000           NaN     89.0                         English  Released   \n",
              "8068            NaN     86.0                          हिन्दी  Released   \n",
              "9327            NaN     86.0                          हिन्दी  Released   \n",
              "17229           NaN     90.0                           Dansk  Released   \n",
              "23044           NaN     90.0                           Dansk  Released   \n",
              "29374           NaN    137.0                         English   Rumored   \n",
              "15702           NaN    137.0                         English   Rumored   \n",
              "13946           NaN     62.0                         English  Released   \n",
              "40276           NaN     62.0                         English  Released   \n",
              "38871           NaN     70.0                         English  Released   \n",
              "16167           NaN     70.0                         English  Released   \n",
              "676             NaN    115.0                         Deutsch  Released   \n",
              "1465            NaN    115.0                         Deutsch  Released   \n",
              "19890           NaN    123.0                             NaN  Released   \n",
              "21165           NaN    123.0                             NaN  Released   \n",
              "13375           NaN    108.0                           suomi  Released   \n",
              "13261           NaN    108.0                           suomi  Released   \n",
              "16764           NaN    108.0                           suomi  Released   \n",
              "19925      0.455815    122.0                         English  Released   \n",
              "21854      0.455815    122.0                         English  Released   \n",
              "13220           NaN     57.0                         English  Released   \n",
              "35798           NaN     57.0                         English  Released   \n",
              "13603           NaN     92.0                             NaN  Released   \n",
              "28860           NaN     92.0                             NaN  Released   \n",
              "24164      1.359497    118.0  Français|Norsk|svenska|English  Released   \n",
              "45265      1.359497    118.0  Français|Norsk|svenska|English  Released   \n",
              "33184           NaN    122.0                 English|ภาษาไทย  Released   \n",
              "40040           NaN    122.0                 English|ภาษาไทย  Released   \n",
              "\n",
              "                                                 tagline  \\\n",
              "7345   There is no solitude greater than that of the ...   \n",
              "9165   There is no solitude greater than that of the ...   \n",
              "24844                                                NaN   \n",
              "14012                                                NaN   \n",
              "22151                                                NaN   \n",
              "14000                                                NaN   \n",
              "8068                                                 NaN   \n",
              "9327                                                 NaN   \n",
              "17229                                                NaN   \n",
              "23044                                                NaN   \n",
              "29374                                                NaN   \n",
              "15702                                                NaN   \n",
              "13946                                                NaN   \n",
              "40276                                                NaN   \n",
              "38871  Actually produced during the Great Newfoundlan...   \n",
              "16167  Actually produced during the Great Newfoundlan...   \n",
              "676                              A love, a hope, a wall.   \n",
              "1465                             A love, a hope, a wall.   \n",
              "19890                                                NaN   \n",
              "21165                                                NaN   \n",
              "13375  Which one is the first to return - memory or t...   \n",
              "13261  Which one is the first to return - memory or t...   \n",
              "16764  Which one is the first to return - memory or t...   \n",
              "19925                                                NaN   \n",
              "21854                                                NaN   \n",
              "13220                                                NaN   \n",
              "35798                                                NaN   \n",
              "13603                                                NaN   \n",
              "28860                                                NaN   \n",
              "24164                                                NaN   \n",
              "45265                                                NaN   \n",
              "33184                                                NaN   \n",
              "40040                                                NaN   \n",
              "\n",
              "                                  title  vote_average  vote_count  \n",
              "7345                        Le Samouraï           7.9       187.0  \n",
              "9165                        Le Samouraï           7.9       187.0  \n",
              "24844                              Deal           5.2        22.0  \n",
              "14012                              Deal           5.2        22.0  \n",
              "22151                  Days of Darkness           5.0         5.0  \n",
              "14000                  Days of Darkness           5.0         5.0  \n",
              "8068                        The Warrior           6.3        15.0  \n",
              "9327                        The Warrior           6.3        15.0  \n",
              "17229                       Brotherhood           7.1        21.0  \n",
              "23044                       Brotherhood           7.1        21.0  \n",
              "29374                         King Lear           8.0         3.0  \n",
              "15702                         King Lear           8.0         3.0  \n",
              "13946              Seven Years Bad Luck           5.6         4.0  \n",
              "40276              Seven Years Bad Luck           5.6         4.0  \n",
              "38871                        The Viking           NaN         0.0  \n",
              "16167                        The Viking           NaN         0.0  \n",
              "676                         The Promise           5.0         1.0  \n",
              "1465                        The Promise           5.0         1.0  \n",
              "19890                       The Tempest           NaN         0.0  \n",
              "21165                       The Tempest           NaN         0.0  \n",
              "13375                          Blackout           6.7         3.0  \n",
              "13261                          Blackout           6.7         3.0  \n",
              "16764                          Blackout           6.7         3.0  \n",
              "19925                      The Congress           6.4       165.0  \n",
              "21854                      The Congress           6.4       165.0  \n",
              "13220  Why We Fight: Divide and Conquer           5.0         1.0  \n",
              "35798  Why We Fight: Divide and Conquer           5.0         1.0  \n",
              "13603    Nana, the True Key of Pleasure           4.7         3.0  \n",
              "28860    Nana, the True Key of Pleasure           4.7         3.0  \n",
              "24164                     Force Majeure           6.8       255.0  \n",
              "45265                     Force Majeure           6.8       255.0  \n",
              "33184             Cemetery of Splendour           4.4        50.0  \n",
              "40040             Cemetery of Splendour           4.4        50.0  "
            ],
            "text/html": [
              "\n",
              "  <div id=\"df-dacd96de-666f-4f59-8b67-45a7d353af01\">\n",
              "    <div class=\"colab-df-container\">\n",
              "      <div>\n",
              "<style scoped>\n",
              "    .dataframe tbody tr th:only-of-type {\n",
              "        vertical-align: middle;\n",
              "    }\n",
              "\n",
              "    .dataframe tbody tr th {\n",
              "        vertical-align: top;\n",
              "    }\n",
              "\n",
              "    .dataframe thead th {\n",
              "        text-align: right;\n",
              "    }\n",
              "</style>\n",
              "<table border=\"1\" class=\"dataframe\">\n",
              "  <thead>\n",
              "    <tr style=\"text-align: right;\">\n",
              "      <th></th>\n",
              "      <th>belongs_to_collection</th>\n",
              "      <th>budget_musd</th>\n",
              "      <th>genres</th>\n",
              "      <th>id</th>\n",
              "      <th>original_language</th>\n",
              "      <th>overview</th>\n",
              "      <th>popularity</th>\n",
              "      <th>poster_path</th>\n",
              "      <th>production_companies</th>\n",
              "      <th>production_countries</th>\n",
              "      <th>release_date</th>\n",
              "      <th>revenue_musd</th>\n",
              "      <th>runtime</th>\n",
              "      <th>spoken_languages</th>\n",
              "      <th>status</th>\n",
              "      <th>tagline</th>\n",
              "      <th>title</th>\n",
              "      <th>vote_average</th>\n",
              "      <th>vote_count</th>\n",
              "    </tr>\n",
              "  </thead>\n",
              "  <tbody>\n",
              "    <tr>\n",
              "      <th>7345</th>\n",
              "      <td>NaN</td>\n",
              "      <td>NaN</td>\n",
              "      <td>Crime|Drama|Thriller</td>\n",
              "      <td>5511.0</td>\n",
              "      <td>fr</td>\n",
              "      <td>Hitman Jef Costello is a perfectionist who alw...</td>\n",
              "      <td>9.091288</td>\n",
              "      <td>/cvNW8IXigbaMNo4gKEIps0NGnhA.jpg</td>\n",
              "      <td>Fida cinematografica|Compagnie Industrielle et...</td>\n",
              "      <td>France|Italy</td>\n",
              "      <td>1967-10-25</td>\n",
              "      <td>0.039481</td>\n",
              "      <td>105.0</td>\n",
              "      <td>Français</td>\n",
              "      <td>Released</td>\n",
              "      <td>There is no solitude greater than that of the ...</td>\n",
              "      <td>Le Samouraï</td>\n",
              "      <td>7.9</td>\n",
              "      <td>187.0</td>\n",
              "    </tr>\n",
              "    <tr>\n",
              "      <th>9165</th>\n",
              "      <td>NaN</td>\n",
              "      <td>NaN</td>\n",
              "      <td>Crime|Drama|Thriller</td>\n",
              "      <td>5511.0</td>\n",
              "      <td>fr</td>\n",
              "      <td>Hitman Jef Costello is a perfectionist who alw...</td>\n",
              "      <td>9.091288</td>\n",
              "      <td>/cvNW8IXigbaMNo4gKEIps0NGnhA.jpg</td>\n",
              "      <td>Fida cinematografica|Compagnie Industrielle et...</td>\n",
              "      <td>France|Italy</td>\n",
              "      <td>1967-10-25</td>\n",
              "      <td>0.039481</td>\n",
              "      <td>105.0</td>\n",
              "      <td>Français</td>\n",
              "      <td>Released</td>\n",
              "      <td>There is no solitude greater than that of the ...</td>\n",
              "      <td>Le Samouraï</td>\n",
              "      <td>7.9</td>\n",
              "      <td>187.0</td>\n",
              "    </tr>\n",
              "    <tr>\n",
              "      <th>24844</th>\n",
              "      <td>NaN</td>\n",
              "      <td>NaN</td>\n",
              "      <td>Comedy|Drama</td>\n",
              "      <td>11115.0</td>\n",
              "      <td>en</td>\n",
              "      <td>As an ex-gambler teaches a hot-shot college ki...</td>\n",
              "      <td>6.880365</td>\n",
              "      <td>/kHaBqrrozaG7rj6GJg3sUCiM29B.jpg</td>\n",
              "      <td>Andertainment Group|Crescent City Pictures|Tag...</td>\n",
              "      <td>United States of America</td>\n",
              "      <td>2008-01-29</td>\n",
              "      <td>NaN</td>\n",
              "      <td>85.0</td>\n",
              "      <td>English</td>\n",
              "      <td>Released</td>\n",
              "      <td>NaN</td>\n",
              "      <td>Deal</td>\n",
              "      <td>5.2</td>\n",
              "      <td>22.0</td>\n",
              "    </tr>\n",
              "    <tr>\n",
              "      <th>14012</th>\n",
              "      <td>NaN</td>\n",
              "      <td>NaN</td>\n",
              "      <td>Comedy|Drama</td>\n",
              "      <td>11115.0</td>\n",
              "      <td>en</td>\n",
              "      <td>As an ex-gambler teaches a hot-shot college ki...</td>\n",
              "      <td>6.880365</td>\n",
              "      <td>/kHaBqrrozaG7rj6GJg3sUCiM29B.jpg</td>\n",
              "      <td>Andertainment Group|Crescent City Pictures|Tag...</td>\n",
              "      <td>United States of America</td>\n",
              "      <td>2008-01-29</td>\n",
              "      <td>NaN</td>\n",
              "      <td>85.0</td>\n",
              "      <td>English</td>\n",
              "      <td>Released</td>\n",
              "      <td>NaN</td>\n",
              "      <td>Deal</td>\n",
              "      <td>5.2</td>\n",
              "      <td>22.0</td>\n",
              "    </tr>\n",
              "    <tr>\n",
              "      <th>22151</th>\n",
              "      <td>NaN</td>\n",
              "      <td>NaN</td>\n",
              "      <td>Action|Horror|Science Fiction</td>\n",
              "      <td>18440.0</td>\n",
              "      <td>en</td>\n",
              "      <td>When a comet strikes Earth and kicks up a clou...</td>\n",
              "      <td>1.436085</td>\n",
              "      <td>/tWCyKXHuSrQdLAvNeeVJBnhf1Yv.jpg</td>\n",
              "      <td>NaN</td>\n",
              "      <td>United States of America</td>\n",
              "      <td>2007-01-01</td>\n",
              "      <td>NaN</td>\n",
              "      <td>89.0</td>\n",
              "      <td>English</td>\n",
              "      <td>Released</td>\n",
              "      <td>NaN</td>\n",
              "      <td>Days of Darkness</td>\n",
              "      <td>5.0</td>\n",
              "      <td>5.0</td>\n",
              "    </tr>\n",
              "    <tr>\n",
              "      <th>14000</th>\n",
              "      <td>NaN</td>\n",
              "      <td>NaN</td>\n",
              "      <td>Action|Horror|Science Fiction</td>\n",
              "      <td>18440.0</td>\n",
              "      <td>en</td>\n",
              "      <td>When a comet strikes Earth and kicks up a clou...</td>\n",
              "      <td>1.436085</td>\n",
              "      <td>/tWCyKXHuSrQdLAvNeeVJBnhf1Yv.jpg</td>\n",
              "      <td>NaN</td>\n",
              "      <td>United States of America</td>\n",
              "      <td>2007-01-01</td>\n",
              "      <td>NaN</td>\n",
              "      <td>89.0</td>\n",
              "      <td>English</td>\n",
              "      <td>Released</td>\n",
              "      <td>NaN</td>\n",
              "      <td>Days of Darkness</td>\n",
              "      <td>5.0</td>\n",
              "      <td>5.0</td>\n",
              "    </tr>\n",
              "    <tr>\n",
              "      <th>8068</th>\n",
              "      <td>NaN</td>\n",
              "      <td>NaN</td>\n",
              "      <td>Adventure|Animation|Drama|Action|Foreign</td>\n",
              "      <td>23305.0</td>\n",
              "      <td>en</td>\n",
              "      <td>In feudal India, a warrior (Khan) who renounce...</td>\n",
              "      <td>1.967992</td>\n",
              "      <td>/9GlrmbZO7VGyqhaSR1utinRJz3L.jpg</td>\n",
              "      <td>Filmfour</td>\n",
              "      <td>France|Germany|India|United Kingdom</td>\n",
              "      <td>2001-09-23</td>\n",
              "      <td>NaN</td>\n",
              "      <td>86.0</td>\n",
              "      <td>हिन्दी</td>\n",
              "      <td>Released</td>\n",
              "      <td>NaN</td>\n",
              "      <td>The Warrior</td>\n",
              "      <td>6.3</td>\n",
              "      <td>15.0</td>\n",
              "    </tr>\n",
              "    <tr>\n",
              "      <th>9327</th>\n",
              "      <td>NaN</td>\n",
              "      <td>NaN</td>\n",
              "      <td>Adventure|Animation|Drama|Action|Foreign</td>\n",
              "      <td>23305.0</td>\n",
              "      <td>en</td>\n",
              "      <td>In feudal India, a warrior (Khan) who renounce...</td>\n",
              "      <td>1.967992</td>\n",
              "      <td>/9GlrmbZO7VGyqhaSR1utinRJz3L.jpg</td>\n",
              "      <td>Filmfour</td>\n",
              "      <td>France|Germany|India|United Kingdom</td>\n",
              "      <td>2001-09-23</td>\n",
              "      <td>NaN</td>\n",
              "      <td>86.0</td>\n",
              "      <td>हिन्दी</td>\n",
              "      <td>Released</td>\n",
              "      <td>NaN</td>\n",
              "      <td>The Warrior</td>\n",
              "      <td>6.3</td>\n",
              "      <td>15.0</td>\n",
              "    </tr>\n",
              "    <tr>\n",
              "      <th>17229</th>\n",
              "      <td>NaN</td>\n",
              "      <td>NaN</td>\n",
              "      <td>Drama</td>\n",
              "      <td>25541.0</td>\n",
              "      <td>da</td>\n",
              "      <td>Former Danish servicemen Lars and Jimmy are th...</td>\n",
              "      <td>2.587911</td>\n",
              "      <td>/q19Q5BRZpMXoNCA4OYodVozfjUh.jpg</td>\n",
              "      <td>NaN</td>\n",
              "      <td>Sweden|Denmark</td>\n",
              "      <td>2009-10-21</td>\n",
              "      <td>NaN</td>\n",
              "      <td>90.0</td>\n",
              "      <td>Dansk</td>\n",
              "      <td>Released</td>\n",
              "      <td>NaN</td>\n",
              "      <td>Brotherhood</td>\n",
              "      <td>7.1</td>\n",
              "      <td>21.0</td>\n",
              "    </tr>\n",
              "    <tr>\n",
              "      <th>23044</th>\n",
              "      <td>NaN</td>\n",
              "      <td>NaN</td>\n",
              "      <td>Drama</td>\n",
              "      <td>25541.0</td>\n",
              "      <td>da</td>\n",
              "      <td>Former Danish servicemen Lars and Jimmy are th...</td>\n",
              "      <td>2.587911</td>\n",
              "      <td>/q19Q5BRZpMXoNCA4OYodVozfjUh.jpg</td>\n",
              "      <td>NaN</td>\n",
              "      <td>Sweden|Denmark</td>\n",
              "      <td>2009-10-21</td>\n",
              "      <td>NaN</td>\n",
              "      <td>90.0</td>\n",
              "      <td>Dansk</td>\n",
              "      <td>Released</td>\n",
              "      <td>NaN</td>\n",
              "      <td>Brotherhood</td>\n",
              "      <td>7.1</td>\n",
              "      <td>21.0</td>\n",
              "    </tr>\n",
              "    <tr>\n",
              "      <th>29374</th>\n",
              "      <td>NaN</td>\n",
              "      <td>NaN</td>\n",
              "      <td>Drama|Foreign</td>\n",
              "      <td>42495.0</td>\n",
              "      <td>en</td>\n",
              "      <td>King Lear, old and tired, divides his kingdom ...</td>\n",
              "      <td>0.187901</td>\n",
              "      <td>/xuE1IlUCohbxMY0fiqKTT6d013n.jpg</td>\n",
              "      <td>Royal Shakespeare Company|Laterna Film|Athena ...</td>\n",
              "      <td>Denmark|United Kingdom</td>\n",
              "      <td>1971-02-04</td>\n",
              "      <td>NaN</td>\n",
              "      <td>137.0</td>\n",
              "      <td>English</td>\n",
              "      <td>Rumored</td>\n",
              "      <td>NaN</td>\n",
              "      <td>King Lear</td>\n",
              "      <td>8.0</td>\n",
              "      <td>3.0</td>\n",
              "    </tr>\n",
              "    <tr>\n",
              "      <th>15702</th>\n",
              "      <td>NaN</td>\n",
              "      <td>NaN</td>\n",
              "      <td>Drama|Foreign</td>\n",
              "      <td>42495.0</td>\n",
              "      <td>en</td>\n",
              "      <td>King Lear, old and tired, divides his kingdom ...</td>\n",
              "      <td>0.187901</td>\n",
              "      <td>/xuE1IlUCohbxMY0fiqKTT6d013n.jpg</td>\n",
              "      <td>Royal Shakespeare Company|Laterna Film|Athena ...</td>\n",
              "      <td>Denmark|United Kingdom</td>\n",
              "      <td>1971-02-04</td>\n",
              "      <td>NaN</td>\n",
              "      <td>137.0</td>\n",
              "      <td>English</td>\n",
              "      <td>Rumored</td>\n",
              "      <td>NaN</td>\n",
              "      <td>King Lear</td>\n",
              "      <td>8.0</td>\n",
              "      <td>3.0</td>\n",
              "    </tr>\n",
              "    <tr>\n",
              "      <th>13946</th>\n",
              "      <td>NaN</td>\n",
              "      <td>NaN</td>\n",
              "      <td>Comedy</td>\n",
              "      <td>97995.0</td>\n",
              "      <td>en</td>\n",
              "      <td>After breaking a mirror in his home, superstit...</td>\n",
              "      <td>0.141558</td>\n",
              "      <td>/4J6Ai4C5YRgfRUTlirrJ7QsmJKU.jpg</td>\n",
              "      <td>Max Linder Productions</td>\n",
              "      <td>United States of America</td>\n",
              "      <td>1921-02-06</td>\n",
              "      <td>NaN</td>\n",
              "      <td>62.0</td>\n",
              "      <td>English</td>\n",
              "      <td>Released</td>\n",
              "      <td>NaN</td>\n",
              "      <td>Seven Years Bad Luck</td>\n",
              "      <td>5.6</td>\n",
              "      <td>4.0</td>\n",
              "    </tr>\n",
              "    <tr>\n",
              "      <th>40276</th>\n",
              "      <td>NaN</td>\n",
              "      <td>NaN</td>\n",
              "      <td>Comedy</td>\n",
              "      <td>97995.0</td>\n",
              "      <td>en</td>\n",
              "      <td>After breaking a mirror in his home, superstit...</td>\n",
              "      <td>0.141558</td>\n",
              "      <td>/4J6Ai4C5YRgfRUTlirrJ7QsmJKU.jpg</td>\n",
              "      <td>Max Linder Productions</td>\n",
              "      <td>United States of America</td>\n",
              "      <td>1921-02-06</td>\n",
              "      <td>NaN</td>\n",
              "      <td>62.0</td>\n",
              "      <td>English</td>\n",
              "      <td>Released</td>\n",
              "      <td>NaN</td>\n",
              "      <td>Seven Years Bad Luck</td>\n",
              "      <td>5.6</td>\n",
              "      <td>4.0</td>\n",
              "    </tr>\n",
              "    <tr>\n",
              "      <th>38871</th>\n",
              "      <td>NaN</td>\n",
              "      <td>NaN</td>\n",
              "      <td>Action|Drama|Romance|Adventure</td>\n",
              "      <td>99080.0</td>\n",
              "      <td>en</td>\n",
              "      <td>Originally called White Thunder, American prod...</td>\n",
              "      <td>0.002362</td>\n",
              "      <td>/qenjwRvW9itR5pVp4CBkYfhVAOp.jpg</td>\n",
              "      <td>NaN</td>\n",
              "      <td>NaN</td>\n",
              "      <td>1931-06-21</td>\n",
              "      <td>NaN</td>\n",
              "      <td>70.0</td>\n",
              "      <td>English</td>\n",
              "      <td>Released</td>\n",
              "      <td>Actually produced during the Great Newfoundlan...</td>\n",
              "      <td>The Viking</td>\n",
              "      <td>NaN</td>\n",
              "      <td>0.0</td>\n",
              "    </tr>\n",
              "    <tr>\n",
              "      <th>16167</th>\n",
              "      <td>NaN</td>\n",
              "      <td>NaN</td>\n",
              "      <td>Action|Drama|Romance|Adventure</td>\n",
              "      <td>99080.0</td>\n",
              "      <td>en</td>\n",
              "      <td>Originally called White Thunder, American prod...</td>\n",
              "      <td>0.002362</td>\n",
              "      <td>/qenjwRvW9itR5pVp4CBkYfhVAOp.jpg</td>\n",
              "      <td>NaN</td>\n",
              "      <td>NaN</td>\n",
              "      <td>1931-06-21</td>\n",
              "      <td>NaN</td>\n",
              "      <td>70.0</td>\n",
              "      <td>English</td>\n",
              "      <td>Released</td>\n",
              "      <td>Actually produced during the Great Newfoundlan...</td>\n",
              "      <td>The Viking</td>\n",
              "      <td>NaN</td>\n",
              "      <td>0.0</td>\n",
              "    </tr>\n",
              "    <tr>\n",
              "      <th>676</th>\n",
              "      <td>NaN</td>\n",
              "      <td>NaN</td>\n",
              "      <td>Drama|Romance</td>\n",
              "      <td>105045.0</td>\n",
              "      <td>de</td>\n",
              "      <td>East-Berlin, 1961, shortly after the erection ...</td>\n",
              "      <td>0.122178</td>\n",
              "      <td>/5WFIrBhOOgc0jGmoLxMZwWqCctO.jpg</td>\n",
              "      <td>Studio Babelsberg|Centre National de la Cinéma...</td>\n",
              "      <td>Germany</td>\n",
              "      <td>1995-02-16</td>\n",
              "      <td>NaN</td>\n",
              "      <td>115.0</td>\n",
              "      <td>Deutsch</td>\n",
              "      <td>Released</td>\n",
              "      <td>A love, a hope, a wall.</td>\n",
              "      <td>The Promise</td>\n",
              "      <td>5.0</td>\n",
              "      <td>1.0</td>\n",
              "    </tr>\n",
              "    <tr>\n",
              "      <th>1465</th>\n",
              "      <td>NaN</td>\n",
              "      <td>NaN</td>\n",
              "      <td>Drama|Romance</td>\n",
              "      <td>105045.0</td>\n",
              "      <td>de</td>\n",
              "      <td>East-Berlin, 1961, shortly after the erection ...</td>\n",
              "      <td>0.122178</td>\n",
              "      <td>/5WFIrBhOOgc0jGmoLxMZwWqCctO.jpg</td>\n",
              "      <td>Studio Babelsberg|Centre National de la Cinéma...</td>\n",
              "      <td>Germany</td>\n",
              "      <td>1995-02-16</td>\n",
              "      <td>NaN</td>\n",
              "      <td>115.0</td>\n",
              "      <td>Deutsch</td>\n",
              "      <td>Released</td>\n",
              "      <td>A love, a hope, a wall.</td>\n",
              "      <td>The Promise</td>\n",
              "      <td>5.0</td>\n",
              "      <td>1.0</td>\n",
              "    </tr>\n",
              "    <tr>\n",
              "      <th>19890</th>\n",
              "      <td>NaN</td>\n",
              "      <td>NaN</td>\n",
              "      <td>Fantasy|Drama|Science Fiction</td>\n",
              "      <td>119916.0</td>\n",
              "      <td>en</td>\n",
              "      <td>Prospero, the true Duke of Milan is now living...</td>\n",
              "      <td>0.000018</td>\n",
              "      <td>/gLVRTxaLtUDkfscFKPyYrCtRnTk.jpg</td>\n",
              "      <td>NaN</td>\n",
              "      <td>NaN</td>\n",
              "      <td>1980-02-27</td>\n",
              "      <td>NaN</td>\n",
              "      <td>123.0</td>\n",
              "      <td>NaN</td>\n",
              "      <td>Released</td>\n",
              "      <td>NaN</td>\n",
              "      <td>The Tempest</td>\n",
              "      <td>NaN</td>\n",
              "      <td>0.0</td>\n",
              "    </tr>\n",
              "    <tr>\n",
              "      <th>21165</th>\n",
              "      <td>NaN</td>\n",
              "      <td>NaN</td>\n",
              "      <td>Fantasy|Drama|Science Fiction</td>\n",
              "      <td>119916.0</td>\n",
              "      <td>en</td>\n",
              "      <td>Prospero, the true Duke of Milan is now living...</td>\n",
              "      <td>0.000018</td>\n",
              "      <td>/gLVRTxaLtUDkfscFKPyYrCtRnTk.jpg</td>\n",
              "      <td>NaN</td>\n",
              "      <td>NaN</td>\n",
              "      <td>1980-02-27</td>\n",
              "      <td>NaN</td>\n",
              "      <td>123.0</td>\n",
              "      <td>NaN</td>\n",
              "      <td>Released</td>\n",
              "      <td>NaN</td>\n",
              "      <td>The Tempest</td>\n",
              "      <td>NaN</td>\n",
              "      <td>0.0</td>\n",
              "    </tr>\n",
              "    <tr>\n",
              "      <th>13375</th>\n",
              "      <td>NaN</td>\n",
              "      <td>NaN</td>\n",
              "      <td>Thriller|Mystery</td>\n",
              "      <td>141971.0</td>\n",
              "      <td>fi</td>\n",
              "      <td>Recovering from a nail gun shot to the head an...</td>\n",
              "      <td>0.411949</td>\n",
              "      <td>/8VSZ9coCzxOCW2wE2Qene1H1fKO.jpg</td>\n",
              "      <td>Filmiteollisuus Fine</td>\n",
              "      <td>Finland</td>\n",
              "      <td>2008-12-26</td>\n",
              "      <td>NaN</td>\n",
              "      <td>108.0</td>\n",
              "      <td>suomi</td>\n",
              "      <td>Released</td>\n",
              "      <td>Which one is the first to return - memory or t...</td>\n",
              "      <td>Blackout</td>\n",
              "      <td>6.7</td>\n",
              "      <td>3.0</td>\n",
              "    </tr>\n",
              "    <tr>\n",
              "      <th>13261</th>\n",
              "      <td>NaN</td>\n",
              "      <td>NaN</td>\n",
              "      <td>Thriller|Mystery</td>\n",
              "      <td>141971.0</td>\n",
              "      <td>fi</td>\n",
              "      <td>Recovering from a nail gun shot to the head an...</td>\n",
              "      <td>0.411949</td>\n",
              "      <td>/8VSZ9coCzxOCW2wE2Qene1H1fKO.jpg</td>\n",
              "      <td>Filmiteollisuus Fine</td>\n",
              "      <td>Finland</td>\n",
              "      <td>2008-12-26</td>\n",
              "      <td>NaN</td>\n",
              "      <td>108.0</td>\n",
              "      <td>suomi</td>\n",
              "      <td>Released</td>\n",
              "      <td>Which one is the first to return - memory or t...</td>\n",
              "      <td>Blackout</td>\n",
              "      <td>6.7</td>\n",
              "      <td>3.0</td>\n",
              "    </tr>\n",
              "    <tr>\n",
              "      <th>16764</th>\n",
              "      <td>NaN</td>\n",
              "      <td>NaN</td>\n",
              "      <td>Thriller|Mystery</td>\n",
              "      <td>141971.0</td>\n",
              "      <td>fi</td>\n",
              "      <td>Recovering from a nail gun shot to the head an...</td>\n",
              "      <td>0.411949</td>\n",
              "      <td>/8VSZ9coCzxOCW2wE2Qene1H1fKO.jpg</td>\n",
              "      <td>Filmiteollisuus Fine</td>\n",
              "      <td>Finland</td>\n",
              "      <td>2008-12-26</td>\n",
              "      <td>NaN</td>\n",
              "      <td>108.0</td>\n",
              "      <td>suomi</td>\n",
              "      <td>Released</td>\n",
              "      <td>Which one is the first to return - memory or t...</td>\n",
              "      <td>Blackout</td>\n",
              "      <td>6.7</td>\n",
              "      <td>3.0</td>\n",
              "    </tr>\n",
              "    <tr>\n",
              "      <th>19925</th>\n",
              "      <td>NaN</td>\n",
              "      <td>NaN</td>\n",
              "      <td>Drama|Science Fiction|Animation</td>\n",
              "      <td>152795.0</td>\n",
              "      <td>en</td>\n",
              "      <td>More than two decades after catapulting to sta...</td>\n",
              "      <td>8.534039</td>\n",
              "      <td>/nnKX3ahYoT7P3au92dNgLf4pKwA.jpg</td>\n",
              "      <td>Pandora Filmproduktion|Entre Chien et Loup|Opu...</td>\n",
              "      <td>Belgium|France|Germany|Israel|Luxembourg|Poland</td>\n",
              "      <td>2013-05-16</td>\n",
              "      <td>0.455815</td>\n",
              "      <td>122.0</td>\n",
              "      <td>English</td>\n",
              "      <td>Released</td>\n",
              "      <td>NaN</td>\n",
              "      <td>The Congress</td>\n",
              "      <td>6.4</td>\n",
              "      <td>165.0</td>\n",
              "    </tr>\n",
              "    <tr>\n",
              "      <th>21854</th>\n",
              "      <td>NaN</td>\n",
              "      <td>NaN</td>\n",
              "      <td>Drama|Science Fiction|Animation</td>\n",
              "      <td>152795.0</td>\n",
              "      <td>en</td>\n",
              "      <td>More than two decades after catapulting to sta...</td>\n",
              "      <td>8.534039</td>\n",
              "      <td>/nnKX3ahYoT7P3au92dNgLf4pKwA.jpg</td>\n",
              "      <td>Pandora Filmproduktion|Entre Chien et Loup|Opu...</td>\n",
              "      <td>Belgium|France|Germany|Israel|Luxembourg|Poland</td>\n",
              "      <td>2013-05-16</td>\n",
              "      <td>0.455815</td>\n",
              "      <td>122.0</td>\n",
              "      <td>English</td>\n",
              "      <td>Released</td>\n",
              "      <td>NaN</td>\n",
              "      <td>The Congress</td>\n",
              "      <td>6.4</td>\n",
              "      <td>165.0</td>\n",
              "    </tr>\n",
              "    <tr>\n",
              "      <th>13220</th>\n",
              "      <td>Why We Fight</td>\n",
              "      <td>NaN</td>\n",
              "      <td>Documentary</td>\n",
              "      <td>159849.0</td>\n",
              "      <td>en</td>\n",
              "      <td>The third film of Frank Capra's 'Why We Fight\"...</td>\n",
              "      <td>0.473322</td>\n",
              "      <td>/g21ruZZ3BZeUDuKMb82kejjtufk.jpg</td>\n",
              "      <td>NaN</td>\n",
              "      <td>United States of America</td>\n",
              "      <td>1943-01-01</td>\n",
              "      <td>NaN</td>\n",
              "      <td>57.0</td>\n",
              "      <td>English</td>\n",
              "      <td>Released</td>\n",
              "      <td>NaN</td>\n",
              "      <td>Why We Fight: Divide and Conquer</td>\n",
              "      <td>5.0</td>\n",
              "      <td>1.0</td>\n",
              "    </tr>\n",
              "    <tr>\n",
              "      <th>35798</th>\n",
              "      <td>Why We Fight</td>\n",
              "      <td>NaN</td>\n",
              "      <td>Documentary</td>\n",
              "      <td>159849.0</td>\n",
              "      <td>en</td>\n",
              "      <td>The third film of Frank Capra's 'Why We Fight\"...</td>\n",
              "      <td>0.473322</td>\n",
              "      <td>/g21ruZZ3BZeUDuKMb82kejjtufk.jpg</td>\n",
              "      <td>NaN</td>\n",
              "      <td>United States of America</td>\n",
              "      <td>1943-01-01</td>\n",
              "      <td>NaN</td>\n",
              "      <td>57.0</td>\n",
              "      <td>English</td>\n",
              "      <td>Released</td>\n",
              "      <td>NaN</td>\n",
              "      <td>Why We Fight: Divide and Conquer</td>\n",
              "      <td>5.0</td>\n",
              "      <td>1.0</td>\n",
              "    </tr>\n",
              "    <tr>\n",
              "      <th>13603</th>\n",
              "      <td>NaN</td>\n",
              "      <td>NaN</td>\n",
              "      <td>Drama|Comedy</td>\n",
              "      <td>168538.0</td>\n",
              "      <td>en</td>\n",
              "      <td>In Zola's Paris, an ingenue arrives at a tony ...</td>\n",
              "      <td>1.276602</td>\n",
              "      <td>/pg4PUHRFrgNfACHSh5MITQ2gYch.jpg</td>\n",
              "      <td>Cannon Group|Metro-Goldwyn-Mayer (MGM)</td>\n",
              "      <td>NaN</td>\n",
              "      <td>1983-06-13</td>\n",
              "      <td>NaN</td>\n",
              "      <td>92.0</td>\n",
              "      <td>NaN</td>\n",
              "      <td>Released</td>\n",
              "      <td>NaN</td>\n",
              "      <td>Nana, the True Key of Pleasure</td>\n",
              "      <td>4.7</td>\n",
              "      <td>3.0</td>\n",
              "    </tr>\n",
              "    <tr>\n",
              "      <th>28860</th>\n",
              "      <td>NaN</td>\n",
              "      <td>NaN</td>\n",
              "      <td>Drama|Comedy</td>\n",
              "      <td>168538.0</td>\n",
              "      <td>en</td>\n",
              "      <td>In Zola's Paris, an ingenue arrives at a tony ...</td>\n",
              "      <td>1.276602</td>\n",
              "      <td>/pg4PUHRFrgNfACHSh5MITQ2gYch.jpg</td>\n",
              "      <td>Cannon Group|Metro-Goldwyn-Mayer (MGM)</td>\n",
              "      <td>NaN</td>\n",
              "      <td>1983-06-13</td>\n",
              "      <td>NaN</td>\n",
              "      <td>92.0</td>\n",
              "      <td>NaN</td>\n",
              "      <td>Released</td>\n",
              "      <td>NaN</td>\n",
              "      <td>Nana, the True Key of Pleasure</td>\n",
              "      <td>4.7</td>\n",
              "      <td>3.0</td>\n",
              "    </tr>\n",
              "    <tr>\n",
              "      <th>24164</th>\n",
              "      <td>NaN</td>\n",
              "      <td>NaN</td>\n",
              "      <td>Comedy|Drama</td>\n",
              "      <td>265189.0</td>\n",
              "      <td>sv</td>\n",
              "      <td>While holidaying in the French Alps, a Swedish...</td>\n",
              "      <td>12.165685</td>\n",
              "      <td>/rGMtc9AtZsnWSSL5VnLaGvx1PI6.jpg</td>\n",
              "      <td>Motlys|Coproduction Office|Film i Väst</td>\n",
              "      <td>Norway|Sweden|France</td>\n",
              "      <td>2014-08-15</td>\n",
              "      <td>1.359497</td>\n",
              "      <td>118.0</td>\n",
              "      <td>Français|Norsk|svenska|English</td>\n",
              "      <td>Released</td>\n",
              "      <td>NaN</td>\n",
              "      <td>Force Majeure</td>\n",
              "      <td>6.8</td>\n",
              "      <td>255.0</td>\n",
              "    </tr>\n",
              "    <tr>\n",
              "      <th>45265</th>\n",
              "      <td>NaN</td>\n",
              "      <td>NaN</td>\n",
              "      <td>Comedy|Drama</td>\n",
              "      <td>265189.0</td>\n",
              "      <td>sv</td>\n",
              "      <td>While holidaying in the French Alps, a Swedish...</td>\n",
              "      <td>12.165685</td>\n",
              "      <td>/rGMtc9AtZsnWSSL5VnLaGvx1PI6.jpg</td>\n",
              "      <td>Motlys|Coproduction Office|Film i Väst</td>\n",
              "      <td>Norway|Sweden|France</td>\n",
              "      <td>2014-08-15</td>\n",
              "      <td>1.359497</td>\n",
              "      <td>118.0</td>\n",
              "      <td>Français|Norsk|svenska|English</td>\n",
              "      <td>Released</td>\n",
              "      <td>NaN</td>\n",
              "      <td>Force Majeure</td>\n",
              "      <td>6.8</td>\n",
              "      <td>255.0</td>\n",
              "    </tr>\n",
              "    <tr>\n",
              "      <th>33184</th>\n",
              "      <td>NaN</td>\n",
              "      <td>0.98</td>\n",
              "      <td>Drama|Fantasy</td>\n",
              "      <td>298721.0</td>\n",
              "      <td>th</td>\n",
              "      <td>In a hospital, ten soldiers are being treated ...</td>\n",
              "      <td>2.535419</td>\n",
              "      <td>/5GasjPRAy5rlEyDOH7MeOyxyQGX.jpg</td>\n",
              "      <td>Match Factory, The|Louverture Films|Tordenfilm...</td>\n",
              "      <td>United Kingdom|United States of America|France...</td>\n",
              "      <td>2015-09-02</td>\n",
              "      <td>NaN</td>\n",
              "      <td>122.0</td>\n",
              "      <td>English|ภาษาไทย</td>\n",
              "      <td>Released</td>\n",
              "      <td>NaN</td>\n",
              "      <td>Cemetery of Splendour</td>\n",
              "      <td>4.4</td>\n",
              "      <td>50.0</td>\n",
              "    </tr>\n",
              "    <tr>\n",
              "      <th>40040</th>\n",
              "      <td>NaN</td>\n",
              "      <td>0.98</td>\n",
              "      <td>Drama|Fantasy</td>\n",
              "      <td>298721.0</td>\n",
              "      <td>th</td>\n",
              "      <td>In a hospital, ten soldiers are being treated ...</td>\n",
              "      <td>2.535419</td>\n",
              "      <td>/5GasjPRAy5rlEyDOH7MeOyxyQGX.jpg</td>\n",
              "      <td>Match Factory, The|Louverture Films|Tordenfilm...</td>\n",
              "      <td>United Kingdom|United States of America|France...</td>\n",
              "      <td>2015-09-02</td>\n",
              "      <td>NaN</td>\n",
              "      <td>122.0</td>\n",
              "      <td>English|ภาษาไทย</td>\n",
              "      <td>Released</td>\n",
              "      <td>NaN</td>\n",
              "      <td>Cemetery of Splendour</td>\n",
              "      <td>4.4</td>\n",
              "      <td>50.0</td>\n",
              "    </tr>\n",
              "  </tbody>\n",
              "</table>\n",
              "</div>\n",
              "      <button class=\"colab-df-convert\" onclick=\"convertToInteractive('df-dacd96de-666f-4f59-8b67-45a7d353af01')\"\n",
              "              title=\"Convert this dataframe to an interactive table.\"\n",
              "              style=\"display:none;\">\n",
              "        \n",
              "  <svg xmlns=\"http://www.w3.org/2000/svg\" height=\"24px\"viewBox=\"0 0 24 24\"\n",
              "       width=\"24px\">\n",
              "    <path d=\"M0 0h24v24H0V0z\" fill=\"none\"/>\n",
              "    <path d=\"M18.56 5.44l.94 2.06.94-2.06 2.06-.94-2.06-.94-.94-2.06-.94 2.06-2.06.94zm-11 1L8.5 8.5l.94-2.06 2.06-.94-2.06-.94L8.5 2.5l-.94 2.06-2.06.94zm10 10l.94 2.06.94-2.06 2.06-.94-2.06-.94-.94-2.06-.94 2.06-2.06.94z\"/><path d=\"M17.41 7.96l-1.37-1.37c-.4-.4-.92-.59-1.43-.59-.52 0-1.04.2-1.43.59L10.3 9.45l-7.72 7.72c-.78.78-.78 2.05 0 2.83L4 21.41c.39.39.9.59 1.41.59.51 0 1.02-.2 1.41-.59l7.78-7.78 2.81-2.81c.8-.78.8-2.07 0-2.86zM5.41 20L4 18.59l7.72-7.72 1.47 1.35L5.41 20z\"/>\n",
              "  </svg>\n",
              "      </button>\n",
              "      \n",
              "  <style>\n",
              "    .colab-df-container {\n",
              "      display:flex;\n",
              "      flex-wrap:wrap;\n",
              "      gap: 12px;\n",
              "    }\n",
              "\n",
              "    .colab-df-convert {\n",
              "      background-color: #E8F0FE;\n",
              "      border: none;\n",
              "      border-radius: 50%;\n",
              "      cursor: pointer;\n",
              "      display: none;\n",
              "      fill: #1967D2;\n",
              "      height: 32px;\n",
              "      padding: 0 0 0 0;\n",
              "      width: 32px;\n",
              "    }\n",
              "\n",
              "    .colab-df-convert:hover {\n",
              "      background-color: #E2EBFA;\n",
              "      box-shadow: 0px 1px 2px rgba(60, 64, 67, 0.3), 0px 1px 3px 1px rgba(60, 64, 67, 0.15);\n",
              "      fill: #174EA6;\n",
              "    }\n",
              "\n",
              "    [theme=dark] .colab-df-convert {\n",
              "      background-color: #3B4455;\n",
              "      fill: #D2E3FC;\n",
              "    }\n",
              "\n",
              "    [theme=dark] .colab-df-convert:hover {\n",
              "      background-color: #434B5C;\n",
              "      box-shadow: 0px 1px 3px 1px rgba(0, 0, 0, 0.15);\n",
              "      filter: drop-shadow(0px 1px 2px rgba(0, 0, 0, 0.3));\n",
              "      fill: #FFFFFF;\n",
              "    }\n",
              "  </style>\n",
              "\n",
              "      <script>\n",
              "        const buttonEl =\n",
              "          document.querySelector('#df-dacd96de-666f-4f59-8b67-45a7d353af01 button.colab-df-convert');\n",
              "        buttonEl.style.display =\n",
              "          google.colab.kernel.accessAllowed ? 'block' : 'none';\n",
              "\n",
              "        async function convertToInteractive(key) {\n",
              "          const element = document.querySelector('#df-dacd96de-666f-4f59-8b67-45a7d353af01');\n",
              "          const dataTable =\n",
              "            await google.colab.kernel.invokeFunction('convertToInteractive',\n",
              "                                                     [key], {});\n",
              "          if (!dataTable) return;\n",
              "\n",
              "          const docLinkHtml = 'Like what you see? Visit the ' +\n",
              "            '<a target=\"_blank\" href=https://colab.research.google.com/notebooks/data_table.ipynb>data table notebook</a>'\n",
              "            + ' to learn more about interactive tables.';\n",
              "          element.innerHTML = '';\n",
              "          dataTable['output_type'] = 'display_data';\n",
              "          await google.colab.output.renderOutput(dataTable, element);\n",
              "          const docLink = document.createElement('div');\n",
              "          docLink.innerHTML = docLinkHtml;\n",
              "          element.appendChild(docLink);\n",
              "        }\n",
              "      </script>\n",
              "    </div>\n",
              "  </div>\n",
              "  "
            ]
          },
          "metadata": {},
          "execution_count": 410
        }
      ]
    },
    {
      "cell_type": "code",
      "source": [
        "df.drop_duplicates(inplace = True)"
      ],
      "metadata": {
        "id": "etfK6FmLTFS8"
      },
      "execution_count": 411,
      "outputs": []
    },
    {
      "cell_type": "markdown",
      "source": [
        "###Checking duplicated IDs"
      ],
      "metadata": {
        "id": "v8SoSZk-Tpqb"
      }
    },
    {
      "cell_type": "code",
      "source": [
        "df[df.duplicated(subset = 'id', keep = False)].sort_values(by = 'id')"
      ],
      "metadata": {
        "colab": {
          "base_uri": "https://localhost:8080/",
          "height": 1000
        },
        "id": "kNk2qB2xTntu",
        "outputId": "e3f58673-06d8-4202-be41-1107a5a23b0c"
      },
      "execution_count": 412,
      "outputs": [
        {
          "output_type": "execute_result",
          "data": {
            "text/plain": [
              "      belongs_to_collection  budget_musd  \\\n",
              "33826                   NaN    30.000000   \n",
              "5865                    NaN    30.000000   \n",
              "4114     Pokémon Collection    16.000000   \n",
              "44821    Pokémon Collection    16.000000   \n",
              "44826    Pokémon Collection          NaN   \n",
              "5535     Pokémon Collection          NaN   \n",
              "15765                   NaN     0.002500   \n",
              "11342                   NaN     0.002500   \n",
              "10419                   NaN     1.600000   \n",
              "12066                   NaN     1.600000   \n",
              "5130                    NaN    26.000000   \n",
              "33743                   NaN    26.000000   \n",
              "949                     NaN     0.000004   \n",
              "15074                   NaN     0.000004   \n",
              "9576                    NaN    10.000000   \n",
              "26625                   NaN    10.000000   \n",
              "20843                   NaN    40.000000   \n",
              "11155                   NaN    40.000000   \n",
              "21116                   NaN          NaN   \n",
              "2564                    NaN          NaN   \n",
              "20899                   NaN          NaN   \n",
              "5710                    NaN          NaN   \n",
              "23534                   NaN     3.512454   \n",
              "4356                    NaN     3.512454   \n",
              "30001                   NaN          NaN   \n",
              "838                     NaN          NaN   \n",
              "19730                   NaN          NaN   \n",
              "29503                   NaN          NaN   \n",
              "35587                   NaN          NaN   \n",
              "\n",
              "                                                  genres        id  \\\n",
              "33826                Comedy|Crime|Drama|Romance|Thriller    4912.0   \n",
              "5865                 Comedy|Crime|Drama|Romance|Thriller    4912.0   \n",
              "4114           Adventure|Fantasy|Animation|Action|Family   10991.0   \n",
              "44821          Adventure|Fantasy|Animation|Action|Family   10991.0   \n",
              "44826  Adventure|Fantasy|Animation|Science Fiction|Fa...   12600.0   \n",
              "5535   Adventure|Fantasy|Animation|Science Fiction|Fa...   12600.0   \n",
              "15765                               Drama|Comedy|Foreign   13209.0   \n",
              "11342                               Drama|Comedy|Foreign   13209.0   \n",
              "10419                                Drama|Crime|Mystery   14788.0   \n",
              "12066                                Drama|Crime|Mystery   14788.0   \n",
              "5130           Adventure|Family|Science Fiction|Thriller   15028.0   \n",
              "33743          Adventure|Family|Science Fiction|Thriller   15028.0   \n",
              "949                                    Drama|Romance|War   22649.0   \n",
              "15074                                  Drama|Romance|War   22649.0   \n",
              "9576                 Drama|Horror|Music|Romance|TV Movie   69234.0   \n",
              "26625                Drama|Horror|Music|Romance|TV Movie   69234.0   \n",
              "20843                                    Adventure|Drama   77221.0   \n",
              "11155                                    Adventure|Drama   77221.0   \n",
              "21116                                        Documentary   84198.0   \n",
              "2564                                         Documentary   84198.0   \n",
              "20899                                              Drama  109962.0   \n",
              "5710                                               Drama  109962.0   \n",
              "23534                                              Drama  110428.0   \n",
              "4356                                               Drama  110428.0   \n",
              "30001                                              Drama  132641.0   \n",
              "838                                                Drama  132641.0   \n",
              "19730  Carousel Productions|Vision View Entertainment...       NaN   \n",
              "29503  Aniplex|GoHands|BROSTA TV|Mardock Scramble Pro...       NaN   \n",
              "35587  Odyssey Media|Pulser Productions|Rogue State|T...       NaN   \n",
              "\n",
              "      original_language                                           overview  \\\n",
              "33826                en  Television made him famous, but his biggest hi...   \n",
              "5865                 en  Television made him famous, but his biggest hi...   \n",
              "4114                 ja  When Molly Hale's sadness of her father's disa...   \n",
              "44821                ja  When Molly Hale's sadness of her father's disa...   \n",
              "44826                ja  All your favorite Pokémon characters are back,...   \n",
              "5535                 ja  All your favorite Pokémon characters are back,...   \n",
              "15765                fa  Since women are banned from soccer matches, Ir...   \n",
              "11342                fa  Since women are banned from soccer matches, Ir...   \n",
              "10419                en  Set against the backdrop of a decaying Midwest...   \n",
              "12066                en  Set against the backdrop of a decaying Midwest...   \n",
              "5130                 en  Until now, Zak Gibbs' greatest challenge has b...   \n",
              "33743                en  Until now, Zak Gibbs' greatest challenge has b...   \n",
              "949                  en  British nurse Catherine Barkley (Helen Hayes) ...   \n",
              "15074                en  British nurse Catherine Barkley (Helen Hayes) ...   \n",
              "9576                 en  Count de Chagnie has discovered Christine's si...   \n",
              "26625                en  Count de Chagnie has discovered Christine's si...   \n",
              "20843                en  On the Arabian Peninsula in the 1930s, two war...   \n",
              "11155                en  On the Arabian Peninsula in the 1930s, two war...   \n",
              "21116                en  Using personal stories, this powerful document...   \n",
              "2564                 en  Using personal stories, this powerful document...   \n",
              "20899                en  Two literary women compete for 20 years: one w...   \n",
              "5710                 en  Two literary women compete for 20 years: one w...   \n",
              "23534                fr  Winter, 1915. Confined by her family to an asy...   \n",
              "4356                 fr  Winter, 1915. Confined by her family to an asy...   \n",
              "30001                ja  Ten years into a marriage, the wife is disappo...   \n",
              "838                  ja  Ten years into a marriage, the wife is disappo...   \n",
              "19730             104.0                                           Released   \n",
              "29503              68.0                                           Released   \n",
              "35587              82.0                                           Released   \n",
              "\n",
              "       popularity                          poster_path  \\\n",
              "33826    7.645827     /o3Im9nPLAgtlw1j2LtpMebAotSe.jpg   \n",
              "5865    11.331072     /o3Im9nPLAgtlw1j2LtpMebAotSe.jpg   \n",
              "4114    10.264597     /5ILjS6XB5deiHop8SXPsYxXWVPE.jpg   \n",
              "44821    6.480376     /5ILjS6XB5deiHop8SXPsYxXWVPE.jpg   \n",
              "44826    6.080108     /bqL0PVHbQ8Jmw3Njcl38kW0CoeM.jpg   \n",
              "5535     7.072301     /bqL0PVHbQ8Jmw3Njcl38kW0CoeM.jpg   \n",
              "15765    1.529879     /nfkOkpudNNIjRrf0mTFVoiGzHyc.jpg   \n",
              "11342    1.528960     /nfkOkpudNNIjRrf0mTFVoiGzHyc.jpg   \n",
              "10419    3.185256     /w56oo9nREcF54sNXVYuE9QxZFjT.jpg   \n",
              "12066    3.008299     /w56oo9nREcF54sNXVYuE9QxZFjT.jpg   \n",
              "5130     5.373623     /xGhDPrBz9mJN8CsIjA23jQSd3sc.jpg   \n",
              "33743    4.920175     /xGhDPrBz9mJN8CsIjA23jQSd3sc.jpg   \n",
              "949      1.914697     /k0MF0IIbJ2PfOIku2KyraXL72d8.jpg   \n",
              "15074    2.411191     /k0MF0IIbJ2PfOIku2KyraXL72d8.jpg   \n",
              "9576     0.441872     /ole8e9YQwvHoKVpWO0lgfLFFemc.jpg   \n",
              "26625    0.438490     /ole8e9YQwvHoKVpWO0lgfLFFemc.jpg   \n",
              "20843    6.475665     /iQd7zWhSeCe3cgdPcLIDXjGfdzL.jpg   \n",
              "11155    6.652197     /iQd7zWhSeCe3cgdPcLIDXjGfdzL.jpg   \n",
              "21116    1.673307     /jn8L1QdWWX5c0NUOLjzaSXtZrbt.jpg   \n",
              "2564     0.501046     /jn8L1QdWWX5c0NUOLjzaSXtZrbt.jpg   \n",
              "20899   10.396878     /tOflyY8eUFWubLKJH7fKg4KwpCl.jpg   \n",
              "5710    12.180836     /tOflyY8eUFWubLKJH7fKg4KwpCl.jpg   \n",
              "23534    0.110065     /sGMPDg6je1zKi0TiX9b4pP6yN02.jpg   \n",
              "4356     0.134014     /sGMPDg6je1zKi0TiX9b4pP6yN02.jpg   \n",
              "30001    0.619388     /z9WiHt5uQjs8L8tyBpRBKzlheF2.jpg   \n",
              "838      0.096079     /z9WiHt5uQjs8L8tyBpRBKzlheF2.jpg   \n",
              "19730         NaN                         Midnight Man   \n",
              "29503         NaN  Mardock Scramble: The Third Exhaust   \n",
              "35587         NaN                     Avalanche Sharks   \n",
              "\n",
              "                                    production_companies  \\\n",
              "33826         Miramax Films|Allied Filmmakers|Mad Chance   \n",
              "5865          Miramax Films|Allied Filmmakers|Mad Chance   \n",
              "4114   TV Tokyo|4 Kids Entertainment|Nintendo|Pikachu...   \n",
              "44821  TV Tokyo|4 Kids Entertainment|Nintendo|Pikachu...   \n",
              "44826                                                NaN   \n",
              "5535                                                 NaN   \n",
              "15765                      Jafar Panahi Film Productions   \n",
              "11342                      Jafar Panahi Film Productions   \n",
              "10419                    Magnolia Pictures|Extension 765   \n",
              "12066                    Magnolia Pictures|Extension 765   \n",
              "5130   Paramount Pictures|Nickelodeon Movies|Valhalla...   \n",
              "33743  Paramount Pictures|Nickelodeon Movies|Valhalla...   \n",
              "949                                   Paramount Pictures   \n",
              "15074                                 Paramount Pictures   \n",
              "9576   Beta Film|Reteitalia|TF1|Hexatel|Saban/Scheric...   \n",
              "26625  Beta Film|Reteitalia|TF1|Hexatel|Saban/Scheric...   \n",
              "20843  France 2 Cinéma|Quinta Communications|Carthago...   \n",
              "11155  France 2 Cinéma|Quinta Communications|Carthago...   \n",
              "21116                                                NaN   \n",
              "2564                                                 NaN   \n",
              "20899                   Metro-Goldwyn-Mayer (MGM)|Jaquet   \n",
              "5710                    Metro-Goldwyn-Mayer (MGM)|Jaquet   \n",
              "23534  Canal+|Arte France Cinéma|3B Productions|C.R.R...   \n",
              "4356   Canal+|Arte France Cinéma|3B Productions|C.R.R...   \n",
              "30001                                       Toho Company   \n",
              "838                                         Toho Company   \n",
              "19730                                                NaN   \n",
              "29503                                                NaN   \n",
              "35587                                                NaN   \n",
              "\n",
              "                                production_countries release_date  \\\n",
              "33826                       United States of America   2002-12-30   \n",
              "5865                        United States of America   2002-12-30   \n",
              "4114                                           Japan   2000-07-08   \n",
              "44821                                          Japan   2000-07-08   \n",
              "44826                 Japan|United States of America   2001-07-06   \n",
              "5535                  Japan|United States of America   2001-07-06   \n",
              "15765                                           Iran   2006-05-26   \n",
              "11342                                           Iran   2006-05-26   \n",
              "10419                       United States of America   2005-09-03   \n",
              "12066                       United States of America   2005-09-03   \n",
              "5130                        United States of America   2002-03-17   \n",
              "33743                       United States of America   2002-03-17   \n",
              "949                         United States of America   1932-12-08   \n",
              "15074                       United States of America   1932-12-08   \n",
              "9576   France|Germany|Italy|United States of America   1990-03-18   \n",
              "26625  France|Germany|Italy|United States of America   1990-03-18   \n",
              "20843                     France|Italy|Qatar|Tunisia   2011-12-21   \n",
              "11155                     France|Italy|Qatar|Tunisia   2011-12-21   \n",
              "21116                       United States of America   2012-03-22   \n",
              "2564                        United States of America   2012-03-22   \n",
              "20899                       United States of America   1981-09-23   \n",
              "5710                        United States of America   1981-09-23   \n",
              "23534                                         France   2013-03-13   \n",
              "4356                                          France   2013-03-13   \n",
              "30001                                          Japan   1953-04-29   \n",
              "838                                            Japan   1953-04-29   \n",
              "19730                                            NaN          NaT   \n",
              "29503                                            NaN          NaT   \n",
              "35587                                            NaN          NaT   \n",
              "\n",
              "       revenue_musd  runtime  spoken_languages    status  \\\n",
              "33826     33.013805    113.0           English  Released   \n",
              "5865      33.013805    113.0           English  Released   \n",
              "4114      68.411275     93.0           English  Released   \n",
              "44821     68.411275     93.0           English  Released   \n",
              "44826     28.023563     75.0               日本語  Released   \n",
              "5535      28.023563     75.0               日本語  Released   \n",
              "15765           NaN     93.0             فارسی  Released   \n",
              "11342           NaN     93.0             فارسی  Released   \n",
              "10419           NaN     73.0           English  Released   \n",
              "12066           NaN     73.0           English  Released   \n",
              "5130      38.793283     94.0     Český|English  Released   \n",
              "33743     38.793283     94.0     Český|English  Released   \n",
              "949        0.000025     89.0           English  Released   \n",
              "15074      0.000025     89.0           English  Released   \n",
              "9576            NaN    168.0  English|Italiano  Released   \n",
              "26625           NaN    168.0  English|Italiano  Released   \n",
              "20843      5.446000    130.0           English  Released   \n",
              "11155      5.446000    130.0           English  Released   \n",
              "21116           NaN     84.0           English  Released   \n",
              "2564            NaN     84.0           English  Released   \n",
              "20899           NaN    115.0           English  Released   \n",
              "5710            NaN    115.0           English  Released   \n",
              "23534      0.115860     95.0          Français  Released   \n",
              "4356       0.115860     95.0          Français  Released   \n",
              "30001           NaN     89.0               日本語  Released   \n",
              "838             NaN     89.0               日本語  Released   \n",
              "19730           NaN      NaN               NaN       NaN   \n",
              "29503           NaN      NaN               NaN       NaN   \n",
              "35587           NaN      NaN               NaN       NaN   \n",
              "\n",
              "                                                 tagline  \\\n",
              "33826            Some things are better left top secret.   \n",
              "5865             Some things are better left top secret.   \n",
              "4114                       Pokémon: Spell of the Unknown   \n",
              "44821                      Pokémon: Spell of the Unknown   \n",
              "44826                                                NaN   \n",
              "5535                                                 NaN   \n",
              "15765                                                NaN   \n",
              "11342                                                NaN   \n",
              "10419                                                NaN   \n",
              "12066                                                NaN   \n",
              "5130   The adventure of a lifetime, in a few mere sec...   \n",
              "33743  The adventure of a lifetime, in a few mere sec...   \n",
              "949            Every woman who has loved will understand   \n",
              "15074          Every woman who has loved will understand   \n",
              "9576                                                 NaN   \n",
              "26625                                                NaN   \n",
              "20843                                                NaN   \n",
              "11155                                                NaN   \n",
              "21116                              One Nation. Underfed.   \n",
              "2564                               One Nation. Underfed.   \n",
              "20899  From the very beginning, they knew they'd be f...   \n",
              "5710   From the very beginning, they knew they'd be f...   \n",
              "23534                                                NaN   \n",
              "4356                                                 NaN   \n",
              "30001                                                NaN   \n",
              "838                                                  NaN   \n",
              "19730                                                NaN   \n",
              "29503                                                NaN   \n",
              "35587                                                NaN   \n",
              "\n",
              "                                             title  vote_average  vote_count  \n",
              "33826              Confessions of a Dangerous Mind           6.6       281.0  \n",
              "5865               Confessions of a Dangerous Mind           6.6       281.0  \n",
              "4114                 Pokémon: Spell of the Unknown           6.0       143.0  \n",
              "44821                Pokémon: Spell of the Unknown           6.0       144.0  \n",
              "44826  Pokémon 4Ever: Celebi - Voice of the Forest           5.7        82.0  \n",
              "5535   Pokémon 4Ever: Celebi - Voice of the Forest           5.7        82.0  \n",
              "15765                                      Offside           6.7        27.0  \n",
              "11342                                      Offside           6.7        27.0  \n",
              "10419                                       Bubble           6.4        36.0  \n",
              "12066                                       Bubble           6.4        36.0  \n",
              "5130                                 Clockstoppers           4.9        89.0  \n",
              "33743                                Clockstoppers           4.9        90.0  \n",
              "949                             A Farewell to Arms           6.2        29.0  \n",
              "15074                           A Farewell to Arms           6.2        29.0  \n",
              "9576                      The Phantom of the Opera           5.0         3.0  \n",
              "26625                     The Phantom of the Opera           5.0         3.0  \n",
              "20843                                   Black Gold           5.9        77.0  \n",
              "11155                                   Black Gold           5.9        77.0  \n",
              "21116                         A Place at the Table           6.9         7.0  \n",
              "2564                          A Place at the Table           6.9         7.0  \n",
              "20899                              Rich and Famous           4.9         7.0  \n",
              "5710                               Rich and Famous           4.9         7.0  \n",
              "23534                         Camille Claudel 1915           7.0        20.0  \n",
              "4356                          Camille Claudel 1915           7.0        20.0  \n",
              "30001                                         Wife           NaN         0.0  \n",
              "838                                           Wife           NaN         0.0  \n",
              "19730                                          NaN           NaN         NaN  \n",
              "29503                                          NaN           NaN         NaN  \n",
              "35587                                          NaN           NaN         NaN  "
            ],
            "text/html": [
              "\n",
              "  <div id=\"df-6790af61-ad18-45b4-b2ee-08aa6e0721ad\">\n",
              "    <div class=\"colab-df-container\">\n",
              "      <div>\n",
              "<style scoped>\n",
              "    .dataframe tbody tr th:only-of-type {\n",
              "        vertical-align: middle;\n",
              "    }\n",
              "\n",
              "    .dataframe tbody tr th {\n",
              "        vertical-align: top;\n",
              "    }\n",
              "\n",
              "    .dataframe thead th {\n",
              "        text-align: right;\n",
              "    }\n",
              "</style>\n",
              "<table border=\"1\" class=\"dataframe\">\n",
              "  <thead>\n",
              "    <tr style=\"text-align: right;\">\n",
              "      <th></th>\n",
              "      <th>belongs_to_collection</th>\n",
              "      <th>budget_musd</th>\n",
              "      <th>genres</th>\n",
              "      <th>id</th>\n",
              "      <th>original_language</th>\n",
              "      <th>overview</th>\n",
              "      <th>popularity</th>\n",
              "      <th>poster_path</th>\n",
              "      <th>production_companies</th>\n",
              "      <th>production_countries</th>\n",
              "      <th>release_date</th>\n",
              "      <th>revenue_musd</th>\n",
              "      <th>runtime</th>\n",
              "      <th>spoken_languages</th>\n",
              "      <th>status</th>\n",
              "      <th>tagline</th>\n",
              "      <th>title</th>\n",
              "      <th>vote_average</th>\n",
              "      <th>vote_count</th>\n",
              "    </tr>\n",
              "  </thead>\n",
              "  <tbody>\n",
              "    <tr>\n",
              "      <th>33826</th>\n",
              "      <td>NaN</td>\n",
              "      <td>30.000000</td>\n",
              "      <td>Comedy|Crime|Drama|Romance|Thriller</td>\n",
              "      <td>4912.0</td>\n",
              "      <td>en</td>\n",
              "      <td>Television made him famous, but his biggest hi...</td>\n",
              "      <td>7.645827</td>\n",
              "      <td>/o3Im9nPLAgtlw1j2LtpMebAotSe.jpg</td>\n",
              "      <td>Miramax Films|Allied Filmmakers|Mad Chance</td>\n",
              "      <td>United States of America</td>\n",
              "      <td>2002-12-30</td>\n",
              "      <td>33.013805</td>\n",
              "      <td>113.0</td>\n",
              "      <td>English</td>\n",
              "      <td>Released</td>\n",
              "      <td>Some things are better left top secret.</td>\n",
              "      <td>Confessions of a Dangerous Mind</td>\n",
              "      <td>6.6</td>\n",
              "      <td>281.0</td>\n",
              "    </tr>\n",
              "    <tr>\n",
              "      <th>5865</th>\n",
              "      <td>NaN</td>\n",
              "      <td>30.000000</td>\n",
              "      <td>Comedy|Crime|Drama|Romance|Thriller</td>\n",
              "      <td>4912.0</td>\n",
              "      <td>en</td>\n",
              "      <td>Television made him famous, but his biggest hi...</td>\n",
              "      <td>11.331072</td>\n",
              "      <td>/o3Im9nPLAgtlw1j2LtpMebAotSe.jpg</td>\n",
              "      <td>Miramax Films|Allied Filmmakers|Mad Chance</td>\n",
              "      <td>United States of America</td>\n",
              "      <td>2002-12-30</td>\n",
              "      <td>33.013805</td>\n",
              "      <td>113.0</td>\n",
              "      <td>English</td>\n",
              "      <td>Released</td>\n",
              "      <td>Some things are better left top secret.</td>\n",
              "      <td>Confessions of a Dangerous Mind</td>\n",
              "      <td>6.6</td>\n",
              "      <td>281.0</td>\n",
              "    </tr>\n",
              "    <tr>\n",
              "      <th>4114</th>\n",
              "      <td>Pokémon Collection</td>\n",
              "      <td>16.000000</td>\n",
              "      <td>Adventure|Fantasy|Animation|Action|Family</td>\n",
              "      <td>10991.0</td>\n",
              "      <td>ja</td>\n",
              "      <td>When Molly Hale's sadness of her father's disa...</td>\n",
              "      <td>10.264597</td>\n",
              "      <td>/5ILjS6XB5deiHop8SXPsYxXWVPE.jpg</td>\n",
              "      <td>TV Tokyo|4 Kids Entertainment|Nintendo|Pikachu...</td>\n",
              "      <td>Japan</td>\n",
              "      <td>2000-07-08</td>\n",
              "      <td>68.411275</td>\n",
              "      <td>93.0</td>\n",
              "      <td>English</td>\n",
              "      <td>Released</td>\n",
              "      <td>Pokémon: Spell of the Unknown</td>\n",
              "      <td>Pokémon: Spell of the Unknown</td>\n",
              "      <td>6.0</td>\n",
              "      <td>143.0</td>\n",
              "    </tr>\n",
              "    <tr>\n",
              "      <th>44821</th>\n",
              "      <td>Pokémon Collection</td>\n",
              "      <td>16.000000</td>\n",
              "      <td>Adventure|Fantasy|Animation|Action|Family</td>\n",
              "      <td>10991.0</td>\n",
              "      <td>ja</td>\n",
              "      <td>When Molly Hale's sadness of her father's disa...</td>\n",
              "      <td>6.480376</td>\n",
              "      <td>/5ILjS6XB5deiHop8SXPsYxXWVPE.jpg</td>\n",
              "      <td>TV Tokyo|4 Kids Entertainment|Nintendo|Pikachu...</td>\n",
              "      <td>Japan</td>\n",
              "      <td>2000-07-08</td>\n",
              "      <td>68.411275</td>\n",
              "      <td>93.0</td>\n",
              "      <td>English</td>\n",
              "      <td>Released</td>\n",
              "      <td>Pokémon: Spell of the Unknown</td>\n",
              "      <td>Pokémon: Spell of the Unknown</td>\n",
              "      <td>6.0</td>\n",
              "      <td>144.0</td>\n",
              "    </tr>\n",
              "    <tr>\n",
              "      <th>44826</th>\n",
              "      <td>Pokémon Collection</td>\n",
              "      <td>NaN</td>\n",
              "      <td>Adventure|Fantasy|Animation|Science Fiction|Fa...</td>\n",
              "      <td>12600.0</td>\n",
              "      <td>ja</td>\n",
              "      <td>All your favorite Pokémon characters are back,...</td>\n",
              "      <td>6.080108</td>\n",
              "      <td>/bqL0PVHbQ8Jmw3Njcl38kW0CoeM.jpg</td>\n",
              "      <td>NaN</td>\n",
              "      <td>Japan|United States of America</td>\n",
              "      <td>2001-07-06</td>\n",
              "      <td>28.023563</td>\n",
              "      <td>75.0</td>\n",
              "      <td>日本語</td>\n",
              "      <td>Released</td>\n",
              "      <td>NaN</td>\n",
              "      <td>Pokémon 4Ever: Celebi - Voice of the Forest</td>\n",
              "      <td>5.7</td>\n",
              "      <td>82.0</td>\n",
              "    </tr>\n",
              "    <tr>\n",
              "      <th>5535</th>\n",
              "      <td>Pokémon Collection</td>\n",
              "      <td>NaN</td>\n",
              "      <td>Adventure|Fantasy|Animation|Science Fiction|Fa...</td>\n",
              "      <td>12600.0</td>\n",
              "      <td>ja</td>\n",
              "      <td>All your favorite Pokémon characters are back,...</td>\n",
              "      <td>7.072301</td>\n",
              "      <td>/bqL0PVHbQ8Jmw3Njcl38kW0CoeM.jpg</td>\n",
              "      <td>NaN</td>\n",
              "      <td>Japan|United States of America</td>\n",
              "      <td>2001-07-06</td>\n",
              "      <td>28.023563</td>\n",
              "      <td>75.0</td>\n",
              "      <td>日本語</td>\n",
              "      <td>Released</td>\n",
              "      <td>NaN</td>\n",
              "      <td>Pokémon 4Ever: Celebi - Voice of the Forest</td>\n",
              "      <td>5.7</td>\n",
              "      <td>82.0</td>\n",
              "    </tr>\n",
              "    <tr>\n",
              "      <th>15765</th>\n",
              "      <td>NaN</td>\n",
              "      <td>0.002500</td>\n",
              "      <td>Drama|Comedy|Foreign</td>\n",
              "      <td>13209.0</td>\n",
              "      <td>fa</td>\n",
              "      <td>Since women are banned from soccer matches, Ir...</td>\n",
              "      <td>1.529879</td>\n",
              "      <td>/nfkOkpudNNIjRrf0mTFVoiGzHyc.jpg</td>\n",
              "      <td>Jafar Panahi Film Productions</td>\n",
              "      <td>Iran</td>\n",
              "      <td>2006-05-26</td>\n",
              "      <td>NaN</td>\n",
              "      <td>93.0</td>\n",
              "      <td>فارسی</td>\n",
              "      <td>Released</td>\n",
              "      <td>NaN</td>\n",
              "      <td>Offside</td>\n",
              "      <td>6.7</td>\n",
              "      <td>27.0</td>\n",
              "    </tr>\n",
              "    <tr>\n",
              "      <th>11342</th>\n",
              "      <td>NaN</td>\n",
              "      <td>0.002500</td>\n",
              "      <td>Drama|Comedy|Foreign</td>\n",
              "      <td>13209.0</td>\n",
              "      <td>fa</td>\n",
              "      <td>Since women are banned from soccer matches, Ir...</td>\n",
              "      <td>1.528960</td>\n",
              "      <td>/nfkOkpudNNIjRrf0mTFVoiGzHyc.jpg</td>\n",
              "      <td>Jafar Panahi Film Productions</td>\n",
              "      <td>Iran</td>\n",
              "      <td>2006-05-26</td>\n",
              "      <td>NaN</td>\n",
              "      <td>93.0</td>\n",
              "      <td>فارسی</td>\n",
              "      <td>Released</td>\n",
              "      <td>NaN</td>\n",
              "      <td>Offside</td>\n",
              "      <td>6.7</td>\n",
              "      <td>27.0</td>\n",
              "    </tr>\n",
              "    <tr>\n",
              "      <th>10419</th>\n",
              "      <td>NaN</td>\n",
              "      <td>1.600000</td>\n",
              "      <td>Drama|Crime|Mystery</td>\n",
              "      <td>14788.0</td>\n",
              "      <td>en</td>\n",
              "      <td>Set against the backdrop of a decaying Midwest...</td>\n",
              "      <td>3.185256</td>\n",
              "      <td>/w56oo9nREcF54sNXVYuE9QxZFjT.jpg</td>\n",
              "      <td>Magnolia Pictures|Extension 765</td>\n",
              "      <td>United States of America</td>\n",
              "      <td>2005-09-03</td>\n",
              "      <td>NaN</td>\n",
              "      <td>73.0</td>\n",
              "      <td>English</td>\n",
              "      <td>Released</td>\n",
              "      <td>NaN</td>\n",
              "      <td>Bubble</td>\n",
              "      <td>6.4</td>\n",
              "      <td>36.0</td>\n",
              "    </tr>\n",
              "    <tr>\n",
              "      <th>12066</th>\n",
              "      <td>NaN</td>\n",
              "      <td>1.600000</td>\n",
              "      <td>Drama|Crime|Mystery</td>\n",
              "      <td>14788.0</td>\n",
              "      <td>en</td>\n",
              "      <td>Set against the backdrop of a decaying Midwest...</td>\n",
              "      <td>3.008299</td>\n",
              "      <td>/w56oo9nREcF54sNXVYuE9QxZFjT.jpg</td>\n",
              "      <td>Magnolia Pictures|Extension 765</td>\n",
              "      <td>United States of America</td>\n",
              "      <td>2005-09-03</td>\n",
              "      <td>NaN</td>\n",
              "      <td>73.0</td>\n",
              "      <td>English</td>\n",
              "      <td>Released</td>\n",
              "      <td>NaN</td>\n",
              "      <td>Bubble</td>\n",
              "      <td>6.4</td>\n",
              "      <td>36.0</td>\n",
              "    </tr>\n",
              "    <tr>\n",
              "      <th>5130</th>\n",
              "      <td>NaN</td>\n",
              "      <td>26.000000</td>\n",
              "      <td>Adventure|Family|Science Fiction|Thriller</td>\n",
              "      <td>15028.0</td>\n",
              "      <td>en</td>\n",
              "      <td>Until now, Zak Gibbs' greatest challenge has b...</td>\n",
              "      <td>5.373623</td>\n",
              "      <td>/xGhDPrBz9mJN8CsIjA23jQSd3sc.jpg</td>\n",
              "      <td>Paramount Pictures|Nickelodeon Movies|Valhalla...</td>\n",
              "      <td>United States of America</td>\n",
              "      <td>2002-03-17</td>\n",
              "      <td>38.793283</td>\n",
              "      <td>94.0</td>\n",
              "      <td>Český|English</td>\n",
              "      <td>Released</td>\n",
              "      <td>The adventure of a lifetime, in a few mere sec...</td>\n",
              "      <td>Clockstoppers</td>\n",
              "      <td>4.9</td>\n",
              "      <td>89.0</td>\n",
              "    </tr>\n",
              "    <tr>\n",
              "      <th>33743</th>\n",
              "      <td>NaN</td>\n",
              "      <td>26.000000</td>\n",
              "      <td>Adventure|Family|Science Fiction|Thriller</td>\n",
              "      <td>15028.0</td>\n",
              "      <td>en</td>\n",
              "      <td>Until now, Zak Gibbs' greatest challenge has b...</td>\n",
              "      <td>4.920175</td>\n",
              "      <td>/xGhDPrBz9mJN8CsIjA23jQSd3sc.jpg</td>\n",
              "      <td>Paramount Pictures|Nickelodeon Movies|Valhalla...</td>\n",
              "      <td>United States of America</td>\n",
              "      <td>2002-03-17</td>\n",
              "      <td>38.793283</td>\n",
              "      <td>94.0</td>\n",
              "      <td>Český|English</td>\n",
              "      <td>Released</td>\n",
              "      <td>The adventure of a lifetime, in a few mere sec...</td>\n",
              "      <td>Clockstoppers</td>\n",
              "      <td>4.9</td>\n",
              "      <td>90.0</td>\n",
              "    </tr>\n",
              "    <tr>\n",
              "      <th>949</th>\n",
              "      <td>NaN</td>\n",
              "      <td>0.000004</td>\n",
              "      <td>Drama|Romance|War</td>\n",
              "      <td>22649.0</td>\n",
              "      <td>en</td>\n",
              "      <td>British nurse Catherine Barkley (Helen Hayes) ...</td>\n",
              "      <td>1.914697</td>\n",
              "      <td>/k0MF0IIbJ2PfOIku2KyraXL72d8.jpg</td>\n",
              "      <td>Paramount Pictures</td>\n",
              "      <td>United States of America</td>\n",
              "      <td>1932-12-08</td>\n",
              "      <td>0.000025</td>\n",
              "      <td>89.0</td>\n",
              "      <td>English</td>\n",
              "      <td>Released</td>\n",
              "      <td>Every woman who has loved will understand</td>\n",
              "      <td>A Farewell to Arms</td>\n",
              "      <td>6.2</td>\n",
              "      <td>29.0</td>\n",
              "    </tr>\n",
              "    <tr>\n",
              "      <th>15074</th>\n",
              "      <td>NaN</td>\n",
              "      <td>0.000004</td>\n",
              "      <td>Drama|Romance|War</td>\n",
              "      <td>22649.0</td>\n",
              "      <td>en</td>\n",
              "      <td>British nurse Catherine Barkley (Helen Hayes) ...</td>\n",
              "      <td>2.411191</td>\n",
              "      <td>/k0MF0IIbJ2PfOIku2KyraXL72d8.jpg</td>\n",
              "      <td>Paramount Pictures</td>\n",
              "      <td>United States of America</td>\n",
              "      <td>1932-12-08</td>\n",
              "      <td>0.000025</td>\n",
              "      <td>89.0</td>\n",
              "      <td>English</td>\n",
              "      <td>Released</td>\n",
              "      <td>Every woman who has loved will understand</td>\n",
              "      <td>A Farewell to Arms</td>\n",
              "      <td>6.2</td>\n",
              "      <td>29.0</td>\n",
              "    </tr>\n",
              "    <tr>\n",
              "      <th>9576</th>\n",
              "      <td>NaN</td>\n",
              "      <td>10.000000</td>\n",
              "      <td>Drama|Horror|Music|Romance|TV Movie</td>\n",
              "      <td>69234.0</td>\n",
              "      <td>en</td>\n",
              "      <td>Count de Chagnie has discovered Christine's si...</td>\n",
              "      <td>0.441872</td>\n",
              "      <td>/ole8e9YQwvHoKVpWO0lgfLFFemc.jpg</td>\n",
              "      <td>Beta Film|Reteitalia|TF1|Hexatel|Saban/Scheric...</td>\n",
              "      <td>France|Germany|Italy|United States of America</td>\n",
              "      <td>1990-03-18</td>\n",
              "      <td>NaN</td>\n",
              "      <td>168.0</td>\n",
              "      <td>English|Italiano</td>\n",
              "      <td>Released</td>\n",
              "      <td>NaN</td>\n",
              "      <td>The Phantom of the Opera</td>\n",
              "      <td>5.0</td>\n",
              "      <td>3.0</td>\n",
              "    </tr>\n",
              "    <tr>\n",
              "      <th>26625</th>\n",
              "      <td>NaN</td>\n",
              "      <td>10.000000</td>\n",
              "      <td>Drama|Horror|Music|Romance|TV Movie</td>\n",
              "      <td>69234.0</td>\n",
              "      <td>en</td>\n",
              "      <td>Count de Chagnie has discovered Christine's si...</td>\n",
              "      <td>0.438490</td>\n",
              "      <td>/ole8e9YQwvHoKVpWO0lgfLFFemc.jpg</td>\n",
              "      <td>Beta Film|Reteitalia|TF1|Hexatel|Saban/Scheric...</td>\n",
              "      <td>France|Germany|Italy|United States of America</td>\n",
              "      <td>1990-03-18</td>\n",
              "      <td>NaN</td>\n",
              "      <td>168.0</td>\n",
              "      <td>English|Italiano</td>\n",
              "      <td>Released</td>\n",
              "      <td>NaN</td>\n",
              "      <td>The Phantom of the Opera</td>\n",
              "      <td>5.0</td>\n",
              "      <td>3.0</td>\n",
              "    </tr>\n",
              "    <tr>\n",
              "      <th>20843</th>\n",
              "      <td>NaN</td>\n",
              "      <td>40.000000</td>\n",
              "      <td>Adventure|Drama</td>\n",
              "      <td>77221.0</td>\n",
              "      <td>en</td>\n",
              "      <td>On the Arabian Peninsula in the 1930s, two war...</td>\n",
              "      <td>6.475665</td>\n",
              "      <td>/iQd7zWhSeCe3cgdPcLIDXjGfdzL.jpg</td>\n",
              "      <td>France 2 Cinéma|Quinta Communications|Carthago...</td>\n",
              "      <td>France|Italy|Qatar|Tunisia</td>\n",
              "      <td>2011-12-21</td>\n",
              "      <td>5.446000</td>\n",
              "      <td>130.0</td>\n",
              "      <td>English</td>\n",
              "      <td>Released</td>\n",
              "      <td>NaN</td>\n",
              "      <td>Black Gold</td>\n",
              "      <td>5.9</td>\n",
              "      <td>77.0</td>\n",
              "    </tr>\n",
              "    <tr>\n",
              "      <th>11155</th>\n",
              "      <td>NaN</td>\n",
              "      <td>40.000000</td>\n",
              "      <td>Adventure|Drama</td>\n",
              "      <td>77221.0</td>\n",
              "      <td>en</td>\n",
              "      <td>On the Arabian Peninsula in the 1930s, two war...</td>\n",
              "      <td>6.652197</td>\n",
              "      <td>/iQd7zWhSeCe3cgdPcLIDXjGfdzL.jpg</td>\n",
              "      <td>France 2 Cinéma|Quinta Communications|Carthago...</td>\n",
              "      <td>France|Italy|Qatar|Tunisia</td>\n",
              "      <td>2011-12-21</td>\n",
              "      <td>5.446000</td>\n",
              "      <td>130.0</td>\n",
              "      <td>English</td>\n",
              "      <td>Released</td>\n",
              "      <td>NaN</td>\n",
              "      <td>Black Gold</td>\n",
              "      <td>5.9</td>\n",
              "      <td>77.0</td>\n",
              "    </tr>\n",
              "    <tr>\n",
              "      <th>21116</th>\n",
              "      <td>NaN</td>\n",
              "      <td>NaN</td>\n",
              "      <td>Documentary</td>\n",
              "      <td>84198.0</td>\n",
              "      <td>en</td>\n",
              "      <td>Using personal stories, this powerful document...</td>\n",
              "      <td>1.673307</td>\n",
              "      <td>/jn8L1QdWWX5c0NUOLjzaSXtZrbt.jpg</td>\n",
              "      <td>NaN</td>\n",
              "      <td>United States of America</td>\n",
              "      <td>2012-03-22</td>\n",
              "      <td>NaN</td>\n",
              "      <td>84.0</td>\n",
              "      <td>English</td>\n",
              "      <td>Released</td>\n",
              "      <td>One Nation. Underfed.</td>\n",
              "      <td>A Place at the Table</td>\n",
              "      <td>6.9</td>\n",
              "      <td>7.0</td>\n",
              "    </tr>\n",
              "    <tr>\n",
              "      <th>2564</th>\n",
              "      <td>NaN</td>\n",
              "      <td>NaN</td>\n",
              "      <td>Documentary</td>\n",
              "      <td>84198.0</td>\n",
              "      <td>en</td>\n",
              "      <td>Using personal stories, this powerful document...</td>\n",
              "      <td>0.501046</td>\n",
              "      <td>/jn8L1QdWWX5c0NUOLjzaSXtZrbt.jpg</td>\n",
              "      <td>NaN</td>\n",
              "      <td>United States of America</td>\n",
              "      <td>2012-03-22</td>\n",
              "      <td>NaN</td>\n",
              "      <td>84.0</td>\n",
              "      <td>English</td>\n",
              "      <td>Released</td>\n",
              "      <td>One Nation. Underfed.</td>\n",
              "      <td>A Place at the Table</td>\n",
              "      <td>6.9</td>\n",
              "      <td>7.0</td>\n",
              "    </tr>\n",
              "    <tr>\n",
              "      <th>20899</th>\n",
              "      <td>NaN</td>\n",
              "      <td>NaN</td>\n",
              "      <td>Drama</td>\n",
              "      <td>109962.0</td>\n",
              "      <td>en</td>\n",
              "      <td>Two literary women compete for 20 years: one w...</td>\n",
              "      <td>10.396878</td>\n",
              "      <td>/tOflyY8eUFWubLKJH7fKg4KwpCl.jpg</td>\n",
              "      <td>Metro-Goldwyn-Mayer (MGM)|Jaquet</td>\n",
              "      <td>United States of America</td>\n",
              "      <td>1981-09-23</td>\n",
              "      <td>NaN</td>\n",
              "      <td>115.0</td>\n",
              "      <td>English</td>\n",
              "      <td>Released</td>\n",
              "      <td>From the very beginning, they knew they'd be f...</td>\n",
              "      <td>Rich and Famous</td>\n",
              "      <td>4.9</td>\n",
              "      <td>7.0</td>\n",
              "    </tr>\n",
              "    <tr>\n",
              "      <th>5710</th>\n",
              "      <td>NaN</td>\n",
              "      <td>NaN</td>\n",
              "      <td>Drama</td>\n",
              "      <td>109962.0</td>\n",
              "      <td>en</td>\n",
              "      <td>Two literary women compete for 20 years: one w...</td>\n",
              "      <td>12.180836</td>\n",
              "      <td>/tOflyY8eUFWubLKJH7fKg4KwpCl.jpg</td>\n",
              "      <td>Metro-Goldwyn-Mayer (MGM)|Jaquet</td>\n",
              "      <td>United States of America</td>\n",
              "      <td>1981-09-23</td>\n",
              "      <td>NaN</td>\n",
              "      <td>115.0</td>\n",
              "      <td>English</td>\n",
              "      <td>Released</td>\n",
              "      <td>From the very beginning, they knew they'd be f...</td>\n",
              "      <td>Rich and Famous</td>\n",
              "      <td>4.9</td>\n",
              "      <td>7.0</td>\n",
              "    </tr>\n",
              "    <tr>\n",
              "      <th>23534</th>\n",
              "      <td>NaN</td>\n",
              "      <td>3.512454</td>\n",
              "      <td>Drama</td>\n",
              "      <td>110428.0</td>\n",
              "      <td>fr</td>\n",
              "      <td>Winter, 1915. Confined by her family to an asy...</td>\n",
              "      <td>0.110065</td>\n",
              "      <td>/sGMPDg6je1zKi0TiX9b4pP6yN02.jpg</td>\n",
              "      <td>Canal+|Arte France Cinéma|3B Productions|C.R.R...</td>\n",
              "      <td>France</td>\n",
              "      <td>2013-03-13</td>\n",
              "      <td>0.115860</td>\n",
              "      <td>95.0</td>\n",
              "      <td>Français</td>\n",
              "      <td>Released</td>\n",
              "      <td>NaN</td>\n",
              "      <td>Camille Claudel 1915</td>\n",
              "      <td>7.0</td>\n",
              "      <td>20.0</td>\n",
              "    </tr>\n",
              "    <tr>\n",
              "      <th>4356</th>\n",
              "      <td>NaN</td>\n",
              "      <td>3.512454</td>\n",
              "      <td>Drama</td>\n",
              "      <td>110428.0</td>\n",
              "      <td>fr</td>\n",
              "      <td>Winter, 1915. Confined by her family to an asy...</td>\n",
              "      <td>0.134014</td>\n",
              "      <td>/sGMPDg6je1zKi0TiX9b4pP6yN02.jpg</td>\n",
              "      <td>Canal+|Arte France Cinéma|3B Productions|C.R.R...</td>\n",
              "      <td>France</td>\n",
              "      <td>2013-03-13</td>\n",
              "      <td>0.115860</td>\n",
              "      <td>95.0</td>\n",
              "      <td>Français</td>\n",
              "      <td>Released</td>\n",
              "      <td>NaN</td>\n",
              "      <td>Camille Claudel 1915</td>\n",
              "      <td>7.0</td>\n",
              "      <td>20.0</td>\n",
              "    </tr>\n",
              "    <tr>\n",
              "      <th>30001</th>\n",
              "      <td>NaN</td>\n",
              "      <td>NaN</td>\n",
              "      <td>Drama</td>\n",
              "      <td>132641.0</td>\n",
              "      <td>ja</td>\n",
              "      <td>Ten years into a marriage, the wife is disappo...</td>\n",
              "      <td>0.619388</td>\n",
              "      <td>/z9WiHt5uQjs8L8tyBpRBKzlheF2.jpg</td>\n",
              "      <td>Toho Company</td>\n",
              "      <td>Japan</td>\n",
              "      <td>1953-04-29</td>\n",
              "      <td>NaN</td>\n",
              "      <td>89.0</td>\n",
              "      <td>日本語</td>\n",
              "      <td>Released</td>\n",
              "      <td>NaN</td>\n",
              "      <td>Wife</td>\n",
              "      <td>NaN</td>\n",
              "      <td>0.0</td>\n",
              "    </tr>\n",
              "    <tr>\n",
              "      <th>838</th>\n",
              "      <td>NaN</td>\n",
              "      <td>NaN</td>\n",
              "      <td>Drama</td>\n",
              "      <td>132641.0</td>\n",
              "      <td>ja</td>\n",
              "      <td>Ten years into a marriage, the wife is disappo...</td>\n",
              "      <td>0.096079</td>\n",
              "      <td>/z9WiHt5uQjs8L8tyBpRBKzlheF2.jpg</td>\n",
              "      <td>Toho Company</td>\n",
              "      <td>Japan</td>\n",
              "      <td>1953-04-29</td>\n",
              "      <td>NaN</td>\n",
              "      <td>89.0</td>\n",
              "      <td>日本語</td>\n",
              "      <td>Released</td>\n",
              "      <td>NaN</td>\n",
              "      <td>Wife</td>\n",
              "      <td>NaN</td>\n",
              "      <td>0.0</td>\n",
              "    </tr>\n",
              "    <tr>\n",
              "      <th>19730</th>\n",
              "      <td>NaN</td>\n",
              "      <td>NaN</td>\n",
              "      <td>Carousel Productions|Vision View Entertainment...</td>\n",
              "      <td>NaN</td>\n",
              "      <td>104.0</td>\n",
              "      <td>Released</td>\n",
              "      <td>NaN</td>\n",
              "      <td>Midnight Man</td>\n",
              "      <td>NaN</td>\n",
              "      <td>NaN</td>\n",
              "      <td>NaT</td>\n",
              "      <td>NaN</td>\n",
              "      <td>NaN</td>\n",
              "      <td>NaN</td>\n",
              "      <td>NaN</td>\n",
              "      <td>NaN</td>\n",
              "      <td>NaN</td>\n",
              "      <td>NaN</td>\n",
              "      <td>NaN</td>\n",
              "    </tr>\n",
              "    <tr>\n",
              "      <th>29503</th>\n",
              "      <td>NaN</td>\n",
              "      <td>NaN</td>\n",
              "      <td>Aniplex|GoHands|BROSTA TV|Mardock Scramble Pro...</td>\n",
              "      <td>NaN</td>\n",
              "      <td>68.0</td>\n",
              "      <td>Released</td>\n",
              "      <td>NaN</td>\n",
              "      <td>Mardock Scramble: The Third Exhaust</td>\n",
              "      <td>NaN</td>\n",
              "      <td>NaN</td>\n",
              "      <td>NaT</td>\n",
              "      <td>NaN</td>\n",
              "      <td>NaN</td>\n",
              "      <td>NaN</td>\n",
              "      <td>NaN</td>\n",
              "      <td>NaN</td>\n",
              "      <td>NaN</td>\n",
              "      <td>NaN</td>\n",
              "      <td>NaN</td>\n",
              "    </tr>\n",
              "    <tr>\n",
              "      <th>35587</th>\n",
              "      <td>NaN</td>\n",
              "      <td>NaN</td>\n",
              "      <td>Odyssey Media|Pulser Productions|Rogue State|T...</td>\n",
              "      <td>NaN</td>\n",
              "      <td>82.0</td>\n",
              "      <td>Released</td>\n",
              "      <td>NaN</td>\n",
              "      <td>Avalanche Sharks</td>\n",
              "      <td>NaN</td>\n",
              "      <td>NaN</td>\n",
              "      <td>NaT</td>\n",
              "      <td>NaN</td>\n",
              "      <td>NaN</td>\n",
              "      <td>NaN</td>\n",
              "      <td>NaN</td>\n",
              "      <td>NaN</td>\n",
              "      <td>NaN</td>\n",
              "      <td>NaN</td>\n",
              "      <td>NaN</td>\n",
              "    </tr>\n",
              "  </tbody>\n",
              "</table>\n",
              "</div>\n",
              "      <button class=\"colab-df-convert\" onclick=\"convertToInteractive('df-6790af61-ad18-45b4-b2ee-08aa6e0721ad')\"\n",
              "              title=\"Convert this dataframe to an interactive table.\"\n",
              "              style=\"display:none;\">\n",
              "        \n",
              "  <svg xmlns=\"http://www.w3.org/2000/svg\" height=\"24px\"viewBox=\"0 0 24 24\"\n",
              "       width=\"24px\">\n",
              "    <path d=\"M0 0h24v24H0V0z\" fill=\"none\"/>\n",
              "    <path d=\"M18.56 5.44l.94 2.06.94-2.06 2.06-.94-2.06-.94-.94-2.06-.94 2.06-2.06.94zm-11 1L8.5 8.5l.94-2.06 2.06-.94-2.06-.94L8.5 2.5l-.94 2.06-2.06.94zm10 10l.94 2.06.94-2.06 2.06-.94-2.06-.94-.94-2.06-.94 2.06-2.06.94z\"/><path d=\"M17.41 7.96l-1.37-1.37c-.4-.4-.92-.59-1.43-.59-.52 0-1.04.2-1.43.59L10.3 9.45l-7.72 7.72c-.78.78-.78 2.05 0 2.83L4 21.41c.39.39.9.59 1.41.59.51 0 1.02-.2 1.41-.59l7.78-7.78 2.81-2.81c.8-.78.8-2.07 0-2.86zM5.41 20L4 18.59l7.72-7.72 1.47 1.35L5.41 20z\"/>\n",
              "  </svg>\n",
              "      </button>\n",
              "      \n",
              "  <style>\n",
              "    .colab-df-container {\n",
              "      display:flex;\n",
              "      flex-wrap:wrap;\n",
              "      gap: 12px;\n",
              "    }\n",
              "\n",
              "    .colab-df-convert {\n",
              "      background-color: #E8F0FE;\n",
              "      border: none;\n",
              "      border-radius: 50%;\n",
              "      cursor: pointer;\n",
              "      display: none;\n",
              "      fill: #1967D2;\n",
              "      height: 32px;\n",
              "      padding: 0 0 0 0;\n",
              "      width: 32px;\n",
              "    }\n",
              "\n",
              "    .colab-df-convert:hover {\n",
              "      background-color: #E2EBFA;\n",
              "      box-shadow: 0px 1px 2px rgba(60, 64, 67, 0.3), 0px 1px 3px 1px rgba(60, 64, 67, 0.15);\n",
              "      fill: #174EA6;\n",
              "    }\n",
              "\n",
              "    [theme=dark] .colab-df-convert {\n",
              "      background-color: #3B4455;\n",
              "      fill: #D2E3FC;\n",
              "    }\n",
              "\n",
              "    [theme=dark] .colab-df-convert:hover {\n",
              "      background-color: #434B5C;\n",
              "      box-shadow: 0px 1px 3px 1px rgba(0, 0, 0, 0.15);\n",
              "      filter: drop-shadow(0px 1px 2px rgba(0, 0, 0, 0.3));\n",
              "      fill: #FFFFFF;\n",
              "    }\n",
              "  </style>\n",
              "\n",
              "      <script>\n",
              "        const buttonEl =\n",
              "          document.querySelector('#df-6790af61-ad18-45b4-b2ee-08aa6e0721ad button.colab-df-convert');\n",
              "        buttonEl.style.display =\n",
              "          google.colab.kernel.accessAllowed ? 'block' : 'none';\n",
              "\n",
              "        async function convertToInteractive(key) {\n",
              "          const element = document.querySelector('#df-6790af61-ad18-45b4-b2ee-08aa6e0721ad');\n",
              "          const dataTable =\n",
              "            await google.colab.kernel.invokeFunction('convertToInteractive',\n",
              "                                                     [key], {});\n",
              "          if (!dataTable) return;\n",
              "\n",
              "          const docLinkHtml = 'Like what you see? Visit the ' +\n",
              "            '<a target=\"_blank\" href=https://colab.research.google.com/notebooks/data_table.ipynb>data table notebook</a>'\n",
              "            + ' to learn more about interactive tables.';\n",
              "          element.innerHTML = '';\n",
              "          dataTable['output_type'] = 'display_data';\n",
              "          await google.colab.output.renderOutput(dataTable, element);\n",
              "          const docLink = document.createElement('div');\n",
              "          docLink.innerHTML = docLinkHtml;\n",
              "          element.appendChild(docLink);\n",
              "        }\n",
              "      </script>\n",
              "    </div>\n",
              "  </div>\n",
              "  "
            ]
          },
          "metadata": {},
          "execution_count": 412
        }
      ]
    },
    {
      "cell_type": "code",
      "source": [
        "df.drop_duplicates(subset = 'id', keep = 'first', inplace = True)"
      ],
      "metadata": {
        "id": "TtZpJNZSTv2H"
      },
      "execution_count": 413,
      "outputs": []
    },
    {
      "cell_type": "code",
      "source": [
        "df.id.value_counts(dropna = False).head(10)"
      ],
      "metadata": {
        "colab": {
          "base_uri": "https://localhost:8080/"
        },
        "id": "AklI_OObUGJ6",
        "outputId": "ff22a4f1-e893-42e5-8da0-84a51e3a35f8"
      },
      "execution_count": 414,
      "outputs": [
        {
          "output_type": "execute_result",
          "data": {
            "text/plain": [
              "862.0       1\n",
              "74458.0     1\n",
              "296206.0    1\n",
              "107308.0    1\n",
              "16247.0     1\n",
              "99904.0     1\n",
              "109463.0    1\n",
              "116439.0    1\n",
              "86541.0     1\n",
              "53210.0     1\n",
              "Name: id, dtype: int64"
            ]
          },
          "metadata": {},
          "execution_count": 414
        }
      ]
    },
    {
      "cell_type": "markdown",
      "source": [
        "##Handling missing values - do nothing or remove rows"
      ],
      "metadata": {
        "id": "zH0tTgKBUQOk"
      }
    },
    {
      "cell_type": "code",
      "source": [
        "df.isna().sum()"
      ],
      "metadata": {
        "colab": {
          "base_uri": "https://localhost:8080/"
        },
        "id": "fnueWDWGUKhg",
        "outputId": "dba36880-0ea1-4434-91e2-1f29d63687f0"
      },
      "execution_count": 415,
      "outputs": [
        {
          "output_type": "execute_result",
          "data": {
            "text/plain": [
              "belongs_to_collection    40946\n",
              "budget_musd              36554\n",
              "genres                    2442\n",
              "id                           1\n",
              "original_language           11\n",
              "overview                  1102\n",
              "popularity                   4\n",
              "poster_path                386\n",
              "production_companies     11872\n",
              "production_countries      6283\n",
              "release_date                88\n",
              "revenue_musd             38036\n",
              "runtime                   1819\n",
              "spoken_languages          3954\n",
              "status                      85\n",
              "tagline                  25037\n",
              "title                        4\n",
              "vote_average              2900\n",
              "vote_count                   4\n",
              "dtype: int64"
            ]
          },
          "metadata": {},
          "execution_count": 415
        }
      ]
    },
    {
      "cell_type": "markdown",
      "source": [
        "###Display rows without the title"
      ],
      "metadata": {
        "id": "2ApBp_zeUuw2"
      }
    },
    {
      "cell_type": "code",
      "source": [
        "df[df.title.isna()]"
      ],
      "metadata": {
        "colab": {
          "base_uri": "https://localhost:8080/",
          "height": 499
        },
        "id": "gt4LQKNKUiT1",
        "outputId": "6b2adbd1-bfd8-4e18-e8ef-bc9c25313f98"
      },
      "execution_count": 416,
      "outputs": [
        {
          "output_type": "execute_result",
          "data": {
            "text/plain": [
              "             belongs_to_collection  budget_musd  \\\n",
              "19729                          NaN          NaN   \n",
              "19730                          NaN          NaN   \n",
              "29502  Mardock Scramble Collection          NaN   \n",
              "35586                          NaN          NaN   \n",
              "\n",
              "                                                  genres        id  \\\n",
              "19729                              Action|Thriller|Drama   82663.0   \n",
              "19730  Carousel Productions|Vision View Entertainment...       NaN   \n",
              "29502                          Animation|Science Fiction  122662.0   \n",
              "35586             TV Movie|Action|Horror|Science Fiction  249260.0   \n",
              "\n",
              "      original_language                                           overview  \\\n",
              "19729                en  British soldiers force a recently captured IRA...   \n",
              "19730             104.0                                           Released   \n",
              "29502                ja         Third film of the Mardock Scramble series.   \n",
              "35586                en  A group of skiers are terrorized during spring...   \n",
              "\n",
              "       popularity   poster_path production_companies production_countries  \\\n",
              "19729         NaN           NaN                  NaN                  NaN   \n",
              "19730         NaN  Midnight Man                  NaN                  NaN   \n",
              "29502         NaN           NaN                  NaN                  NaN   \n",
              "35586         NaN           NaN                  NaN                  NaN   \n",
              "\n",
              "      release_date  revenue_musd  runtime spoken_languages status tagline  \\\n",
              "19729          NaT           NaN      NaN              NaN    NaN     NaN   \n",
              "19730          NaT           NaN      NaN              NaN    NaN     NaN   \n",
              "29502          NaT           NaN      NaN              NaN    NaN     NaN   \n",
              "35586          NaT           NaN      NaN              NaN    NaN     NaN   \n",
              "\n",
              "      title  vote_average  vote_count  \n",
              "19729   NaN           NaN         NaN  \n",
              "19730   NaN           NaN         NaN  \n",
              "29502   NaN           NaN         NaN  \n",
              "35586   NaN           NaN         NaN  "
            ],
            "text/html": [
              "\n",
              "  <div id=\"df-b10c92dc-f680-4afd-b327-4ea67bfeabda\">\n",
              "    <div class=\"colab-df-container\">\n",
              "      <div>\n",
              "<style scoped>\n",
              "    .dataframe tbody tr th:only-of-type {\n",
              "        vertical-align: middle;\n",
              "    }\n",
              "\n",
              "    .dataframe tbody tr th {\n",
              "        vertical-align: top;\n",
              "    }\n",
              "\n",
              "    .dataframe thead th {\n",
              "        text-align: right;\n",
              "    }\n",
              "</style>\n",
              "<table border=\"1\" class=\"dataframe\">\n",
              "  <thead>\n",
              "    <tr style=\"text-align: right;\">\n",
              "      <th></th>\n",
              "      <th>belongs_to_collection</th>\n",
              "      <th>budget_musd</th>\n",
              "      <th>genres</th>\n",
              "      <th>id</th>\n",
              "      <th>original_language</th>\n",
              "      <th>overview</th>\n",
              "      <th>popularity</th>\n",
              "      <th>poster_path</th>\n",
              "      <th>production_companies</th>\n",
              "      <th>production_countries</th>\n",
              "      <th>release_date</th>\n",
              "      <th>revenue_musd</th>\n",
              "      <th>runtime</th>\n",
              "      <th>spoken_languages</th>\n",
              "      <th>status</th>\n",
              "      <th>tagline</th>\n",
              "      <th>title</th>\n",
              "      <th>vote_average</th>\n",
              "      <th>vote_count</th>\n",
              "    </tr>\n",
              "  </thead>\n",
              "  <tbody>\n",
              "    <tr>\n",
              "      <th>19729</th>\n",
              "      <td>NaN</td>\n",
              "      <td>NaN</td>\n",
              "      <td>Action|Thriller|Drama</td>\n",
              "      <td>82663.0</td>\n",
              "      <td>en</td>\n",
              "      <td>British soldiers force a recently captured IRA...</td>\n",
              "      <td>NaN</td>\n",
              "      <td>NaN</td>\n",
              "      <td>NaN</td>\n",
              "      <td>NaN</td>\n",
              "      <td>NaT</td>\n",
              "      <td>NaN</td>\n",
              "      <td>NaN</td>\n",
              "      <td>NaN</td>\n",
              "      <td>NaN</td>\n",
              "      <td>NaN</td>\n",
              "      <td>NaN</td>\n",
              "      <td>NaN</td>\n",
              "      <td>NaN</td>\n",
              "    </tr>\n",
              "    <tr>\n",
              "      <th>19730</th>\n",
              "      <td>NaN</td>\n",
              "      <td>NaN</td>\n",
              "      <td>Carousel Productions|Vision View Entertainment...</td>\n",
              "      <td>NaN</td>\n",
              "      <td>104.0</td>\n",
              "      <td>Released</td>\n",
              "      <td>NaN</td>\n",
              "      <td>Midnight Man</td>\n",
              "      <td>NaN</td>\n",
              "      <td>NaN</td>\n",
              "      <td>NaT</td>\n",
              "      <td>NaN</td>\n",
              "      <td>NaN</td>\n",
              "      <td>NaN</td>\n",
              "      <td>NaN</td>\n",
              "      <td>NaN</td>\n",
              "      <td>NaN</td>\n",
              "      <td>NaN</td>\n",
              "      <td>NaN</td>\n",
              "    </tr>\n",
              "    <tr>\n",
              "      <th>29502</th>\n",
              "      <td>Mardock Scramble Collection</td>\n",
              "      <td>NaN</td>\n",
              "      <td>Animation|Science Fiction</td>\n",
              "      <td>122662.0</td>\n",
              "      <td>ja</td>\n",
              "      <td>Third film of the Mardock Scramble series.</td>\n",
              "      <td>NaN</td>\n",
              "      <td>NaN</td>\n",
              "      <td>NaN</td>\n",
              "      <td>NaN</td>\n",
              "      <td>NaT</td>\n",
              "      <td>NaN</td>\n",
              "      <td>NaN</td>\n",
              "      <td>NaN</td>\n",
              "      <td>NaN</td>\n",
              "      <td>NaN</td>\n",
              "      <td>NaN</td>\n",
              "      <td>NaN</td>\n",
              "      <td>NaN</td>\n",
              "    </tr>\n",
              "    <tr>\n",
              "      <th>35586</th>\n",
              "      <td>NaN</td>\n",
              "      <td>NaN</td>\n",
              "      <td>TV Movie|Action|Horror|Science Fiction</td>\n",
              "      <td>249260.0</td>\n",
              "      <td>en</td>\n",
              "      <td>A group of skiers are terrorized during spring...</td>\n",
              "      <td>NaN</td>\n",
              "      <td>NaN</td>\n",
              "      <td>NaN</td>\n",
              "      <td>NaN</td>\n",
              "      <td>NaT</td>\n",
              "      <td>NaN</td>\n",
              "      <td>NaN</td>\n",
              "      <td>NaN</td>\n",
              "      <td>NaN</td>\n",
              "      <td>NaN</td>\n",
              "      <td>NaN</td>\n",
              "      <td>NaN</td>\n",
              "      <td>NaN</td>\n",
              "    </tr>\n",
              "  </tbody>\n",
              "</table>\n",
              "</div>\n",
              "      <button class=\"colab-df-convert\" onclick=\"convertToInteractive('df-b10c92dc-f680-4afd-b327-4ea67bfeabda')\"\n",
              "              title=\"Convert this dataframe to an interactive table.\"\n",
              "              style=\"display:none;\">\n",
              "        \n",
              "  <svg xmlns=\"http://www.w3.org/2000/svg\" height=\"24px\"viewBox=\"0 0 24 24\"\n",
              "       width=\"24px\">\n",
              "    <path d=\"M0 0h24v24H0V0z\" fill=\"none\"/>\n",
              "    <path d=\"M18.56 5.44l.94 2.06.94-2.06 2.06-.94-2.06-.94-.94-2.06-.94 2.06-2.06.94zm-11 1L8.5 8.5l.94-2.06 2.06-.94-2.06-.94L8.5 2.5l-.94 2.06-2.06.94zm10 10l.94 2.06.94-2.06 2.06-.94-2.06-.94-.94-2.06-.94 2.06-2.06.94z\"/><path d=\"M17.41 7.96l-1.37-1.37c-.4-.4-.92-.59-1.43-.59-.52 0-1.04.2-1.43.59L10.3 9.45l-7.72 7.72c-.78.78-.78 2.05 0 2.83L4 21.41c.39.39.9.59 1.41.59.51 0 1.02-.2 1.41-.59l7.78-7.78 2.81-2.81c.8-.78.8-2.07 0-2.86zM5.41 20L4 18.59l7.72-7.72 1.47 1.35L5.41 20z\"/>\n",
              "  </svg>\n",
              "      </button>\n",
              "      \n",
              "  <style>\n",
              "    .colab-df-container {\n",
              "      display:flex;\n",
              "      flex-wrap:wrap;\n",
              "      gap: 12px;\n",
              "    }\n",
              "\n",
              "    .colab-df-convert {\n",
              "      background-color: #E8F0FE;\n",
              "      border: none;\n",
              "      border-radius: 50%;\n",
              "      cursor: pointer;\n",
              "      display: none;\n",
              "      fill: #1967D2;\n",
              "      height: 32px;\n",
              "      padding: 0 0 0 0;\n",
              "      width: 32px;\n",
              "    }\n",
              "\n",
              "    .colab-df-convert:hover {\n",
              "      background-color: #E2EBFA;\n",
              "      box-shadow: 0px 1px 2px rgba(60, 64, 67, 0.3), 0px 1px 3px 1px rgba(60, 64, 67, 0.15);\n",
              "      fill: #174EA6;\n",
              "    }\n",
              "\n",
              "    [theme=dark] .colab-df-convert {\n",
              "      background-color: #3B4455;\n",
              "      fill: #D2E3FC;\n",
              "    }\n",
              "\n",
              "    [theme=dark] .colab-df-convert:hover {\n",
              "      background-color: #434B5C;\n",
              "      box-shadow: 0px 1px 3px 1px rgba(0, 0, 0, 0.15);\n",
              "      filter: drop-shadow(0px 1px 2px rgba(0, 0, 0, 0.3));\n",
              "      fill: #FFFFFF;\n",
              "    }\n",
              "  </style>\n",
              "\n",
              "      <script>\n",
              "        const buttonEl =\n",
              "          document.querySelector('#df-b10c92dc-f680-4afd-b327-4ea67bfeabda button.colab-df-convert');\n",
              "        buttonEl.style.display =\n",
              "          google.colab.kernel.accessAllowed ? 'block' : 'none';\n",
              "\n",
              "        async function convertToInteractive(key) {\n",
              "          const element = document.querySelector('#df-b10c92dc-f680-4afd-b327-4ea67bfeabda');\n",
              "          const dataTable =\n",
              "            await google.colab.kernel.invokeFunction('convertToInteractive',\n",
              "                                                     [key], {});\n",
              "          if (!dataTable) return;\n",
              "\n",
              "          const docLinkHtml = 'Like what you see? Visit the ' +\n",
              "            '<a target=\"_blank\" href=https://colab.research.google.com/notebooks/data_table.ipynb>data table notebook</a>'\n",
              "            + ' to learn more about interactive tables.';\n",
              "          element.innerHTML = '';\n",
              "          dataTable['output_type'] = 'display_data';\n",
              "          await google.colab.output.renderOutput(dataTable, element);\n",
              "          const docLink = document.createElement('div');\n",
              "          docLink.innerHTML = docLinkHtml;\n",
              "          element.appendChild(docLink);\n",
              "        }\n",
              "      </script>\n",
              "    </div>\n",
              "  </div>\n",
              "  "
            ]
          },
          "metadata": {},
          "execution_count": 416
        }
      ]
    },
    {
      "cell_type": "code",
      "source": [
        "df.dropna(subset = ['title', 'id'], inplace = True)"
      ],
      "metadata": {
        "id": "LM942LRVUt1N"
      },
      "execution_count": 417,
      "outputs": []
    },
    {
      "cell_type": "markdown",
      "source": [
        "###Converting id column to int"
      ],
      "metadata": {
        "id": "SsS9t0xgVP09"
      }
    },
    {
      "cell_type": "code",
      "source": [
        "df.id = df.id.astype('int')"
      ],
      "metadata": {
        "id": "qBxFQozcU6xZ"
      },
      "execution_count": 418,
      "outputs": []
    },
    {
      "cell_type": "markdown",
      "source": [
        "###Checking how many not missing values are in rows"
      ],
      "metadata": {
        "id": "U_lwl970Vazu"
      }
    },
    {
      "cell_type": "code",
      "source": [
        "df.notna().sum(axis = 1)"
      ],
      "metadata": {
        "colab": {
          "base_uri": "https://localhost:8080/"
        },
        "id": "p0E6iPUSVTfA",
        "outputId": "2f8f7a69-e97f-4f02-a6bb-907c44aeb2f1"
      },
      "execution_count": 419,
      "outputs": [
        {
          "output_type": "execute_result",
          "data": {
            "text/plain": [
              "0        18\n",
              "1        18\n",
              "2        17\n",
              "3        18\n",
              "4        18\n",
              "         ..\n",
              "45461    14\n",
              "45462    14\n",
              "45463    16\n",
              "45464    12\n",
              "45465    12\n",
              "Length: 45430, dtype: int64"
            ]
          },
          "metadata": {},
          "execution_count": 419
        }
      ]
    },
    {
      "cell_type": "code",
      "source": [
        "df.notna().sum(axis = 1).value_counts().sort_values(ascending = False)"
      ],
      "metadata": {
        "colab": {
          "base_uri": "https://localhost:8080/"
        },
        "id": "nIGdfjIRVgcU",
        "outputId": "afc1c09a-a287-4c43-eb7a-6793727c6116"
      },
      "execution_count": 420,
      "outputs": [
        {
          "output_type": "execute_result",
          "data": {
            "text/plain": [
              "15    12522\n",
              "16    11454\n",
              "14     5424\n",
              "17     4265\n",
              "18     3859\n",
              "13     3041\n",
              "12     1890\n",
              "19     1132\n",
              "11     1020\n",
              "10      512\n",
              "9       183\n",
              "8       104\n",
              "7        20\n",
              "6         4\n",
              "dtype: int64"
            ]
          },
          "metadata": {},
          "execution_count": 420
        }
      ]
    },
    {
      "cell_type": "markdown",
      "source": [
        "###Removing rows with less than 10 non-missing values"
      ],
      "metadata": {
        "id": "6eeFqM8FVwph"
      }
    },
    {
      "cell_type": "code",
      "source": [
        "df[df.notna().sum(axis = 1) == 6]"
      ],
      "metadata": {
        "colab": {
          "base_uri": "https://localhost:8080/",
          "height": 308
        },
        "id": "sYYrej2EVk1R",
        "outputId": "9e82226b-f652-4bd3-fba1-eb6e3dcc02ed"
      },
      "execution_count": 421,
      "outputs": [
        {
          "output_type": "execute_result",
          "data": {
            "text/plain": [
              "      belongs_to_collection  budget_musd genres      id original_language  \\\n",
              "18038                   NaN          NaN    NaN  344741                pl   \n",
              "20166                   NaN          NaN    NaN  139909                fi   \n",
              "41718                   NaN          NaN    NaN  216550                de   \n",
              "44978                   NaN          NaN    NaN  398295                pt   \n",
              "\n",
              "      overview  popularity poster_path production_companies  \\\n",
              "18038      NaN    0.000000         NaN                  NaN   \n",
              "20166      NaN    0.000127         NaN                  NaN   \n",
              "41718      NaN    0.000000         NaN                  NaN   \n",
              "44978      NaN    0.000331         NaN                  NaN   \n",
              "\n",
              "      production_countries release_date  revenue_musd  runtime  \\\n",
              "18038                  NaN          NaT           NaN      NaN   \n",
              "20166                  NaN          NaT           NaN      NaN   \n",
              "41718                  NaN          NaT           NaN      NaN   \n",
              "44978                  NaN          NaT           NaN      NaN   \n",
              "\n",
              "      spoken_languages    status tagline  \\\n",
              "18038              NaN  Released     NaN   \n",
              "20166              NaN  Released     NaN   \n",
              "41718              NaN  Released     NaN   \n",
              "44978              NaN  Released     NaN   \n",
              "\n",
              "                                        title  vote_average  vote_count  \n",
              "18038                              Pajęczarki           NaN         0.0  \n",
              "20166                            Aurinkotuuli           NaN         0.0  \n",
              "41718  Dolpo Tulku - Heimkehr in den Himalaya           NaN         0.0  \n",
              "44978                               Mundo Cão           NaN         0.0  "
            ],
            "text/html": [
              "\n",
              "  <div id=\"df-d303e888-bbf0-4bfa-9118-864fcc3cccf1\">\n",
              "    <div class=\"colab-df-container\">\n",
              "      <div>\n",
              "<style scoped>\n",
              "    .dataframe tbody tr th:only-of-type {\n",
              "        vertical-align: middle;\n",
              "    }\n",
              "\n",
              "    .dataframe tbody tr th {\n",
              "        vertical-align: top;\n",
              "    }\n",
              "\n",
              "    .dataframe thead th {\n",
              "        text-align: right;\n",
              "    }\n",
              "</style>\n",
              "<table border=\"1\" class=\"dataframe\">\n",
              "  <thead>\n",
              "    <tr style=\"text-align: right;\">\n",
              "      <th></th>\n",
              "      <th>belongs_to_collection</th>\n",
              "      <th>budget_musd</th>\n",
              "      <th>genres</th>\n",
              "      <th>id</th>\n",
              "      <th>original_language</th>\n",
              "      <th>overview</th>\n",
              "      <th>popularity</th>\n",
              "      <th>poster_path</th>\n",
              "      <th>production_companies</th>\n",
              "      <th>production_countries</th>\n",
              "      <th>release_date</th>\n",
              "      <th>revenue_musd</th>\n",
              "      <th>runtime</th>\n",
              "      <th>spoken_languages</th>\n",
              "      <th>status</th>\n",
              "      <th>tagline</th>\n",
              "      <th>title</th>\n",
              "      <th>vote_average</th>\n",
              "      <th>vote_count</th>\n",
              "    </tr>\n",
              "  </thead>\n",
              "  <tbody>\n",
              "    <tr>\n",
              "      <th>18038</th>\n",
              "      <td>NaN</td>\n",
              "      <td>NaN</td>\n",
              "      <td>NaN</td>\n",
              "      <td>344741</td>\n",
              "      <td>pl</td>\n",
              "      <td>NaN</td>\n",
              "      <td>0.000000</td>\n",
              "      <td>NaN</td>\n",
              "      <td>NaN</td>\n",
              "      <td>NaN</td>\n",
              "      <td>NaT</td>\n",
              "      <td>NaN</td>\n",
              "      <td>NaN</td>\n",
              "      <td>NaN</td>\n",
              "      <td>Released</td>\n",
              "      <td>NaN</td>\n",
              "      <td>Pajęczarki</td>\n",
              "      <td>NaN</td>\n",
              "      <td>0.0</td>\n",
              "    </tr>\n",
              "    <tr>\n",
              "      <th>20166</th>\n",
              "      <td>NaN</td>\n",
              "      <td>NaN</td>\n",
              "      <td>NaN</td>\n",
              "      <td>139909</td>\n",
              "      <td>fi</td>\n",
              "      <td>NaN</td>\n",
              "      <td>0.000127</td>\n",
              "      <td>NaN</td>\n",
              "      <td>NaN</td>\n",
              "      <td>NaN</td>\n",
              "      <td>NaT</td>\n",
              "      <td>NaN</td>\n",
              "      <td>NaN</td>\n",
              "      <td>NaN</td>\n",
              "      <td>Released</td>\n",
              "      <td>NaN</td>\n",
              "      <td>Aurinkotuuli</td>\n",
              "      <td>NaN</td>\n",
              "      <td>0.0</td>\n",
              "    </tr>\n",
              "    <tr>\n",
              "      <th>41718</th>\n",
              "      <td>NaN</td>\n",
              "      <td>NaN</td>\n",
              "      <td>NaN</td>\n",
              "      <td>216550</td>\n",
              "      <td>de</td>\n",
              "      <td>NaN</td>\n",
              "      <td>0.000000</td>\n",
              "      <td>NaN</td>\n",
              "      <td>NaN</td>\n",
              "      <td>NaN</td>\n",
              "      <td>NaT</td>\n",
              "      <td>NaN</td>\n",
              "      <td>NaN</td>\n",
              "      <td>NaN</td>\n",
              "      <td>Released</td>\n",
              "      <td>NaN</td>\n",
              "      <td>Dolpo Tulku - Heimkehr in den Himalaya</td>\n",
              "      <td>NaN</td>\n",
              "      <td>0.0</td>\n",
              "    </tr>\n",
              "    <tr>\n",
              "      <th>44978</th>\n",
              "      <td>NaN</td>\n",
              "      <td>NaN</td>\n",
              "      <td>NaN</td>\n",
              "      <td>398295</td>\n",
              "      <td>pt</td>\n",
              "      <td>NaN</td>\n",
              "      <td>0.000331</td>\n",
              "      <td>NaN</td>\n",
              "      <td>NaN</td>\n",
              "      <td>NaN</td>\n",
              "      <td>NaT</td>\n",
              "      <td>NaN</td>\n",
              "      <td>NaN</td>\n",
              "      <td>NaN</td>\n",
              "      <td>Released</td>\n",
              "      <td>NaN</td>\n",
              "      <td>Mundo Cão</td>\n",
              "      <td>NaN</td>\n",
              "      <td>0.0</td>\n",
              "    </tr>\n",
              "  </tbody>\n",
              "</table>\n",
              "</div>\n",
              "      <button class=\"colab-df-convert\" onclick=\"convertToInteractive('df-d303e888-bbf0-4bfa-9118-864fcc3cccf1')\"\n",
              "              title=\"Convert this dataframe to an interactive table.\"\n",
              "              style=\"display:none;\">\n",
              "        \n",
              "  <svg xmlns=\"http://www.w3.org/2000/svg\" height=\"24px\"viewBox=\"0 0 24 24\"\n",
              "       width=\"24px\">\n",
              "    <path d=\"M0 0h24v24H0V0z\" fill=\"none\"/>\n",
              "    <path d=\"M18.56 5.44l.94 2.06.94-2.06 2.06-.94-2.06-.94-.94-2.06-.94 2.06-2.06.94zm-11 1L8.5 8.5l.94-2.06 2.06-.94-2.06-.94L8.5 2.5l-.94 2.06-2.06.94zm10 10l.94 2.06.94-2.06 2.06-.94-2.06-.94-.94-2.06-.94 2.06-2.06.94z\"/><path d=\"M17.41 7.96l-1.37-1.37c-.4-.4-.92-.59-1.43-.59-.52 0-1.04.2-1.43.59L10.3 9.45l-7.72 7.72c-.78.78-.78 2.05 0 2.83L4 21.41c.39.39.9.59 1.41.59.51 0 1.02-.2 1.41-.59l7.78-7.78 2.81-2.81c.8-.78.8-2.07 0-2.86zM5.41 20L4 18.59l7.72-7.72 1.47 1.35L5.41 20z\"/>\n",
              "  </svg>\n",
              "      </button>\n",
              "      \n",
              "  <style>\n",
              "    .colab-df-container {\n",
              "      display:flex;\n",
              "      flex-wrap:wrap;\n",
              "      gap: 12px;\n",
              "    }\n",
              "\n",
              "    .colab-df-convert {\n",
              "      background-color: #E8F0FE;\n",
              "      border: none;\n",
              "      border-radius: 50%;\n",
              "      cursor: pointer;\n",
              "      display: none;\n",
              "      fill: #1967D2;\n",
              "      height: 32px;\n",
              "      padding: 0 0 0 0;\n",
              "      width: 32px;\n",
              "    }\n",
              "\n",
              "    .colab-df-convert:hover {\n",
              "      background-color: #E2EBFA;\n",
              "      box-shadow: 0px 1px 2px rgba(60, 64, 67, 0.3), 0px 1px 3px 1px rgba(60, 64, 67, 0.15);\n",
              "      fill: #174EA6;\n",
              "    }\n",
              "\n",
              "    [theme=dark] .colab-df-convert {\n",
              "      background-color: #3B4455;\n",
              "      fill: #D2E3FC;\n",
              "    }\n",
              "\n",
              "    [theme=dark] .colab-df-convert:hover {\n",
              "      background-color: #434B5C;\n",
              "      box-shadow: 0px 1px 3px 1px rgba(0, 0, 0, 0.15);\n",
              "      filter: drop-shadow(0px 1px 2px rgba(0, 0, 0, 0.3));\n",
              "      fill: #FFFFFF;\n",
              "    }\n",
              "  </style>\n",
              "\n",
              "      <script>\n",
              "        const buttonEl =\n",
              "          document.querySelector('#df-d303e888-bbf0-4bfa-9118-864fcc3cccf1 button.colab-df-convert');\n",
              "        buttonEl.style.display =\n",
              "          google.colab.kernel.accessAllowed ? 'block' : 'none';\n",
              "\n",
              "        async function convertToInteractive(key) {\n",
              "          const element = document.querySelector('#df-d303e888-bbf0-4bfa-9118-864fcc3cccf1');\n",
              "          const dataTable =\n",
              "            await google.colab.kernel.invokeFunction('convertToInteractive',\n",
              "                                                     [key], {});\n",
              "          if (!dataTable) return;\n",
              "\n",
              "          const docLinkHtml = 'Like what you see? Visit the ' +\n",
              "            '<a target=\"_blank\" href=https://colab.research.google.com/notebooks/data_table.ipynb>data table notebook</a>'\n",
              "            + ' to learn more about interactive tables.';\n",
              "          element.innerHTML = '';\n",
              "          dataTable['output_type'] = 'display_data';\n",
              "          await google.colab.output.renderOutput(dataTable, element);\n",
              "          const docLink = document.createElement('div');\n",
              "          docLink.innerHTML = docLinkHtml;\n",
              "          element.appendChild(docLink);\n",
              "        }\n",
              "      </script>\n",
              "    </div>\n",
              "  </div>\n",
              "  "
            ]
          },
          "metadata": {},
          "execution_count": 421
        }
      ]
    },
    {
      "cell_type": "code",
      "source": [
        "df.dropna(thresh = 10, inplace = True)"
      ],
      "metadata": {
        "id": "985fmyKIV5C5"
      },
      "execution_count": 422,
      "outputs": []
    },
    {
      "cell_type": "code",
      "source": [
        "df.info()"
      ],
      "metadata": {
        "colab": {
          "base_uri": "https://localhost:8080/"
        },
        "id": "eEdKU-PGWGMN",
        "outputId": "ed6ea8cd-01f5-4589-ebc2-d11b22c3c29b"
      },
      "execution_count": 423,
      "outputs": [
        {
          "output_type": "stream",
          "name": "stdout",
          "text": [
            "<class 'pandas.core.frame.DataFrame'>\n",
            "Int64Index: 45119 entries, 0 to 45465\n",
            "Data columns (total 19 columns):\n",
            " #   Column                 Non-Null Count  Dtype         \n",
            "---  ------                 --------------  -----         \n",
            " 0   belongs_to_collection  4487 non-null   object        \n",
            " 1   budget_musd            8878 non-null   float64       \n",
            " 2   genres                 42970 non-null  object        \n",
            " 3   id                     45119 non-null  int64         \n",
            " 4   original_language      45108 non-null  object        \n",
            " 5   overview               44144 non-null  object        \n",
            " 6   popularity             45119 non-null  float64       \n",
            " 7   poster_path            44887 non-null  object        \n",
            " 8   production_companies   33561 non-null  object        \n",
            " 9   production_countries   39147 non-null  object        \n",
            " 10  release_date           45079 non-null  datetime64[ns]\n",
            " 11  revenue_musd           7398 non-null   float64       \n",
            " 12  runtime                43552 non-null  float64       \n",
            " 13  spoken_languages       41462 non-null  object        \n",
            " 14  status                 45053 non-null  object        \n",
            " 15  tagline                20396 non-null  object        \n",
            " 16  title                  45119 non-null  object        \n",
            " 17  vote_average           42460 non-null  float64       \n",
            " 18  vote_count             45119 non-null  float64       \n",
            "dtypes: datetime64[ns](1), float64(6), int64(1), object(11)\n",
            "memory usage: 6.9+ MB\n"
          ]
        }
      ]
    },
    {
      "cell_type": "code",
      "source": [
        "df.isna().sum()"
      ],
      "metadata": {
        "colab": {
          "base_uri": "https://localhost:8080/"
        },
        "id": "iYr13FdqWGvc",
        "outputId": "6ab96a52-ef86-4e57-d4c5-e8b348d0aa1b"
      },
      "execution_count": 424,
      "outputs": [
        {
          "output_type": "execute_result",
          "data": {
            "text/plain": [
              "belongs_to_collection    40632\n",
              "budget_musd              36241\n",
              "genres                    2149\n",
              "id                           0\n",
              "original_language           11\n",
              "overview                   975\n",
              "popularity                   0\n",
              "poster_path                232\n",
              "production_companies     11558\n",
              "production_countries      5972\n",
              "release_date                40\n",
              "revenue_musd             37721\n",
              "runtime                   1567\n",
              "spoken_languages          3657\n",
              "status                      66\n",
              "tagline                  24723\n",
              "title                        0\n",
              "vote_average              2659\n",
              "vote_count                   0\n",
              "dtype: int64"
            ]
          },
          "metadata": {},
          "execution_count": 424
        }
      ]
    },
    {
      "cell_type": "markdown",
      "source": [
        "##Final cleaning steps"
      ],
      "metadata": {
        "id": "PglfeCVlWcFp"
      }
    },
    {
      "cell_type": "code",
      "source": [
        "df.status.value_counts()"
      ],
      "metadata": {
        "colab": {
          "base_uri": "https://localhost:8080/"
        },
        "id": "yCnOR1IAWPWf",
        "outputId": "b5c4bd30-8d83-4ec1-8892-a4315b3567ec"
      },
      "execution_count": 425,
      "outputs": [
        {
          "output_type": "execute_result",
          "data": {
            "text/plain": [
              "Released           44692\n",
              "Rumored              226\n",
              "Post Production       98\n",
              "In Production         20\n",
              "Planned               15\n",
              "Canceled               2\n",
              "Name: status, dtype: int64"
            ]
          },
          "metadata": {},
          "execution_count": 425
        }
      ]
    },
    {
      "cell_type": "code",
      "source": [
        "df.loc[df.status == 'Rumored', 'title']"
      ],
      "metadata": {
        "colab": {
          "base_uri": "https://localhost:8080/"
        },
        "id": "WKOLxulzWsk8",
        "outputId": "77c7ce01-c091-4e4a-ea03-cbdbac21c797"
      },
      "execution_count": 426,
      "outputs": [
        {
          "output_type": "execute_result",
          "data": {
            "text/plain": [
              "682                  Butterfly Kiss\n",
              "775            A Very Natural Thing\n",
              "1032                  The Sunchaser\n",
              "1478                The War at Home\n",
              "1513                  Love Serenade\n",
              "                    ...            \n",
              "44655    The Surrender of Tournavos\n",
              "44731             A Corner in Wheat\n",
              "45030     The Story of Menstruation\n",
              "45109     But What If This Is Love?\n",
              "45289                   King's Road\n",
              "Name: title, Length: 226, dtype: object"
            ]
          },
          "metadata": {},
          "execution_count": 426
        }
      ]
    },
    {
      "cell_type": "code",
      "source": [],
      "metadata": {
        "id": "tkhuvKAxWuDj"
      },
      "execution_count": 426,
      "outputs": []
    },
    {
      "cell_type": "code",
      "source": [
        "df = df.loc[df.status == 'Released'].copy()"
      ],
      "metadata": {
        "id": "4BE0jXpLWSiS"
      },
      "execution_count": 427,
      "outputs": []
    },
    {
      "cell_type": "code",
      "source": [
        "df.drop(columns = ['status'], inplace = True)"
      ],
      "metadata": {
        "id": "JMua0BomWjCd"
      },
      "execution_count": 429,
      "outputs": []
    },
    {
      "cell_type": "code",
      "source": [
        "cols = ['id', 'title', 'tagline', 'release_date', 'genres', 'belongs_to_collection', 'original_language', 'budget_musd', 'revenue_musd', 'production_companies', \n",
        "        'production_countries', 'vote_count','vote_average', 'popularity', 'runtime', 'overview', 'spoken_languages', 'poster_path']"
      ],
      "metadata": {
        "id": "eBv5d94RWoNg"
      },
      "execution_count": 432,
      "outputs": []
    },
    {
      "cell_type": "code",
      "source": [
        "df = df.loc[:, cols]"
      ],
      "metadata": {
        "id": "oZiTdYzQXsB1"
      },
      "execution_count": 433,
      "outputs": []
    },
    {
      "cell_type": "code",
      "source": [
        "df"
      ],
      "metadata": {
        "colab": {
          "base_uri": "https://localhost:8080/",
          "height": 1000
        },
        "id": "O6fWzD_nXuIC",
        "outputId": "0c67213b-82f8-4f2d-b48b-cfb919e661b1"
      },
      "execution_count": 434,
      "outputs": [
        {
          "output_type": "execute_result",
          "data": {
            "text/plain": [
              "           id                        title  \\\n",
              "0         862                    Toy Story   \n",
              "1        8844                      Jumanji   \n",
              "2       15602             Grumpier Old Men   \n",
              "3       31357            Waiting to Exhale   \n",
              "4       11862  Father of the Bride Part II   \n",
              "...       ...                          ...   \n",
              "45461  439050                       Subdue   \n",
              "45462  111109          Century of Birthing   \n",
              "45463   67758                     Betrayal   \n",
              "45464  227506             Satan Triumphant   \n",
              "45465  461257                     Queerama   \n",
              "\n",
              "                                                 tagline release_date  \\\n",
              "0                                                    NaN   1995-10-30   \n",
              "1              Roll the dice and unleash the excitement!   1995-12-15   \n",
              "2      Still Yelling. Still Fighting. Still Ready for...   1995-12-22   \n",
              "3      Friends are the people who let you be yourself...   1995-12-22   \n",
              "4      Just When His World Is Back To Normal... He's ...   1995-02-10   \n",
              "...                                                  ...          ...   \n",
              "45461         Rising and falling between a man and woman          NaT   \n",
              "45462                                                NaN   2011-11-17   \n",
              "45463                             A deadly game of wits.   2003-08-01   \n",
              "45464                                                NaN   1917-10-21   \n",
              "45465                                                NaN   2017-06-09   \n",
              "\n",
              "                         genres           belongs_to_collection  \\\n",
              "0       Animation|Comedy|Family            Toy Story Collection   \n",
              "1      Adventure|Fantasy|Family                             NaN   \n",
              "2                Romance|Comedy       Grumpy Old Men Collection   \n",
              "3          Comedy|Drama|Romance                             NaN   \n",
              "4                        Comedy  Father of the Bride Collection   \n",
              "...                         ...                             ...   \n",
              "45461              Drama|Family                             NaN   \n",
              "45462                     Drama                             NaN   \n",
              "45463     Action|Drama|Thriller                             NaN   \n",
              "45464                       NaN                             NaN   \n",
              "45465                       NaN                             NaN   \n",
              "\n",
              "      original_language  budget_musd  revenue_musd  \\\n",
              "0                    en         30.0    373.554033   \n",
              "1                    en         65.0    262.797249   \n",
              "2                    en          NaN           NaN   \n",
              "3                    en         16.0     81.452156   \n",
              "4                    en          NaN     76.578911   \n",
              "...                 ...          ...           ...   \n",
              "45461                fa          NaN           NaN   \n",
              "45462                tl          NaN           NaN   \n",
              "45463                en          NaN           NaN   \n",
              "45464                en          NaN           NaN   \n",
              "45465                en          NaN           NaN   \n",
              "\n",
              "                                    production_companies  \\\n",
              "0                                Pixar Animation Studios   \n",
              "1      TriStar Pictures|Teitler Film|Interscope Commu...   \n",
              "2                            Warner Bros.|Lancaster Gate   \n",
              "3                 Twentieth Century Fox Film Corporation   \n",
              "4              Sandollar Productions|Touchstone Pictures   \n",
              "...                                                  ...   \n",
              "45461                                                NaN   \n",
              "45462                                        Sine Olivia   \n",
              "45463                            American World Pictures   \n",
              "45464                                          Yermoliev   \n",
              "45465                                                NaN   \n",
              "\n",
              "           production_countries  vote_count  vote_average  popularity  \\\n",
              "0      United States of America      5415.0           7.7   21.946943   \n",
              "1      United States of America      2413.0           6.9   17.015539   \n",
              "2      United States of America        92.0           6.5   11.712900   \n",
              "3      United States of America        34.0           6.1    3.859495   \n",
              "4      United States of America       173.0           5.7    8.387519   \n",
              "...                         ...         ...           ...         ...   \n",
              "45461                      Iran         1.0           4.0    0.072051   \n",
              "45462               Philippines         3.0           9.0    0.178241   \n",
              "45463  United States of America         6.0           3.8    0.903007   \n",
              "45464                    Russia         0.0           NaN    0.003503   \n",
              "45465            United Kingdom         0.0           NaN    0.163015   \n",
              "\n",
              "       runtime                                           overview  \\\n",
              "0         81.0  Led by Woody, Andy's toys live happily in his ...   \n",
              "1        104.0  When siblings Judy and Peter discover an encha...   \n",
              "2        101.0  A family wedding reignites the ancient feud be...   \n",
              "3        127.0  Cheated on, mistreated and stepped on, the wom...   \n",
              "4        106.0  Just when George Banks has recovered from his ...   \n",
              "...        ...                                                ...   \n",
              "45461     90.0        Rising and falling between a man and woman.   \n",
              "45462    360.0  An artist struggles to finish his work while a...   \n",
              "45463     90.0  When one of her hits goes wrong, a professiona...   \n",
              "45464     87.0  In a small town live two brothers, one a minis...   \n",
              "45465     75.0  50 years after decriminalisation of homosexual...   \n",
              "\n",
              "       spoken_languages                       poster_path  \n",
              "0               English  /rhIRbceoE9lR4veEXuwCC2wARtG.jpg  \n",
              "1      English|Français  /vzmL6fP7aPKNKPRTFnZmiUfciyV.jpg  \n",
              "2               English  /6ksm1sjKMFLbO7UY2i6G1ju9SML.jpg  \n",
              "3               English  /16XOMpEaLWkrcPqSQqhTmeJuqQl.jpg  \n",
              "4               English  /e64sOI48hQXyru7naBFyssKFxVd.jpg  \n",
              "...                 ...                               ...  \n",
              "45461             فارسی  /jldsYflnId4tTWPx8es3uzsB1I8.jpg  \n",
              "45462               NaN  /xZkmxsNmYXJbKVsTRLLx3pqGHx7.jpg  \n",
              "45463           English  /d5bX92nDsISNhu3ZT69uHwmfCGw.jpg  \n",
              "45464               NaN  /aorBPO7ak8e8iJKT5OcqYxU3jlK.jpg  \n",
              "45465           English  /s5UkZt6NTsrS7ZF0Rh8nzupRlIU.jpg  \n",
              "\n",
              "[44692 rows x 18 columns]"
            ],
            "text/html": [
              "\n",
              "  <div id=\"df-2eb18f0b-7b6b-47ea-988a-cee73611f8bf\">\n",
              "    <div class=\"colab-df-container\">\n",
              "      <div>\n",
              "<style scoped>\n",
              "    .dataframe tbody tr th:only-of-type {\n",
              "        vertical-align: middle;\n",
              "    }\n",
              "\n",
              "    .dataframe tbody tr th {\n",
              "        vertical-align: top;\n",
              "    }\n",
              "\n",
              "    .dataframe thead th {\n",
              "        text-align: right;\n",
              "    }\n",
              "</style>\n",
              "<table border=\"1\" class=\"dataframe\">\n",
              "  <thead>\n",
              "    <tr style=\"text-align: right;\">\n",
              "      <th></th>\n",
              "      <th>id</th>\n",
              "      <th>title</th>\n",
              "      <th>tagline</th>\n",
              "      <th>release_date</th>\n",
              "      <th>genres</th>\n",
              "      <th>belongs_to_collection</th>\n",
              "      <th>original_language</th>\n",
              "      <th>budget_musd</th>\n",
              "      <th>revenue_musd</th>\n",
              "      <th>production_companies</th>\n",
              "      <th>production_countries</th>\n",
              "      <th>vote_count</th>\n",
              "      <th>vote_average</th>\n",
              "      <th>popularity</th>\n",
              "      <th>runtime</th>\n",
              "      <th>overview</th>\n",
              "      <th>spoken_languages</th>\n",
              "      <th>poster_path</th>\n",
              "    </tr>\n",
              "  </thead>\n",
              "  <tbody>\n",
              "    <tr>\n",
              "      <th>0</th>\n",
              "      <td>862</td>\n",
              "      <td>Toy Story</td>\n",
              "      <td>NaN</td>\n",
              "      <td>1995-10-30</td>\n",
              "      <td>Animation|Comedy|Family</td>\n",
              "      <td>Toy Story Collection</td>\n",
              "      <td>en</td>\n",
              "      <td>30.0</td>\n",
              "      <td>373.554033</td>\n",
              "      <td>Pixar Animation Studios</td>\n",
              "      <td>United States of America</td>\n",
              "      <td>5415.0</td>\n",
              "      <td>7.7</td>\n",
              "      <td>21.946943</td>\n",
              "      <td>81.0</td>\n",
              "      <td>Led by Woody, Andy's toys live happily in his ...</td>\n",
              "      <td>English</td>\n",
              "      <td>/rhIRbceoE9lR4veEXuwCC2wARtG.jpg</td>\n",
              "    </tr>\n",
              "    <tr>\n",
              "      <th>1</th>\n",
              "      <td>8844</td>\n",
              "      <td>Jumanji</td>\n",
              "      <td>Roll the dice and unleash the excitement!</td>\n",
              "      <td>1995-12-15</td>\n",
              "      <td>Adventure|Fantasy|Family</td>\n",
              "      <td>NaN</td>\n",
              "      <td>en</td>\n",
              "      <td>65.0</td>\n",
              "      <td>262.797249</td>\n",
              "      <td>TriStar Pictures|Teitler Film|Interscope Commu...</td>\n",
              "      <td>United States of America</td>\n",
              "      <td>2413.0</td>\n",
              "      <td>6.9</td>\n",
              "      <td>17.015539</td>\n",
              "      <td>104.0</td>\n",
              "      <td>When siblings Judy and Peter discover an encha...</td>\n",
              "      <td>English|Français</td>\n",
              "      <td>/vzmL6fP7aPKNKPRTFnZmiUfciyV.jpg</td>\n",
              "    </tr>\n",
              "    <tr>\n",
              "      <th>2</th>\n",
              "      <td>15602</td>\n",
              "      <td>Grumpier Old Men</td>\n",
              "      <td>Still Yelling. Still Fighting. Still Ready for...</td>\n",
              "      <td>1995-12-22</td>\n",
              "      <td>Romance|Comedy</td>\n",
              "      <td>Grumpy Old Men Collection</td>\n",
              "      <td>en</td>\n",
              "      <td>NaN</td>\n",
              "      <td>NaN</td>\n",
              "      <td>Warner Bros.|Lancaster Gate</td>\n",
              "      <td>United States of America</td>\n",
              "      <td>92.0</td>\n",
              "      <td>6.5</td>\n",
              "      <td>11.712900</td>\n",
              "      <td>101.0</td>\n",
              "      <td>A family wedding reignites the ancient feud be...</td>\n",
              "      <td>English</td>\n",
              "      <td>/6ksm1sjKMFLbO7UY2i6G1ju9SML.jpg</td>\n",
              "    </tr>\n",
              "    <tr>\n",
              "      <th>3</th>\n",
              "      <td>31357</td>\n",
              "      <td>Waiting to Exhale</td>\n",
              "      <td>Friends are the people who let you be yourself...</td>\n",
              "      <td>1995-12-22</td>\n",
              "      <td>Comedy|Drama|Romance</td>\n",
              "      <td>NaN</td>\n",
              "      <td>en</td>\n",
              "      <td>16.0</td>\n",
              "      <td>81.452156</td>\n",
              "      <td>Twentieth Century Fox Film Corporation</td>\n",
              "      <td>United States of America</td>\n",
              "      <td>34.0</td>\n",
              "      <td>6.1</td>\n",
              "      <td>3.859495</td>\n",
              "      <td>127.0</td>\n",
              "      <td>Cheated on, mistreated and stepped on, the wom...</td>\n",
              "      <td>English</td>\n",
              "      <td>/16XOMpEaLWkrcPqSQqhTmeJuqQl.jpg</td>\n",
              "    </tr>\n",
              "    <tr>\n",
              "      <th>4</th>\n",
              "      <td>11862</td>\n",
              "      <td>Father of the Bride Part II</td>\n",
              "      <td>Just When His World Is Back To Normal... He's ...</td>\n",
              "      <td>1995-02-10</td>\n",
              "      <td>Comedy</td>\n",
              "      <td>Father of the Bride Collection</td>\n",
              "      <td>en</td>\n",
              "      <td>NaN</td>\n",
              "      <td>76.578911</td>\n",
              "      <td>Sandollar Productions|Touchstone Pictures</td>\n",
              "      <td>United States of America</td>\n",
              "      <td>173.0</td>\n",
              "      <td>5.7</td>\n",
              "      <td>8.387519</td>\n",
              "      <td>106.0</td>\n",
              "      <td>Just when George Banks has recovered from his ...</td>\n",
              "      <td>English</td>\n",
              "      <td>/e64sOI48hQXyru7naBFyssKFxVd.jpg</td>\n",
              "    </tr>\n",
              "    <tr>\n",
              "      <th>...</th>\n",
              "      <td>...</td>\n",
              "      <td>...</td>\n",
              "      <td>...</td>\n",
              "      <td>...</td>\n",
              "      <td>...</td>\n",
              "      <td>...</td>\n",
              "      <td>...</td>\n",
              "      <td>...</td>\n",
              "      <td>...</td>\n",
              "      <td>...</td>\n",
              "      <td>...</td>\n",
              "      <td>...</td>\n",
              "      <td>...</td>\n",
              "      <td>...</td>\n",
              "      <td>...</td>\n",
              "      <td>...</td>\n",
              "      <td>...</td>\n",
              "      <td>...</td>\n",
              "    </tr>\n",
              "    <tr>\n",
              "      <th>45461</th>\n",
              "      <td>439050</td>\n",
              "      <td>Subdue</td>\n",
              "      <td>Rising and falling between a man and woman</td>\n",
              "      <td>NaT</td>\n",
              "      <td>Drama|Family</td>\n",
              "      <td>NaN</td>\n",
              "      <td>fa</td>\n",
              "      <td>NaN</td>\n",
              "      <td>NaN</td>\n",
              "      <td>NaN</td>\n",
              "      <td>Iran</td>\n",
              "      <td>1.0</td>\n",
              "      <td>4.0</td>\n",
              "      <td>0.072051</td>\n",
              "      <td>90.0</td>\n",
              "      <td>Rising and falling between a man and woman.</td>\n",
              "      <td>فارسی</td>\n",
              "      <td>/jldsYflnId4tTWPx8es3uzsB1I8.jpg</td>\n",
              "    </tr>\n",
              "    <tr>\n",
              "      <th>45462</th>\n",
              "      <td>111109</td>\n",
              "      <td>Century of Birthing</td>\n",
              "      <td>NaN</td>\n",
              "      <td>2011-11-17</td>\n",
              "      <td>Drama</td>\n",
              "      <td>NaN</td>\n",
              "      <td>tl</td>\n",
              "      <td>NaN</td>\n",
              "      <td>NaN</td>\n",
              "      <td>Sine Olivia</td>\n",
              "      <td>Philippines</td>\n",
              "      <td>3.0</td>\n",
              "      <td>9.0</td>\n",
              "      <td>0.178241</td>\n",
              "      <td>360.0</td>\n",
              "      <td>An artist struggles to finish his work while a...</td>\n",
              "      <td>NaN</td>\n",
              "      <td>/xZkmxsNmYXJbKVsTRLLx3pqGHx7.jpg</td>\n",
              "    </tr>\n",
              "    <tr>\n",
              "      <th>45463</th>\n",
              "      <td>67758</td>\n",
              "      <td>Betrayal</td>\n",
              "      <td>A deadly game of wits.</td>\n",
              "      <td>2003-08-01</td>\n",
              "      <td>Action|Drama|Thriller</td>\n",
              "      <td>NaN</td>\n",
              "      <td>en</td>\n",
              "      <td>NaN</td>\n",
              "      <td>NaN</td>\n",
              "      <td>American World Pictures</td>\n",
              "      <td>United States of America</td>\n",
              "      <td>6.0</td>\n",
              "      <td>3.8</td>\n",
              "      <td>0.903007</td>\n",
              "      <td>90.0</td>\n",
              "      <td>When one of her hits goes wrong, a professiona...</td>\n",
              "      <td>English</td>\n",
              "      <td>/d5bX92nDsISNhu3ZT69uHwmfCGw.jpg</td>\n",
              "    </tr>\n",
              "    <tr>\n",
              "      <th>45464</th>\n",
              "      <td>227506</td>\n",
              "      <td>Satan Triumphant</td>\n",
              "      <td>NaN</td>\n",
              "      <td>1917-10-21</td>\n",
              "      <td>NaN</td>\n",
              "      <td>NaN</td>\n",
              "      <td>en</td>\n",
              "      <td>NaN</td>\n",
              "      <td>NaN</td>\n",
              "      <td>Yermoliev</td>\n",
              "      <td>Russia</td>\n",
              "      <td>0.0</td>\n",
              "      <td>NaN</td>\n",
              "      <td>0.003503</td>\n",
              "      <td>87.0</td>\n",
              "      <td>In a small town live two brothers, one a minis...</td>\n",
              "      <td>NaN</td>\n",
              "      <td>/aorBPO7ak8e8iJKT5OcqYxU3jlK.jpg</td>\n",
              "    </tr>\n",
              "    <tr>\n",
              "      <th>45465</th>\n",
              "      <td>461257</td>\n",
              "      <td>Queerama</td>\n",
              "      <td>NaN</td>\n",
              "      <td>2017-06-09</td>\n",
              "      <td>NaN</td>\n",
              "      <td>NaN</td>\n",
              "      <td>en</td>\n",
              "      <td>NaN</td>\n",
              "      <td>NaN</td>\n",
              "      <td>NaN</td>\n",
              "      <td>United Kingdom</td>\n",
              "      <td>0.0</td>\n",
              "      <td>NaN</td>\n",
              "      <td>0.163015</td>\n",
              "      <td>75.0</td>\n",
              "      <td>50 years after decriminalisation of homosexual...</td>\n",
              "      <td>English</td>\n",
              "      <td>/s5UkZt6NTsrS7ZF0Rh8nzupRlIU.jpg</td>\n",
              "    </tr>\n",
              "  </tbody>\n",
              "</table>\n",
              "<p>44692 rows × 18 columns</p>\n",
              "</div>\n",
              "      <button class=\"colab-df-convert\" onclick=\"convertToInteractive('df-2eb18f0b-7b6b-47ea-988a-cee73611f8bf')\"\n",
              "              title=\"Convert this dataframe to an interactive table.\"\n",
              "              style=\"display:none;\">\n",
              "        \n",
              "  <svg xmlns=\"http://www.w3.org/2000/svg\" height=\"24px\"viewBox=\"0 0 24 24\"\n",
              "       width=\"24px\">\n",
              "    <path d=\"M0 0h24v24H0V0z\" fill=\"none\"/>\n",
              "    <path d=\"M18.56 5.44l.94 2.06.94-2.06 2.06-.94-2.06-.94-.94-2.06-.94 2.06-2.06.94zm-11 1L8.5 8.5l.94-2.06 2.06-.94-2.06-.94L8.5 2.5l-.94 2.06-2.06.94zm10 10l.94 2.06.94-2.06 2.06-.94-2.06-.94-.94-2.06-.94 2.06-2.06.94z\"/><path d=\"M17.41 7.96l-1.37-1.37c-.4-.4-.92-.59-1.43-.59-.52 0-1.04.2-1.43.59L10.3 9.45l-7.72 7.72c-.78.78-.78 2.05 0 2.83L4 21.41c.39.39.9.59 1.41.59.51 0 1.02-.2 1.41-.59l7.78-7.78 2.81-2.81c.8-.78.8-2.07 0-2.86zM5.41 20L4 18.59l7.72-7.72 1.47 1.35L5.41 20z\"/>\n",
              "  </svg>\n",
              "      </button>\n",
              "      \n",
              "  <style>\n",
              "    .colab-df-container {\n",
              "      display:flex;\n",
              "      flex-wrap:wrap;\n",
              "      gap: 12px;\n",
              "    }\n",
              "\n",
              "    .colab-df-convert {\n",
              "      background-color: #E8F0FE;\n",
              "      border: none;\n",
              "      border-radius: 50%;\n",
              "      cursor: pointer;\n",
              "      display: none;\n",
              "      fill: #1967D2;\n",
              "      height: 32px;\n",
              "      padding: 0 0 0 0;\n",
              "      width: 32px;\n",
              "    }\n",
              "\n",
              "    .colab-df-convert:hover {\n",
              "      background-color: #E2EBFA;\n",
              "      box-shadow: 0px 1px 2px rgba(60, 64, 67, 0.3), 0px 1px 3px 1px rgba(60, 64, 67, 0.15);\n",
              "      fill: #174EA6;\n",
              "    }\n",
              "\n",
              "    [theme=dark] .colab-df-convert {\n",
              "      background-color: #3B4455;\n",
              "      fill: #D2E3FC;\n",
              "    }\n",
              "\n",
              "    [theme=dark] .colab-df-convert:hover {\n",
              "      background-color: #434B5C;\n",
              "      box-shadow: 0px 1px 3px 1px rgba(0, 0, 0, 0.15);\n",
              "      filter: drop-shadow(0px 1px 2px rgba(0, 0, 0, 0.3));\n",
              "      fill: #FFFFFF;\n",
              "    }\n",
              "  </style>\n",
              "\n",
              "      <script>\n",
              "        const buttonEl =\n",
              "          document.querySelector('#df-2eb18f0b-7b6b-47ea-988a-cee73611f8bf button.colab-df-convert');\n",
              "        buttonEl.style.display =\n",
              "          google.colab.kernel.accessAllowed ? 'block' : 'none';\n",
              "\n",
              "        async function convertToInteractive(key) {\n",
              "          const element = document.querySelector('#df-2eb18f0b-7b6b-47ea-988a-cee73611f8bf');\n",
              "          const dataTable =\n",
              "            await google.colab.kernel.invokeFunction('convertToInteractive',\n",
              "                                                     [key], {});\n",
              "          if (!dataTable) return;\n",
              "\n",
              "          const docLinkHtml = 'Like what you see? Visit the ' +\n",
              "            '<a target=\"_blank\" href=https://colab.research.google.com/notebooks/data_table.ipynb>data table notebook</a>'\n",
              "            + ' to learn more about interactive tables.';\n",
              "          element.innerHTML = '';\n",
              "          dataTable['output_type'] = 'display_data';\n",
              "          await google.colab.output.renderOutput(dataTable, element);\n",
              "          const docLink = document.createElement('div');\n",
              "          docLink.innerHTML = docLinkHtml;\n",
              "          element.appendChild(docLink);\n",
              "        }\n",
              "      </script>\n",
              "    </div>\n",
              "  </div>\n",
              "  "
            ]
          },
          "metadata": {},
          "execution_count": 434
        }
      ]
    },
    {
      "cell_type": "code",
      "source": [
        "df.reset_index(drop = True, inplace = True)"
      ],
      "metadata": {
        "id": "AxHuQmdQX2nT"
      },
      "execution_count": 435,
      "outputs": []
    },
    {
      "cell_type": "code",
      "source": [
        "df"
      ],
      "metadata": {
        "colab": {
          "base_uri": "https://localhost:8080/",
          "height": 1000
        },
        "id": "ec5R4W3SX4pS",
        "outputId": "d8d68f6b-f18b-4919-9d9c-5f148de495e0"
      },
      "execution_count": 436,
      "outputs": [
        {
          "output_type": "execute_result",
          "data": {
            "text/plain": [
              "           id                        title  \\\n",
              "0         862                    Toy Story   \n",
              "1        8844                      Jumanji   \n",
              "2       15602             Grumpier Old Men   \n",
              "3       31357            Waiting to Exhale   \n",
              "4       11862  Father of the Bride Part II   \n",
              "...       ...                          ...   \n",
              "44687  439050                       Subdue   \n",
              "44688  111109          Century of Birthing   \n",
              "44689   67758                     Betrayal   \n",
              "44690  227506             Satan Triumphant   \n",
              "44691  461257                     Queerama   \n",
              "\n",
              "                                                 tagline release_date  \\\n",
              "0                                                    NaN   1995-10-30   \n",
              "1              Roll the dice and unleash the excitement!   1995-12-15   \n",
              "2      Still Yelling. Still Fighting. Still Ready for...   1995-12-22   \n",
              "3      Friends are the people who let you be yourself...   1995-12-22   \n",
              "4      Just When His World Is Back To Normal... He's ...   1995-02-10   \n",
              "...                                                  ...          ...   \n",
              "44687         Rising and falling between a man and woman          NaT   \n",
              "44688                                                NaN   2011-11-17   \n",
              "44689                             A deadly game of wits.   2003-08-01   \n",
              "44690                                                NaN   1917-10-21   \n",
              "44691                                                NaN   2017-06-09   \n",
              "\n",
              "                         genres           belongs_to_collection  \\\n",
              "0       Animation|Comedy|Family            Toy Story Collection   \n",
              "1      Adventure|Fantasy|Family                             NaN   \n",
              "2                Romance|Comedy       Grumpy Old Men Collection   \n",
              "3          Comedy|Drama|Romance                             NaN   \n",
              "4                        Comedy  Father of the Bride Collection   \n",
              "...                         ...                             ...   \n",
              "44687              Drama|Family                             NaN   \n",
              "44688                     Drama                             NaN   \n",
              "44689     Action|Drama|Thriller                             NaN   \n",
              "44690                       NaN                             NaN   \n",
              "44691                       NaN                             NaN   \n",
              "\n",
              "      original_language  budget_musd  revenue_musd  \\\n",
              "0                    en         30.0    373.554033   \n",
              "1                    en         65.0    262.797249   \n",
              "2                    en          NaN           NaN   \n",
              "3                    en         16.0     81.452156   \n",
              "4                    en          NaN     76.578911   \n",
              "...                 ...          ...           ...   \n",
              "44687                fa          NaN           NaN   \n",
              "44688                tl          NaN           NaN   \n",
              "44689                en          NaN           NaN   \n",
              "44690                en          NaN           NaN   \n",
              "44691                en          NaN           NaN   \n",
              "\n",
              "                                    production_companies  \\\n",
              "0                                Pixar Animation Studios   \n",
              "1      TriStar Pictures|Teitler Film|Interscope Commu...   \n",
              "2                            Warner Bros.|Lancaster Gate   \n",
              "3                 Twentieth Century Fox Film Corporation   \n",
              "4              Sandollar Productions|Touchstone Pictures   \n",
              "...                                                  ...   \n",
              "44687                                                NaN   \n",
              "44688                                        Sine Olivia   \n",
              "44689                            American World Pictures   \n",
              "44690                                          Yermoliev   \n",
              "44691                                                NaN   \n",
              "\n",
              "           production_countries  vote_count  vote_average  popularity  \\\n",
              "0      United States of America      5415.0           7.7   21.946943   \n",
              "1      United States of America      2413.0           6.9   17.015539   \n",
              "2      United States of America        92.0           6.5   11.712900   \n",
              "3      United States of America        34.0           6.1    3.859495   \n",
              "4      United States of America       173.0           5.7    8.387519   \n",
              "...                         ...         ...           ...         ...   \n",
              "44687                      Iran         1.0           4.0    0.072051   \n",
              "44688               Philippines         3.0           9.0    0.178241   \n",
              "44689  United States of America         6.0           3.8    0.903007   \n",
              "44690                    Russia         0.0           NaN    0.003503   \n",
              "44691            United Kingdom         0.0           NaN    0.163015   \n",
              "\n",
              "       runtime                                           overview  \\\n",
              "0         81.0  Led by Woody, Andy's toys live happily in his ...   \n",
              "1        104.0  When siblings Judy and Peter discover an encha...   \n",
              "2        101.0  A family wedding reignites the ancient feud be...   \n",
              "3        127.0  Cheated on, mistreated and stepped on, the wom...   \n",
              "4        106.0  Just when George Banks has recovered from his ...   \n",
              "...        ...                                                ...   \n",
              "44687     90.0        Rising and falling between a man and woman.   \n",
              "44688    360.0  An artist struggles to finish his work while a...   \n",
              "44689     90.0  When one of her hits goes wrong, a professiona...   \n",
              "44690     87.0  In a small town live two brothers, one a minis...   \n",
              "44691     75.0  50 years after decriminalisation of homosexual...   \n",
              "\n",
              "       spoken_languages                       poster_path  \n",
              "0               English  /rhIRbceoE9lR4veEXuwCC2wARtG.jpg  \n",
              "1      English|Français  /vzmL6fP7aPKNKPRTFnZmiUfciyV.jpg  \n",
              "2               English  /6ksm1sjKMFLbO7UY2i6G1ju9SML.jpg  \n",
              "3               English  /16XOMpEaLWkrcPqSQqhTmeJuqQl.jpg  \n",
              "4               English  /e64sOI48hQXyru7naBFyssKFxVd.jpg  \n",
              "...                 ...                               ...  \n",
              "44687             فارسی  /jldsYflnId4tTWPx8es3uzsB1I8.jpg  \n",
              "44688               NaN  /xZkmxsNmYXJbKVsTRLLx3pqGHx7.jpg  \n",
              "44689           English  /d5bX92nDsISNhu3ZT69uHwmfCGw.jpg  \n",
              "44690               NaN  /aorBPO7ak8e8iJKT5OcqYxU3jlK.jpg  \n",
              "44691           English  /s5UkZt6NTsrS7ZF0Rh8nzupRlIU.jpg  \n",
              "\n",
              "[44692 rows x 18 columns]"
            ],
            "text/html": [
              "\n",
              "  <div id=\"df-86f06311-60e9-43a7-a7c3-3c6980566a35\">\n",
              "    <div class=\"colab-df-container\">\n",
              "      <div>\n",
              "<style scoped>\n",
              "    .dataframe tbody tr th:only-of-type {\n",
              "        vertical-align: middle;\n",
              "    }\n",
              "\n",
              "    .dataframe tbody tr th {\n",
              "        vertical-align: top;\n",
              "    }\n",
              "\n",
              "    .dataframe thead th {\n",
              "        text-align: right;\n",
              "    }\n",
              "</style>\n",
              "<table border=\"1\" class=\"dataframe\">\n",
              "  <thead>\n",
              "    <tr style=\"text-align: right;\">\n",
              "      <th></th>\n",
              "      <th>id</th>\n",
              "      <th>title</th>\n",
              "      <th>tagline</th>\n",
              "      <th>release_date</th>\n",
              "      <th>genres</th>\n",
              "      <th>belongs_to_collection</th>\n",
              "      <th>original_language</th>\n",
              "      <th>budget_musd</th>\n",
              "      <th>revenue_musd</th>\n",
              "      <th>production_companies</th>\n",
              "      <th>production_countries</th>\n",
              "      <th>vote_count</th>\n",
              "      <th>vote_average</th>\n",
              "      <th>popularity</th>\n",
              "      <th>runtime</th>\n",
              "      <th>overview</th>\n",
              "      <th>spoken_languages</th>\n",
              "      <th>poster_path</th>\n",
              "    </tr>\n",
              "  </thead>\n",
              "  <tbody>\n",
              "    <tr>\n",
              "      <th>0</th>\n",
              "      <td>862</td>\n",
              "      <td>Toy Story</td>\n",
              "      <td>NaN</td>\n",
              "      <td>1995-10-30</td>\n",
              "      <td>Animation|Comedy|Family</td>\n",
              "      <td>Toy Story Collection</td>\n",
              "      <td>en</td>\n",
              "      <td>30.0</td>\n",
              "      <td>373.554033</td>\n",
              "      <td>Pixar Animation Studios</td>\n",
              "      <td>United States of America</td>\n",
              "      <td>5415.0</td>\n",
              "      <td>7.7</td>\n",
              "      <td>21.946943</td>\n",
              "      <td>81.0</td>\n",
              "      <td>Led by Woody, Andy's toys live happily in his ...</td>\n",
              "      <td>English</td>\n",
              "      <td>/rhIRbceoE9lR4veEXuwCC2wARtG.jpg</td>\n",
              "    </tr>\n",
              "    <tr>\n",
              "      <th>1</th>\n",
              "      <td>8844</td>\n",
              "      <td>Jumanji</td>\n",
              "      <td>Roll the dice and unleash the excitement!</td>\n",
              "      <td>1995-12-15</td>\n",
              "      <td>Adventure|Fantasy|Family</td>\n",
              "      <td>NaN</td>\n",
              "      <td>en</td>\n",
              "      <td>65.0</td>\n",
              "      <td>262.797249</td>\n",
              "      <td>TriStar Pictures|Teitler Film|Interscope Commu...</td>\n",
              "      <td>United States of America</td>\n",
              "      <td>2413.0</td>\n",
              "      <td>6.9</td>\n",
              "      <td>17.015539</td>\n",
              "      <td>104.0</td>\n",
              "      <td>When siblings Judy and Peter discover an encha...</td>\n",
              "      <td>English|Français</td>\n",
              "      <td>/vzmL6fP7aPKNKPRTFnZmiUfciyV.jpg</td>\n",
              "    </tr>\n",
              "    <tr>\n",
              "      <th>2</th>\n",
              "      <td>15602</td>\n",
              "      <td>Grumpier Old Men</td>\n",
              "      <td>Still Yelling. Still Fighting. Still Ready for...</td>\n",
              "      <td>1995-12-22</td>\n",
              "      <td>Romance|Comedy</td>\n",
              "      <td>Grumpy Old Men Collection</td>\n",
              "      <td>en</td>\n",
              "      <td>NaN</td>\n",
              "      <td>NaN</td>\n",
              "      <td>Warner Bros.|Lancaster Gate</td>\n",
              "      <td>United States of America</td>\n",
              "      <td>92.0</td>\n",
              "      <td>6.5</td>\n",
              "      <td>11.712900</td>\n",
              "      <td>101.0</td>\n",
              "      <td>A family wedding reignites the ancient feud be...</td>\n",
              "      <td>English</td>\n",
              "      <td>/6ksm1sjKMFLbO7UY2i6G1ju9SML.jpg</td>\n",
              "    </tr>\n",
              "    <tr>\n",
              "      <th>3</th>\n",
              "      <td>31357</td>\n",
              "      <td>Waiting to Exhale</td>\n",
              "      <td>Friends are the people who let you be yourself...</td>\n",
              "      <td>1995-12-22</td>\n",
              "      <td>Comedy|Drama|Romance</td>\n",
              "      <td>NaN</td>\n",
              "      <td>en</td>\n",
              "      <td>16.0</td>\n",
              "      <td>81.452156</td>\n",
              "      <td>Twentieth Century Fox Film Corporation</td>\n",
              "      <td>United States of America</td>\n",
              "      <td>34.0</td>\n",
              "      <td>6.1</td>\n",
              "      <td>3.859495</td>\n",
              "      <td>127.0</td>\n",
              "      <td>Cheated on, mistreated and stepped on, the wom...</td>\n",
              "      <td>English</td>\n",
              "      <td>/16XOMpEaLWkrcPqSQqhTmeJuqQl.jpg</td>\n",
              "    </tr>\n",
              "    <tr>\n",
              "      <th>4</th>\n",
              "      <td>11862</td>\n",
              "      <td>Father of the Bride Part II</td>\n",
              "      <td>Just When His World Is Back To Normal... He's ...</td>\n",
              "      <td>1995-02-10</td>\n",
              "      <td>Comedy</td>\n",
              "      <td>Father of the Bride Collection</td>\n",
              "      <td>en</td>\n",
              "      <td>NaN</td>\n",
              "      <td>76.578911</td>\n",
              "      <td>Sandollar Productions|Touchstone Pictures</td>\n",
              "      <td>United States of America</td>\n",
              "      <td>173.0</td>\n",
              "      <td>5.7</td>\n",
              "      <td>8.387519</td>\n",
              "      <td>106.0</td>\n",
              "      <td>Just when George Banks has recovered from his ...</td>\n",
              "      <td>English</td>\n",
              "      <td>/e64sOI48hQXyru7naBFyssKFxVd.jpg</td>\n",
              "    </tr>\n",
              "    <tr>\n",
              "      <th>...</th>\n",
              "      <td>...</td>\n",
              "      <td>...</td>\n",
              "      <td>...</td>\n",
              "      <td>...</td>\n",
              "      <td>...</td>\n",
              "      <td>...</td>\n",
              "      <td>...</td>\n",
              "      <td>...</td>\n",
              "      <td>...</td>\n",
              "      <td>...</td>\n",
              "      <td>...</td>\n",
              "      <td>...</td>\n",
              "      <td>...</td>\n",
              "      <td>...</td>\n",
              "      <td>...</td>\n",
              "      <td>...</td>\n",
              "      <td>...</td>\n",
              "      <td>...</td>\n",
              "    </tr>\n",
              "    <tr>\n",
              "      <th>44687</th>\n",
              "      <td>439050</td>\n",
              "      <td>Subdue</td>\n",
              "      <td>Rising and falling between a man and woman</td>\n",
              "      <td>NaT</td>\n",
              "      <td>Drama|Family</td>\n",
              "      <td>NaN</td>\n",
              "      <td>fa</td>\n",
              "      <td>NaN</td>\n",
              "      <td>NaN</td>\n",
              "      <td>NaN</td>\n",
              "      <td>Iran</td>\n",
              "      <td>1.0</td>\n",
              "      <td>4.0</td>\n",
              "      <td>0.072051</td>\n",
              "      <td>90.0</td>\n",
              "      <td>Rising and falling between a man and woman.</td>\n",
              "      <td>فارسی</td>\n",
              "      <td>/jldsYflnId4tTWPx8es3uzsB1I8.jpg</td>\n",
              "    </tr>\n",
              "    <tr>\n",
              "      <th>44688</th>\n",
              "      <td>111109</td>\n",
              "      <td>Century of Birthing</td>\n",
              "      <td>NaN</td>\n",
              "      <td>2011-11-17</td>\n",
              "      <td>Drama</td>\n",
              "      <td>NaN</td>\n",
              "      <td>tl</td>\n",
              "      <td>NaN</td>\n",
              "      <td>NaN</td>\n",
              "      <td>Sine Olivia</td>\n",
              "      <td>Philippines</td>\n",
              "      <td>3.0</td>\n",
              "      <td>9.0</td>\n",
              "      <td>0.178241</td>\n",
              "      <td>360.0</td>\n",
              "      <td>An artist struggles to finish his work while a...</td>\n",
              "      <td>NaN</td>\n",
              "      <td>/xZkmxsNmYXJbKVsTRLLx3pqGHx7.jpg</td>\n",
              "    </tr>\n",
              "    <tr>\n",
              "      <th>44689</th>\n",
              "      <td>67758</td>\n",
              "      <td>Betrayal</td>\n",
              "      <td>A deadly game of wits.</td>\n",
              "      <td>2003-08-01</td>\n",
              "      <td>Action|Drama|Thriller</td>\n",
              "      <td>NaN</td>\n",
              "      <td>en</td>\n",
              "      <td>NaN</td>\n",
              "      <td>NaN</td>\n",
              "      <td>American World Pictures</td>\n",
              "      <td>United States of America</td>\n",
              "      <td>6.0</td>\n",
              "      <td>3.8</td>\n",
              "      <td>0.903007</td>\n",
              "      <td>90.0</td>\n",
              "      <td>When one of her hits goes wrong, a professiona...</td>\n",
              "      <td>English</td>\n",
              "      <td>/d5bX92nDsISNhu3ZT69uHwmfCGw.jpg</td>\n",
              "    </tr>\n",
              "    <tr>\n",
              "      <th>44690</th>\n",
              "      <td>227506</td>\n",
              "      <td>Satan Triumphant</td>\n",
              "      <td>NaN</td>\n",
              "      <td>1917-10-21</td>\n",
              "      <td>NaN</td>\n",
              "      <td>NaN</td>\n",
              "      <td>en</td>\n",
              "      <td>NaN</td>\n",
              "      <td>NaN</td>\n",
              "      <td>Yermoliev</td>\n",
              "      <td>Russia</td>\n",
              "      <td>0.0</td>\n",
              "      <td>NaN</td>\n",
              "      <td>0.003503</td>\n",
              "      <td>87.0</td>\n",
              "      <td>In a small town live two brothers, one a minis...</td>\n",
              "      <td>NaN</td>\n",
              "      <td>/aorBPO7ak8e8iJKT5OcqYxU3jlK.jpg</td>\n",
              "    </tr>\n",
              "    <tr>\n",
              "      <th>44691</th>\n",
              "      <td>461257</td>\n",
              "      <td>Queerama</td>\n",
              "      <td>NaN</td>\n",
              "      <td>2017-06-09</td>\n",
              "      <td>NaN</td>\n",
              "      <td>NaN</td>\n",
              "      <td>en</td>\n",
              "      <td>NaN</td>\n",
              "      <td>NaN</td>\n",
              "      <td>NaN</td>\n",
              "      <td>United Kingdom</td>\n",
              "      <td>0.0</td>\n",
              "      <td>NaN</td>\n",
              "      <td>0.163015</td>\n",
              "      <td>75.0</td>\n",
              "      <td>50 years after decriminalisation of homosexual...</td>\n",
              "      <td>English</td>\n",
              "      <td>/s5UkZt6NTsrS7ZF0Rh8nzupRlIU.jpg</td>\n",
              "    </tr>\n",
              "  </tbody>\n",
              "</table>\n",
              "<p>44692 rows × 18 columns</p>\n",
              "</div>\n",
              "      <button class=\"colab-df-convert\" onclick=\"convertToInteractive('df-86f06311-60e9-43a7-a7c3-3c6980566a35')\"\n",
              "              title=\"Convert this dataframe to an interactive table.\"\n",
              "              style=\"display:none;\">\n",
              "        \n",
              "  <svg xmlns=\"http://www.w3.org/2000/svg\" height=\"24px\"viewBox=\"0 0 24 24\"\n",
              "       width=\"24px\">\n",
              "    <path d=\"M0 0h24v24H0V0z\" fill=\"none\"/>\n",
              "    <path d=\"M18.56 5.44l.94 2.06.94-2.06 2.06-.94-2.06-.94-.94-2.06-.94 2.06-2.06.94zm-11 1L8.5 8.5l.94-2.06 2.06-.94-2.06-.94L8.5 2.5l-.94 2.06-2.06.94zm10 10l.94 2.06.94-2.06 2.06-.94-2.06-.94-.94-2.06-.94 2.06-2.06.94z\"/><path d=\"M17.41 7.96l-1.37-1.37c-.4-.4-.92-.59-1.43-.59-.52 0-1.04.2-1.43.59L10.3 9.45l-7.72 7.72c-.78.78-.78 2.05 0 2.83L4 21.41c.39.39.9.59 1.41.59.51 0 1.02-.2 1.41-.59l7.78-7.78 2.81-2.81c.8-.78.8-2.07 0-2.86zM5.41 20L4 18.59l7.72-7.72 1.47 1.35L5.41 20z\"/>\n",
              "  </svg>\n",
              "      </button>\n",
              "      \n",
              "  <style>\n",
              "    .colab-df-container {\n",
              "      display:flex;\n",
              "      flex-wrap:wrap;\n",
              "      gap: 12px;\n",
              "    }\n",
              "\n",
              "    .colab-df-convert {\n",
              "      background-color: #E8F0FE;\n",
              "      border: none;\n",
              "      border-radius: 50%;\n",
              "      cursor: pointer;\n",
              "      display: none;\n",
              "      fill: #1967D2;\n",
              "      height: 32px;\n",
              "      padding: 0 0 0 0;\n",
              "      width: 32px;\n",
              "    }\n",
              "\n",
              "    .colab-df-convert:hover {\n",
              "      background-color: #E2EBFA;\n",
              "      box-shadow: 0px 1px 2px rgba(60, 64, 67, 0.3), 0px 1px 3px 1px rgba(60, 64, 67, 0.15);\n",
              "      fill: #174EA6;\n",
              "    }\n",
              "\n",
              "    [theme=dark] .colab-df-convert {\n",
              "      background-color: #3B4455;\n",
              "      fill: #D2E3FC;\n",
              "    }\n",
              "\n",
              "    [theme=dark] .colab-df-convert:hover {\n",
              "      background-color: #434B5C;\n",
              "      box-shadow: 0px 1px 3px 1px rgba(0, 0, 0, 0.15);\n",
              "      filter: drop-shadow(0px 1px 2px rgba(0, 0, 0, 0.3));\n",
              "      fill: #FFFFFF;\n",
              "    }\n",
              "  </style>\n",
              "\n",
              "      <script>\n",
              "        const buttonEl =\n",
              "          document.querySelector('#df-86f06311-60e9-43a7-a7c3-3c6980566a35 button.colab-df-convert');\n",
              "        buttonEl.style.display =\n",
              "          google.colab.kernel.accessAllowed ? 'block' : 'none';\n",
              "\n",
              "        async function convertToInteractive(key) {\n",
              "          const element = document.querySelector('#df-86f06311-60e9-43a7-a7c3-3c6980566a35');\n",
              "          const dataTable =\n",
              "            await google.colab.kernel.invokeFunction('convertToInteractive',\n",
              "                                                     [key], {});\n",
              "          if (!dataTable) return;\n",
              "\n",
              "          const docLinkHtml = 'Like what you see? Visit the ' +\n",
              "            '<a target=\"_blank\" href=https://colab.research.google.com/notebooks/data_table.ipynb>data table notebook</a>'\n",
              "            + ' to learn more about interactive tables.';\n",
              "          element.innerHTML = '';\n",
              "          dataTable['output_type'] = 'display_data';\n",
              "          await google.colab.output.renderOutput(dataTable, element);\n",
              "          const docLink = document.createElement('div');\n",
              "          docLink.innerHTML = docLinkHtml;\n",
              "          element.appendChild(docLink);\n",
              "        }\n",
              "      </script>\n",
              "    </div>\n",
              "  </div>\n",
              "  "
            ]
          },
          "metadata": {},
          "execution_count": 436
        }
      ]
    },
    {
      "cell_type": "code",
      "source": [
        "df.poster_path[0]"
      ],
      "metadata": {
        "colab": {
          "base_uri": "https://localhost:8080/",
          "height": 35
        },
        "id": "WnwccnzWX5IM",
        "outputId": "abe231e4-b451-4047-b2ce-6504c3185b90"
      },
      "execution_count": 440,
      "outputs": [
        {
          "output_type": "execute_result",
          "data": {
            "text/plain": [
              "\"<img src='http://image.tmdb.org/t/p/w185//rhIRbceoE9lR4veEXuwCC2wARtG.jpg' style='height:100px;'>\""
            ],
            "application/vnd.google.colaboratory.intrinsic+json": {
              "type": "string"
            }
          },
          "metadata": {},
          "execution_count": 440
        }
      ]
    },
    {
      "cell_type": "code",
      "source": [
        "base_url = 'http://image.tmdb.org/t/p/w185/'\n",
        "df.poster_path = \"<img src='\" + base_url + df.poster_path + \"' style='height:100px;'>\""
      ],
      "metadata": {
        "id": "W_Jg8YkOYD16"
      },
      "execution_count": 438,
      "outputs": []
    },
    {
      "cell_type": "markdown",
      "source": [
        "##Saving the df"
      ],
      "metadata": {
        "id": "qnnaB3N8YgP6"
      }
    },
    {
      "cell_type": "code",
      "source": [
        "df.to_csv('/content/drive/MyDrive/230222_Master 12 Advanced Projects/movies_cleaned.csv', index = False)"
      ],
      "metadata": {
        "id": "pY1lHgVpYh3E"
      },
      "execution_count": 439,
      "outputs": []
    },
    {
      "cell_type": "code",
      "source": [],
      "metadata": {
        "id": "H8yV_n9WYq3i"
      },
      "execution_count": null,
      "outputs": []
    },
    {
      "cell_type": "code",
      "source": [],
      "metadata": {
        "id": "EVY4p0ZOYVp5"
      },
      "execution_count": null,
      "outputs": []
    }
  ]
}