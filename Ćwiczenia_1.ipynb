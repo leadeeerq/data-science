{
  "cells": [
    {
      "cell_type": "markdown",
      "metadata": {
        "id": "view-in-github",
        "colab_type": "text"
      },
      "source": [
        "<a href=\"https://colab.research.google.com/github/leadeeerq/data-science/blob/main/%C4%86wiczenia_1.ipynb\" target=\"_parent\"><img src=\"https://colab.research.google.com/assets/colab-badge.svg\" alt=\"Open In Colab\"/></a>"
      ]
    },
    {
      "cell_type": "code",
      "execution_count": null,
      "metadata": {
        "id": "tHNHsSCDelAM"
      },
      "outputs": [],
      "source": [
        "%matplotlib inline\n",
        "import pandas as pd"
      ]
    },
    {
      "cell_type": "code",
      "execution_count": null,
      "metadata": {
        "colab": {
          "base_uri": "https://localhost:8080/",
          "height": 17
        },
        "id": "8dswv75selAQ",
        "outputId": "a98dc175-049b-43be-a337-fa242cad43ae"
      },
      "outputs": [
        {
          "output_type": "execute_result",
          "data": {
            "text/plain": [
              "<IPython.core.display.HTML object>"
            ],
            "text/html": [
              "<style>body {\n",
              "    margin: 0;\n",
              "    font-family: Helvetica;\n",
              "}\n",
              "table.dataframe {\n",
              "    border-collapse: collapse;\n",
              "    border: none;\n",
              "}\n",
              "table.dataframe tr {\n",
              "    border: none;\n",
              "}\n",
              "table.dataframe td, table.dataframe th {\n",
              "    margin: 0;\n",
              "    border: 1px solid white;\n",
              "    padding-left: 0.25em;\n",
              "    padding-right: 0.25em;\n",
              "}\n",
              "table.dataframe th:not(:empty) {\n",
              "    background-color: #fec;\n",
              "    text-align: left;\n",
              "    font-weight: normal;\n",
              "}\n",
              "table.dataframe tr:nth-child(2) th:empty {\n",
              "    border-left: none;\n",
              "    border-right: 1px dashed #888;\n",
              "}\n",
              "table.dataframe td {\n",
              "    border: 2px solid #ccf;\n",
              "    background-color: #f4f4ff;\n",
              "}\n",
              "h1 {\n",
              "    color: white;\n",
              "    background-color: black;\n",
              "    padding: 0.5em;\n",
              "} \n",
              "h2 {\n",
              "    color: white;\n",
              "    background-color: grey;\n",
              "    padding: 0.5em;\n",
              "} \n",
              "h3 {\n",
              "    color: white;\n",
              "    background-color: green;\n",
              "    padding: 0.5em;\n",
              "}\n",
              "</style>"
            ]
          },
          "metadata": {},
          "execution_count": 10
        }
      ],
      "source": [
        "from IPython.core.display import HTML\n",
        "css = open('style-table.css').read() + open('style-notebook.css').read()\n",
        "HTML('<style>{}</style>'.format(css))"
      ]
    },
    {
      "cell_type": "code",
      "source": [
        "from google.colab import drive\n",
        "drive.mount('/content/drive')"
      ],
      "metadata": {
        "colab": {
          "base_uri": "https://localhost:8080/"
        },
        "id": "3p4QOQCfeywK",
        "outputId": "3e582025-91e8-4573-ddd3-2c356cf43750"
      },
      "execution_count": null,
      "outputs": [
        {
          "output_type": "stream",
          "name": "stdout",
          "text": [
            "Mounted at /content/drive\n"
          ]
        }
      ]
    },
    {
      "cell_type": "code",
      "execution_count": null,
      "metadata": {
        "id": "WvGVDo32elAS",
        "outputId": "75505034-5c5d-497f-e7c3-e559579d65f7",
        "colab": {
          "base_uri": "https://localhost:8080/",
          "height": 206
        }
      },
      "outputs": [
        {
          "output_type": "execute_result",
          "data": {
            "text/plain": [
              "             title  year\n",
              "0   Orlando Vargas  2005\n",
              "1         Niu-Peng  1989\n",
              "2    Anandabhadram  2005\n",
              "3   Mahendra Varma  1993\n",
              "4  Beomdiga shidae  1970"
            ],
            "text/html": [
              "\n",
              "  <div id=\"df-dd14e39a-e819-439d-b68f-9472346e7d7e\">\n",
              "    <div class=\"colab-df-container\">\n",
              "      <div>\n",
              "<style scoped>\n",
              "    .dataframe tbody tr th:only-of-type {\n",
              "        vertical-align: middle;\n",
              "    }\n",
              "\n",
              "    .dataframe tbody tr th {\n",
              "        vertical-align: top;\n",
              "    }\n",
              "\n",
              "    .dataframe thead th {\n",
              "        text-align: right;\n",
              "    }\n",
              "</style>\n",
              "<table border=\"1\" class=\"dataframe\">\n",
              "  <thead>\n",
              "    <tr style=\"text-align: right;\">\n",
              "      <th></th>\n",
              "      <th>title</th>\n",
              "      <th>year</th>\n",
              "    </tr>\n",
              "  </thead>\n",
              "  <tbody>\n",
              "    <tr>\n",
              "      <th>0</th>\n",
              "      <td>Orlando Vargas</td>\n",
              "      <td>2005</td>\n",
              "    </tr>\n",
              "    <tr>\n",
              "      <th>1</th>\n",
              "      <td>Niu-Peng</td>\n",
              "      <td>1989</td>\n",
              "    </tr>\n",
              "    <tr>\n",
              "      <th>2</th>\n",
              "      <td>Anandabhadram</td>\n",
              "      <td>2005</td>\n",
              "    </tr>\n",
              "    <tr>\n",
              "      <th>3</th>\n",
              "      <td>Mahendra Varma</td>\n",
              "      <td>1993</td>\n",
              "    </tr>\n",
              "    <tr>\n",
              "      <th>4</th>\n",
              "      <td>Beomdiga shidae</td>\n",
              "      <td>1970</td>\n",
              "    </tr>\n",
              "  </tbody>\n",
              "</table>\n",
              "</div>\n",
              "      <button class=\"colab-df-convert\" onclick=\"convertToInteractive('df-dd14e39a-e819-439d-b68f-9472346e7d7e')\"\n",
              "              title=\"Convert this dataframe to an interactive table.\"\n",
              "              style=\"display:none;\">\n",
              "        \n",
              "  <svg xmlns=\"http://www.w3.org/2000/svg\" height=\"24px\"viewBox=\"0 0 24 24\"\n",
              "       width=\"24px\">\n",
              "    <path d=\"M0 0h24v24H0V0z\" fill=\"none\"/>\n",
              "    <path d=\"M18.56 5.44l.94 2.06.94-2.06 2.06-.94-2.06-.94-.94-2.06-.94 2.06-2.06.94zm-11 1L8.5 8.5l.94-2.06 2.06-.94-2.06-.94L8.5 2.5l-.94 2.06-2.06.94zm10 10l.94 2.06.94-2.06 2.06-.94-2.06-.94-.94-2.06-.94 2.06-2.06.94z\"/><path d=\"M17.41 7.96l-1.37-1.37c-.4-.4-.92-.59-1.43-.59-.52 0-1.04.2-1.43.59L10.3 9.45l-7.72 7.72c-.78.78-.78 2.05 0 2.83L4 21.41c.39.39.9.59 1.41.59.51 0 1.02-.2 1.41-.59l7.78-7.78 2.81-2.81c.8-.78.8-2.07 0-2.86zM5.41 20L4 18.59l7.72-7.72 1.47 1.35L5.41 20z\"/>\n",
              "  </svg>\n",
              "      </button>\n",
              "      \n",
              "  <style>\n",
              "    .colab-df-container {\n",
              "      display:flex;\n",
              "      flex-wrap:wrap;\n",
              "      gap: 12px;\n",
              "    }\n",
              "\n",
              "    .colab-df-convert {\n",
              "      background-color: #E8F0FE;\n",
              "      border: none;\n",
              "      border-radius: 50%;\n",
              "      cursor: pointer;\n",
              "      display: none;\n",
              "      fill: #1967D2;\n",
              "      height: 32px;\n",
              "      padding: 0 0 0 0;\n",
              "      width: 32px;\n",
              "    }\n",
              "\n",
              "    .colab-df-convert:hover {\n",
              "      background-color: #E2EBFA;\n",
              "      box-shadow: 0px 1px 2px rgba(60, 64, 67, 0.3), 0px 1px 3px 1px rgba(60, 64, 67, 0.15);\n",
              "      fill: #174EA6;\n",
              "    }\n",
              "\n",
              "    [theme=dark] .colab-df-convert {\n",
              "      background-color: #3B4455;\n",
              "      fill: #D2E3FC;\n",
              "    }\n",
              "\n",
              "    [theme=dark] .colab-df-convert:hover {\n",
              "      background-color: #434B5C;\n",
              "      box-shadow: 0px 1px 3px 1px rgba(0, 0, 0, 0.15);\n",
              "      filter: drop-shadow(0px 1px 2px rgba(0, 0, 0, 0.3));\n",
              "      fill: #FFFFFF;\n",
              "    }\n",
              "  </style>\n",
              "\n",
              "      <script>\n",
              "        const buttonEl =\n",
              "          document.querySelector('#df-dd14e39a-e819-439d-b68f-9472346e7d7e button.colab-df-convert');\n",
              "        buttonEl.style.display =\n",
              "          google.colab.kernel.accessAllowed ? 'block' : 'none';\n",
              "\n",
              "        async function convertToInteractive(key) {\n",
              "          const element = document.querySelector('#df-dd14e39a-e819-439d-b68f-9472346e7d7e');\n",
              "          const dataTable =\n",
              "            await google.colab.kernel.invokeFunction('convertToInteractive',\n",
              "                                                     [key], {});\n",
              "          if (!dataTable) return;\n",
              "\n",
              "          const docLinkHtml = 'Like what you see? Visit the ' +\n",
              "            '<a target=\"_blank\" href=https://colab.research.google.com/notebooks/data_table.ipynb>data table notebook</a>'\n",
              "            + ' to learn more about interactive tables.';\n",
              "          element.innerHTML = '';\n",
              "          dataTable['output_type'] = 'display_data';\n",
              "          await google.colab.output.renderOutput(dataTable, element);\n",
              "          const docLink = document.createElement('div');\n",
              "          docLink.innerHTML = docLinkHtml;\n",
              "          element.appendChild(docLink);\n",
              "        }\n",
              "      </script>\n",
              "    </div>\n",
              "  </div>\n",
              "  "
            ]
          },
          "metadata": {},
          "execution_count": 102
        }
      ],
      "source": [
        "titles = pd.read_csv('titles.csv', index_col=None)\n",
        "titles.head()"
      ]
    },
    {
      "cell_type": "code",
      "execution_count": null,
      "metadata": {
        "id": "kZJdxsgEelAT",
        "outputId": "02dc2d7f-4db1-4344-d1af-5a643d9c537c",
        "colab": {
          "base_uri": "https://localhost:8080/",
          "height": 206
        }
      },
      "outputs": [
        {
          "output_type": "execute_result",
          "data": {
            "text/plain": [
              "                               title  year       name   type character     n\n",
              "0                    Suuri illusioni  1985     Homo $  actor    Guests  22.0\n",
              "1     Gangsta Rap: The Glockumentary  2007  Too $hort  actor   Himself   NaN\n",
              "2                  Menace II Society  1993  Too $hort  actor   Lew-Loc  27.0\n",
              "3  Porndogs: The Adventures of Sadie  2009  Too $hort  actor     Bosco   3.0\n",
              "4                 Stop Pepper Palmer  2014  Too $hort  actor   Himself   NaN"
            ],
            "text/html": [
              "\n",
              "  <div id=\"df-5daf7867-22cd-46ff-aa02-0b7e7906968f\">\n",
              "    <div class=\"colab-df-container\">\n",
              "      <div>\n",
              "<style scoped>\n",
              "    .dataframe tbody tr th:only-of-type {\n",
              "        vertical-align: middle;\n",
              "    }\n",
              "\n",
              "    .dataframe tbody tr th {\n",
              "        vertical-align: top;\n",
              "    }\n",
              "\n",
              "    .dataframe thead th {\n",
              "        text-align: right;\n",
              "    }\n",
              "</style>\n",
              "<table border=\"1\" class=\"dataframe\">\n",
              "  <thead>\n",
              "    <tr style=\"text-align: right;\">\n",
              "      <th></th>\n",
              "      <th>title</th>\n",
              "      <th>year</th>\n",
              "      <th>name</th>\n",
              "      <th>type</th>\n",
              "      <th>character</th>\n",
              "      <th>n</th>\n",
              "    </tr>\n",
              "  </thead>\n",
              "  <tbody>\n",
              "    <tr>\n",
              "      <th>0</th>\n",
              "      <td>Suuri illusioni</td>\n",
              "      <td>1985</td>\n",
              "      <td>Homo $</td>\n",
              "      <td>actor</td>\n",
              "      <td>Guests</td>\n",
              "      <td>22.0</td>\n",
              "    </tr>\n",
              "    <tr>\n",
              "      <th>1</th>\n",
              "      <td>Gangsta Rap: The Glockumentary</td>\n",
              "      <td>2007</td>\n",
              "      <td>Too $hort</td>\n",
              "      <td>actor</td>\n",
              "      <td>Himself</td>\n",
              "      <td>NaN</td>\n",
              "    </tr>\n",
              "    <tr>\n",
              "      <th>2</th>\n",
              "      <td>Menace II Society</td>\n",
              "      <td>1993</td>\n",
              "      <td>Too $hort</td>\n",
              "      <td>actor</td>\n",
              "      <td>Lew-Loc</td>\n",
              "      <td>27.0</td>\n",
              "    </tr>\n",
              "    <tr>\n",
              "      <th>3</th>\n",
              "      <td>Porndogs: The Adventures of Sadie</td>\n",
              "      <td>2009</td>\n",
              "      <td>Too $hort</td>\n",
              "      <td>actor</td>\n",
              "      <td>Bosco</td>\n",
              "      <td>3.0</td>\n",
              "    </tr>\n",
              "    <tr>\n",
              "      <th>4</th>\n",
              "      <td>Stop Pepper Palmer</td>\n",
              "      <td>2014</td>\n",
              "      <td>Too $hort</td>\n",
              "      <td>actor</td>\n",
              "      <td>Himself</td>\n",
              "      <td>NaN</td>\n",
              "    </tr>\n",
              "  </tbody>\n",
              "</table>\n",
              "</div>\n",
              "      <button class=\"colab-df-convert\" onclick=\"convertToInteractive('df-5daf7867-22cd-46ff-aa02-0b7e7906968f')\"\n",
              "              title=\"Convert this dataframe to an interactive table.\"\n",
              "              style=\"display:none;\">\n",
              "        \n",
              "  <svg xmlns=\"http://www.w3.org/2000/svg\" height=\"24px\"viewBox=\"0 0 24 24\"\n",
              "       width=\"24px\">\n",
              "    <path d=\"M0 0h24v24H0V0z\" fill=\"none\"/>\n",
              "    <path d=\"M18.56 5.44l.94 2.06.94-2.06 2.06-.94-2.06-.94-.94-2.06-.94 2.06-2.06.94zm-11 1L8.5 8.5l.94-2.06 2.06-.94-2.06-.94L8.5 2.5l-.94 2.06-2.06.94zm10 10l.94 2.06.94-2.06 2.06-.94-2.06-.94-.94-2.06-.94 2.06-2.06.94z\"/><path d=\"M17.41 7.96l-1.37-1.37c-.4-.4-.92-.59-1.43-.59-.52 0-1.04.2-1.43.59L10.3 9.45l-7.72 7.72c-.78.78-.78 2.05 0 2.83L4 21.41c.39.39.9.59 1.41.59.51 0 1.02-.2 1.41-.59l7.78-7.78 2.81-2.81c.8-.78.8-2.07 0-2.86zM5.41 20L4 18.59l7.72-7.72 1.47 1.35L5.41 20z\"/>\n",
              "  </svg>\n",
              "      </button>\n",
              "      \n",
              "  <style>\n",
              "    .colab-df-container {\n",
              "      display:flex;\n",
              "      flex-wrap:wrap;\n",
              "      gap: 12px;\n",
              "    }\n",
              "\n",
              "    .colab-df-convert {\n",
              "      background-color: #E8F0FE;\n",
              "      border: none;\n",
              "      border-radius: 50%;\n",
              "      cursor: pointer;\n",
              "      display: none;\n",
              "      fill: #1967D2;\n",
              "      height: 32px;\n",
              "      padding: 0 0 0 0;\n",
              "      width: 32px;\n",
              "    }\n",
              "\n",
              "    .colab-df-convert:hover {\n",
              "      background-color: #E2EBFA;\n",
              "      box-shadow: 0px 1px 2px rgba(60, 64, 67, 0.3), 0px 1px 3px 1px rgba(60, 64, 67, 0.15);\n",
              "      fill: #174EA6;\n",
              "    }\n",
              "\n",
              "    [theme=dark] .colab-df-convert {\n",
              "      background-color: #3B4455;\n",
              "      fill: #D2E3FC;\n",
              "    }\n",
              "\n",
              "    [theme=dark] .colab-df-convert:hover {\n",
              "      background-color: #434B5C;\n",
              "      box-shadow: 0px 1px 3px 1px rgba(0, 0, 0, 0.15);\n",
              "      filter: drop-shadow(0px 1px 2px rgba(0, 0, 0, 0.3));\n",
              "      fill: #FFFFFF;\n",
              "    }\n",
              "  </style>\n",
              "\n",
              "      <script>\n",
              "        const buttonEl =\n",
              "          document.querySelector('#df-5daf7867-22cd-46ff-aa02-0b7e7906968f button.colab-df-convert');\n",
              "        buttonEl.style.display =\n",
              "          google.colab.kernel.accessAllowed ? 'block' : 'none';\n",
              "\n",
              "        async function convertToInteractive(key) {\n",
              "          const element = document.querySelector('#df-5daf7867-22cd-46ff-aa02-0b7e7906968f');\n",
              "          const dataTable =\n",
              "            await google.colab.kernel.invokeFunction('convertToInteractive',\n",
              "                                                     [key], {});\n",
              "          if (!dataTable) return;\n",
              "\n",
              "          const docLinkHtml = 'Like what you see? Visit the ' +\n",
              "            '<a target=\"_blank\" href=https://colab.research.google.com/notebooks/data_table.ipynb>data table notebook</a>'\n",
              "            + ' to learn more about interactive tables.';\n",
              "          element.innerHTML = '';\n",
              "          dataTable['output_type'] = 'display_data';\n",
              "          await google.colab.output.renderOutput(dataTable, element);\n",
              "          const docLink = document.createElement('div');\n",
              "          docLink.innerHTML = docLinkHtml;\n",
              "          element.appendChild(docLink);\n",
              "        }\n",
              "      </script>\n",
              "    </div>\n",
              "  </div>\n",
              "  "
            ]
          },
          "metadata": {},
          "execution_count": 213
        }
      ],
      "source": [
        "cast = pd.read_csv('cast.csv', index_col=None)\n",
        "cast.head()"
      ]
    },
    {
      "cell_type": "code",
      "source": [
        "cast.info()\n",
        "print(\"Typ danych w kolumnie 'year': \", cast.year.dtypes)"
      ],
      "metadata": {
        "colab": {
          "base_uri": "https://localhost:8080/"
        },
        "id": "bK6O_iOt659E",
        "outputId": "ce7b2d9d-a4c7-4c9b-8a57-fce90c2552a4"
      },
      "execution_count": null,
      "outputs": [
        {
          "output_type": "stream",
          "name": "stdout",
          "text": [
            "<class 'pandas.core.frame.DataFrame'>\n",
            "RangeIndex: 3311647 entries, 0 to 3311646\n",
            "Data columns (total 6 columns):\n",
            " #   Column     Dtype  \n",
            "---  ------     -----  \n",
            " 0   title      object \n",
            " 1   year       int64  \n",
            " 2   name       object \n",
            " 3   type       object \n",
            " 4   character  object \n",
            " 5   n          float64\n",
            "dtypes: float64(1), int64(1), object(4)\n",
            "memory usage: 151.6+ MB\n",
            "Typ danych w kolumnie 'year':  int64\n"
          ]
        }
      ]
    },
    {
      "cell_type": "markdown",
      "metadata": {
        "id": "6riwgNzDelAT"
      },
      "source": [
        "### Ile filmów (rekordów) zawiera DataFrame ``titles``?"
      ]
    },
    {
      "cell_type": "code",
      "source": [
        "df = pd.read_csv('titles.csv')\n",
        "df.info()\n",
        "print(f\"Liczba rekordów to: {df.shape[0]}\")\n",
        "print(\"Liczba rekordów to:\", df.shape[0])\n",
        "print(\"Liczba rekordów to: {}\".format(df.shape[0]))\n",
        "# df.shape[0]"
      ],
      "metadata": {
        "colab": {
          "base_uri": "https://localhost:8080/"
        },
        "id": "ZfgaVVWjfkWj",
        "outputId": "8d12134a-d9e8-4877-a085-481d70e97ed9"
      },
      "execution_count": null,
      "outputs": [
        {
          "output_type": "stream",
          "name": "stdout",
          "text": [
            "<class 'pandas.core.frame.DataFrame'>\n",
            "RangeIndex: 214591 entries, 0 to 214590\n",
            "Data columns (total 2 columns):\n",
            " #   Column  Non-Null Count   Dtype \n",
            "---  ------  --------------   ----- \n",
            " 0   title   214591 non-null  object\n",
            " 1   year    214591 non-null  int64 \n",
            "dtypes: int64(1), object(1)\n",
            "memory usage: 3.3+ MB\n",
            "Liczba rekordów to: 214591\n",
            "Liczba rekordów to: 214591\n",
            "Liczba rekordów to: 214591\n"
          ]
        }
      ]
    },
    {
      "cell_type": "markdown",
      "metadata": {
        "id": "nd0qHaYtelAW"
      },
      "source": [
        "### Jakie są dwa najwcześniejsze filmy?"
      ]
    },
    {
      "cell_type": "code",
      "source": [
        "# df = df.sort_values(by=['year'])\n",
        "# df.head(2)\n",
        "df = df.sort_values('year').head(2)\n",
        "print(df)\n"
      ],
      "metadata": {
        "colab": {
          "base_uri": "https://localhost:8080/"
        },
        "id": "FcB2AyqSgPTW",
        "outputId": "a44ca29a-2297-4997-d0cb-708a689b6277"
      },
      "execution_count": null,
      "outputs": [
        {
          "output_type": "stream",
          "name": "stdout",
          "text": [
            "                                                   title  year\n",
            "90767                                         Miss Jerry  1894\n",
            "10994  Reproduction of the Corbett and Fitzsimmons Fight  1897\n"
          ]
        }
      ]
    },
    {
      "cell_type": "markdown",
      "metadata": {
        "id": "7fmHSZqYelAX"
      },
      "source": [
        "### Ile filmów wyprodukowano pod tytułem \"Hamlet\"?"
      ]
    },
    {
      "cell_type": "code",
      "source": [
        "# print(df['title'].where(df['title'] == \"Hamlet\"))\n",
        "# hamlet = df[df['title'] == \"Hamlet\"]\n",
        "# hamlet.shape[0]\n",
        "\n",
        "# len(df[df.title == \"Hamlet\"])\n",
        "\n",
        "len(titles[titles.title == \"Hamlet\"])"
      ],
      "metadata": {
        "colab": {
          "base_uri": "https://localhost:8080/"
        },
        "id": "-79nkTSchKLd",
        "outputId": "b23b5b99-ae5a-4ae4-a682-dc13009df1fd"
      },
      "execution_count": null,
      "outputs": [
        {
          "output_type": "execute_result",
          "data": {
            "text/plain": [
              "19"
            ]
          },
          "metadata": {},
          "execution_count": 120
        }
      ]
    },
    {
      "cell_type": "markdown",
      "metadata": {
        "id": "eZyT4CzhelAY"
      },
      "source": [
        "### Ile jest filmów pod tytułem \"North by Northwest\"?"
      ]
    },
    {
      "cell_type": "code",
      "source": [
        "# north = df[df['title'] == \"North by Northwest\"]\n",
        "# north.shape[0]\n",
        "\n",
        "len(titles[titles.title == \"North by Northwest\"])"
      ],
      "metadata": {
        "colab": {
          "base_uri": "https://localhost:8080/"
        },
        "id": "FJj0SlgViHtx",
        "outputId": "eef455a0-49ca-482e-b9c1-49648248bdec"
      },
      "execution_count": null,
      "outputs": [
        {
          "output_type": "execute_result",
          "data": {
            "text/plain": [
              "1"
            ]
          },
          "metadata": {},
          "execution_count": 122
        }
      ]
    },
    {
      "cell_type": "markdown",
      "metadata": {
        "id": "cJydlSaqelAY"
      },
      "source": [
        "### Kiedy wyprodukowano pierwszy filmy \"Hamlet\"?"
      ]
    },
    {
      "cell_type": "code",
      "source": [
        "hamlet = titles[titles.title == \"Hamlet\"]\n",
        "hamlet = hamlet.sort_values('year')\n",
        "\n",
        "hamlet.head(1)"
      ],
      "metadata": {
        "colab": {
          "base_uri": "https://localhost:8080/",
          "height": 81
        },
        "id": "vImTUG3giQF2",
        "outputId": "ab93142e-6548-4d34-eea1-c9cb7c603408"
      },
      "execution_count": null,
      "outputs": [
        {
          "output_type": "execute_result",
          "data": {
            "text/plain": [
              "         title  year\n",
              "100923  Hamlet  1910"
            ],
            "text/html": [
              "\n",
              "  <div id=\"df-c6f44b51-6537-428d-83ee-9635670bed87\">\n",
              "    <div class=\"colab-df-container\">\n",
              "      <div>\n",
              "<style scoped>\n",
              "    .dataframe tbody tr th:only-of-type {\n",
              "        vertical-align: middle;\n",
              "    }\n",
              "\n",
              "    .dataframe tbody tr th {\n",
              "        vertical-align: top;\n",
              "    }\n",
              "\n",
              "    .dataframe thead th {\n",
              "        text-align: right;\n",
              "    }\n",
              "</style>\n",
              "<table border=\"1\" class=\"dataframe\">\n",
              "  <thead>\n",
              "    <tr style=\"text-align: right;\">\n",
              "      <th></th>\n",
              "      <th>title</th>\n",
              "      <th>year</th>\n",
              "    </tr>\n",
              "  </thead>\n",
              "  <tbody>\n",
              "    <tr>\n",
              "      <th>100923</th>\n",
              "      <td>Hamlet</td>\n",
              "      <td>1910</td>\n",
              "    </tr>\n",
              "  </tbody>\n",
              "</table>\n",
              "</div>\n",
              "      <button class=\"colab-df-convert\" onclick=\"convertToInteractive('df-c6f44b51-6537-428d-83ee-9635670bed87')\"\n",
              "              title=\"Convert this dataframe to an interactive table.\"\n",
              "              style=\"display:none;\">\n",
              "        \n",
              "  <svg xmlns=\"http://www.w3.org/2000/svg\" height=\"24px\"viewBox=\"0 0 24 24\"\n",
              "       width=\"24px\">\n",
              "    <path d=\"M0 0h24v24H0V0z\" fill=\"none\"/>\n",
              "    <path d=\"M18.56 5.44l.94 2.06.94-2.06 2.06-.94-2.06-.94-.94-2.06-.94 2.06-2.06.94zm-11 1L8.5 8.5l.94-2.06 2.06-.94-2.06-.94L8.5 2.5l-.94 2.06-2.06.94zm10 10l.94 2.06.94-2.06 2.06-.94-2.06-.94-.94-2.06-.94 2.06-2.06.94z\"/><path d=\"M17.41 7.96l-1.37-1.37c-.4-.4-.92-.59-1.43-.59-.52 0-1.04.2-1.43.59L10.3 9.45l-7.72 7.72c-.78.78-.78 2.05 0 2.83L4 21.41c.39.39.9.59 1.41.59.51 0 1.02-.2 1.41-.59l7.78-7.78 2.81-2.81c.8-.78.8-2.07 0-2.86zM5.41 20L4 18.59l7.72-7.72 1.47 1.35L5.41 20z\"/>\n",
              "  </svg>\n",
              "      </button>\n",
              "      \n",
              "  <style>\n",
              "    .colab-df-container {\n",
              "      display:flex;\n",
              "      flex-wrap:wrap;\n",
              "      gap: 12px;\n",
              "    }\n",
              "\n",
              "    .colab-df-convert {\n",
              "      background-color: #E8F0FE;\n",
              "      border: none;\n",
              "      border-radius: 50%;\n",
              "      cursor: pointer;\n",
              "      display: none;\n",
              "      fill: #1967D2;\n",
              "      height: 32px;\n",
              "      padding: 0 0 0 0;\n",
              "      width: 32px;\n",
              "    }\n",
              "\n",
              "    .colab-df-convert:hover {\n",
              "      background-color: #E2EBFA;\n",
              "      box-shadow: 0px 1px 2px rgba(60, 64, 67, 0.3), 0px 1px 3px 1px rgba(60, 64, 67, 0.15);\n",
              "      fill: #174EA6;\n",
              "    }\n",
              "\n",
              "    [theme=dark] .colab-df-convert {\n",
              "      background-color: #3B4455;\n",
              "      fill: #D2E3FC;\n",
              "    }\n",
              "\n",
              "    [theme=dark] .colab-df-convert:hover {\n",
              "      background-color: #434B5C;\n",
              "      box-shadow: 0px 1px 3px 1px rgba(0, 0, 0, 0.15);\n",
              "      filter: drop-shadow(0px 1px 2px rgba(0, 0, 0, 0.3));\n",
              "      fill: #FFFFFF;\n",
              "    }\n",
              "  </style>\n",
              "\n",
              "      <script>\n",
              "        const buttonEl =\n",
              "          document.querySelector('#df-c6f44b51-6537-428d-83ee-9635670bed87 button.colab-df-convert');\n",
              "        buttonEl.style.display =\n",
              "          google.colab.kernel.accessAllowed ? 'block' : 'none';\n",
              "\n",
              "        async function convertToInteractive(key) {\n",
              "          const element = document.querySelector('#df-c6f44b51-6537-428d-83ee-9635670bed87');\n",
              "          const dataTable =\n",
              "            await google.colab.kernel.invokeFunction('convertToInteractive',\n",
              "                                                     [key], {});\n",
              "          if (!dataTable) return;\n",
              "\n",
              "          const docLinkHtml = 'Like what you see? Visit the ' +\n",
              "            '<a target=\"_blank\" href=https://colab.research.google.com/notebooks/data_table.ipynb>data table notebook</a>'\n",
              "            + ' to learn more about interactive tables.';\n",
              "          element.innerHTML = '';\n",
              "          dataTable['output_type'] = 'display_data';\n",
              "          await google.colab.output.renderOutput(dataTable, element);\n",
              "          const docLink = document.createElement('div');\n",
              "          docLink.innerHTML = docLinkHtml;\n",
              "          element.appendChild(docLink);\n",
              "        }\n",
              "      </script>\n",
              "    </div>\n",
              "  </div>\n",
              "  "
            ]
          },
          "metadata": {},
          "execution_count": 126
        }
      ]
    },
    {
      "cell_type": "markdown",
      "metadata": {
        "id": "o2pBw85AelAZ"
      },
      "source": [
        "### Wylistuj filmy \"Treasure Island\" od najwcześniejszego do najnowszego"
      ]
    },
    {
      "cell_type": "code",
      "source": [
        "# treasure = df.loc[df['title'] == \"Treasure Island\"]\n",
        "# treasure = treasure.sort_values(by=['year'])\n",
        "# print(treasure)\n",
        "\n",
        "titles[titles.title == \"Treasure Island\"].sort_values('year')\n"
      ],
      "metadata": {
        "colab": {
          "base_uri": "https://localhost:8080/"
        },
        "id": "_Qzdq-ETiuQR",
        "outputId": "3ba742cb-882e-4d35-f30a-64aa8f2ab4c7"
      },
      "execution_count": null,
      "outputs": [
        {
          "output_type": "stream",
          "name": "stdout",
          "text": [
            "                  title  year\n",
            "48904   Treasure Island  1918\n",
            "108475  Treasure Island  1920\n",
            "89471   Treasure Island  1934\n",
            "52435   Treasure Island  1950\n",
            "118309  Treasure Island  1972\n",
            "144139  Treasure Island  1973\n",
            "191845  Treasure Island  1985\n",
            "50325   Treasure Island  1999\n"
          ]
        }
      ]
    },
    {
      "cell_type": "markdown",
      "metadata": {
        "id": "6fIJ86_NelAa"
      },
      "source": [
        "### Ile filmów wyprodukowano w roku 1950?"
      ]
    },
    {
      "cell_type": "code",
      "source": [
        "# rok1950 = df.year.value_counts()\n",
        "# type(rok1950)\n",
        "# print(rok1950[1950])\n",
        "\n",
        "# Rok1 = df[df[\"year\"] == 1950]\n",
        "# print(Rok1.shape[0])\n",
        "\n",
        "len(titles[titles.year == 1950])"
      ],
      "metadata": {
        "colab": {
          "base_uri": "https://localhost:8080/"
        },
        "id": "7IIYW4ZFjoYy",
        "outputId": "f7e8f273-1dc7-46a3-b835-f3327faa8834"
      },
      "execution_count": null,
      "outputs": [
        {
          "output_type": "execute_result",
          "data": {
            "text/plain": [
              "1036"
            ]
          },
          "metadata": {},
          "execution_count": 153
        }
      ]
    },
    {
      "cell_type": "markdown",
      "metadata": {
        "id": "Im4Aq_wgelAa"
      },
      "source": [
        "### Ile filmów wyprodukowano w roku 1960?"
      ]
    },
    {
      "cell_type": "code",
      "source": [
        "# subset_df = df[df[\"A\"] < 3]\n",
        "Rok1 = df[df[\"year\"] == 1960]\n",
        "print(Rok1.shape[0])\n"
      ],
      "metadata": {
        "colab": {
          "base_uri": "https://localhost:8080/"
        },
        "id": "Ydn0EyB5lYV-",
        "outputId": "c8abf181-2a88-42c5-be94-cd553237c0cd"
      },
      "execution_count": null,
      "outputs": [
        {
          "output_type": "stream",
          "name": "stdout",
          "text": [
            "1461\n"
          ]
        }
      ]
    },
    {
      "cell_type": "markdown",
      "metadata": {
        "id": "X-mtQYA8elAb"
      },
      "source": [
        "### Ile filmów wyprodukowano w latach 50 tych?"
      ]
    },
    {
      "cell_type": "code",
      "source": [
        "# Rok2 = df[(df[\"year\"] >= 1950) & (df[\"year\"] < 1960)]\n",
        "# print(Rok2.shape[0])\n",
        "\n",
        "# Floor division\n",
        "len(df[df.year // 10 == 195])"
      ],
      "metadata": {
        "colab": {
          "base_uri": "https://localhost:8080/"
        },
        "id": "oU99Ex9vmMT6",
        "outputId": "7e800a01-77f0-4310-a6b7-1f4038f21e1f"
      },
      "execution_count": null,
      "outputs": [
        {
          "output_type": "execute_result",
          "data": {
            "text/plain": [
              "12110"
            ]
          },
          "metadata": {},
          "execution_count": 158
        }
      ]
    },
    {
      "cell_type": "markdown",
      "metadata": {
        "id": "Qso4k85OelAb"
      },
      "source": [
        "### W jakich latach był produkowany film \"Batman\"?"
      ]
    },
    {
      "cell_type": "code",
      "source": [
        "batman = df[df['title'] == \"Batman\"]\n",
        "batman = batman.sort_values(by=['year'])\n",
        "print(batman)"
      ],
      "metadata": {
        "colab": {
          "base_uri": "https://localhost:8080/"
        },
        "id": "7GcLmMV3meUR",
        "outputId": "30c3f6e1-31fd-464a-b828-e8d4934dfa08"
      },
      "execution_count": null,
      "outputs": [
        {
          "output_type": "stream",
          "name": "stdout",
          "text": [
            "        title  year\n",
            "56309  Batman  1943\n",
            "16656  Batman  1989\n"
          ]
        }
      ]
    },
    {
      "cell_type": "markdown",
      "metadata": {
        "id": "I9M34Zv2elAb"
      },
      "source": [
        "### Ile ról (cast) było obsadzonych w filmie \"Inception\"?"
      ]
    },
    {
      "cell_type": "code",
      "source": [
        "cast.head()\n",
        "cast_inception = cast[cast['title'] == \"Inception\"]\n",
        "print(cast_inception)\n",
        "print(\"Liczba ról to: \",len(cast_inception))"
      ],
      "metadata": {
        "colab": {
          "base_uri": "https://localhost:8080/"
        },
        "id": "mC2Va55tnKFC",
        "outputId": "d8ace2d8-7dbd-4fb3-c833-e2ca3b415744"
      },
      "execution_count": null,
      "outputs": [
        {
          "output_type": "stream",
          "name": "stdout",
          "text": [
            "             title  year                  name     type  \\\n",
            "85565    Inception  2010  Michael (III) August    actor   \n",
            "130207   Inception  2010          Peter Basham    actor   \n",
            "161273   Inception  2010          Tom Berenger    actor   \n",
            "173593   Inception  2010              Ken Bhan    actor   \n",
            "228660   Inception  2010        Virgile Bramly    actor   \n",
            "...            ...   ...                   ...      ...   \n",
            "2972865  Inception  2010            Ellen Page  actress   \n",
            "3021835  Inception  2010        Nicole Pulliam  actress   \n",
            "3045839  Inception  2010    Lisa (II) Reynolds  actress   \n",
            "3051953  Inception  2010         Talulah Riley  actress   \n",
            "3265183  Inception  2010        Shannon Welles  actress   \n",
            "\n",
            "                     character     n  \n",
            "85565            LAX Passenger   NaN  \n",
            "130207   Fischer's Jet Captain  44.0  \n",
            "161273                Browning   8.0  \n",
            "173593        Mombasan Gambler   NaN  \n",
            "228660          Bridge Sub Con  29.0  \n",
            "...                        ...   ...  \n",
            "2972865                Ariadne   3.0  \n",
            "3021835          Lobby Sub Con  43.0  \n",
            "3045839          Private Nurse  48.0  \n",
            "3051953                 Blonde  25.0  \n",
            "3265183                Old Mal  51.0  \n",
            "\n",
            "[72 rows x 6 columns]\n",
            "Liczba ról to:  72\n"
          ]
        }
      ]
    },
    {
      "cell_type": "markdown",
      "metadata": {
        "id": "4MEhxQIWelAc"
      },
      "source": [
        "### Ile ról w filmie \"Inception\" NIE nie otrzymało rankingu (kolumna \"n\")?"
      ]
    },
    {
      "cell_type": "code",
      "source": [
        "cast_inception_n = cast_inception[cast_inception.n.isnull()]\n",
        "print(\"Liczba ról to: \",len(cast_inception_n))"
      ],
      "metadata": {
        "colab": {
          "base_uri": "https://localhost:8080/"
        },
        "id": "5z71bmgEn5Jm",
        "outputId": "758a470e-d348-4057-c1fd-ad2585b51dfc"
      },
      "execution_count": null,
      "outputs": [
        {
          "output_type": "stream",
          "name": "stdout",
          "text": [
            "Liczba ról to:  21\n"
          ]
        }
      ]
    },
    {
      "cell_type": "markdown",
      "metadata": {
        "id": "er2juuQcelAc"
      },
      "source": [
        "### A ile ról w filmie \"Inception\" otrzymało ocenę rankingu w kolumnie \"n\"?"
      ]
    },
    {
      "cell_type": "code",
      "source": [
        "inc = cast[(cast.n >= 1) & (cast.title == \"Inception\")]\n",
        "inc = cast[(cast.n.notnull()) & (cast.title == \"Inception\")]\n",
        "len(inc)"
      ],
      "metadata": {
        "colab": {
          "base_uri": "https://localhost:8080/"
        },
        "id": "35Q-H0_foqh8",
        "outputId": "080e91f4-5b3b-4000-a5ac-4cf9af97d88a"
      },
      "execution_count": null,
      "outputs": [
        {
          "output_type": "execute_result",
          "data": {
            "text/plain": [
              "51"
            ]
          },
          "metadata": {},
          "execution_count": 195
        }
      ]
    },
    {
      "cell_type": "markdown",
      "metadata": {
        "id": "GjuQeBnjelAc"
      },
      "source": [
        "### Wyświetl obsadę filmu \"North by Northwest\" według liczby ocen od pierwszoplanowych, ignorując role, które nie otrzymały oceny"
      ]
    },
    {
      "cell_type": "code",
      "source": [
        "cast_north = cast[cast['title'] == \"North by Northwest\"]\n",
        "cast_north = cast_north[cast_north['n'].notnull()]\n",
        "cast_north = cast_north.sort_values(by=['n'], ascending = True)\n",
        "print(cast_north)"
      ],
      "metadata": {
        "colab": {
          "base_uri": "https://localhost:8080/"
        },
        "id": "yg98RF0GosMc",
        "outputId": "612f878e-55c4-47d0-c13f-7cfc36106ba4"
      },
      "execution_count": null,
      "outputs": [
        {
          "output_type": "stream",
          "name": "stdout",
          "text": [
            "                      title  year                  name     type  \\\n",
            "773496   North by Northwest  1959            Cary Grant    actor   \n",
            "3084579  North by Northwest  1959       Eva Marie Saint  actress   \n",
            "1292652  North by Northwest  1959           James Mason    actor   \n",
            "2776446  North by Northwest  1959   Jessie Royce Landis  actress   \n",
            "315343   North by Northwest  1959        Leo G. Carroll    actor   \n",
            "2685171  North by Northwest  1959  Josephine Hutchinson  actress   \n",
            "1504777  North by Northwest  1959           Philip Ober    actor   \n",
            "1130557  North by Northwest  1959         Martin Landau    actor   \n",
            "2167754  North by Northwest  1959         Adam Williams    actor   \n",
            "1607029  North by Northwest  1959          Edward Platt    actor   \n",
            "590702   North by Northwest  1959     Robert Ellenstein    actor   \n",
            "2033529  North by Northwest  1959          Les Tremayne    actor   \n",
            "411247   North by Northwest  1959       Philip Coolidge    actor   \n",
            "1339004  North by Northwest  1959         Patrick McVey    actor   \n",
            "180985   North by Northwest  1959          Edward Binns    actor   \n",
            "1228229  North by Northwest  1959             Ken Lynch    actor   \n",
            "\n",
            "                           character     n  \n",
            "773496            Roger O. Thornhill   1.0  \n",
            "3084579                  Eve Kendall   2.0  \n",
            "1292652              Phillip Vandamm   3.0  \n",
            "2776446              Clara Thornhill   4.0  \n",
            "315343                 The Professor   5.0  \n",
            "2685171                Mrs. Townsend   6.0  \n",
            "1504777              Lester Townsend   7.0  \n",
            "1130557                      Leonard   8.0  \n",
            "2167754                     Valerian   9.0  \n",
            "1607029              Victor Larrabee  10.0  \n",
            "590702                         Licht  11.0  \n",
            "2033529                   Auctioneer  12.0  \n",
            "411247                     Dr. Cross  13.0  \n",
            "1339004               Sergeant Flamm  14.0  \n",
            "180985                Captain Junket  15.0  \n",
            "1228229  Charley - Chicago Policeman  16.0  \n"
          ]
        }
      ]
    },
    {
      "cell_type": "markdown",
      "metadata": {
        "id": "yRm2eACUelAd"
      },
      "source": [
        "### Wyświetl całą obsadę według rankingu dla filmu \"Sleuth\" z 1972."
      ]
    },
    {
      "cell_type": "code",
      "source": [
        "cast_sleuth = cast[(cast['title'] == \"Sleuth\") & (cast['year'] == 1972)]\n",
        "# cast_sleuth = cast[(cast['title'] == \"Sleuth\")]\n",
        "cast_sleuth = cast_sleuth.sort_values(by=['n'], ascending = True)\n",
        "print(cast_sleuth)"
      ],
      "metadata": {
        "colab": {
          "base_uri": "https://localhost:8080/"
        },
        "id": "_uqcK-6wpMIe",
        "outputId": "33155b7e-1bb9-4e13-80a3-6701d397855c"
      },
      "execution_count": null,
      "outputs": [
        {
          "output_type": "stream",
          "name": "stdout",
          "text": [
            "          title  year                name     type  \\\n",
            "1513570  Sleuth  1972    Laurence Olivier    actor   \n",
            "288502   Sleuth  1972       Michael Caine    actor   \n",
            "330750   Sleuth  1972      Alec Cawthorne    actor   \n",
            "1299944  Sleuth  1972  John (II) Matthews    actor   \n",
            "2406762  Sleuth  1972  Eve (III) Channing  actress   \n",
            "1285278  Sleuth  1972        Teddy Martin    actor   \n",
            "\n",
            "                          character    n  \n",
            "1513570                 Andrew Wyke  1.0  \n",
            "288502                  Milo Tindle  2.0  \n",
            "330750            Inspector Doppler  3.0  \n",
            "1299944  Detective Sergeant Tarrant  4.0  \n",
            "2406762             Marguerite Wyke  5.0  \n",
            "1285278      Police Constable Higgs  6.0  \n"
          ]
        }
      ]
    },
    {
      "cell_type": "markdown",
      "metadata": {
        "id": "Xm_tgh5felAd"
      },
      "source": [
        "### Wyświetl całą obsadę według liczby ocen filmu \"Sleuth\" z 2007 r. "
      ]
    },
    {
      "cell_type": "code",
      "source": [
        "cast_sleuth2 = cast[(cast['title'] == \"Sleuth\") & (cast['year'] == 2007)]\n",
        "# cast_sleuth = cast[(cast['title'] == \"Sleuth\")]\n",
        "print(cast_sleuth2)"
      ],
      "metadata": {
        "colab": {
          "base_uri": "https://localhost:8080/"
        },
        "id": "6vVp6IDdqi1A",
        "outputId": "29e7e2c4-d4a1-459c-9843-2d52a9aa4162"
      },
      "execution_count": null,
      "outputs": [
        {
          "output_type": "stream",
          "name": "stdout",
          "text": [
            "          title  year                 name     type          character    n\n",
            "228757   Sleuth  2007      Kenneth Branagh    actor  Other Man on T.V.  NaN\n",
            "288503   Sleuth  2007        Michael Caine    actor             Andrew  1.0\n",
            "330751   Sleuth  2007  Alec (II) Cawthorne    actor  Inspector Doppler  NaN\n",
            "1147041  Sleuth  2007             Jude Law    actor               Milo  2.0\n",
            "1602268  Sleuth  2007        Harold Pinter    actor        Man on T.V.  3.0\n",
            "2406761  Sleuth  2007    Eve (II) Channing  actress    Marguerite Wyke  NaN\n",
            "2958823  Sleuth  2007    Carmel O'Sullivan  actress             Maggie  NaN\n"
          ]
        }
      ]
    },
    {
      "cell_type": "markdown",
      "metadata": {
        "id": "0POf-bugelAe"
      },
      "source": [
        "### Ile ról było obsadzonych w niemej wersji Hamleta z 1921 r.?"
      ]
    },
    {
      "cell_type": "code",
      "source": [
        "# len(cast[cast[(['title'] == \"Hamlet\") & (['year'] == 1921)])\n",
        "\n",
        "len(cast[(cast['title'] == \"Hamlet\") & (cast['year'] == 1921)])"
      ],
      "metadata": {
        "colab": {
          "base_uri": "https://localhost:8080/"
        },
        "id": "WdBJTe7NqqGN",
        "outputId": "25d97643-7dbd-4ded-a240-eb1eebdb3ca7"
      },
      "execution_count": null,
      "outputs": [
        {
          "output_type": "execute_result",
          "data": {
            "text/plain": [
              "9"
            ]
          },
          "metadata": {},
          "execution_count": 117
        }
      ]
    },
    {
      "cell_type": "markdown",
      "metadata": {
        "id": "OKAV8nc4elAg"
      },
      "source": [
        "### Ile ról było obsadzonych w Hamlecie z 1996 r.?"
      ]
    },
    {
      "cell_type": "code",
      "source": [
        "len(cast[(cast['title'] == \"Hamlet\") & (cast['year'] == 1996)])"
      ],
      "metadata": {
        "colab": {
          "base_uri": "https://localhost:8080/"
        },
        "id": "8Zd7vKP-sWN0",
        "outputId": "34d63322-397f-49b7-f021-f8418389da48"
      },
      "execution_count": null,
      "outputs": [
        {
          "output_type": "execute_result",
          "data": {
            "text/plain": [
              "55"
            ]
          },
          "metadata": {},
          "execution_count": 118
        }
      ]
    },
    {
      "cell_type": "markdown",
      "metadata": {
        "id": "j5TVVwj6elAg"
      },
      "source": [
        "### Ile ról filmu \"Hamlet\" było obsadzonych w calej historii kina?"
      ]
    },
    {
      "cell_type": "code",
      "source": [
        "len(cast[cast.character == \"Hamlet\"])"
      ],
      "metadata": {
        "colab": {
          "base_uri": "https://localhost:8080/"
        },
        "id": "ReZyzo8r3sUf",
        "outputId": "ba128c2c-e3fc-4548-bfa4-3f4d2a43600b"
      },
      "execution_count": null,
      "outputs": [
        {
          "output_type": "execute_result",
          "data": {
            "text/plain": [
              "81"
            ]
          },
          "metadata": {},
          "execution_count": 222
        }
      ]
    },
    {
      "cell_type": "markdown",
      "metadata": {
        "id": "pf7-EbmgelAh"
      },
      "source": [
        "### Ilu aktorów grało rolę \"Ophelia\"?"
      ]
    },
    {
      "cell_type": "code",
      "source": [
        "len(cast[(cast.character == \"Ophelia\") & (cast.type == \"actor\")])"
      ],
      "metadata": {
        "colab": {
          "base_uri": "https://localhost:8080/"
        },
        "id": "sCJSRuU_tRGo",
        "outputId": "1aacfd4e-f71e-4356-aa27-56e0cb8b43bb"
      },
      "execution_count": null,
      "outputs": [
        {
          "output_type": "execute_result",
          "data": {
            "text/plain": [
              "6"
            ]
          },
          "metadata": {},
          "execution_count": 224
        }
      ]
    },
    {
      "cell_type": "markdown",
      "metadata": {
        "id": "4UOgQ_g5elAh"
      },
      "source": [
        "### Ilu aktorów grało rolę \"The Dude\"?"
      ]
    },
    {
      "cell_type": "code",
      "source": [
        "len(cast[(cast.character == \"The Dude\") & (cast.type == \"actor\")])"
      ],
      "metadata": {
        "colab": {
          "base_uri": "https://localhost:8080/"
        },
        "id": "d6ayrSvGti3A",
        "outputId": "031cd371-d885-42bb-dcd7-57723800f94b"
      },
      "execution_count": null,
      "outputs": [
        {
          "output_type": "execute_result",
          "data": {
            "text/plain": [
              "16"
            ]
          },
          "metadata": {},
          "execution_count": 204
        }
      ]
    },
    {
      "cell_type": "markdown",
      "metadata": {
        "id": "a2CTVUheelAi"
      },
      "source": [
        "### Ilu aktorów grało rolę \"The Stranger\"?"
      ]
    },
    {
      "cell_type": "code",
      "source": [
        "len(cast[cast.character == \"The Stranger\"])"
      ],
      "metadata": {
        "colab": {
          "base_uri": "https://localhost:8080/"
        },
        "id": "VVkRomIatr6t",
        "outputId": "a59bf29a-6e3a-4ba6-e566-67f4c7a54b40"
      },
      "execution_count": null,
      "outputs": [
        {
          "output_type": "execute_result",
          "data": {
            "text/plain": [
              "192"
            ]
          },
          "metadata": {},
          "execution_count": 132
        }
      ]
    },
    {
      "cell_type": "markdown",
      "metadata": {
        "id": "FQFkDVmAelAi"
      },
      "source": [
        "### Ile ról zagrał w swojej karierze Sidney Poitier?"
      ]
    },
    {
      "cell_type": "code",
      "source": [
        "len(cast[cast.name == \"Sidney Poitier\"])"
      ],
      "metadata": {
        "colab": {
          "base_uri": "https://localhost:8080/"
        },
        "id": "fQoHsJBYtmrK",
        "outputId": "c088161c-b746-4844-9b7f-6d21e5b23910"
      },
      "execution_count": null,
      "outputs": [
        {
          "output_type": "execute_result",
          "data": {
            "text/plain": [
              "43"
            ]
          },
          "metadata": {},
          "execution_count": 131
        }
      ]
    },
    {
      "cell_type": "markdown",
      "metadata": {
        "id": "ZLIopA6xelAi"
      },
      "source": [
        "### Ile ról zagrała Judi Dench?"
      ]
    },
    {
      "cell_type": "markdown",
      "metadata": {
        "id": "3S89QutWelAi"
      },
      "source": [
        "### Wylistuj role drugoplanowe (mające n=2) grane przez Cary Grant w latach 40, w porządku według roku."
      ]
    },
    {
      "cell_type": "code",
      "source": [
        "# cary = cast[cast.name == \"Cary Grant\"]\n",
        "# cary = cast[(cast['name'] == \"Cary Grant\") & (cast['n'] == 2) & (cast['year'] >= 1940) & (cast['year'] < 1950)].sort_values('year')\n",
        "cary = cast[(cast['name'] == \"Cary Grant\") & (cast['n'] == 2) & (cast['year'] // 10 == 194)].sort_values('year')\n",
        "print(cary)\n",
        "\n",
        "# Rok2 = df[(df[\"year\"] >= 1950) & (df[\"year\"] < 1960)]"
      ],
      "metadata": {
        "colab": {
          "base_uri": "https://localhost:8080/"
        },
        "id": "ULciYl2ztvxS",
        "outputId": "1f38e4a6-0198-4146-8e87-beecb06a205a"
      },
      "execution_count": null,
      "outputs": [
        {
          "output_type": "stream",
          "name": "stdout",
          "text": [
            "                   title  year        name   type    character    n\n",
            "773493  My Favorite Wife  1940  Cary Grant  actor         Nick  2.0\n",
            "773503    Penny Serenade  1941  Cary Grant  actor  Roger Adams  2.0\n"
          ]
        }
      ]
    },
    {
      "cell_type": "markdown",
      "metadata": {
        "id": "dHyEVh8zelAj"
      },
      "source": [
        "### Wylistuj role pierwszoplanowe, które Cary Grant grał w latach 40 według roku."
      ]
    },
    {
      "cell_type": "code",
      "source": [
        "cary2 = cast[(cast['name'] == \"Cary Grant\") & (cast['n'] == 1) & (cast['year'] // 10 == 194)].sort_values('year')\n",
        "print(cary2)"
      ],
      "metadata": {
        "colab": {
          "base_uri": "https://localhost:8080/"
        },
        "id": "cZeBsON-vb3N",
        "outputId": "ae96e34b-ff7f-4304-87f8-e02bd80d24ad"
      },
      "execution_count": null,
      "outputs": [
        {
          "output_type": "stream",
          "name": "stdout",
          "text": [
            "                                       title  year        name   type  \\\n",
            "773518               The Howards of Virginia  1940  Cary Grant  actor   \n",
            "773475                       His Girl Friday  1940  Cary Grant  actor   \n",
            "773520                The Philadelphia Story  1940  Cary Grant  actor   \n",
            "773508                             Suspicion  1941  Cary Grant  actor   \n",
            "773522                  The Talk of the Town  1942  Cary Grant  actor   \n",
            "773499                 Once Upon a Honeymoon  1942  Cary Grant  actor   \n",
            "773466                     Destination Tokyo  1943  Cary Grant  actor   \n",
            "773491                             Mr. Lucky  1943  Cary Grant  actor   \n",
            "773492                             Mr. Lucky  1943  Cary Grant  actor   \n",
            "773500                      Once Upon a Time  1944  Cary Grant  actor   \n",
            "773458                  Arsenic and Old Lace  1944  Cary Grant  actor   \n",
            "773495             None But the Lonely Heart  1944  Cary Grant  actor   \n",
            "773494                         Night and Day  1946  Cary Grant  actor   \n",
            "773497                             Notorious  1946  Cary Grant  actor   \n",
            "773514      The Bachelor and the Bobby-Soxer  1947  Cary Grant  actor   \n",
            "773515                     The Bishop's Wife  1947  Cary Grant  actor   \n",
            "773490  Mr. Blandings Builds His Dream House  1948  Cary Grant  actor   \n",
            "773470          Every Girl Should Be Married  1948  Cary Grant  actor   \n",
            "773479                I Was a Male War Bride  1949  Cary Grant  actor   \n",
            "\n",
            "                    character    n  \n",
            "773518            Matt Howard  1.0  \n",
            "773475           Walter Burns  1.0  \n",
            "773520     C. K. Dexter Haven  1.0  \n",
            "773508                Johnnie  1.0  \n",
            "773522           Leopold Dilg  1.0  \n",
            "773499  Patrick 'Pat' O'Toole  1.0  \n",
            "773466          Capt. Cassidy  1.0  \n",
            "773491              Joe Adams  1.0  \n",
            "773492        Joe Bascopolous  1.0  \n",
            "773500            Jerry Flynn  1.0  \n",
            "773458      Mortimer Brewster  1.0  \n",
            "773495             Ernie Mott  1.0  \n",
            "773494            Cole Porter  1.0  \n",
            "773497                 Devlin  1.0  \n",
            "773514                   Dick  1.0  \n",
            "773515                 Dudley  1.0  \n",
            "773490          Jim Blandings  1.0  \n",
            "773470      Dr. Madison Brown  1.0  \n",
            "773479    Capt. Henri Rochard  1.0  \n"
          ]
        }
      ]
    },
    {
      "cell_type": "markdown",
      "metadata": {
        "id": "Tz6gjGWTelAj"
      },
      "source": [
        "### Ile ról było dostępnych dla aktorów w latach 50tych?"
      ]
    },
    {
      "cell_type": "code",
      "source": [
        "len(cast[cast.type == \"actor\"])"
      ],
      "metadata": {
        "colab": {
          "base_uri": "https://localhost:8080/"
        },
        "id": "q4qPdSeIwqfr",
        "outputId": "63dd911a-c57f-457a-d1ff-0ca350378253"
      },
      "execution_count": null,
      "outputs": [
        {
          "output_type": "execute_result",
          "data": {
            "text/plain": [
              "2242942"
            ]
          },
          "metadata": {},
          "execution_count": 164
        }
      ]
    },
    {
      "cell_type": "markdown",
      "metadata": {
        "id": "F38NNLiselAj"
      },
      "source": [
        "### Ile ról było dostępnych dla aktorek w latach 50tych?\n"
      ]
    },
    {
      "cell_type": "code",
      "source": [
        "len(cast[cast.type == \"actress\"])"
      ],
      "metadata": {
        "colab": {
          "base_uri": "https://localhost:8080/"
        },
        "id": "Lfupi6VoxA5g",
        "outputId": "23b0cb2b-955c-4e7b-e358-84c0b71a5a0c"
      },
      "execution_count": null,
      "outputs": [
        {
          "output_type": "execute_result",
          "data": {
            "text/plain": [
              "1068705"
            ]
          },
          "metadata": {},
          "execution_count": 165
        }
      ]
    },
    {
      "cell_type": "markdown",
      "metadata": {
        "id": "xt1odR1telAj"
      },
      "source": [
        "### Ile ról pierwszoplanowych (n=1) było dostępnych od początku historii filmu do końca roku 1980?\n",
        "\n"
      ]
    },
    {
      "cell_type": "code",
      "source": [
        "len(cast[(cast.n == 1) & (cast.year <= 1980)])"
      ],
      "metadata": {
        "colab": {
          "base_uri": "https://localhost:8080/"
        },
        "id": "Cz8xCl2jxEtA",
        "outputId": "48239750-77a9-4afe-b2bf-1c954c461c28"
      },
      "execution_count": null,
      "outputs": [
        {
          "output_type": "execute_result",
          "data": {
            "text/plain": [
              "61444"
            ]
          },
          "metadata": {},
          "execution_count": 225
        }
      ]
    },
    {
      "cell_type": "markdown",
      "metadata": {
        "id": "sjoJd0kJelAj"
      },
      "source": [
        "### Ile ról niepierwszoplanowych było dostępnych od początku historii kina do końca roku 1980?"
      ]
    },
    {
      "cell_type": "code",
      "source": [
        "len(cast[(cast.n != 1) & (cast.year <= 1980)])"
      ],
      "metadata": {
        "colab": {
          "base_uri": "https://localhost:8080/"
        },
        "id": "9YgpWmA_xP__",
        "outputId": "11fbdfa2-26f7-44cf-e019-50edf7dbcd66"
      },
      "execution_count": null,
      "outputs": [
        {
          "output_type": "execute_result",
          "data": {
            "text/plain": [
              "1047877"
            ]
          },
          "metadata": {},
          "execution_count": 168
        }
      ]
    },
    {
      "cell_type": "markdown",
      "metadata": {
        "id": "4M0n0qCpelAk"
      },
      "source": [
        "### Ile ról do końca 1980 było na tyle słabych, że nie otrzymało oceny \"n\"?"
      ]
    },
    {
      "cell_type": "code",
      "source": [
        "asd = cast[(cast.n.isnull()) & (cast.year <= 1980)]\n",
        "len(asd)"
      ],
      "metadata": {
        "colab": {
          "base_uri": "https://localhost:8080/"
        },
        "id": "HDsSMkJq2-0l",
        "outputId": "6f9c89e2-f17a-498f-90ef-735c48ef5d21"
      },
      "execution_count": null,
      "outputs": [
        {
          "output_type": "execute_result",
          "data": {
            "text/plain": [
              "415167"
            ]
          },
          "metadata": {},
          "execution_count": 198
        }
      ]
    },
    {
      "cell_type": "markdown",
      "metadata": {
        "id": "qpIpKLL1elAk"
      },
      "source": [
        "## Koniec cz. 1"
      ]
    },
    {
      "cell_type": "code",
      "execution_count": null,
      "metadata": {
        "collapsed": true,
        "id": "RxqDxb7belAk"
      },
      "outputs": [],
      "source": [
        ""
      ]
    }
  ],
  "metadata": {
    "kernelspec": {
      "display_name": "Python 3",
      "language": "python",
      "name": "python3"
    },
    "language_info": {
      "codemirror_mode": {
        "name": "ipython",
        "version": 3
      },
      "file_extension": ".py",
      "mimetype": "text/x-python",
      "name": "python",
      "nbconvert_exporter": "python",
      "pygments_lexer": "ipython3",
      "version": "3.7.4"
    },
    "colab": {
      "name": "Ćwiczenia -1.ipynb",
      "provenance": [],
      "collapsed_sections": [],
      "include_colab_link": true
    }
  },
  "nbformat": 4,
  "nbformat_minor": 0
}