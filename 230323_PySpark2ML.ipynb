{
  "nbformat": 4,
  "nbformat_minor": 0,
  "metadata": {
    "colab": {
      "provenance": [],
      "toc_visible": true,
      "mount_file_id": "1N-4LbwmFGjRB3WKKCv-lTTmwFWMHAPW2",
      "authorship_tag": "ABX9TyMNXTbeGlQxEl+3RgtWQ8Sr",
      "include_colab_link": true
    },
    "kernelspec": {
      "name": "python3",
      "display_name": "Python 3"
    },
    "language_info": {
      "name": "python"
    }
  },
  "cells": [
    {
      "cell_type": "markdown",
      "metadata": {
        "id": "view-in-github",
        "colab_type": "text"
      },
      "source": [
        "<a href=\"https://colab.research.google.com/github/leadeeerq/data-science/blob/main/230323_PySpark2ML.ipynb\" target=\"_parent\"><img src=\"https://colab.research.google.com/assets/colab-badge.svg\" alt=\"Open In Colab\"/></a>"
      ]
    },
    {
      "cell_type": "code",
      "source": [
        "!pip install pyspark"
      ],
      "metadata": {
        "colab": {
          "base_uri": "https://localhost:8080/"
        },
        "id": "DppE1cbGKlQK",
        "outputId": "e8024506-8de2-41bd-9c2e-140cea9f4e18"
      },
      "execution_count": 1,
      "outputs": [
        {
          "output_type": "stream",
          "name": "stdout",
          "text": [
            "Looking in indexes: https://pypi.org/simple, https://us-python.pkg.dev/colab-wheels/public/simple/\n",
            "Collecting pyspark\n",
            "  Downloading pyspark-3.3.2.tar.gz (281.4 MB)\n",
            "\u001b[2K     \u001b[90m━━━━━━━━━━━━━━━━━━━━━━━━━━━━━━━━━━━━━━━\u001b[0m \u001b[32m281.4/281.4 MB\u001b[0m \u001b[31m4.3 MB/s\u001b[0m eta \u001b[36m0:00:00\u001b[0m\n",
            "\u001b[?25h  Preparing metadata (setup.py) ... \u001b[?25l\u001b[?25hdone\n",
            "Collecting py4j==0.10.9.5\n",
            "  Downloading py4j-0.10.9.5-py2.py3-none-any.whl (199 kB)\n",
            "\u001b[2K     \u001b[90m━━━━━━━━━━━━━━━━━━━━━━━━━━━━━━━━━━━━━━\u001b[0m \u001b[32m199.7/199.7 KB\u001b[0m \u001b[31m23.3 MB/s\u001b[0m eta \u001b[36m0:00:00\u001b[0m\n",
            "\u001b[?25hBuilding wheels for collected packages: pyspark\n",
            "  Building wheel for pyspark (setup.py) ... \u001b[?25l\u001b[?25hdone\n",
            "  Created wheel for pyspark: filename=pyspark-3.3.2-py2.py3-none-any.whl size=281824028 sha256=cf95ff3d284e618fdb3fe2b61505906ca8909d543f3eecc873c6816d7d4e582d\n",
            "  Stored in directory: /root/.cache/pip/wheels/6c/e3/9b/0525ce8a69478916513509d43693511463c6468db0de237c86\n",
            "Successfully built pyspark\n",
            "Installing collected packages: py4j, pyspark\n",
            "  Attempting uninstall: py4j\n",
            "    Found existing installation: py4j 0.10.9.7\n",
            "    Uninstalling py4j-0.10.9.7:\n",
            "      Successfully uninstalled py4j-0.10.9.7\n",
            "Successfully installed py4j-0.10.9.5 pyspark-3.3.2\n"
          ]
        }
      ]
    },
    {
      "cell_type": "code",
      "execution_count": 2,
      "metadata": {
        "id": "8OpkwkJYKZGk"
      },
      "outputs": [],
      "source": [
        "import pyspark\n",
        "import pandas as pd"
      ]
    },
    {
      "cell_type": "code",
      "source": [
        "from pyspark.sql import SparkSession\n",
        "spark = SparkSession.builder.appName('Practise').getOrCreate()"
      ],
      "metadata": {
        "id": "2pdeV99gKq4b"
      },
      "execution_count": 3,
      "outputs": []
    },
    {
      "cell_type": "code",
      "source": [
        "training = spark.read.csv('/content/drive/MyDrive/Projekty Data Science/PySpark/test1.csv', header = True, inferSchema = True)"
      ],
      "metadata": {
        "id": "9RXU5YXJKtB7"
      },
      "execution_count": 4,
      "outputs": []
    },
    {
      "cell_type": "code",
      "source": [
        "training.show()"
      ],
      "metadata": {
        "colab": {
          "base_uri": "https://localhost:8080/"
        },
        "id": "e9COCNhNK9nk",
        "outputId": "3a9b647a-5dee-4a7e-dbe4-22e9972f112c"
      },
      "execution_count": 5,
      "outputs": [
        {
          "output_type": "stream",
          "name": "stdout",
          "text": [
            "+---------+---+----------+------+\n",
            "|     Name|age|Experience|Salary|\n",
            "+---------+---+----------+------+\n",
            "|    Krish| 31|        10| 30000|\n",
            "|Sudhanshu| 30|         8| 25000|\n",
            "|    Sunny| 29|         4| 20000|\n",
            "|     Paul| 24|         3| 20000|\n",
            "|   Harsha| 21|         1| 15000|\n",
            "|  Shubham| 23|         2| 18000|\n",
            "+---------+---+----------+------+\n",
            "\n"
          ]
        }
      ]
    },
    {
      "cell_type": "code",
      "source": [
        "training.printSchema()"
      ],
      "metadata": {
        "colab": {
          "base_uri": "https://localhost:8080/"
        },
        "id": "1Ou3PQ9rK-sr",
        "outputId": "65db146f-2213-45a7-aa42-a8f6df0a491c"
      },
      "execution_count": 6,
      "outputs": [
        {
          "output_type": "stream",
          "name": "stdout",
          "text": [
            "root\n",
            " |-- Name: string (nullable = true)\n",
            " |-- age: integer (nullable = true)\n",
            " |-- Experience: integer (nullable = true)\n",
            " |-- Salary: integer (nullable = true)\n",
            "\n"
          ]
        }
      ]
    },
    {
      "cell_type": "code",
      "source": [
        "training.columns"
      ],
      "metadata": {
        "colab": {
          "base_uri": "https://localhost:8080/"
        },
        "id": "x5e1P19hLAqs",
        "outputId": "faf70c5a-8597-4381-a93c-0bfd3f20f70e"
      },
      "execution_count": 7,
      "outputs": [
        {
          "output_type": "execute_result",
          "data": {
            "text/plain": [
              "['Name', 'age', 'Experience', 'Salary']"
            ]
          },
          "metadata": {},
          "execution_count": 7
        }
      ]
    },
    {
      "cell_type": "markdown",
      "source": [
        "##Vectorassembler - a feature transformer that merges multiple columns into a vector column."
      ],
      "metadata": {
        "id": "0DBcEmiDLbuq"
      }
    },
    {
      "cell_type": "code",
      "source": [
        "from pyspark.ml.feature import VectorAssembler\n",
        "featureassembler = VectorAssembler(inputCols = ['age', 'Experience'], outputCol = 'Independent feature')"
      ],
      "metadata": {
        "id": "1xARSzxELdAC"
      },
      "execution_count": 8,
      "outputs": []
    },
    {
      "cell_type": "code",
      "source": [
        "output = featureassembler.transform(training)"
      ],
      "metadata": {
        "id": "Z8kzbgIdLCCm"
      },
      "execution_count": 9,
      "outputs": []
    },
    {
      "cell_type": "code",
      "source": [
        "output.show()"
      ],
      "metadata": {
        "colab": {
          "base_uri": "https://localhost:8080/"
        },
        "id": "gJILUNS_L-La",
        "outputId": "4755998a-ff19-4ec8-da3f-6c4cd2d00599"
      },
      "execution_count": 10,
      "outputs": [
        {
          "output_type": "stream",
          "name": "stdout",
          "text": [
            "+---------+---+----------+------+-------------------+\n",
            "|     Name|age|Experience|Salary|Independent feature|\n",
            "+---------+---+----------+------+-------------------+\n",
            "|    Krish| 31|        10| 30000|        [31.0,10.0]|\n",
            "|Sudhanshu| 30|         8| 25000|         [30.0,8.0]|\n",
            "|    Sunny| 29|         4| 20000|         [29.0,4.0]|\n",
            "|     Paul| 24|         3| 20000|         [24.0,3.0]|\n",
            "|   Harsha| 21|         1| 15000|         [21.0,1.0]|\n",
            "|  Shubham| 23|         2| 18000|         [23.0,2.0]|\n",
            "+---------+---+----------+------+-------------------+\n",
            "\n"
          ]
        }
      ]
    },
    {
      "cell_type": "code",
      "source": [
        "output.columns"
      ],
      "metadata": {
        "colab": {
          "base_uri": "https://localhost:8080/"
        },
        "id": "JBgw4QiEL-2A",
        "outputId": "9c1ca912-31db-4a51-9bde-1db850b26b5e"
      },
      "execution_count": 11,
      "outputs": [
        {
          "output_type": "execute_result",
          "data": {
            "text/plain": [
              "['Name', 'age', 'Experience', 'Salary', 'Independent feature']"
            ]
          },
          "metadata": {},
          "execution_count": 11
        }
      ]
    },
    {
      "cell_type": "code",
      "source": [
        "finalized_data = output.select('Independent feature', 'Salary')"
      ],
      "metadata": {
        "id": "LrdfIujSMIDL"
      },
      "execution_count": 12,
      "outputs": []
    },
    {
      "cell_type": "code",
      "source": [
        "finalized_data.show()"
      ],
      "metadata": {
        "colab": {
          "base_uri": "https://localhost:8080/"
        },
        "id": "B2mT50h7MMbT",
        "outputId": "2cebffef-e5d5-469f-a386-0ba0177e463b"
      },
      "execution_count": 13,
      "outputs": [
        {
          "output_type": "stream",
          "name": "stdout",
          "text": [
            "+-------------------+------+\n",
            "|Independent feature|Salary|\n",
            "+-------------------+------+\n",
            "|        [31.0,10.0]| 30000|\n",
            "|         [30.0,8.0]| 25000|\n",
            "|         [29.0,4.0]| 20000|\n",
            "|         [24.0,3.0]| 20000|\n",
            "|         [21.0,1.0]| 15000|\n",
            "|         [23.0,2.0]| 18000|\n",
            "+-------------------+------+\n",
            "\n"
          ]
        }
      ]
    },
    {
      "cell_type": "markdown",
      "source": [
        "##Linear regression"
      ],
      "metadata": {
        "id": "dp3X1hCEMQaJ"
      }
    },
    {
      "cell_type": "code",
      "source": [
        "from pyspark.ml.regression import LinearRegression\n",
        "train_data, test_data = finalized_data.randomSplit([0.75, 0.25])\n",
        "regressor = LinearRegression(featuresCol = 'Independent feature', labelCol = 'Salary')\n",
        "regressor = regressor.fit(train_data)"
      ],
      "metadata": {
        "id": "sctHuJV6MRrx"
      },
      "execution_count": 14,
      "outputs": []
    },
    {
      "cell_type": "code",
      "source": [
        "train_data.show()"
      ],
      "metadata": {
        "colab": {
          "base_uri": "https://localhost:8080/"
        },
        "id": "Sok42rfCNBfl",
        "outputId": "28ec6c0a-7dd7-4032-a170-e93b950b5424"
      },
      "execution_count": 15,
      "outputs": [
        {
          "output_type": "stream",
          "name": "stdout",
          "text": [
            "+-------------------+------+\n",
            "|Independent feature|Salary|\n",
            "+-------------------+------+\n",
            "|         [23.0,2.0]| 18000|\n",
            "|         [24.0,3.0]| 20000|\n",
            "|        [31.0,10.0]| 30000|\n",
            "+-------------------+------+\n",
            "\n"
          ]
        }
      ]
    },
    {
      "cell_type": "code",
      "source": [
        "test_data.show()"
      ],
      "metadata": {
        "colab": {
          "base_uri": "https://localhost:8080/"
        },
        "id": "IGV176oENCfp",
        "outputId": "fddaa418-6f06-422a-ffaf-22366a77aee3"
      },
      "execution_count": 16,
      "outputs": [
        {
          "output_type": "stream",
          "name": "stdout",
          "text": [
            "+-------------------+------+\n",
            "|Independent feature|Salary|\n",
            "+-------------------+------+\n",
            "|         [21.0,1.0]| 15000|\n",
            "|         [29.0,4.0]| 20000|\n",
            "|         [30.0,8.0]| 25000|\n",
            "+-------------------+------+\n",
            "\n"
          ]
        }
      ]
    },
    {
      "cell_type": "code",
      "source": [
        "regressor.coefficients"
      ],
      "metadata": {
        "colab": {
          "base_uri": "https://localhost:8080/"
        },
        "id": "sN8INoWRMnIn",
        "outputId": "cd2b8bca-677e-49a7-8f39-66eb8b5b0719"
      },
      "execution_count": 17,
      "outputs": [
        {
          "output_type": "execute_result",
          "data": {
            "text/plain": [
              "DenseVector([736.8421, 736.8421])"
            ]
          },
          "metadata": {},
          "execution_count": 17
        }
      ]
    },
    {
      "cell_type": "code",
      "source": [
        "regressor.intercept"
      ],
      "metadata": {
        "colab": {
          "base_uri": "https://localhost:8080/"
        },
        "id": "EZdruBZ4Mogv",
        "outputId": "1d362f64-01a4-4ae1-aa08-ab743a417a26"
      },
      "execution_count": 18,
      "outputs": [
        {
          "output_type": "execute_result",
          "data": {
            "text/plain": [
              "-175.43859649151398"
            ]
          },
          "metadata": {},
          "execution_count": 18
        }
      ]
    },
    {
      "cell_type": "code",
      "source": [
        "pred_results = regressor.evaluate(test_data)"
      ],
      "metadata": {
        "id": "RHHKvC5zMyUS"
      },
      "execution_count": 19,
      "outputs": []
    },
    {
      "cell_type": "code",
      "source": [
        "pred_results.predictions.show()"
      ],
      "metadata": {
        "colab": {
          "base_uri": "https://localhost:8080/"
        },
        "id": "MEoDtGbAM03v",
        "outputId": "5e49f863-e4f1-4e28-9c62-3037596f99bc"
      },
      "execution_count": 20,
      "outputs": [
        {
          "output_type": "stream",
          "name": "stdout",
          "text": [
            "+-------------------+------+------------------+\n",
            "|Independent feature|Salary|        prediction|\n",
            "+-------------------+------+------------------+\n",
            "|         [21.0,1.0]| 15000|16035.087719298195|\n",
            "|         [29.0,4.0]| 20000| 24140.35087719302|\n",
            "|         [30.0,8.0]| 25000| 27824.56140350881|\n",
            "+-------------------+------+------------------+\n",
            "\n"
          ]
        }
      ]
    },
    {
      "cell_type": "code",
      "source": [
        "pred_results.meanAbsoluteError, pred_results.meanSquaredError"
      ],
      "metadata": {
        "colab": {
          "base_uri": "https://localhost:8080/"
        },
        "id": "7Wja5VfFNk4s",
        "outputId": "72a747e9-fc13-4902-9142-a8c4013b1051"
      },
      "execution_count": 21,
      "outputs": [
        {
          "output_type": "execute_result",
          "data": {
            "text/plain": [
              "(2666.6666666666756, 8730686.365035541)"
            ]
          },
          "metadata": {},
          "execution_count": 21
        }
      ]
    },
    {
      "cell_type": "markdown",
      "source": [
        "##Tips dataset"
      ],
      "metadata": {
        "id": "4__z12ScXC2e"
      }
    },
    {
      "cell_type": "code",
      "source": [
        "df = spark.read.csv('/content/drive/MyDrive/Projekty Data Science/PySpark/tips.csv', header = True, inferSchema = True)"
      ],
      "metadata": {
        "id": "nKVhNPP6XEPA"
      },
      "execution_count": 35,
      "outputs": []
    },
    {
      "cell_type": "code",
      "source": [
        "df.printSchema()"
      ],
      "metadata": {
        "colab": {
          "base_uri": "https://localhost:8080/"
        },
        "id": "KTC1gpW0XUKt",
        "outputId": "78ce971a-f700-488a-9272-728ce5bbe56e"
      },
      "execution_count": 36,
      "outputs": [
        {
          "output_type": "stream",
          "name": "stdout",
          "text": [
            "root\n",
            " |-- total_bill: double (nullable = true)\n",
            " |-- tip: double (nullable = true)\n",
            " |-- sex: string (nullable = true)\n",
            " |-- smoker: string (nullable = true)\n",
            " |-- day: string (nullable = true)\n",
            " |-- time: string (nullable = true)\n",
            " |-- size: integer (nullable = true)\n",
            "\n"
          ]
        }
      ]
    },
    {
      "cell_type": "markdown",
      "source": [
        "###Handling categorical features - string indexer"
      ],
      "metadata": {
        "id": "FomwCXgZXVnH"
      }
    },
    {
      "cell_type": "code",
      "source": [
        "from pyspark.ml.feature import StringIndexer"
      ],
      "metadata": {
        "id": "LWG5jACeXVMr"
      },
      "execution_count": 24,
      "outputs": []
    },
    {
      "cell_type": "code",
      "source": [
        "df.select('time').distinct().show()"
      ],
      "metadata": {
        "colab": {
          "base_uri": "https://localhost:8080/"
        },
        "id": "La--Vs8IXmcU",
        "outputId": "e33a7cd6-b8ce-4503-8b7f-8d1439dc071d"
      },
      "execution_count": 37,
      "outputs": [
        {
          "output_type": "stream",
          "name": "stdout",
          "text": [
            "+------+\n",
            "|  time|\n",
            "+------+\n",
            "| Lunch|\n",
            "|Dinner|\n",
            "+------+\n",
            "\n"
          ]
        }
      ]
    },
    {
      "cell_type": "code",
      "source": [
        "df.select('day').distinct().show()"
      ],
      "metadata": {
        "colab": {
          "base_uri": "https://localhost:8080/"
        },
        "id": "unvAsmOVZaN9",
        "outputId": "4f1c77a8-d198-4a49-fa8d-ebc2db8b2a37"
      },
      "execution_count": 38,
      "outputs": [
        {
          "output_type": "stream",
          "name": "stdout",
          "text": [
            "+----+\n",
            "| day|\n",
            "+----+\n",
            "|Thur|\n",
            "| Sun|\n",
            "| Sat|\n",
            "| Fri|\n",
            "+----+\n",
            "\n"
          ]
        }
      ]
    },
    {
      "cell_type": "code",
      "source": [
        "indexer = StringIndexer(inputCol='sex', outputCol = 'sex_indexed')\n",
        "df = indexer.fit(df).transform(df)\n",
        "df.show()"
      ],
      "metadata": {
        "colab": {
          "base_uri": "https://localhost:8080/"
        },
        "id": "JL_bq2CpX4Y4",
        "outputId": "1fb7cc79-7016-45e8-ae4a-a4eae3818678"
      },
      "execution_count": 39,
      "outputs": [
        {
          "output_type": "stream",
          "name": "stdout",
          "text": [
            "+----------+----+------+------+---+------+----+-----------+\n",
            "|total_bill| tip|   sex|smoker|day|  time|size|sex_indexed|\n",
            "+----------+----+------+------+---+------+----+-----------+\n",
            "|     16.99|1.01|Female|    No|Sun|Dinner|   2|        1.0|\n",
            "|     10.34|1.66|  Male|    No|Sun|Dinner|   3|        0.0|\n",
            "|     21.01| 3.5|  Male|    No|Sun|Dinner|   3|        0.0|\n",
            "|     23.68|3.31|  Male|    No|Sun|Dinner|   2|        0.0|\n",
            "|     24.59|3.61|Female|    No|Sun|Dinner|   4|        1.0|\n",
            "|     25.29|4.71|  Male|    No|Sun|Dinner|   4|        0.0|\n",
            "|      8.77| 2.0|  Male|    No|Sun|Dinner|   2|        0.0|\n",
            "|     26.88|3.12|  Male|    No|Sun|Dinner|   4|        0.0|\n",
            "|     15.04|1.96|  Male|    No|Sun|Dinner|   2|        0.0|\n",
            "|     14.78|3.23|  Male|    No|Sun|Dinner|   2|        0.0|\n",
            "|     10.27|1.71|  Male|    No|Sun|Dinner|   2|        0.0|\n",
            "|     35.26| 5.0|Female|    No|Sun|Dinner|   4|        1.0|\n",
            "|     15.42|1.57|  Male|    No|Sun|Dinner|   2|        0.0|\n",
            "|     18.43| 3.0|  Male|    No|Sun|Dinner|   4|        0.0|\n",
            "|     14.83|3.02|Female|    No|Sun|Dinner|   2|        1.0|\n",
            "|     21.58|3.92|  Male|    No|Sun|Dinner|   2|        0.0|\n",
            "|     10.33|1.67|Female|    No|Sun|Dinner|   3|        1.0|\n",
            "|     16.29|3.71|  Male|    No|Sun|Dinner|   3|        0.0|\n",
            "|     16.97| 3.5|Female|    No|Sun|Dinner|   3|        1.0|\n",
            "|     20.65|3.35|  Male|    No|Sat|Dinner|   3|        0.0|\n",
            "+----------+----+------+------+---+------+----+-----------+\n",
            "only showing top 20 rows\n",
            "\n"
          ]
        }
      ]
    },
    {
      "cell_type": "code",
      "source": [
        "indexer = StringIndexer(inputCols = ['smoker', 'day', 'time'], outputCols = ['smoker_idx', 'day_idx', 'time_idx'])\n",
        "df = indexer.fit(df).transform(df)\n",
        "df.show()"
      ],
      "metadata": {
        "colab": {
          "base_uri": "https://localhost:8080/"
        },
        "id": "ssUBjpewYplB",
        "outputId": "2b43ea79-8aca-440c-f883-8a583f59f2eb"
      },
      "execution_count": 40,
      "outputs": [
        {
          "output_type": "stream",
          "name": "stdout",
          "text": [
            "+----------+----+------+------+---+------+----+-----------+----------+-------+--------+\n",
            "|total_bill| tip|   sex|smoker|day|  time|size|sex_indexed|smoker_idx|day_idx|time_idx|\n",
            "+----------+----+------+------+---+------+----+-----------+----------+-------+--------+\n",
            "|     16.99|1.01|Female|    No|Sun|Dinner|   2|        1.0|       0.0|    1.0|     0.0|\n",
            "|     10.34|1.66|  Male|    No|Sun|Dinner|   3|        0.0|       0.0|    1.0|     0.0|\n",
            "|     21.01| 3.5|  Male|    No|Sun|Dinner|   3|        0.0|       0.0|    1.0|     0.0|\n",
            "|     23.68|3.31|  Male|    No|Sun|Dinner|   2|        0.0|       0.0|    1.0|     0.0|\n",
            "|     24.59|3.61|Female|    No|Sun|Dinner|   4|        1.0|       0.0|    1.0|     0.0|\n",
            "|     25.29|4.71|  Male|    No|Sun|Dinner|   4|        0.0|       0.0|    1.0|     0.0|\n",
            "|      8.77| 2.0|  Male|    No|Sun|Dinner|   2|        0.0|       0.0|    1.0|     0.0|\n",
            "|     26.88|3.12|  Male|    No|Sun|Dinner|   4|        0.0|       0.0|    1.0|     0.0|\n",
            "|     15.04|1.96|  Male|    No|Sun|Dinner|   2|        0.0|       0.0|    1.0|     0.0|\n",
            "|     14.78|3.23|  Male|    No|Sun|Dinner|   2|        0.0|       0.0|    1.0|     0.0|\n",
            "|     10.27|1.71|  Male|    No|Sun|Dinner|   2|        0.0|       0.0|    1.0|     0.0|\n",
            "|     35.26| 5.0|Female|    No|Sun|Dinner|   4|        1.0|       0.0|    1.0|     0.0|\n",
            "|     15.42|1.57|  Male|    No|Sun|Dinner|   2|        0.0|       0.0|    1.0|     0.0|\n",
            "|     18.43| 3.0|  Male|    No|Sun|Dinner|   4|        0.0|       0.0|    1.0|     0.0|\n",
            "|     14.83|3.02|Female|    No|Sun|Dinner|   2|        1.0|       0.0|    1.0|     0.0|\n",
            "|     21.58|3.92|  Male|    No|Sun|Dinner|   2|        0.0|       0.0|    1.0|     0.0|\n",
            "|     10.33|1.67|Female|    No|Sun|Dinner|   3|        1.0|       0.0|    1.0|     0.0|\n",
            "|     16.29|3.71|  Male|    No|Sun|Dinner|   3|        0.0|       0.0|    1.0|     0.0|\n",
            "|     16.97| 3.5|Female|    No|Sun|Dinner|   3|        1.0|       0.0|    1.0|     0.0|\n",
            "|     20.65|3.35|  Male|    No|Sat|Dinner|   3|        0.0|       0.0|    0.0|     0.0|\n",
            "+----------+----+------+------+---+------+----+-----------+----------+-------+--------+\n",
            "only showing top 20 rows\n",
            "\n"
          ]
        }
      ]
    },
    {
      "cell_type": "markdown",
      "source": [
        "### Vector assembler"
      ],
      "metadata": {
        "id": "_3kZVIPtZi2B"
      }
    },
    {
      "cell_type": "code",
      "source": [
        "featureassembler = VectorAssembler(inputCols = ['tip', 'size', 'sex_indexed', 'smoker_idx', 'day_idx', 'time_idx'], outputCol = 'Independent features')\n",
        "output = featureassembler.transform(df)"
      ],
      "metadata": {
        "id": "slXvvImMZlsH"
      },
      "execution_count": 41,
      "outputs": []
    },
    {
      "cell_type": "code",
      "source": [
        "output.select('Independent features').show()"
      ],
      "metadata": {
        "colab": {
          "base_uri": "https://localhost:8080/"
        },
        "id": "7x7qySxAaP0m",
        "outputId": "a68d69a3-ba50-4dec-cba4-c19288164ba5"
      },
      "execution_count": 43,
      "outputs": [
        {
          "output_type": "stream",
          "name": "stdout",
          "text": [
            "+--------------------+\n",
            "|Independent features|\n",
            "+--------------------+\n",
            "|[1.01,2.0,1.0,0.0...|\n",
            "|[1.66,3.0,0.0,0.0...|\n",
            "|[3.5,3.0,0.0,0.0,...|\n",
            "|[3.31,2.0,0.0,0.0...|\n",
            "|[3.61,4.0,1.0,0.0...|\n",
            "|[4.71,4.0,0.0,0.0...|\n",
            "|[2.0,2.0,0.0,0.0,...|\n",
            "|[3.12,4.0,0.0,0.0...|\n",
            "|[1.96,2.0,0.0,0.0...|\n",
            "|[3.23,2.0,0.0,0.0...|\n",
            "|[1.71,2.0,0.0,0.0...|\n",
            "|[5.0,4.0,1.0,0.0,...|\n",
            "|[1.57,2.0,0.0,0.0...|\n",
            "|[3.0,4.0,0.0,0.0,...|\n",
            "|[3.02,2.0,1.0,0.0...|\n",
            "|[3.92,2.0,0.0,0.0...|\n",
            "|[1.67,3.0,1.0,0.0...|\n",
            "|[3.71,3.0,0.0,0.0...|\n",
            "|[3.5,3.0,1.0,0.0,...|\n",
            "|(6,[0,1],[3.35,3.0])|\n",
            "+--------------------+\n",
            "only showing top 20 rows\n",
            "\n"
          ]
        }
      ]
    },
    {
      "cell_type": "code",
      "source": [
        "finalized_data = output.select('Independent features', 'total_bill')"
      ],
      "metadata": {
        "id": "FIaYHLTtaWKq"
      },
      "execution_count": 44,
      "outputs": []
    },
    {
      "cell_type": "code",
      "source": [
        "finalized_data.show()"
      ],
      "metadata": {
        "colab": {
          "base_uri": "https://localhost:8080/"
        },
        "id": "bKoMRqWEazO8",
        "outputId": "ca4f572a-220f-468a-be09-5ac0f8fcb569"
      },
      "execution_count": 45,
      "outputs": [
        {
          "output_type": "stream",
          "name": "stdout",
          "text": [
            "+--------------------+----------+\n",
            "|Independent features|total_bill|\n",
            "+--------------------+----------+\n",
            "|[1.01,2.0,1.0,0.0...|     16.99|\n",
            "|[1.66,3.0,0.0,0.0...|     10.34|\n",
            "|[3.5,3.0,0.0,0.0,...|     21.01|\n",
            "|[3.31,2.0,0.0,0.0...|     23.68|\n",
            "|[3.61,4.0,1.0,0.0...|     24.59|\n",
            "|[4.71,4.0,0.0,0.0...|     25.29|\n",
            "|[2.0,2.0,0.0,0.0,...|      8.77|\n",
            "|[3.12,4.0,0.0,0.0...|     26.88|\n",
            "|[1.96,2.0,0.0,0.0...|     15.04|\n",
            "|[3.23,2.0,0.0,0.0...|     14.78|\n",
            "|[1.71,2.0,0.0,0.0...|     10.27|\n",
            "|[5.0,4.0,1.0,0.0,...|     35.26|\n",
            "|[1.57,2.0,0.0,0.0...|     15.42|\n",
            "|[3.0,4.0,0.0,0.0,...|     18.43|\n",
            "|[3.02,2.0,1.0,0.0...|     14.83|\n",
            "|[3.92,2.0,0.0,0.0...|     21.58|\n",
            "|[1.67,3.0,1.0,0.0...|     10.33|\n",
            "|[3.71,3.0,0.0,0.0...|     16.29|\n",
            "|[3.5,3.0,1.0,0.0,...|     16.97|\n",
            "|(6,[0,1],[3.35,3.0])|     20.65|\n",
            "+--------------------+----------+\n",
            "only showing top 20 rows\n",
            "\n"
          ]
        }
      ]
    },
    {
      "cell_type": "markdown",
      "source": [
        "###Linear regression"
      ],
      "metadata": {
        "id": "7pXAIUAca6Ua"
      }
    },
    {
      "cell_type": "code",
      "source": [
        "train_data, test_data = finalized_data.randomSplit([0.75, 0.25])\n",
        "regressor = LinearRegression(featuresCol = 'Independent features', labelCol = 'total_bill')\n",
        "regressor = regressor.fit(train_data)"
      ],
      "metadata": {
        "id": "384fi6FXa0qq"
      },
      "execution_count": 46,
      "outputs": []
    },
    {
      "cell_type": "code",
      "source": [
        "train_data.show()"
      ],
      "metadata": {
        "colab": {
          "base_uri": "https://localhost:8080/"
        },
        "id": "OXoOpjgebBlg",
        "outputId": "22bbf94f-99aa-4ad0-ad25-eb2c315a80ed"
      },
      "execution_count": 47,
      "outputs": [
        {
          "output_type": "stream",
          "name": "stdout",
          "text": [
            "+--------------------+----------+\n",
            "|Independent features|total_bill|\n",
            "+--------------------+----------+\n",
            "|(6,[0,1],[1.47,2.0])|     10.77|\n",
            "| (6,[0,1],[2.0,2.0])|     12.69|\n",
            "| (6,[0,1],[2.0,2.0])|     13.37|\n",
            "|(6,[0,1],[2.01,2.0])|     20.23|\n",
            "|(6,[0,1],[2.24,3.0])|     16.04|\n",
            "|(6,[0,1],[2.31,3.0])|     18.69|\n",
            "|(6,[0,1],[2.34,4.0])|     17.81|\n",
            "| (6,[0,1],[2.5,4.0])|     18.35|\n",
            "| (6,[0,1],[3.0,2.0])|      14.0|\n",
            "| (6,[0,1],[3.0,4.0])|     20.45|\n",
            "|(6,[0,1],[3.27,2.0])|     17.78|\n",
            "|(6,[0,1],[3.35,3.0])|     20.65|\n",
            "|(6,[0,1],[3.76,2.0])|     18.24|\n",
            "|(6,[0,1],[4.08,2.0])|     17.92|\n",
            "| (6,[0,1],[5.0,3.0])|     31.27|\n",
            "|(6,[0,1],[5.92,3.0])|     29.03|\n",
            "|(6,[0,1],[6.73,4.0])|     48.27|\n",
            "|(6,[0,1],[7.58,4.0])|     39.42|\n",
            "| (6,[0,1],[9.0,4.0])|     48.33|\n",
            "|[1.0,1.0,1.0,0.0,...|      7.25|\n",
            "+--------------------+----------+\n",
            "only showing top 20 rows\n",
            "\n"
          ]
        }
      ]
    },
    {
      "cell_type": "code",
      "source": [
        "test_data.show()"
      ],
      "metadata": {
        "colab": {
          "base_uri": "https://localhost:8080/"
        },
        "id": "4CBql9AebC2A",
        "outputId": "b3687862-22c2-4d7f-969e-89bd49e4df3d"
      },
      "execution_count": 48,
      "outputs": [
        {
          "output_type": "stream",
          "name": "stdout",
          "text": [
            "+--------------------+----------+\n",
            "|Independent features|total_bill|\n",
            "+--------------------+----------+\n",
            "|(6,[0,1],[1.25,2.0])|     10.07|\n",
            "|(6,[0,1],[1.25,2.0])|     10.51|\n",
            "|(6,[0,1],[1.45,2.0])|      9.55|\n",
            "|(6,[0,1],[1.75,2.0])|     17.82|\n",
            "|(6,[0,1],[1.97,2.0])|     12.02|\n",
            "| (6,[0,1],[2.0,3.0])|     16.31|\n",
            "|(6,[0,1],[2.64,3.0])|     17.59|\n",
            "|(6,[0,1],[2.72,2.0])|     13.28|\n",
            "|(6,[0,1],[3.15,3.0])|     20.08|\n",
            "|(6,[0,1],[3.18,2.0])|     19.82|\n",
            "|(6,[0,1],[3.39,2.0])|     11.61|\n",
            "| (6,[0,1],[3.6,3.0])|     24.06|\n",
            "| (6,[0,1],[4.3,2.0])|      21.7|\n",
            "|[1.0,2.0,0.0,1.0,...|      12.6|\n",
            "|[1.0,2.0,1.0,1.0,...|      5.75|\n",
            "|[1.32,2.0,0.0,0.0...|      9.68|\n",
            "|[1.5,2.0,0.0,0.0,...|     12.46|\n",
            "|[1.5,2.0,1.0,0.0,...|     26.41|\n",
            "|[1.56,2.0,0.0,0.0...|      9.94|\n",
            "|[1.64,2.0,0.0,1.0...|     15.36|\n",
            "+--------------------+----------+\n",
            "only showing top 20 rows\n",
            "\n"
          ]
        }
      ]
    },
    {
      "cell_type": "code",
      "source": [
        "regressor.coefficients"
      ],
      "metadata": {
        "colab": {
          "base_uri": "https://localhost:8080/"
        },
        "id": "0cdFHrpobDiE",
        "outputId": "4c37129e-1dea-4ae4-c4a6-7e479eb52f67"
      },
      "execution_count": 49,
      "outputs": [
        {
          "output_type": "execute_result",
          "data": {
            "text/plain": [
              "DenseVector([3.1528, 3.3657, -1.2934, 2.4568, -0.0345, -1.0454])"
            ]
          },
          "metadata": {},
          "execution_count": 49
        }
      ]
    },
    {
      "cell_type": "code",
      "source": [
        "regressor.intercept"
      ],
      "metadata": {
        "colab": {
          "base_uri": "https://localhost:8080/"
        },
        "id": "jbZov7C9bUQW",
        "outputId": "1342dddd-976a-44da-9c1a-cc17c841a379"
      },
      "execution_count": 50,
      "outputs": [
        {
          "output_type": "execute_result",
          "data": {
            "text/plain": [
              "1.601270256506954"
            ]
          },
          "metadata": {},
          "execution_count": 50
        }
      ]
    },
    {
      "cell_type": "markdown",
      "source": [
        "###Predictions"
      ],
      "metadata": {
        "id": "qTPtNHv_beuS"
      }
    },
    {
      "cell_type": "code",
      "source": [
        "pred_results = regressor.evaluate(test_data)"
      ],
      "metadata": {
        "id": "oDzJ2VSqbY9t"
      },
      "execution_count": 53,
      "outputs": []
    },
    {
      "cell_type": "code",
      "source": [
        "pred_results.predictions.show()"
      ],
      "metadata": {
        "colab": {
          "base_uri": "https://localhost:8080/"
        },
        "id": "PZK_r2DlbiRJ",
        "outputId": "db2f5408-ed70-4608-99b5-563bcf180bd4"
      },
      "execution_count": 54,
      "outputs": [
        {
          "output_type": "stream",
          "name": "stdout",
          "text": [
            "+--------------------+----------+------------------+\n",
            "|Independent features|total_bill|        prediction|\n",
            "+--------------------+----------+------------------+\n",
            "|(6,[0,1],[1.25,2.0])|     10.07|12.273659018215167|\n",
            "|(6,[0,1],[1.25,2.0])|     10.51|12.273659018215167|\n",
            "|(6,[0,1],[1.45,2.0])|      9.55|12.904226242768441|\n",
            "|(6,[0,1],[1.75,2.0])|     17.82|13.850077079598355|\n",
            "|(6,[0,1],[1.97,2.0])|     12.02|14.543701026606957|\n",
            "| (6,[0,1],[2.0,3.0])|     16.31|18.003957914415068|\n",
            "|(6,[0,1],[2.64,3.0])|     17.59|20.021773032985553|\n",
            "|(6,[0,1],[2.72,2.0])|     13.28|16.908328118681744|\n",
            "|(6,[0,1],[3.15,3.0])|     20.08|21.629719455596405|\n",
            "|(6,[0,1],[3.18,2.0])|     19.82|18.358632735154277|\n",
            "|(6,[0,1],[3.39,2.0])|     11.61|19.020728320935216|\n",
            "| (6,[0,1],[3.6,3.0])|     24.06|23.048495710841276|\n",
            "| (6,[0,1],[4.3,2.0])|      21.7| 21.88980919265262|\n",
            "|[1.0,2.0,0.0,1.0,...|      12.6|13.942228139927341|\n",
            "|[1.0,2.0,1.0,1.0,...|      5.75| 12.54523848506998|\n",
            "|[1.32,2.0,0.0,0.0...|      9.68|12.459842878107356|\n",
            "|[1.5,2.0,0.0,0.0,...|     12.46|12.958324042802388|\n",
            "|[1.5,2.0,1.0,0.0,...|     26.41| 11.76842240015377|\n",
            "|[1.56,2.0,0.0,0.0...|      9.94|13.216523547571287|\n",
            "|[1.64,2.0,0.0,1.0...|     15.36|15.960043258497823|\n",
            "+--------------------+----------+------------------+\n",
            "only showing top 20 rows\n",
            "\n"
          ]
        }
      ]
    },
    {
      "cell_type": "code",
      "source": [
        "pred_results.r2, pred_results.meanAbsoluteError, pred_results.meanSquaredError"
      ],
      "metadata": {
        "colab": {
          "base_uri": "https://localhost:8080/"
        },
        "id": "BuQNh2W2bo_y",
        "outputId": "5c87ce72-2976-4fec-f66f-c0f5ae2da87f"
      },
      "execution_count": 56,
      "outputs": [
        {
          "output_type": "execute_result",
          "data": {
            "text/plain": [
              "(0.5214880251316225, 3.740762841220833, 25.73990932752556)"
            ]
          },
          "metadata": {},
          "execution_count": 56
        }
      ]
    }
  ]
}